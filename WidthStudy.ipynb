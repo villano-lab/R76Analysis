{
 "cells": [
  {
   "cell_type": "code",
   "execution_count": 1,
   "id": "2ad1b8d8",
   "metadata": {},
   "outputs": [],
   "source": [
    "#Imports\n",
    "import time                     #For progress indicator\n",
    "import sys\n",
    "import numpy as np              #Will be used for binning\n",
    "import pandas as pd             #Will be used for data structuring\n",
    "import lmfit as lf              #Fitting\n",
    "import matplotlib.pyplot as plt #Basic plotting library\n",
    "sys.path.append('./')\n",
    "from R76Tools import *          #Tools written by me for, e.x., importing our files\n",
    "\n",
    "#Constants\n",
    "frittspath = \"/data/chocula/fritts/data/k100proc/midasrq/byseries/\"\n",
    "neogpath = \"/data/chocula/neog/rq/\"\n",
    "baselinecorrections = pd.read_csv(\"./baselinecorrectionvalues.csv\")\n",
    "gaus_mod = lf.Model(gaus)\n",
    "gaus_params = gaus_mod.make_params()\n",
    "gaus_params.add('A',min=0,value=300)\n",
    "gaus_params.add('sigma',min=0,value=3,max=200)\n",
    "gaus_params.add('mu',min=100,max=300,value=150)\n",
    "cal_mod = lf.Model(E_cal)\n",
    "cal_params = cal_mod.make_params(a=300,c=13)"
   ]
  },
  {
   "cell_type": "code",
   "execution_count": 15,
   "id": "3d09b2ee",
   "metadata": {},
   "outputs": [
    {
     "name": "stdout",
     "output_type": "stream",
     "text": [
      "True\n",
      "1691522854\n",
      "Progress: 0/6. This action took 0.0 minutes.\n",
      "Progress: 1/6. This action took 6.8 minutes.\n",
      "Progress: 2/6. This action took 1.7 minutes.\n",
      "Progress: 3/6. This action took 2.1 minutes.\n",
      "Progress: 4/6. This action took 3.1 minutes.\n",
      "Progress: 5/6. This action took 2.5 minutes.\n"
     ]
    },
    {
     "ename": "KeyboardInterrupt",
     "evalue": "",
     "output_type": "error",
     "traceback": [
      "\u001b[0;31m---------------------------------------------------------------------------\u001b[0m",
      "\u001b[0;31mKeyboardInterrupt\u001b[0m                         Traceback (most recent call last)",
      "\u001b[0;32m/tmp/ipykernel_2470098/599924820.py\u001b[0m in \u001b[0;36m<module>\u001b[0;34m\u001b[0m\n\u001b[1;32m     19\u001b[0m     \u001b[0mprint\u001b[0m\u001b[0;34m(\u001b[0m\u001b[0;34m\"Progress: \"\u001b[0m\u001b[0;34m+\u001b[0m\u001b[0mstr\u001b[0m\u001b[0;34m(\u001b[0m\u001b[0mi\u001b[0m\u001b[0;34m)\u001b[0m\u001b[0;34m+\u001b[0m\u001b[0;34m\"/\"\u001b[0m\u001b[0;34m+\u001b[0m\u001b[0mstr\u001b[0m\u001b[0;34m(\u001b[0m\u001b[0mlen\u001b[0m\u001b[0;34m(\u001b[0m\u001b[0mser\u001b[0m\u001b[0;34m)\u001b[0m\u001b[0;34m)\u001b[0m\u001b[0;34m+\u001b[0m\u001b[0;34m\". This action took \"\u001b[0m\u001b[0;34m+\u001b[0m\u001b[0mstr\u001b[0m\u001b[0;34m(\u001b[0m\u001b[0mround\u001b[0m\u001b[0;34m(\u001b[0m\u001b[0;34m(\u001b[0m\u001b[0mtime\u001b[0m\u001b[0;34m.\u001b[0m\u001b[0mtime\u001b[0m\u001b[0;34m(\u001b[0m\u001b[0;34m)\u001b[0m\u001b[0;34m-\u001b[0m\u001b[0mt\u001b[0m\u001b[0;34m)\u001b[0m\u001b[0;34m/\u001b[0m\u001b[0;36m60\u001b[0m\u001b[0;34m,\u001b[0m\u001b[0;36m1\u001b[0m\u001b[0;34m)\u001b[0m\u001b[0;34m)\u001b[0m\u001b[0;34m+\u001b[0m\u001b[0;34m\" minutes.\"\u001b[0m\u001b[0;34m)\u001b[0m\u001b[0;34m\u001b[0m\u001b[0;34m\u001b[0m\u001b[0m\n\u001b[1;32m     20\u001b[0m     \u001b[0mt\u001b[0m\u001b[0;34m=\u001b[0m\u001b[0mint\u001b[0m\u001b[0;34m(\u001b[0m\u001b[0mtime\u001b[0m\u001b[0;34m.\u001b[0m\u001b[0mtime\u001b[0m\u001b[0;34m(\u001b[0m\u001b[0;34m)\u001b[0m\u001b[0;34m)\u001b[0m\u001b[0;34m\u001b[0m\u001b[0;34m\u001b[0m\u001b[0m\n\u001b[0;32m---> 21\u001b[0;31m     \u001b[0m_\u001b[0m\u001b[0;34m,\u001b[0m\u001b[0mz_chain\u001b[0m \u001b[0;34m=\u001b[0m \u001b[0mmakechain\u001b[0m\u001b[0;34m(\u001b[0m\u001b[0mpaths\u001b[0m\u001b[0;34m[\u001b[0m\u001b[0mi\u001b[0m\u001b[0;34m]\u001b[0m\u001b[0;34m+\u001b[0m\u001b[0ms\u001b[0m\u001b[0;34m+\u001b[0m\u001b[0;34m\"/umn_*.root\"\u001b[0m\u001b[0;34m,\u001b[0m\u001b[0mfilters\u001b[0m\u001b[0;34m=\u001b[0m\u001b[0;34m[\u001b[0m\u001b[0mfittingfilters\u001b[0m\u001b[0;34m,\u001b[0m\u001b[0;34m\"PTOFamps0\"\u001b[0m\u001b[0;34m]\u001b[0m\u001b[0;34m,\u001b[0m\u001b[0maliases\u001b[0m\u001b[0;34m=\u001b[0m\u001b[0mcalibrationaliases\u001b[0m\u001b[0;34m)\u001b[0m\u001b[0;34m\u001b[0m\u001b[0;34m\u001b[0m\u001b[0m\n\u001b[0m\u001b[1;32m     22\u001b[0m     \u001b[0mz\u001b[0m\u001b[0;34m.\u001b[0m\u001b[0mappend\u001b[0m\u001b[0;34m(\u001b[0m\u001b[0mz_chain\u001b[0m\u001b[0;34m)\u001b[0m \u001b[0;31m# Do it this roundabout way to accommodate having Matt's and Himangshu's data in ser\u001b[0m\u001b[0;34m\u001b[0m\u001b[0;34m\u001b[0m\u001b[0m\n\u001b[1;32m     23\u001b[0m \u001b[0mprint\u001b[0m\u001b[0;34m(\u001b[0m\u001b[0;34m\"Progress: \"\u001b[0m\u001b[0;34m+\u001b[0m\u001b[0mstr\u001b[0m\u001b[0;34m(\u001b[0m\u001b[0mi\u001b[0m\u001b[0;34m+\u001b[0m\u001b[0;36m1\u001b[0m\u001b[0;34m)\u001b[0m\u001b[0;34m+\u001b[0m\u001b[0;34m\"/\"\u001b[0m\u001b[0;34m+\u001b[0m\u001b[0mstr\u001b[0m\u001b[0;34m(\u001b[0m\u001b[0mlen\u001b[0m\u001b[0;34m(\u001b[0m\u001b[0mser\u001b[0m\u001b[0;34m)\u001b[0m\u001b[0;34m)\u001b[0m\u001b[0;34m+\u001b[0m\u001b[0;34m\". This action took \"\u001b[0m\u001b[0;34m+\u001b[0m\u001b[0mstr\u001b[0m\u001b[0;34m(\u001b[0m\u001b[0mround\u001b[0m\u001b[0;34m(\u001b[0m\u001b[0;34m(\u001b[0m\u001b[0mtime\u001b[0m\u001b[0;34m.\u001b[0m\u001b[0mtime\u001b[0m\u001b[0;34m(\u001b[0m\u001b[0;34m)\u001b[0m\u001b[0;34m-\u001b[0m\u001b[0mt\u001b[0m\u001b[0;34m)\u001b[0m\u001b[0;34m/\u001b[0m\u001b[0;36m60\u001b[0m\u001b[0;34m,\u001b[0m\u001b[0;36m1\u001b[0m\u001b[0;34m)\u001b[0m\u001b[0;34m)\u001b[0m\u001b[0;34m+\u001b[0m\u001b[0;34m\" minutes.\"\u001b[0m\u001b[0;34m)\u001b[0m\u001b[0;34m\u001b[0m\u001b[0;34m\u001b[0m\u001b[0m\n",
      "\u001b[0;32m/data/chocula/robbtanner/usr/local/bin/R76Analysis/R76Tools.py\u001b[0m in \u001b[0;36mmakechain\u001b[0;34m(filelist, filters, friends, aliases, trees)\u001b[0m\n\u001b[1;32m    146\u001b[0m         \u001b[0;32mfor\u001b[0m \u001b[0mzthing\u001b[0m \u001b[0;32min\u001b[0m \u001b[0mzstuff\u001b[0m\u001b[0;34m:\u001b[0m\u001b[0;34m\u001b[0m\u001b[0;34m\u001b[0m\u001b[0m\n\u001b[1;32m    147\u001b[0m             \u001b[0mlistframes\u001b[0m\u001b[0;34m[\u001b[0m\u001b[0;36m1\u001b[0m\u001b[0;34m]\u001b[0m\u001b[0;34m.\u001b[0m\u001b[0mappend\u001b[0m\u001b[0;34m(\u001b[0m\u001b[0mzthing\u001b[0m\u001b[0;34m)\u001b[0m\u001b[0;34m\u001b[0m\u001b[0;34m\u001b[0m\u001b[0m\n\u001b[0;32m--> 148\u001b[0;31m             \u001b[0mz_chain\u001b[0m \u001b[0;34m=\u001b[0m \u001b[0mpd\u001b[0m\u001b[0;34m.\u001b[0m\u001b[0mconcat\u001b[0m\u001b[0;34m(\u001b[0m\u001b[0mlistframes\u001b[0m\u001b[0;34m[\u001b[0m\u001b[0;36m1\u001b[0m\u001b[0;34m]\u001b[0m\u001b[0;34m)\u001b[0m\u001b[0;34m\u001b[0m\u001b[0;34m\u001b[0m\u001b[0m\n\u001b[0m\u001b[1;32m    149\u001b[0m     \u001b[0;32mif\u001b[0m \u001b[0;34m\"z4\"\u001b[0m \u001b[0;32min\u001b[0m \u001b[0mtrees\u001b[0m\u001b[0;34m:\u001b[0m\u001b[0;34m\u001b[0m\u001b[0;34m\u001b[0m\u001b[0m\n\u001b[1;32m    150\u001b[0m         \u001b[0;32mfor\u001b[0m \u001b[0mz4thing\u001b[0m \u001b[0;32min\u001b[0m \u001b[0mz4stuff\u001b[0m\u001b[0;34m:\u001b[0m\u001b[0;34m\u001b[0m\u001b[0;34m\u001b[0m\u001b[0m\n",
      "\u001b[0;32m/data/chocula/test_cdmsbats/usr/local/lib/python3.7/site-packages/pandas/util/_decorators.py\u001b[0m in \u001b[0;36mwrapper\u001b[0;34m(*args, **kwargs)\u001b[0m\n\u001b[1;32m    309\u001b[0m                     \u001b[0mstacklevel\u001b[0m\u001b[0;34m=\u001b[0m\u001b[0mstacklevel\u001b[0m\u001b[0;34m,\u001b[0m\u001b[0;34m\u001b[0m\u001b[0;34m\u001b[0m\u001b[0m\n\u001b[1;32m    310\u001b[0m                 )\n\u001b[0;32m--> 311\u001b[0;31m             \u001b[0;32mreturn\u001b[0m \u001b[0mfunc\u001b[0m\u001b[0;34m(\u001b[0m\u001b[0;34m*\u001b[0m\u001b[0margs\u001b[0m\u001b[0;34m,\u001b[0m \u001b[0;34m**\u001b[0m\u001b[0mkwargs\u001b[0m\u001b[0;34m)\u001b[0m\u001b[0;34m\u001b[0m\u001b[0;34m\u001b[0m\u001b[0m\n\u001b[0m\u001b[1;32m    312\u001b[0m \u001b[0;34m\u001b[0m\u001b[0m\n\u001b[1;32m    313\u001b[0m         \u001b[0;32mreturn\u001b[0m \u001b[0mwrapper\u001b[0m\u001b[0;34m\u001b[0m\u001b[0;34m\u001b[0m\u001b[0m\n",
      "\u001b[0;32m/data/chocula/test_cdmsbats/usr/local/lib/python3.7/site-packages/pandas/core/reshape/concat.py\u001b[0m in \u001b[0;36mconcat\u001b[0;34m(objs, axis, join, ignore_index, keys, levels, names, verify_integrity, sort, copy)\u001b[0m\n\u001b[1;32m    305\u001b[0m     )\n\u001b[1;32m    306\u001b[0m \u001b[0;34m\u001b[0m\u001b[0m\n\u001b[0;32m--> 307\u001b[0;31m     \u001b[0;32mreturn\u001b[0m \u001b[0mop\u001b[0m\u001b[0;34m.\u001b[0m\u001b[0mget_result\u001b[0m\u001b[0;34m(\u001b[0m\u001b[0;34m)\u001b[0m\u001b[0;34m\u001b[0m\u001b[0;34m\u001b[0m\u001b[0m\n\u001b[0m\u001b[1;32m    308\u001b[0m \u001b[0;34m\u001b[0m\u001b[0m\n\u001b[1;32m    309\u001b[0m \u001b[0;34m\u001b[0m\u001b[0m\n",
      "\u001b[0;32m/data/chocula/test_cdmsbats/usr/local/lib/python3.7/site-packages/pandas/core/reshape/concat.py\u001b[0m in \u001b[0;36mget_result\u001b[0;34m(self)\u001b[0m\n\u001b[1;32m    531\u001b[0m \u001b[0;34m\u001b[0m\u001b[0m\n\u001b[1;32m    532\u001b[0m             new_data = concatenate_managers(\n\u001b[0;32m--> 533\u001b[0;31m                 \u001b[0mmgrs_indexers\u001b[0m\u001b[0;34m,\u001b[0m \u001b[0mself\u001b[0m\u001b[0;34m.\u001b[0m\u001b[0mnew_axes\u001b[0m\u001b[0;34m,\u001b[0m \u001b[0mconcat_axis\u001b[0m\u001b[0;34m=\u001b[0m\u001b[0mself\u001b[0m\u001b[0;34m.\u001b[0m\u001b[0mbm_axis\u001b[0m\u001b[0;34m,\u001b[0m \u001b[0mcopy\u001b[0m\u001b[0;34m=\u001b[0m\u001b[0mself\u001b[0m\u001b[0;34m.\u001b[0m\u001b[0mcopy\u001b[0m\u001b[0;34m\u001b[0m\u001b[0;34m\u001b[0m\u001b[0m\n\u001b[0m\u001b[1;32m    534\u001b[0m             )\n\u001b[1;32m    535\u001b[0m             \u001b[0;32mif\u001b[0m \u001b[0;32mnot\u001b[0m \u001b[0mself\u001b[0m\u001b[0;34m.\u001b[0m\u001b[0mcopy\u001b[0m\u001b[0;34m:\u001b[0m\u001b[0;34m\u001b[0m\u001b[0;34m\u001b[0m\u001b[0m\n",
      "\u001b[0;32m/data/chocula/test_cdmsbats/usr/local/lib/python3.7/site-packages/pandas/core/internals/concat.py\u001b[0m in \u001b[0;36mconcatenate_managers\u001b[0;34m(mgrs_indexers, axes, concat_axis, copy)\u001b[0m\n\u001b[1;32m    214\u001b[0m                 \u001b[0;31m#  we can use np.concatenate, which is more performant\u001b[0m\u001b[0;34m\u001b[0m\u001b[0;34m\u001b[0m\u001b[0;34m\u001b[0m\u001b[0m\n\u001b[1;32m    215\u001b[0m                 \u001b[0;31m#  than concat_compat\u001b[0m\u001b[0;34m\u001b[0m\u001b[0;34m\u001b[0m\u001b[0;34m\u001b[0m\u001b[0m\n\u001b[0;32m--> 216\u001b[0;31m                 \u001b[0mvalues\u001b[0m \u001b[0;34m=\u001b[0m \u001b[0mnp\u001b[0m\u001b[0;34m.\u001b[0m\u001b[0mconcatenate\u001b[0m\u001b[0;34m(\u001b[0m\u001b[0mvals\u001b[0m\u001b[0;34m,\u001b[0m \u001b[0maxis\u001b[0m\u001b[0;34m=\u001b[0m\u001b[0mblk\u001b[0m\u001b[0;34m.\u001b[0m\u001b[0mndim\u001b[0m \u001b[0;34m-\u001b[0m \u001b[0;36m1\u001b[0m\u001b[0;34m)\u001b[0m\u001b[0;34m\u001b[0m\u001b[0;34m\u001b[0m\u001b[0m\n\u001b[0m\u001b[1;32m    217\u001b[0m             \u001b[0;32melse\u001b[0m\u001b[0;34m:\u001b[0m\u001b[0;34m\u001b[0m\u001b[0;34m\u001b[0m\u001b[0m\n\u001b[1;32m    218\u001b[0m                 \u001b[0;31m# TODO(EA2D): special-casing not needed with 2D EAs\u001b[0m\u001b[0;34m\u001b[0m\u001b[0;34m\u001b[0m\u001b[0;34m\u001b[0m\u001b[0m\n",
      "\u001b[0;32m<__array_function__ internals>\u001b[0m in \u001b[0;36mconcatenate\u001b[0;34m(*args, **kwargs)\u001b[0m\n",
      "\u001b[0;31mKeyboardInterrupt\u001b[0m: "
     ]
    }
   ],
   "source": [
    "#User-set Variables\n",
    "ser = [\"07221119_1016\",\"07221124_1408\",\"07221124_1603\",\"07221124_1748\",\"07221124_2022\"\\\n",
    "      ,\"07221124_2331\"]\n",
    "paths=[frittspath,frittspath,frittspath,frittspath,frittspath,frittspath]\n",
    "lab = [-81.5,-8.3,-16.3,-24,-34,-34] # Actually relevant here\n",
    "for i in range(len(ser)):\n",
    "    m,b=0,0\n",
    "    for j in range(len(baselinecorrections)): # Pull m and b values from the csv\n",
    "        if baselinecorrections.series[j]==ser[i]:\n",
    "            m,b=1,1\n",
    "    if ((m==0) or (b==0)):\n",
    "        print(\"Oops! Series\",ser[i],\"doesn't have its correction values in the proper csv.\")\n",
    "print((len(ser)==len(paths))and(len(paths)==len(lab)))\n",
    "z=[]\n",
    "t=int(time.time())\n",
    "print(t)\n",
    "#Derived variables\n",
    "for i,s in enumerate(ser):\n",
    "    print(\"Progress: \"+str(i)+\"/\"+str(len(ser))+\". This action took \"+str(round((time.time()-t)/60,1))+\" minutes.\")\n",
    "    t=int(time.time())\n",
    "    _,z_chain = makechain(paths[i]+s+\"/umn_*.root\",filters=[fittingfilters,\"PTOFamps0\"],aliases=calibrationaliases)\n",
    "    z.append(z_chain) # Do it this roundabout way to accommodate having Matt's and Himangshu's data in ser\n",
    "print(\"Progress: \"+str(i+1)+\"/\"+str(len(ser))+\". This action took \"+str(round((time.time()-t)/60,1))+\" minutes.\")"
   ]
  },
  {
   "cell_type": "code",
   "execution_count": 12,
   "id": "78f40bf5",
   "metadata": {},
   "outputs": [],
   "source": [
    "# Fix up the names\n",
    "cam=[]\n",
    "for i,x in enumerate(z):\n",
    "    cam.append((x['phidel']>-70)&(x['phidel']<50))\n",
    "    m,b=0,0\n",
    "    for j in range(len(baselinecorrections)): # Pull m and b values from the csv\n",
    "        if baselinecorrections.series[j]==ser[i]:\n",
    "            m=baselinecorrections.m[j]\n",
    "            b=baselinecorrections.b[j]\n",
    "    if ((m==0) or (b==0)):\n",
    "        print(\"Oops! Series\",ser[i],\"doesn't have its correction values in the proper csv.\")\n",
    "    x[\"pt_keV_bscorr\"] = x[\"pt_keV\"]/(1+m*x[\"BSel\"]/b)\n",
    "    x[\"pt0_keV_bscorr\"] = x[\"pt0_keV\"]/(1+m*x[\"BSel\"]/b)"
   ]
  },
  {
   "cell_type": "markdown",
   "id": "226fca09",
   "metadata": {},
   "source": [
    "# Finding sigma_0:"
   ]
  },
  {
   "cell_type": "code",
   "execution_count": 13,
   "id": "192a15b6",
   "metadata": {},
   "outputs": [
    {
     "data": {
      "image/png": "[encoded data removed]",
      "text/plain": [
       "<Figure size 432x288 with 1 Axes>"
      ]
     },
     "metadata": {
      "needs_background": "light"
     },
     "output_type": "display_data"
    },
    {
     "data": {
      "text/plain": [
       "[0.00925046108382066]"
      ]
     },
     "execution_count": 13,
     "metadata": {},
     "output_type": "execute_result"
    }
   ],
   "source": [
    "hn=[]; sigma0_values=[]\n",
    "for i,x in enumerate(z):\n",
    "    x[\"pt_keVee_root\"] = 13.1849*x[\"pt_keV_bscorr\"]/(297.667-x[\"pt_keV_bscorr\"])\n",
    "    x[\"pt0_keVee_root\"] = 13.1849*x[\"pt0_keV_bscorr\"]/(297.667-x[\"pt0_keV_bscorr\"])\n",
    "    hn.append(plt.hist(x[\"pt0_keVee_root\"][x[\"crand\"] & x[\"cbs\"]],bins=np.linspace(-0.1,0.1,200)))\n",
    "    gaus_params.add('mu',value=0,min=-0.1,max=0.1)\n",
    "    bins = (hn[i][1][:-1]+hn[i][1][1:])/2\n",
    "    fit_NTL = gaus_mod.fit(hn[i][0],gaus_params,x=bins)#,weights=1/np.sqrt(h4n[0]))\n",
    "    sigma0_values.append(fit_NTL.params['sigma'].value)\n",
    "    plt.plot(bins,fit_NTL.best_fit)\n",
    "plt.show() # Ignore this plot\n",
    "sigma0_values"
   ]
  },
  {
   "cell_type": "code",
   "execution_count": 14,
   "id": "6a55501e",
   "metadata": {},
   "outputs": [
    {
     "name": "stdout",
     "output_type": "stream",
     "text": [
      "07221118_1404,0.0093,-81.6\n"
     ]
    },
    {
     "ename": "IndexError",
     "evalue": "list index out of range",
     "output_type": "error",
     "traceback": [
      "\u001b[0;31m---------------------------------------------------------------------------\u001b[0m",
      "\u001b[0;31mIndexError\u001b[0m                                Traceback (most recent call last)",
      "\u001b[0;32m/tmp/ipykernel_2470098/224472893.py\u001b[0m in \u001b[0;36m<module>\u001b[0;34m\u001b[0m\n\u001b[1;32m      1\u001b[0m \u001b[0;32mfor\u001b[0m \u001b[0mi\u001b[0m \u001b[0;32min\u001b[0m \u001b[0mrange\u001b[0m\u001b[0;34m(\u001b[0m\u001b[0mlen\u001b[0m\u001b[0;34m(\u001b[0m\u001b[0mser\u001b[0m\u001b[0;34m)\u001b[0m\u001b[0;34m)\u001b[0m\u001b[0;34m:\u001b[0m\u001b[0;34m\u001b[0m\u001b[0;34m\u001b[0m\u001b[0m\n\u001b[0;32m----> 2\u001b[0;31m     \u001b[0mprint\u001b[0m\u001b[0;34m(\u001b[0m\u001b[0mser\u001b[0m\u001b[0;34m[\u001b[0m\u001b[0mi\u001b[0m\u001b[0;34m]\u001b[0m\u001b[0;34m+\u001b[0m\u001b[0;34m\",\"\u001b[0m\u001b[0;34m+\u001b[0m\u001b[0mstr\u001b[0m\u001b[0;34m(\u001b[0m\u001b[0mround\u001b[0m\u001b[0;34m(\u001b[0m\u001b[0msigma0_values\u001b[0m\u001b[0;34m[\u001b[0m\u001b[0mi\u001b[0m\u001b[0;34m]\u001b[0m\u001b[0;34m,\u001b[0m\u001b[0;36m4\u001b[0m\u001b[0;34m)\u001b[0m\u001b[0;34m)\u001b[0m\u001b[0;34m+\u001b[0m\u001b[0;34m\",\"\u001b[0m\u001b[0;34m+\u001b[0m\u001b[0mstr\u001b[0m\u001b[0;34m(\u001b[0m\u001b[0mlab\u001b[0m\u001b[0;34m[\u001b[0m\u001b[0mi\u001b[0m\u001b[0;34m]\u001b[0m\u001b[0;34m)\u001b[0m\u001b[0;34m)\u001b[0m\u001b[0;34m\u001b[0m\u001b[0;34m\u001b[0m\u001b[0m\n\u001b[0m",
      "\u001b[0;31mIndexError\u001b[0m: list index out of range"
     ]
    }
   ],
   "source": [
    "for i in range(len(ser)):\n",
    "    print(ser[i]+\",\"+str(round(sigma0_values[i],4))+\",\"+str(lab[i]))"
   ]
  },
  {
   "cell_type": "markdown",
   "id": "2f95e5a4",
   "metadata": {},
   "source": [
    "# Is there a correlation between lab voltage and sigma values?"
   ]
  },
  {
   "cell_type": "code",
   "execution_count": 16,
   "id": "ef58dfba",
   "metadata": {},
   "outputs": [],
   "source": [
    "widthvalues = pd.read_csv(\"./widthstudyvalues.csv\")\n",
    "voltagevalues, sigma0values, sigma80, sigma200=[],[],[],[]\n",
    "for i in range(len(widthvalues.series)):\n",
    "    voltagevalues.append(widthvalues.lab[i])\n",
    "    sigma0values.append(widthvalues.sigma0[i])\n",
    "    if ((voltagevalues[i]<-75)and(voltagevalues[i]>-85)):\n",
    "        sigma80.append(widthvalues.sigma0[i])\n",
    "    if ((voltagevalues[i]<-195)and(voltagevalues[i]>-205)):\n",
    "        sigma200.append(widthvalues.sigma0[i])\n",
    "voltagevalues=np.asarray(voltagevalues)\n",
    "sigma0values=np.asarray(sigma0values)\n",
    "sigma200=np.asarray(sigma200)\n",
    "sigma80=np.asarray(sigma80)"
   ]
  },
  {
   "cell_type": "code",
   "execution_count": 22,
   "id": "3ccf27e3",
   "metadata": {},
   "outputs": [
    {
     "data": {
      "image/png": "[encoded data removed]",
      "text/plain": [
       "<Figure size 432x288 with 1 Axes>"
      ]
     },
     "metadata": {
      "needs_background": "light"
     },
     "output_type": "display_data"
    },
    {
     "data": {
      "image/png": "[encoded data removed]",
      "text/plain": [
       "<Figure size 432x288 with 1 Axes>"
      ]
     },
     "metadata": {
      "needs_background": "light"
     },
     "output_type": "display_data"
    },
    {
     "data": {
      "image/png": "[encoded data removed]",
      "text/plain": [
       "<Figure size 432x288 with 1 Axes>"
      ]
     },
     "metadata": {
      "needs_background": "light"
     },
     "output_type": "display_data"
    },
    {
     "name": "stdout",
     "output_type": "stream",
     "text": [
      "sigma80 average: 9.776666666666664 eVee. sigma80 std. deviation: 3.9618752574450844 eVee\n",
      "sigma200 average: 12.542857142857144 eVee. sigma200 std. deviation: 5.631127048534307 eVee\n"
     ]
    }
   ],
   "source": [
    "plt.hist(sigma0values)\n",
    "plt.show()\n",
    "plt.scatter(voltagevalues,sigma0values)\n",
    "plt.show()\n",
    "plt.hist(sigma80,histtype=\"step\",bins=15)\n",
    "plt.hist(sigma200,histtype=\"step\",bins=15)\n",
    "plt.legend([\"sigma80\",\"sigma200\"])\n",
    "plt.show()\n",
    "print(\"sigma80 average:\",np.mean(sigma80)*1000,\"eVee.\",\"sigma80 std. deviation:\",np.std(sigma80)*1000,\"eVee\")\n",
    "print(\"sigma200 average:\",np.mean(sigma200)*1000,\"eVee.\",\"sigma200 std. deviation:\",np.std(sigma200)*1000,\"eVee\")"
   ]
  },
  {
   "cell_type": "code",
   "execution_count": null,
   "id": "718f03a8",
   "metadata": {},
   "outputs": [],
   "source": []
  }
 ],
 "metadata": {
  "kernelspec": {
   "display_name": "Python 3 (ipykernel)",
   "language": "python",
   "name": "python3"
  },
  "language_info": {
   "codemirror_mode": {
    "name": "ipython",
    "version": 3
   },
   "file_extension": ".py",
   "mimetype": "text/x-python",
   "name": "python",
   "nbconvert_exporter": "python",
   "pygments_lexer": "ipython3",
   "version": "3.7.13"
  }
 },
 "nbformat": 4,
 "nbformat_minor": 5
}
