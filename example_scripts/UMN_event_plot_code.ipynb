{
 "cells": [
  {
   "cell_type": "code",
   "execution_count": 1,
   "metadata": {},
   "outputs": [
    {
     "name": "stdout",
     "output_type": "stream",
     "text": [
      "Welcome to JupyROOT 6.24/06\n"
     ]
    }
   ],
   "source": [
    "#Imports\n",
    "import numpy as np\n",
    "import matplotlib.pyplot as plt\n",
    "import rawio.IO as io #will import at all?\n",
    "import glob, pickle, os, sys, uproot, sys\n",
    "#import joblib\n",
    "#from tqdm import tqdm_notebook\n",
    "from scdmsPyTools.Traces.Filtering import *\n",
    "from scdmsPyTools.Traces.Noise import *\n",
    "from scdmsPyTools.TES.Templates import *\n",
    "from scdmsPyTools.Traces.Stats import *\n",
    "#from scdmsPyTools.BatTools.IO import *\n",
    "from rawio import IO\n",
    "from ROOT import TCanvas, TGraph, gStyle, TH1F\n",
    "#from ROOT import TF1\n",
    "import uproot"
   ]
  },
  {
   "cell_type": "code",
   "execution_count": 2,
   "metadata": {},
   "outputs": [],
   "source": [
    "#Constants\n",
    "#procdir = \"/gpfs/slac/staas/fs1/g/supercdms/tf/nexus/midasdata/NEXUS/R7/processed/auto_proc/OFResults_\"\n",
    "#procdir = \"/gpfs/slac/staas/fs1/g/supercdms/tf/nexus/midasdata/NEXUS/R7/processed/master_releases/v2.0.0/OFResults_\"\n",
    "gpfdir = \"/gpfs/slac/staas/fs1/g/supercdms/tf/umn/raw/\"\n",
    "#procdir = \"/gpfs/slac/staas/fs1/g/supercdms/tf/umn/rq/\"\n",
    "frittsdir = \"/data/chocula/fritts/data/k100proc/midas\"\n",
    "\n",
    "#72208301829\n",
    "series='07181007_1415'\n",
    "series='07220830_1829'\n",
    "procseries='07191122_0915/'"
   ]
  },
  {
   "cell_type": "code",
   "execution_count": 3,
   "metadata": {},
   "outputs": [
    {
     "name": "stdout",
     "output_type": "stream",
     "text": [
      "/data/chocula/fritts/data/k100proc/midasraw/byseries\n"
     ]
    }
   ],
   "source": [
    "print(frittsdir+\"raw/\"+\"byseries\")"
   ]
  },
  {
   "cell_type": "code",
   "execution_count": 4,
   "metadata": {},
   "outputs": [
    {
     "name": "stdout",
     "output_type": "stream",
     "text": [
      "The file is: /data/chocula/fritts/data/k100proc/midasraw/byseries//07220830_1829/07220830_1829_F0001.mid.gz\n",
      "\n",
      "Opened raw midas file: /data/chocula/fritts/data/k100proc/midasraw/byseries//07220830_1829/07220830_1829_F0001.mid.gz\n",
      "The file is: /data/chocula/fritts/data/k100proc/midasraw/byseries//07220830_1829/07220830_1829_F0002.mid.gz\n",
      "\n",
      "Opened raw midas file: /data/chocula/fritts/data/k100proc/midasraw/byseries//07220830_1829/07220830_1829_F0002.mid.gz\n",
      "The file is: /data/chocula/fritts/data/k100proc/midasraw/byseries//07220830_1829/07220830_1829_F0003.mid.gz\n",
      "\n",
      "Opened raw midas file: /data/chocula/fritts/data/k100proc/midasraw/byseries//07220830_1829/07220830_1829_F0003.mid.gz\n",
      "The file is: /data/chocula/fritts/data/k100proc/midasraw/byseries//07220830_1829/07220830_1829_F0004.mid.gz\n",
      "\n",
      "Opened raw midas file: /data/chocula/fritts/data/k100proc/midasraw/byseries//07220830_1829/07220830_1829_F0004.mid.gz\n",
      "The file is: /data/chocula/fritts/data/k100proc/midasraw/byseries//07220830_1829/07220830_1829_F0005.mid.gz\n",
      "\n",
      "Opened raw midas file: /data/chocula/fritts/data/k100proc/midasraw/byseries//07220830_1829/07220830_1829_F0005.mid.gz\n",
      "The file is: /data/chocula/fritts/data/k100proc/midasraw/byseries//07220830_1829/07220830_1829_F0006.mid.gz\n",
      "\n",
      "Opened raw midas file: /data/chocula/fritts/data/k100proc/midasraw/byseries//07220830_1829/07220830_1829_F0006.mid.gz\n",
      "The file is: /data/chocula/fritts/data/k100proc/midasraw/byseries//07220830_1829/07220830_1829_F0007.mid.gz\n",
      "\n",
      "Opened raw midas file: /data/chocula/fritts/data/k100proc/midasraw/byseries//07220830_1829/07220830_1829_F0007.mid.gz\n",
      "The file is: /data/chocula/fritts/data/k100proc/midasraw/byseries//07220830_1829/07220830_1829_F0008.mid.gz\n",
      "\n",
      "Opened raw midas file: /data/chocula/fritts/data/k100proc/midasraw/byseries//07220830_1829/07220830_1829_F0008.mid.gz\n",
      "The file is: /data/chocula/fritts/data/k100proc/midasraw/byseries//07220830_1829/07220830_1829_F0009.mid.gz\n",
      "\n",
      "Opened raw midas file: /data/chocula/fritts/data/k100proc/midasraw/byseries//07220830_1829/07220830_1829_F0009.mid.gz\n",
      "The file is: /data/chocula/fritts/data/k100proc/midasraw/byseries//07220830_1829/07220830_1829_F0010.mid.gz\n",
      "\n",
      "Opened raw midas file: /data/chocula/fritts/data/k100proc/midasraw/byseries//07220830_1829/07220830_1829_F0010.mid.gz\n",
      "The file is: /data/chocula/fritts/data/k100proc/midasraw/byseries//07220830_1829/07220830_1829_F0011.mid.gz\n",
      "\n",
      "Opened raw midas file: /data/chocula/fritts/data/k100proc/midasraw/byseries//07220830_1829/07220830_1829_F0011.mid.gz\n",
      "The file is: /data/chocula/fritts/data/k100proc/midasraw/byseries//07220830_1829/07220830_1829_F0012.mid.gz\n",
      "\n",
      "Opened raw midas file: /data/chocula/fritts/data/k100proc/midasraw/byseries//07220830_1829/07220830_1829_F0012.mid.gz\n",
      "The file is: /data/chocula/fritts/data/k100proc/midasraw/byseries//07220830_1829/07220830_1829_F0013.mid.gz\n",
      "\n",
      "Opened raw midas file: /data/chocula/fritts/data/k100proc/midasraw/byseries//07220830_1829/07220830_1829_F0013.mid.gz\n",
      "The file is: /data/chocula/fritts/data/k100proc/midasraw/byseries//07220830_1829/07220830_1829_F0014.mid.gz\n",
      "\n",
      "Opened raw midas file: /data/chocula/fritts/data/k100proc/midasraw/byseries//07220830_1829/07220830_1829_F0014.mid.gz\n",
      "The file is: /data/chocula/fritts/data/k100proc/midasraw/byseries//07220830_1829/07220830_1829_F0015.mid.gz\n",
      "\n",
      "Opened raw midas file: /data/chocula/fritts/data/k100proc/midasraw/byseries//07220830_1829/07220830_1829_F0015.mid.gz\n",
      "The file is: /data/chocula/fritts/data/k100proc/midasraw/byseries//07220830_1829/07220830_1829_F0016.mid.gz\n",
      "\n",
      "Opened raw midas file: /data/chocula/fritts/data/k100proc/midasraw/byseries//07220830_1829/07220830_1829_F0016.mid.gz\n",
      "The file is: /data/chocula/fritts/data/k100proc/midasraw/byseries//07220830_1829/07220830_1829_F0017.mid.gz\n",
      "\n",
      "Opened raw midas file: /data/chocula/fritts/data/k100proc/midasraw/byseries//07220830_1829/07220830_1829_F0017.mid.gz\n",
      "The file is: /data/chocula/fritts/data/k100proc/midasraw/byseries//07220830_1829/07220830_1829_F0018.mid.gz\n",
      "\n",
      "Opened raw midas file: /data/chocula/fritts/data/k100proc/midasraw/byseries//07220830_1829/07220830_1829_F0018.mid.gz\n",
      "The file is: /data/chocula/fritts/data/k100proc/midasraw/byseries//07220830_1829/07220830_1829_F0019.mid.gz\n",
      "\n",
      "Opened raw midas file: /data/chocula/fritts/data/k100proc/midasraw/byseries//07220830_1829/07220830_1829_F0019.mid.gz\n",
      "The file is: /data/chocula/fritts/data/k100proc/midasraw/byseries//07220830_1829/07220830_1829_F0020.mid.gz\n",
      "\n",
      "Opened raw midas file: /data/chocula/fritts/data/k100proc/midasraw/byseries//07220830_1829/07220830_1829_F0020.mid.gz\n",
      "The file is: /data/chocula/fritts/data/k100proc/midasraw/byseries//07220830_1829/07220830_1829_F0021.mid.gz\n",
      "\n",
      "Opened raw midas file: /data/chocula/fritts/data/k100proc/midasraw/byseries//07220830_1829/07220830_1829_F0021.mid.gz\n",
      "The file is: /data/chocula/fritts/data/k100proc/midasraw/byseries//07220830_1829/07220830_1829_F0022.mid.gz\n",
      "\n",
      "Opened raw midas file: /data/chocula/fritts/data/k100proc/midasraw/byseries//07220830_1829/07220830_1829_F0022.mid.gz\n",
      "The file is: /data/chocula/fritts/data/k100proc/midasraw/byseries//07220830_1829/07220830_1829_F0023.mid.gz\n",
      "\n",
      "Opened raw midas file: /data/chocula/fritts/data/k100proc/midasraw/byseries//07220830_1829/07220830_1829_F0023.mid.gz\n",
      "The file is: /data/chocula/fritts/data/k100proc/midasraw/byseries//07220830_1829/07220830_1829_F0024.mid.gz\n",
      "\n",
      "Opened raw midas file: /data/chocula/fritts/data/k100proc/midasraw/byseries//07220830_1829/07220830_1829_F0024.mid.gz\n",
      "The file is: /data/chocula/fritts/data/k100proc/midasraw/byseries//07220830_1829/07220830_1829_F0025.mid.gz\n",
      "\n",
      "Opened raw midas file: /data/chocula/fritts/data/k100proc/midasraw/byseries//07220830_1829/07220830_1829_F0025.mid.gz\n",
      "The file is: /data/chocula/fritts/data/k100proc/midasraw/byseries//07220830_1829/07220830_1829_F0026.mid.gz\n",
      "\n",
      "Opened raw midas file: /data/chocula/fritts/data/k100proc/midasraw/byseries//07220830_1829/07220830_1829_F0026.mid.gz\n",
      "The file is: /data/chocula/fritts/data/k100proc/midasraw/byseries//07220830_1829/07220830_1829_F0027.mid.gz\n",
      "\n",
      "Opened raw midas file: /data/chocula/fritts/data/k100proc/midasraw/byseries//07220830_1829/07220830_1829_F0027.mid.gz\n",
      "The file is: /data/chocula/fritts/data/k100proc/midasraw/byseries//07220830_1829/07220830_1829_F0028.mid.gz\n",
      "\n",
      "Opened raw midas file: /data/chocula/fritts/data/k100proc/midasraw/byseries//07220830_1829/07220830_1829_F0028.mid.gz\n",
      "The file is: /data/chocula/fritts/data/k100proc/midasraw/byseries//07220830_1829/07220830_1829_F0029.mid.gz\n",
      "\n",
      "Opened raw midas file: /data/chocula/fritts/data/k100proc/midasraw/byseries//07220830_1829/07220830_1829_F0029.mid.gz\n",
      "The file is: /data/chocula/fritts/data/k100proc/midasraw/byseries//07220830_1829/07220830_1829_F0030.mid.gz\n",
      "\n",
      "Opened raw midas file: /data/chocula/fritts/data/k100proc/midasraw/byseries//07220830_1829/07220830_1829_F0030.mid.gz\n",
      "The file is: /data/chocula/fritts/data/k100proc/midasraw/byseries//07220830_1829/07220830_1829_F0031.mid.gz\n",
      "\n",
      "Opened raw midas file: /data/chocula/fritts/data/k100proc/midasraw/byseries//07220830_1829/07220830_1829_F0031.mid.gz\n",
      "The file is: /data/chocula/fritts/data/k100proc/midasraw/byseries//07220830_1829/07220830_1829_F0032.mid.gz\n",
      "\n",
      "Opened raw midas file: /data/chocula/fritts/data/k100proc/midasraw/byseries//07220830_1829/07220830_1829_F0032.mid.gz\n",
      "The file is: /data/chocula/fritts/data/k100proc/midasraw/byseries//07220830_1829/07220830_1829_F0033.mid.gz\n",
      "\n",
      "Opened raw midas file: /data/chocula/fritts/data/k100proc/midasraw/byseries//07220830_1829/07220830_1829_F0033.mid.gz\n",
      "The file is: /data/chocula/fritts/data/k100proc/midasraw/byseries//07220830_1829/07220830_1829_F0034.mid.gz\n",
      "\n",
      "Opened raw midas file: /data/chocula/fritts/data/k100proc/midasraw/byseries//07220830_1829/07220830_1829_F0034.mid.gz\n",
      "The file is: /data/chocula/fritts/data/k100proc/midasraw/byseries//07220830_1829/07220830_1829_F0035.mid.gz\n",
      "\n",
      "Opened raw midas file: /data/chocula/fritts/data/k100proc/midasraw/byseries//07220830_1829/07220830_1829_F0035.mid.gz\n",
      "The file is: /data/chocula/fritts/data/k100proc/midasraw/byseries//07220830_1829/07220830_1829_F0036.mid.gz\n",
      "\n",
      "Opened raw midas file: /data/chocula/fritts/data/k100proc/midasraw/byseries//07220830_1829/07220830_1829_F0036.mid.gz\n",
      "The file is: /data/chocula/fritts/data/k100proc/midasraw/byseries//07220830_1829/07220830_1829_F0037.mid.gz\n",
      "\n",
      "Opened raw midas file: /data/chocula/fritts/data/k100proc/midasraw/byseries//07220830_1829/07220830_1829_F0037.mid.gz\n",
      "The file is: /data/chocula/fritts/data/k100proc/midasraw/byseries//07220830_1829/07220830_1829_F0038.mid.gz\n",
      "\n",
      "Opened raw midas file: /data/chocula/fritts/data/k100proc/midasraw/byseries//07220830_1829/07220830_1829_F0038.mid.gz\n",
      "The file is: /data/chocula/fritts/data/k100proc/midasraw/byseries//07220830_1829/07220830_1829_F0039.mid.gz\n",
      "\n",
      "Opened raw midas file: /data/chocula/fritts/data/k100proc/midasraw/byseries//07220830_1829/07220830_1829_F0039.mid.gz\n",
      "The file is: /data/chocula/fritts/data/k100proc/midasraw/byseries//07220830_1829/07220830_1829_F0040.mid.gz\n",
      "\n",
      "Opened raw midas file: /data/chocula/fritts/data/k100proc/midasraw/byseries//07220830_1829/07220830_1829_F0040.mid.gz\n",
      "The file is: /data/chocula/fritts/data/k100proc/midasraw/byseries//07220830_1829/07220830_1829_F0041.mid.gz\n",
      "\n",
      "Opened raw midas file: /data/chocula/fritts/data/k100proc/midasraw/byseries//07220830_1829/07220830_1829_F0041.mid.gz\n",
      "The file is: /data/chocula/fritts/data/k100proc/midasraw/byseries//07220830_1829/07220830_1829_F0042.mid.gz\n",
      "\n",
      "Opened raw midas file: /data/chocula/fritts/data/k100proc/midasraw/byseries//07220830_1829/07220830_1829_F0042.mid.gz\n",
      "The file is: /data/chocula/fritts/data/k100proc/midasraw/byseries//07220830_1829/07220830_1829_F0043.mid.gz\n",
      "\n",
      "Opened raw midas file: /data/chocula/fritts/data/k100proc/midasraw/byseries//07220830_1829/07220830_1829_F0043.mid.gz\n",
      "The file is: /data/chocula/fritts/data/k100proc/midasraw/byseries//07220830_1829/07220830_1829_F0044.mid.gz\n",
      "\n",
      "Opened raw midas file: /data/chocula/fritts/data/k100proc/midasraw/byseries//07220830_1829/07220830_1829_F0044.mid.gz\n",
      "The file is: /data/chocula/fritts/data/k100proc/midasraw/byseries//07220830_1829/07220830_1829_F0045.mid.gz\n",
      "\n",
      "Opened raw midas file: /data/chocula/fritts/data/k100proc/midasraw/byseries//07220830_1829/07220830_1829_F0045.mid.gz\n",
      "The file is: /data/chocula/fritts/data/k100proc/midasraw/byseries//07220830_1829/07220830_1829_F0046.mid.gz\n",
      "\n",
      "Opened raw midas file: /data/chocula/fritts/data/k100proc/midasraw/byseries//07220830_1829/07220830_1829_F0046.mid.gz\n",
      "The file is: /data/chocula/fritts/data/k100proc/midasraw/byseries//07220830_1829/07220830_1829_F0047.mid.gz\n",
      "\n",
      "Opened raw midas file: /data/chocula/fritts/data/k100proc/midasraw/byseries//07220830_1829/07220830_1829_F0047.mid.gz\n",
      "The file is: /data/chocula/fritts/data/k100proc/midasraw/byseries//07220830_1829/07220830_1829_F0048.mid.gz\n",
      "\n",
      "Opened raw midas file: /data/chocula/fritts/data/k100proc/midasraw/byseries//07220830_1829/07220830_1829_F0048.mid.gz\n",
      "The file is: /data/chocula/fritts/data/k100proc/midasraw/byseries//07220830_1829/07220830_1829_F0049.mid.gz\n",
      "\n",
      "Opened raw midas file: /data/chocula/fritts/data/k100proc/midasraw/byseries//07220830_1829/07220830_1829_F0049.mid.gz\n",
      "The file is: /data/chocula/fritts/data/k100proc/midasraw/byseries//07220830_1829/07220830_1829_F0050.mid.gz\n",
      "\n",
      "Opened raw midas file: /data/chocula/fritts/data/k100proc/midasraw/byseries//07220830_1829/07220830_1829_F0050.mid.gz\n",
      "The file is: /data/chocula/fritts/data/k100proc/midasraw/byseries//07220830_1829/07220830_1829_F0051.mid.gz\n",
      "\n",
      "Opened raw midas file: /data/chocula/fritts/data/k100proc/midasraw/byseries//07220830_1829/07220830_1829_F0051.mid.gz\n",
      "The file is: /data/chocula/fritts/data/k100proc/midasraw/byseries//07220830_1829/07220830_1829_F0052.mid.gz\n",
      "\n",
      "Opened raw midas file: /data/chocula/fritts/data/k100proc/midasraw/byseries//07220830_1829/07220830_1829_F0052.mid.gz\n",
      "The file is: /data/chocula/fritts/data/k100proc/midasraw/byseries//07220830_1829/07220830_1829_F0053.mid.gz\n",
      "\n",
      "Opened raw midas file: /data/chocula/fritts/data/k100proc/midasraw/byseries//07220830_1829/07220830_1829_F0053.mid.gz\n",
      "The file is: /data/chocula/fritts/data/k100proc/midasraw/byseries//07220830_1829/07220830_1829_F0054.mid.gz\n",
      "\n",
      "Opened raw midas file: /data/chocula/fritts/data/k100proc/midasraw/byseries//07220830_1829/07220830_1829_F0054.mid.gz\n",
      "The file is: /data/chocula/fritts/data/k100proc/midasraw/byseries//07220830_1829/07220830_1829_F0055.mid.gz\n",
      "\n",
      "Opened raw midas file: /data/chocula/fritts/data/k100proc/midasraw/byseries//07220830_1829/07220830_1829_F0055.mid.gz\n",
      "The file is: /data/chocula/fritts/data/k100proc/midasraw/byseries//07220830_1829/07220830_1829_F0056.mid.gz\n",
      "\n",
      "Opened raw midas file: /data/chocula/fritts/data/k100proc/midasraw/byseries//07220830_1829/07220830_1829_F0056.mid.gz\n",
      "The file is: /data/chocula/fritts/data/k100proc/midasraw/byseries//07220830_1829/07220830_1829_F0057.mid.gz\n",
      "\n",
      "Opened raw midas file: /data/chocula/fritts/data/k100proc/midasraw/byseries//07220830_1829/07220830_1829_F0057.mid.gz\n",
      "The file is: /data/chocula/fritts/data/k100proc/midasraw/byseries//07220830_1829/07220830_1829_F0058.mid.gz\n",
      "\n",
      "Opened raw midas file: /data/chocula/fritts/data/k100proc/midasraw/byseries//07220830_1829/07220830_1829_F0058.mid.gz\n",
      "The file is: /data/chocula/fritts/data/k100proc/midasraw/byseries//07220830_1829/07220830_1829_F0059.mid.gz\n",
      "\n",
      "Opened raw midas file: /data/chocula/fritts/data/k100proc/midasraw/byseries//07220830_1829/07220830_1829_F0059.mid.gz\n",
      "The file is: /data/chocula/fritts/data/k100proc/midasraw/byseries//07220830_1829/07220830_1829_F0060.mid.gz\n",
      "\n",
      "Opened raw midas file: /data/chocula/fritts/data/k100proc/midasraw/byseries//07220830_1829/07220830_1829_F0060.mid.gz\n",
      "The file is: /data/chocula/fritts/data/k100proc/midasraw/byseries//07220830_1829/07220830_1829_F0061.mid.gz\n",
      "\n",
      "Opened raw midas file: /data/chocula/fritts/data/k100proc/midasraw/byseries//07220830_1829/07220830_1829_F0061.mid.gz\n",
      "The file is: /data/chocula/fritts/data/k100proc/midasraw/byseries//07220830_1829/07220830_1829_F0062.mid.gz\n",
      "\n",
      "Opened raw midas file: /data/chocula/fritts/data/k100proc/midasraw/byseries//07220830_1829/07220830_1829_F0062.mid.gz\n",
      "The file is: /data/chocula/fritts/data/k100proc/midasraw/byseries//07220830_1829/07220830_1829_F0063.mid.gz\n",
      "\n",
      "Opened raw midas file: /data/chocula/fritts/data/k100proc/midasraw/byseries//07220830_1829/07220830_1829_F0063.mid.gz\n",
      "The file is: /data/chocula/fritts/data/k100proc/midasraw/byseries//07220830_1829/07220830_1829_F0064.mid.gz\n",
      "\n",
      "Opened raw midas file: /data/chocula/fritts/data/k100proc/midasraw/byseries//07220830_1829/07220830_1829_F0064.mid.gz\n",
      "The file is: /data/chocula/fritts/data/k100proc/midasraw/byseries//07220830_1829/07220830_1829_F0065.mid.gz\n",
      "\n",
      "Opened raw midas file: /data/chocula/fritts/data/k100proc/midasraw/byseries//07220830_1829/07220830_1829_F0065.mid.gz\n",
      "The file is: /data/chocula/fritts/data/k100proc/midasraw/byseries//07220830_1829/07220830_1829_F0066.mid.gz\n",
      "\n",
      "Opened raw midas file: /data/chocula/fritts/data/k100proc/midasraw/byseries//07220830_1829/07220830_1829_F0066.mid.gz\n",
      "The file is: /data/chocula/fritts/data/k100proc/midasraw/byseries//07220830_1829/07220830_1829_F0067.mid.gz\n",
      "\n",
      "Opened raw midas file: /data/chocula/fritts/data/k100proc/midasraw/byseries//07220830_1829/07220830_1829_F0067.mid.gz\n",
      "The file is: /data/chocula/fritts/data/k100proc/midasraw/byseries//07220830_1829/07220830_1829_F0068.mid.gz\n",
      "\n",
      "Opened raw midas file: /data/chocula/fritts/data/k100proc/midasraw/byseries//07220830_1829/07220830_1829_F0068.mid.gz\n",
      "The file is: /data/chocula/fritts/data/k100proc/midasraw/byseries//07220830_1829/07220830_1829_F0069.mid.gz\n",
      "\n",
      "Opened raw midas file: /data/chocula/fritts/data/k100proc/midasraw/byseries//07220830_1829/07220830_1829_F0069.mid.gz\n",
      "The file is: /data/chocula/fritts/data/k100proc/midasraw/byseries//07220830_1829/07220830_1829_F0070.mid.gz\n",
      "\n",
      "Opened raw midas file: /data/chocula/fritts/data/k100proc/midasraw/byseries//07220830_1829/07220830_1829_F0070.mid.gz\n",
      "The file is: /data/chocula/fritts/data/k100proc/midasraw/byseries//07220830_1829/07220830_1829_F0071.mid.gz\n",
      "\n",
      "Opened raw midas file: /data/chocula/fritts/data/k100proc/midasraw/byseries//07220830_1829/07220830_1829_F0071.mid.gz\n",
      "The file is: /data/chocula/fritts/data/k100proc/midasraw/byseries//07220830_1829/07220830_1829_F0072.mid.gz\n",
      "\n",
      "Opened raw midas file: /data/chocula/fritts/data/k100proc/midasraw/byseries//07220830_1829/07220830_1829_F0072.mid.gz\n",
      "The file is: /data/chocula/fritts/data/k100proc/midasraw/byseries//07220830_1829/07220830_1829_F0073.mid.gz\n",
      "\n",
      "Opened raw midas file: /data/chocula/fritts/data/k100proc/midasraw/byseries//07220830_1829/07220830_1829_F0073.mid.gz\n",
      "The file is: /data/chocula/fritts/data/k100proc/midasraw/byseries//07220830_1829/07220830_1829_F0074.mid.gz\n",
      "\n",
      "Opened raw midas file: /data/chocula/fritts/data/k100proc/midasraw/byseries//07220830_1829/07220830_1829_F0074.mid.gz\n",
      "The file is: /data/chocula/fritts/data/k100proc/midasraw/byseries//07220830_1829/07220830_1829_F0075.mid.gz\n",
      "\n",
      "Opened raw midas file: /data/chocula/fritts/data/k100proc/midasraw/byseries//07220830_1829/07220830_1829_F0075.mid.gz\n",
      "The file is: /data/chocula/fritts/data/k100proc/midasraw/byseries//07220830_1829/07220830_1829_F0076.mid.gz\n",
      "\n",
      "Opened raw midas file: /data/chocula/fritts/data/k100proc/midasraw/byseries//07220830_1829/07220830_1829_F0076.mid.gz\n",
      "The file is: /data/chocula/fritts/data/k100proc/midasraw/byseries//07220830_1829/07220830_1829_F0077.mid.gz\n",
      "\n",
      "Opened raw midas file: /data/chocula/fritts/data/k100proc/midasraw/byseries//07220830_1829/07220830_1829_F0077.mid.gz\n",
      "The file is: /data/chocula/fritts/data/k100proc/midasraw/byseries//07220830_1829/07220830_1829_F0078.mid.gz\n",
      "\n",
      "Opened raw midas file: /data/chocula/fritts/data/k100proc/midasraw/byseries//07220830_1829/07220830_1829_F0078.mid.gz\n",
      "The file is: /data/chocula/fritts/data/k100proc/midasraw/byseries//07220830_1829/07220830_1829_F0079.mid.gz\n",
      "\n",
      "Opened raw midas file: /data/chocula/fritts/data/k100proc/midasraw/byseries//07220830_1829/07220830_1829_F0079.mid.gz\n",
      "The file is: /data/chocula/fritts/data/k100proc/midasraw/byseries//07220830_1829/07220830_1829_F0080.mid.gz\n",
      "\n",
      "Opened raw midas file: /data/chocula/fritts/data/k100proc/midasraw/byseries//07220830_1829/07220830_1829_F0080.mid.gz\n",
      "The file is: /data/chocula/fritts/data/k100proc/midasraw/byseries//07220830_1829/07220830_1829_F0081.mid.gz\n",
      "\n",
      "Opened raw midas file: /data/chocula/fritts/data/k100proc/midasraw/byseries//07220830_1829/07220830_1829_F0081.mid.gz\n",
      "The file is: /data/chocula/fritts/data/k100proc/midasraw/byseries//07220830_1829/07220830_1829_F0082.mid.gz\n",
      "\n",
      "Opened raw midas file: /data/chocula/fritts/data/k100proc/midasraw/byseries//07220830_1829/07220830_1829_F0082.mid.gz\n",
      "The file is: /data/chocula/fritts/data/k100proc/midasraw/byseries//07220830_1829/07220830_1829_F0083.mid.gz\n",
      "\n",
      "Opened raw midas file: /data/chocula/fritts/data/k100proc/midasraw/byseries//07220830_1829/07220830_1829_F0083.mid.gz\n",
      "The file is: /data/chocula/fritts/data/k100proc/midasraw/byseries//07220830_1829/07220830_1829_F0084.mid.gz\n",
      "\n",
      "Opened raw midas file: /data/chocula/fritts/data/k100proc/midasraw/byseries//07220830_1829/07220830_1829_F0084.mid.gz\n",
      "The file is: /data/chocula/fritts/data/k100proc/midasraw/byseries//07220830_1829/07220830_1829_F0085.mid.gz\n",
      "\n",
      "Opened raw midas file: /data/chocula/fritts/data/k100proc/midasraw/byseries//07220830_1829/07220830_1829_F0085.mid.gz\n",
      "The file is: /data/chocula/fritts/data/k100proc/midasraw/byseries//07220830_1829/07220830_1829_F0086.mid.gz\n",
      "\n",
      "Opened raw midas file: /data/chocula/fritts/data/k100proc/midasraw/byseries//07220830_1829/07220830_1829_F0086.mid.gz\n",
      "The file is: /data/chocula/fritts/data/k100proc/midasraw/byseries//07220830_1829/07220830_1829_F0087.mid.gz\n",
      "\n",
      "Opened raw midas file: /data/chocula/fritts/data/k100proc/midasraw/byseries//07220830_1829/07220830_1829_F0087.mid.gz\n",
      "The file is: /data/chocula/fritts/data/k100proc/midasraw/byseries//07220830_1829/07220830_1829_F0088.mid.gz\n",
      "\n",
      "Opened raw midas file: /data/chocula/fritts/data/k100proc/midasraw/byseries//07220830_1829/07220830_1829_F0088.mid.gz\n",
      "The file is: /data/chocula/fritts/data/k100proc/midasraw/byseries//07220830_1829/07220830_1829_F0089.mid.gz\n",
      "\n",
      "Opened raw midas file: /data/chocula/fritts/data/k100proc/midasraw/byseries//07220830_1829/07220830_1829_F0089.mid.gz\n",
      "The file is: /data/chocula/fritts/data/k100proc/midasraw/byseries//07220830_1829/07220830_1829_F0090.mid.gz\n",
      "\n",
      "Opened raw midas file: /data/chocula/fritts/data/k100proc/midasraw/byseries//07220830_1829/07220830_1829_F0090.mid.gz\n",
      "The file is: /data/chocula/fritts/data/k100proc/midasraw/byseries//07220830_1829/07220830_1829_F0091.mid.gz\n",
      "\n",
      "Opened raw midas file: /data/chocula/fritts/data/k100proc/midasraw/byseries//07220830_1829/07220830_1829_F0091.mid.gz\n",
      "The file is: /data/chocula/fritts/data/k100proc/midasraw/byseries//07220830_1829/07220830_1829_F0092.mid.gz\n",
      "\n",
      "Opened raw midas file: /data/chocula/fritts/data/k100proc/midasraw/byseries//07220830_1829/07220830_1829_F0092.mid.gz\n",
      "The file is: /data/chocula/fritts/data/k100proc/midasraw/byseries//07220830_1829/07220830_1829_F0093.mid.gz\n",
      "\n",
      "Opened raw midas file: /data/chocula/fritts/data/k100proc/midasraw/byseries//07220830_1829/07220830_1829_F0093.mid.gz\n",
      "The file is: /data/chocula/fritts/data/k100proc/midasraw/byseries//07220830_1829/07220830_1829_F0094.mid.gz\n",
      "\n",
      "Opened raw midas file: /data/chocula/fritts/data/k100proc/midasraw/byseries//07220830_1829/07220830_1829_F0094.mid.gz\n",
      "The file is: /data/chocula/fritts/data/k100proc/midasraw/byseries//07220830_1829/07220830_1829_F0095.mid.gz\n",
      "\n",
      "Opened raw midas file: /data/chocula/fritts/data/k100proc/midasraw/byseries//07220830_1829/07220830_1829_F0095.mid.gz\n",
      "The file is: /data/chocula/fritts/data/k100proc/midasraw/byseries//07220830_1829/07220830_1829_F0096.mid.gz\n",
      "\n",
      "Opened raw midas file: /data/chocula/fritts/data/k100proc/midasraw/byseries//07220830_1829/07220830_1829_F0096.mid.gz\n",
      "The file is: /data/chocula/fritts/data/k100proc/midasraw/byseries//07220830_1829/07220830_1829_F0097.mid.gz\n",
      "\n",
      "Opened raw midas file: /data/chocula/fritts/data/k100proc/midasraw/byseries//07220830_1829/07220830_1829_F0097.mid.gz\n",
      "The file is: /data/chocula/fritts/data/k100proc/midasraw/byseries//07220830_1829/07220830_1829_F0098.mid.gz\n",
      "\n",
      "Opened raw midas file: /data/chocula/fritts/data/k100proc/midasraw/byseries//07220830_1829/07220830_1829_F0098.mid.gz\n",
      "The file is: /data/chocula/fritts/data/k100proc/midasraw/byseries//07220830_1829/07220830_1829_F0099.mid.gz\n",
      "\n",
      "Opened raw midas file: /data/chocula/fritts/data/k100proc/midasraw/byseries//07220830_1829/07220830_1829_F0099.mid.gz\n",
      "The file is: /data/chocula/fritts/data/k100proc/midasraw/byseries//07220830_1829/07220830_1829_F0100.mid.gz\n",
      "\n",
      "Opened raw midas file: /data/chocula/fritts/data/k100proc/midasraw/byseries//07220830_1829/07220830_1829_F0100.mid.gz\n",
      "The file is: /data/chocula/fritts/data/k100proc/midasraw/byseries//07220830_1829/07220830_1829_F0101.mid.gz\n",
      "\n",
      "Opened raw midas file: /data/chocula/fritts/data/k100proc/midasraw/byseries//07220830_1829/07220830_1829_F0101.mid.gz\n",
      "The file is: /data/chocula/fritts/data/k100proc/midasraw/byseries//07220830_1829/07220830_1829_F0102.mid.gz\n",
      "\n",
      "Opened raw midas file: /data/chocula/fritts/data/k100proc/midasraw/byseries//07220830_1829/07220830_1829_F0102.mid.gz\n",
      "The file is: /data/chocula/fritts/data/k100proc/midasraw/byseries//07220830_1829/07220830_1829_F0103.mid.gz\n",
      "\n",
      "Opened raw midas file: /data/chocula/fritts/data/k100proc/midasraw/byseries//07220830_1829/07220830_1829_F0103.mid.gz\n",
      "The file is: /data/chocula/fritts/data/k100proc/midasraw/byseries//07220830_1829/07220830_1829_F0104.mid.gz\n",
      "\n",
      "Opened raw midas file: /data/chocula/fritts/data/k100proc/midasraw/byseries//07220830_1829/07220830_1829_F0104.mid.gz\n",
      "The file is: /data/chocula/fritts/data/k100proc/midasraw/byseries//07220830_1829/07220830_1829_F0105.mid.gz\n",
      "\n",
      "Opened raw midas file: /data/chocula/fritts/data/k100proc/midasraw/byseries//07220830_1829/07220830_1829_F0105.mid.gz\n",
      "The file is: /data/chocula/fritts/data/k100proc/midasraw/byseries//07220830_1829/07220830_1829_F0106.mid.gz\n",
      "\n",
      "Opened raw midas file: /data/chocula/fritts/data/k100proc/midasraw/byseries//07220830_1829/07220830_1829_F0106.mid.gz\n",
      "The file is: /data/chocula/fritts/data/k100proc/midasraw/byseries//07220830_1829/07220830_1829_F0107.mid.gz\n",
      "\n",
      "Opened raw midas file: /data/chocula/fritts/data/k100proc/midasraw/byseries//07220830_1829/07220830_1829_F0107.mid.gz\n",
      "The file is: /data/chocula/fritts/data/k100proc/midasraw/byseries//07220830_1829/07220830_1829_F0108.mid.gz\n",
      "\n",
      "Opened raw midas file: /data/chocula/fritts/data/k100proc/midasraw/byseries//07220830_1829/07220830_1829_F0108.mid.gz\n",
      "The file is: /data/chocula/fritts/data/k100proc/midasraw/byseries//07220830_1829/07220830_1829_F0109.mid.gz\n",
      "\n",
      "Opened raw midas file: /data/chocula/fritts/data/k100proc/midasraw/byseries//07220830_1829/07220830_1829_F0109.mid.gz\n",
      "The file is: /data/chocula/fritts/data/k100proc/midasraw/byseries//07220830_1829/07220830_1829_F0110.mid.gz\n",
      "\n",
      "Opened raw midas file: /data/chocula/fritts/data/k100proc/midasraw/byseries//07220830_1829/07220830_1829_F0110.mid.gz\n",
      "The file is: /data/chocula/fritts/data/k100proc/midasraw/byseries//07220830_1829/07220830_1829_F0111.mid.gz\n",
      "\n",
      "Opened raw midas file: /data/chocula/fritts/data/k100proc/midasraw/byseries//07220830_1829/07220830_1829_F0111.mid.gz\n",
      "The file is: /data/chocula/fritts/data/k100proc/midasraw/byseries//07220830_1829/07220830_1829_F0112.mid.gz\n",
      "\n",
      "Opened raw midas file: /data/chocula/fritts/data/k100proc/midasraw/byseries//07220830_1829/07220830_1829_F0112.mid.gz\n",
      "The file is: /data/chocula/fritts/data/k100proc/midasraw/byseries//07220830_1829/07220830_1829_F0113.mid.gz\n",
      "\n",
      "Opened raw midas file: /data/chocula/fritts/data/k100proc/midasraw/byseries//07220830_1829/07220830_1829_F0113.mid.gz\n",
      "The file is: /data/chocula/fritts/data/k100proc/midasraw/byseries//07220830_1829/07220830_1829_F0114.mid.gz\n",
      "\n",
      "Opened raw midas file: /data/chocula/fritts/data/k100proc/midasraw/byseries//07220830_1829/07220830_1829_F0114.mid.gz\n",
      "The file is: /data/chocula/fritts/data/k100proc/midasraw/byseries//07220830_1829/07220830_1829_F0115.mid.gz\n",
      "\n",
      "Opened raw midas file: /data/chocula/fritts/data/k100proc/midasraw/byseries//07220830_1829/07220830_1829_F0115.mid.gz\n"
     ]
    }
   ],
   "source": [
    "events=io.getRawEvents(frittsdir+\"raw/\"+\"byseries/\"\n",
    "                       ,series)\n",
    " # 2 series of Tower 4 iZIP data at SLAC \n",
    "#frittsdir = '/data/chocula/fritts/data/k100proc/midasraw/byseries'\n",
    "#series_list = ['07220830_1829']\n",
    "#myreader = io.RawDataReader(filepath=frittsdir, series=series_list)\n",
    "#events = myreader.read_events(nb_events=62000, output_format=1,\n",
    "#                              skip_empty=True,\n",
    "#                              trigger_types =[1,2,3],\n",
    "#                              detector_nums = [2],\n",
    "#                              channel_names=['PA', 'PB','PC','PD'])"
   ]
  },
  {
   "cell_type": "code",
   "execution_count": 5,
   "metadata": {},
   "outputs": [
    {
     "data": {
      "text/plain": [
       "pandas.core.frame.DataFrame"
      ]
     },
     "execution_count": 5,
     "metadata": {},
     "output_type": "execute_result"
    }
   ],
   "source": [
    "type(events)"
   ]
  },
  {
   "cell_type": "code",
   "execution_count": 8,
   "metadata": {},
   "outputs": [
    {
     "name": "stdout",
     "output_type": "stream",
     "text": [
      "<class 'pandas.core.series.Series'>\n",
      "MultiIndex: 95555 entries, (72208301829, 10000) to (72208301829, 1130481)\n",
      "Series name: PA\n",
      "Non-Null Count  Dtype \n",
      "--------------  ----- \n",
      "95555 non-null  object\n",
      "dtypes: object(1)\n",
      "memory usage: 3.9+ MB\n"
     ]
    }
   ],
   "source": [
    "events['Z1']['PA'].info()"
   ]
  },
  {
   "cell_type": "code",
   "execution_count": 9,
   "metadata": {},
   "outputs": [
    {
     "name": "stdout",
     "output_type": "stream",
     "text": [
      "[3088 3090 3091 ... 3084 3083 3081]\n"
     ]
    }
   ],
   "source": [
    "print(events['Z1']['PA'][72208301829, 10000])"
   ]
  },
  {
   "cell_type": "code",
   "execution_count": 6,
   "metadata": {},
   "outputs": [
    {
     "ename": "SyntaxError",
     "evalue": "Missing parentheses in call to 'print'. Did you mean print(ev)? (846157106.py, line 2)",
     "output_type": "error",
     "traceback": [
      "\u001b[0;36m  Cell \u001b[0;32mIn[6], line 2\u001b[0;36m\u001b[0m\n\u001b[0;31m    print ev\u001b[0m\n\u001b[0m          ^\u001b[0m\n\u001b[0;31mSyntaxError\u001b[0m\u001b[0;31m:\u001b[0m Missing parentheses in call to 'print'. Did you mean print(ev)?\n"
     ]
    }
   ],
   "source": [
    "#for ev in events['Z1']['PA']:\n",
    "#    print ev"
   ]
  },
  {
   "cell_type": "code",
   "execution_count": 48,
   "metadata": {},
   "outputs": [
    {
     "name": "stdout",
     "output_type": "stream",
     "text": [
      "RangeIndex(start=0, stop=0, step=1)\n"
     ]
    },
    {
     "ename": "KeyError",
     "evalue": "'Z4'",
     "output_type": "error",
     "traceback": [
      "\u001b[0;31m---------------------------------------------------------------------------\u001b[0m",
      "\u001b[0;31mKeyError\u001b[0m                                  Traceback (most recent call last)",
      "Cell \u001b[0;32mIn[48], line 3\u001b[0m\n\u001b[1;32m      1\u001b[0m \u001b[38;5;28;01mfrom\u001b[39;00m \u001b[38;5;21;01mpprint\u001b[39;00m \u001b[38;5;28;01mimport\u001b[39;00m pprint\n\u001b[1;32m      2\u001b[0m \u001b[38;5;28mprint\u001b[39m(events\u001b[38;5;241m.\u001b[39mkeys())\n\u001b[0;32m----> 3\u001b[0m \u001b[38;5;28mprint\u001b[39m(np\u001b[38;5;241m.\u001b[39mshape(\u001b[43mevents\u001b[49m\u001b[43m[\u001b[49m\u001b[38;5;124;43m'\u001b[39;49m\u001b[38;5;124;43mZ4\u001b[39;49m\u001b[38;5;124;43m'\u001b[39;49m\u001b[43m]\u001b[49m[\u001b[38;5;124m'\u001b[39m\u001b[38;5;124mPA\u001b[39m\u001b[38;5;124m'\u001b[39m]))\n\u001b[1;32m      4\u001b[0m \u001b[38;5;28mprint\u001b[39m(np\u001b[38;5;241m.\u001b[39mshape(np\u001b[38;5;241m.\u001b[39masarray(events[\u001b[38;5;124m'\u001b[39m\u001b[38;5;124mZ4\u001b[39m\u001b[38;5;124m'\u001b[39m][\u001b[38;5;124m'\u001b[39m\u001b[38;5;124mPA\u001b[39m\u001b[38;5;124m'\u001b[39m])))\n\u001b[1;32m      5\u001b[0m pprint(events[\u001b[38;5;124m'\u001b[39m\u001b[38;5;124mZ1\u001b[39m\u001b[38;5;124m'\u001b[39m][\u001b[38;5;124m'\u001b[39m\u001b[38;5;124mPA\u001b[39m\u001b[38;5;124m'\u001b[39m])\n",
      "File \u001b[0;32m/usr/local/lib/python3.8/dist-packages/pandas/core/frame.py:3761\u001b[0m, in \u001b[0;36mDataFrame.__getitem__\u001b[0;34m(self, key)\u001b[0m\n\u001b[1;32m   3759\u001b[0m \u001b[38;5;28;01mif\u001b[39;00m \u001b[38;5;28mself\u001b[39m\u001b[38;5;241m.\u001b[39mcolumns\u001b[38;5;241m.\u001b[39mnlevels \u001b[38;5;241m>\u001b[39m \u001b[38;5;241m1\u001b[39m:\n\u001b[1;32m   3760\u001b[0m     \u001b[38;5;28;01mreturn\u001b[39;00m \u001b[38;5;28mself\u001b[39m\u001b[38;5;241m.\u001b[39m_getitem_multilevel(key)\n\u001b[0;32m-> 3761\u001b[0m indexer \u001b[38;5;241m=\u001b[39m \u001b[38;5;28;43mself\u001b[39;49m\u001b[38;5;241;43m.\u001b[39;49m\u001b[43mcolumns\u001b[49m\u001b[38;5;241;43m.\u001b[39;49m\u001b[43mget_loc\u001b[49m\u001b[43m(\u001b[49m\u001b[43mkey\u001b[49m\u001b[43m)\u001b[49m\n\u001b[1;32m   3762\u001b[0m \u001b[38;5;28;01mif\u001b[39;00m is_integer(indexer):\n\u001b[1;32m   3763\u001b[0m     indexer \u001b[38;5;241m=\u001b[39m [indexer]\n",
      "File \u001b[0;32m/usr/local/lib/python3.8/dist-packages/pandas/core/indexes/range.py:349\u001b[0m, in \u001b[0;36mRangeIndex.get_loc\u001b[0;34m(self, key)\u001b[0m\n\u001b[1;32m    347\u001b[0m         \u001b[38;5;28;01mraise\u001b[39;00m \u001b[38;5;167;01mKeyError\u001b[39;00m(key) \u001b[38;5;28;01mfrom\u001b[39;00m \u001b[38;5;21;01merr\u001b[39;00m\n\u001b[1;32m    348\u001b[0m \u001b[38;5;28;01mif\u001b[39;00m \u001b[38;5;28misinstance\u001b[39m(key, Hashable):\n\u001b[0;32m--> 349\u001b[0m     \u001b[38;5;28;01mraise\u001b[39;00m \u001b[38;5;167;01mKeyError\u001b[39;00m(key)\n\u001b[1;32m    350\u001b[0m \u001b[38;5;28mself\u001b[39m\u001b[38;5;241m.\u001b[39m_check_indexing_error(key)\n\u001b[1;32m    351\u001b[0m \u001b[38;5;28;01mraise\u001b[39;00m \u001b[38;5;167;01mKeyError\u001b[39;00m(key)\n",
      "\u001b[0;31mKeyError\u001b[0m: 'Z4'"
     ]
    }
   ],
   "source": [
    "#from pprint import pprint\n",
    "#print(events.keys())\n",
    "#print(np.shape(events['Z4']['PA']))\n",
    "#print(np.shape(np.asarray(events['Z4']['PA'])))\n",
    "#pprint(events['Z1']['PA'])"
   ]
  },
  {
   "cell_type": "code",
   "execution_count": 10,
   "metadata": {},
   "outputs": [
    {
     "name": "stdout",
     "output_type": "stream",
     "text": [
      "MultiIndex([('Z1', 'QI'),\n",
      "            ('Z1', 'QO'),\n",
      "            ('Z1', 'PA'),\n",
      "            ('Z1', 'PB'),\n",
      "            ('Z1', 'PC'),\n",
      "            ('Z1', 'PD'),\n",
      "            ('Z3', 'QI'),\n",
      "            ('Z3', 'QO'),\n",
      "            ('Z3', 'PA'),\n",
      "            ('Z3', 'PB'),\n",
      "            ('Z3', 'PC'),\n",
      "            ('Z3', 'PD'),\n",
      "            ('Z4', 'QI'),\n",
      "            ('Z4', 'QO'),\n",
      "            ('Z4', 'PA'),\n",
      "            ('Z4', 'PB'),\n",
      "            ('Z4', 'PC'),\n",
      "            ('Z4', 'PD')],\n",
      "           )\n"
     ]
    }
   ],
   "source": [
    "print(events.keys())"
   ]
  },
  {
   "cell_type": "code",
   "execution_count": 15,
   "metadata": {},
   "outputs": [
    {
     "data": {
      "image/png": "[encoded data removed]",
      "text/plain": [
       "<Figure size 640x480 with 3 Axes>"
      ]
     },
     "metadata": {},
     "output_type": "display_data"
    }
   ],
   "source": [
    "channels=['PA','PB','PC']\n",
    "\n",
    "fig = plt.figure()\n",
    "fig.subplots_adjust(hspace=0.7, wspace=0.5)\n",
    "\n",
    "for j,channel in enumerate(channels):\n",
    "    plt.subplot(2,3,j+1)\n",
    "    plt.plot(events['Z1'][channel][72208301829, 620687]) # index 0 corresponds to first event\n",
    "    plt.title(channel)\n",
    "    plt.xlabel('Bin')\n",
    "    plt.ylabel('Trace amplitude')\n",
    "\n",
    "plt.suptitle('Event 1500 on All Z1 Channels')\n",
    "plt.show()"
   ]
  },
  {
   "cell_type": "code",
   "execution_count": null,
   "metadata": {},
   "outputs": [],
   "source": [
    "channels2=['PB','PC','PD']\n",
    "\n",
    "fig = plt.figure()\n",
    "fig.subplots_adjust(hspace=0.7, wspace=0.5)\n",
    "\n",
    "for j,channel in enumerate(channels2):\n",
    "    plt.subplot(2,3,j+1)\n",
    "    plt.plot(events.Z3[channel][1500]) # index 0 corresponds to first event\n",
    "    plt.title(channel)\n",
    "    plt.xlabel('Bin')\n",
    "    plt.ylabel('Trace amplitude')\n",
    "\n",
    "plt.suptitle('Event 1500 on All Z3 Channels')\n",
    "plt.show()"
   ]
  },
  {
   "cell_type": "code",
   "execution_count": null,
   "metadata": {},
   "outputs": [],
   "source": [
    "channels2=['PA','PB']\n",
    "\n",
    "fig = plt.figure()\n",
    "fig.subplots_adjust(hspace=0.7, wspace=0.5)\n",
    "\n",
    "for j,channel in enumerate(channels2):\n",
    "    plt.subplot(2,3,j+1)\n",
    "    plt.plot(events.Z4[channel][1500]) # index 0 corresponds to first event\n",
    "    plt.title(channel)\n",
    "    plt.xlabel('Bin')\n",
    "    plt.ylabel('Trace amplitude')\n",
    "\n",
    "plt.suptitle('Event 1500 on All Z4 Channels')\n",
    "plt.show()"
   ]
  },
  {
   "cell_type": "code",
   "execution_count": null,
   "metadata": {},
   "outputs": [],
   "source": [
    "plt.figure()\n",
    "\n",
    "for j in range(1499,1505):\n",
    "    plt.plot(events.Z1.PA[j]) # iterate over the first 20 events\n",
    "\n",
    "plt.title('6 Sample Events on Z1PA')\n",
    "plt.show()"
   ]
  },
  {
   "cell_type": "code",
   "execution_count": null,
   "metadata": {},
   "outputs": [],
   "source": [
    "events['Z1']['PA'][0]"
   ]
  },
  {
   "cell_type": "code",
   "execution_count": null,
   "metadata": {},
   "outputs": [],
   "source": [
    "zips=['Z1','Z3']\n",
    "channels=['PA','PB','PC','PD']\n",
    "\n",
    "fig = plt.figure()\n",
    "fig.subplots_adjust(hspace=0.7, wspace=0.5)\n",
    "for i,zips in enumerate(zips):\n",
    "    plt.subplot(2,3,i+1) \n",
    "    for j,channel in enumerate(channels):\n",
    "        plt.subplot(2,3,j+1)\n",
    "        plt.plot(events[zips][channel][1500],label=zips) # index 0 corresponds to first event\n",
    "        plt.title(channel)\n",
    "        plt.xlabel('Bin')\n",
    "        plt.ylabel('Trace amplitude')\n",
    "\n",
    "plt.suptitle('event 1500 on All Channels')\n",
    "plt.legend()\n",
    "plt.show()"
   ]
  },
  {
   "cell_type": "code",
   "execution_count": null,
   "metadata": {},
   "outputs": [],
   "source": [
    "#Re-map events to actual channels\n",
    "zips=['Z1','Z3']\n",
    "channels=['PA','PB','PC','PD']\n",
    "\n",
    "for zips in (zips):\n",
    "    for channels in (channels):\n",
    "        for i in (events[zips][channels]):\n",
    "            if zips=='Z1':\n",
    "                if channels=='PA':\n",
    "                    eventsMap['PE'][i]=dict()\n",
    "                    eventsMap['PE'][i].append(events[zips][channels][i])\n",
    "                elif channels=='PB':\n",
    "                    eventsMap['PB'][i]=dict()\n",
    "                    eventsMap['PB'][i].append(events[zips][channels][i])\n",
    "                elif channels=='PC':\n",
    "                    eventsMap['PD'][i]=dict()\n",
    "                    eventsMap['PD'][i].append(events[zips][channels][i])\n",
    "            elif zips=='Z3':\n",
    "                if channels=='PB':\n",
    "                    eventsMap['PA'][i]=dict()\n",
    "                    eventsMap['PA'][i].append(events[zips][channels][i])\n",
    "                elif channels=='PC':\n",
    "                    eventsMap['PC'][i]=dict()\n",
    "                    eventsMap['PC'][i].append(events[zips][channels][i])\n",
    "                elif channels=='PD':\n",
    "                    eventsMap['PF'][i]=dict()\n",
    "                    eventsMap['PF'][i].append(events[zips][channels][i])"
   ]
  },
  {
   "cell_type": "code",
   "execution_count": null,
   "metadata": {},
   "outputs": [],
   "source": [
    "eventsMap['PA']"
   ]
  },
  {
   "cell_type": "code",
   "execution_count": null,
   "metadata": {},
   "outputs": [],
   "source": [
    "for j,channel in enumerate(detchan):\n",
    "        plt.subplot(2,3,j+1)\n",
    "        plt.plot(eventsMap[channel][1500]) # index 0 corresponds to first event\n",
    "        plt.title(channel)\n",
    "        plt.xlabel('Bin')\n",
    "        plt.ylabel('Trace amplitude')\n",
    "\n",
    "plt.suptitle('Event 1500 on All Channels')\n",
    "plt.legend()\n",
    "plt.show()"
   ]
  },
  {
   "cell_type": "code",
   "execution_count": null,
   "metadata": {},
   "outputs": [],
   "source": [
    "RQ[1].allkeys()"
   ]
  },
  {
   "cell_type": "code",
   "execution_count": null,
   "metadata": {},
   "outputs": [],
   "source": [
    "PTOFamps=[]\n",
    "for i in range(1,10):\n",
    "    PTOFamps.extend(RQ[i]['rqDir/zip1']['PTOFamps'].array()[RQ[i]['rqDir/eventTree']['EventCategory'].array()==0])"
   ]
  },
  {
   "cell_type": "code",
   "execution_count": null,
   "metadata": {},
   "outputs": [],
   "source": [
    "for i in range(11,20):\n",
    "    PTOFamps.extend(RQ[i]['rqDir/zip1']['PTOFamps'].array()[RQ[i]['rqDir/eventTree']['EventCategory'].array()==0])"
   ]
  },
  {
   "cell_type": "code",
   "execution_count": null,
   "metadata": {},
   "outputs": [],
   "source": [
    "for i in range(21,29):\n",
    "    PTOFamps.extend(RQ[i]['rqDir/zip1']['PTOFamps'].array()[RQ[i]['rqDir/eventTree']['EventCategory'].array()==0])"
   ]
  },
  {
   "cell_type": "code",
   "execution_count": null,
   "metadata": {},
   "outputs": [],
   "source": [
    "plt.hist(PTOFamps,bins=100,range=[1e-8,1e-6])\n",
    "plt.yscale('log')\n",
    "\n",
    "plt.ticklabel_format(axis=\"x\", style=\"sci\", scilimits=(0,0))"
   ]
  },
  {
   "cell_type": "code",
   "execution_count": null,
   "metadata": {},
   "outputs": [],
   "source": [
    "PFS1OFamps=[]\n",
    "for i in range(1,10):\n",
    "    PFS1OFamps.extend(RQ[i]['rqDir/zip1']['PFS1OFamps'].array()[RQ[i]['rqDir/eventTree']['EventCategory'].array()==0])"
   ]
  },
  {
   "cell_type": "code",
   "execution_count": null,
   "metadata": {},
   "outputs": [],
   "source": [
    "for i in range(11,20):\n",
    "    PFS1OFamps.extend(RQ[i]['rqDir/zip1']['PFS1OFamps'].array()[RQ[i]['rqDir/eventTree']['EventCategory'].array()==0])"
   ]
  },
  {
   "cell_type": "code",
   "execution_count": null,
   "metadata": {},
   "outputs": [],
   "source": [
    "for i in range(21,29):\n",
    "    PFS1OFamps.extend(RQ[i]['rqDir/zip1']['PFS1OFamps'].array()[RQ[i]['rqDir/eventTree']['EventCategory'].array()==0])"
   ]
  },
  {
   "cell_type": "code",
   "execution_count": null,
   "metadata": {},
   "outputs": [],
   "source": [
    "plt.hist(PFS1OFamps,bins=100,range=[0,1e-6])\n",
    "plt.yscale('log')\n",
    "\n",
    "plt.ticklabel_format(axis=\"x\", style=\"sci\", scilimits=(0,0))"
   ]
  },
  {
   "cell_type": "code",
   "execution_count": null,
   "metadata": {},
   "outputs": [],
   "source": [
    "PFS2OFamps=[]\n",
    "for i in range(1,10):\n",
    "    PFS2OFamps.extend(RQ[i]['rqDir/zip1']['PFS2OFamps'].array()[RQ[i]['rqDir/eventTree']['EventCategory'].array()==0])"
   ]
  },
  {
   "cell_type": "code",
   "execution_count": null,
   "metadata": {},
   "outputs": [],
   "source": [
    "for i in range(11,20):\n",
    "    PFS2OFamps.extend(RQ[i]['rqDir/zip1']['PFS2OFamps'].array()[RQ[i]['rqDir/eventTree']['EventCategory'].array()==0])"
   ]
  },
  {
   "cell_type": "code",
   "execution_count": null,
   "metadata": {},
   "outputs": [],
   "source": [
    "for i in range(21,29):\n",
    "    PFS2OFamps.extend(RQ[i]['rqDir/zip1']['PFS2OFamps'].array()[RQ[i]['rqDir/eventTree']['EventCategory'].array()==0])"
   ]
  },
  {
   "cell_type": "code",
   "execution_count": null,
   "metadata": {},
   "outputs": [],
   "source": [
    "plt.hist(PFS2OFamps,bins=100,range=[0,1e-6])\n",
    "plt.yscale('log')\n",
    "\n",
    "plt.ticklabel_format(axis=\"x\", style=\"sci\", scilimits=(0,0))"
   ]
  },
  {
   "cell_type": "code",
   "execution_count": null,
   "metadata": {},
   "outputs": [],
   "source": []
  }
 ],
 "metadata": {
  "kernelspec": {
   "display_name": "Python 3 (ipykernel)",
   "language": "python",
   "name": "python3"
  },
  "language_info": {
   "codemirror_mode": {
    "name": "ipython",
    "version": 3
   },
   "file_extension": ".py",
   "mimetype": "text/x-python",
   "name": "python",
   "nbconvert_exporter": "python",
   "pygments_lexer": "ipython3",
   "version": "3.8.10"
  }
 },
 "nbformat": 4,
 "nbformat_minor": 4
}
