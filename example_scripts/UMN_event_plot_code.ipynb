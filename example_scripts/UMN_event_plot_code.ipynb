{
 "cells": [
  {
   "cell_type": "code",
   "execution_count": 1,
   "metadata": {},
   "outputs": [
    {
     "name": "stdout",
     "output_type": "stream",
     "text": [
      "Welcome to JupyROOT 6.24/06\n"
     ]
    }
   ],
   "source": [
    "#Imports\n",
    "import numpy as np\n",
    "import matplotlib.pyplot as plt\n",
    "import rawio.IO as io #will import at all?\n",
    "import glob, pickle, os, sys, uproot, sys\n",
    "#import joblib\n",
    "#from tqdm import tqdm_notebook\n",
    "from scdmsPyTools.Traces.Filtering import *\n",
    "from scdmsPyTools.Traces.Noise import *\n",
    "from scdmsPyTools.TES.Templates import *\n",
    "from scdmsPyTools.Traces.Stats import *\n",
    "#from scdmsPyTools.BatTools.IO import *\n",
    "from rawio import IO\n",
    "from ROOT import TCanvas, TGraph, gStyle, TH1F\n",
    "#from ROOT import TF1\n",
    "import uproot"
   ]
  },
  {
   "cell_type": "code",
   "execution_count": 2,
   "metadata": {},
   "outputs": [],
   "source": [
    "#Constants\n",
    "#procdir = \"/gpfs/slac/staas/fs1/g/supercdms/tf/nexus/midasdata/NEXUS/R7/processed/auto_proc/OFResults_\"\n",
    "#procdir = \"/gpfs/slac/staas/fs1/g/supercdms/tf/nexus/midasdata/NEXUS/R7/processed/master_releases/v2.0.0/OFResults_\"\n",
    "gpfdir = \"/gpfs/slac/staas/fs1/g/supercdms/tf/umn/raw/\"\n",
    "#procdir = \"/gpfs/slac/staas/fs1/g/supercdms/tf/umn/rq/\"\n",
    "frittsdir = \"/data/chocula/fritts/data/k100proc/midas\"\n",
    "\n",
    "#72208301829\n",
    "series='07181007_1415'\n",
    "series='07220830_2118'\n",
    "procseries='07191122_0915/'"
   ]
  },
  {
   "cell_type": "code",
   "execution_count": 3,
   "metadata": {},
   "outputs": [
    {
     "name": "stdout",
     "output_type": "stream",
     "text": [
      "/data/chocula/fritts/data/k100proc/midasraw/byseries\n"
     ]
    }
   ],
   "source": [
    "print(frittsdir+\"raw/\"+\"byseries\")"
   ]
  },
  {
   "cell_type": "code",
   "execution_count": null,
   "metadata": {},
   "outputs": [],
   "source": [
    "events=io.getRawEvents(frittsdir+\"raw/\"+\"byseries/\"\n",
    "                       ,series)\n",
    " # 2 series of Tower 4 iZIP data at SLAC \n",
    "#frittsdir = '/data/chocula/fritts/data/k100proc/midasraw/byseries'\n",
    "#series_list = ['07220830_1829']\n",
    "#myreader = io.RawDataReader(filepath=frittsdir, series=series_list)\n",
    "#events = myreader.read_events(nb_events=62000, output_format=1,\n",
    "#                              skip_empty=True,\n",
    "#                              trigger_types =[1,2,3],\n",
    "#                              detector_nums = [2],\n",
    "#                              channel_names=['PA', 'PB','PC','PD'])"
   ]
  },
  {
   "cell_type": "code",
   "execution_count": null,
   "metadata": {},
   "outputs": [],
   "source": [
    "type(events)"
   ]
  },
  {
   "cell_type": "code",
   "execution_count": null,
   "metadata": {},
   "outputs": [],
   "source": [
    "events['Z1']['PA'].info()"
   ]
  },
  {
   "cell_type": "code",
   "execution_count": null,
   "metadata": {},
   "outputs": [],
   "source": [
    "print(events['Z1']['PA'][72208301829, 10000])"
   ]
  },
  {
   "cell_type": "code",
   "execution_count": null,
   "metadata": {},
   "outputs": [],
   "source": [
    "#for ev in events['Z1']['PA']:\n",
    "#    print ev"
   ]
  },
  {
   "cell_type": "code",
   "execution_count": null,
   "metadata": {},
   "outputs": [],
   "source": [
    "#from pprint import pprint\n",
    "#print(events.keys())\n",
    "#print(np.shape(events['Z4']['PA']))\n",
    "#print(np.shape(np.asarray(events['Z4']['PA'])))\n",
    "#pprint(events['Z1']['PA'])"
   ]
  },
  {
   "cell_type": "code",
   "execution_count": null,
   "metadata": {},
   "outputs": [],
   "source": [
    "print(events.keys())"
   ]
  },
  {
   "cell_type": "code",
   "execution_count": null,
   "metadata": {},
   "outputs": [],
   "source": [
    "channels=['PA','PB','PD']\n",
    "\n",
    "fig = plt.figure()\n",
    "fig.subplots_adjust(hspace=0.7, wspace=0.5)\n",
    "\n",
    "for j,channel in enumerate(channels):\n",
    "    plt.subplot(2,3,j+1)\n",
    "    plt.plot(events['Z1'][channel][72208302118, 70193]) # index 0 corresponds to first event\n",
    "    plt.title(channel)\n",
    "    plt.xlabel('Bin')\n",
    "    plt.ylabel('Trace amplitude')\n",
    "\n",
    "plt.suptitle('Event 1500 on All Z1 Channels')\n",
    "plt.show()"
   ]
  },
  {
   "cell_type": "code",
   "execution_count": null,
   "metadata": {},
   "outputs": [],
   "source": [
    "channels2=['PA','PB','PD']\n",
    "\n",
    "fig = plt.figure()\n",
    "fig.subplots_adjust(hspace=0.7, wspace=0.5)\n",
    "\n",
    "for j,channel in enumerate(channels2):\n",
    "    plt.subplot(2,3,j+1)\n",
    "    plt.plot(events.Z3[channel][72208302118, 70193]) # index 0 corresponds to first event\n",
    "    plt.title(channel)\n",
    "    plt.xlabel('Bin')\n",
    "    plt.ylabel('Trace amplitude')\n",
    "\n",
    "plt.suptitle('Event 1500 on All Z3 Channels')\n",
    "plt.show()"
   ]
  },
  {
   "cell_type": "code",
   "execution_count": null,
   "metadata": {},
   "outputs": [],
   "source": [
    "channels2=['PA','PB']\n",
    "\n",
    "fig = plt.figure()\n",
    "fig.subplots_adjust(hspace=0.7, wspace=0.5)\n",
    "\n",
    "for j,channel in enumerate(channels2):\n",
    "    plt.subplot(2,3,j+1)\n",
    "    plt.plot(events.Z4[channel][72208302118, 70193]) # index 0 corresponds to first event\n",
    "    plt.title(channel)\n",
    "    plt.xlabel('Bin')\n",
    "    plt.ylabel('Trace amplitude')\n",
    "\n",
    "plt.suptitle('Event 1500 on All Z4 Channels')\n",
    "plt.show()"
   ]
  },
  {
   "cell_type": "code",
   "execution_count": null,
   "metadata": {},
   "outputs": [],
   "source": [
    "plt.figure()\n",
    "\n",
    "for j in range(1499,1505):\n",
    "    plt.plot(events.Z1.PA[j]) # iterate over the first 20 events\n",
    "\n",
    "plt.title('6 Sample Events on Z1PA')\n",
    "plt.show()"
   ]
  },
  {
   "cell_type": "code",
   "execution_count": null,
   "metadata": {},
   "outputs": [],
   "source": [
    "events['Z1']['PA'][0]"
   ]
  },
  {
   "cell_type": "code",
   "execution_count": null,
   "metadata": {},
   "outputs": [],
   "source": [
    "zips=['Z1','Z3']\n",
    "channels=['PA','PB','PC','PD']\n",
    "\n",
    "fig = plt.figure()\n",
    "fig.subplots_adjust(hspace=0.7, wspace=0.5)\n",
    "for i,zips in enumerate(zips):\n",
    "    plt.subplot(2,3,i+1) \n",
    "    for j,channel in enumerate(channels):\n",
    "        plt.subplot(2,3,j+1)\n",
    "        plt.plot(events[zips][channel][1500],label=zips) # index 0 corresponds to first event\n",
    "        plt.title(channel)\n",
    "        plt.xlabel('Bin')\n",
    "        plt.ylabel('Trace amplitude')\n",
    "\n",
    "plt.suptitle('event 1500 on All Channels')\n",
    "plt.legend()\n",
    "plt.show()"
   ]
  },
  {
   "cell_type": "code",
   "execution_count": null,
   "metadata": {},
   "outputs": [],
   "source": [
    "#Re-map events to actual channels\n",
    "zips=['Z1','Z3']\n",
    "channels=['PA','PB','PC','PD']\n",
    "\n",
    "for zips in (zips):\n",
    "    for channels in (channels):\n",
    "        for i in (events[zips][channels]):\n",
    "            if zips=='Z1':\n",
    "                if channels=='PA':\n",
    "                    eventsMap['PE'][i]=dict()\n",
    "                    eventsMap['PE'][i].append(events[zips][channels][i])\n",
    "                elif channels=='PB':\n",
    "                    eventsMap['PB'][i]=dict()\n",
    "                    eventsMap['PB'][i].append(events[zips][channels][i])\n",
    "                elif channels=='PC':\n",
    "                    eventsMap['PD'][i]=dict()\n",
    "                    eventsMap['PD'][i].append(events[zips][channels][i])\n",
    "            elif zips=='Z3':\n",
    "                if channels=='PB':\n",
    "                    eventsMap['PA'][i]=dict()\n",
    "                    eventsMap['PA'][i].append(events[zips][channels][i])\n",
    "                elif channels=='PC':\n",
    "                    eventsMap['PC'][i]=dict()\n",
    "                    eventsMap['PC'][i].append(events[zips][channels][i])\n",
    "                elif channels=='PD':\n",
    "                    eventsMap['PF'][i]=dict()\n",
    "                    eventsMap['PF'][i].append(events[zips][channels][i])"
   ]
  },
  {
   "cell_type": "code",
   "execution_count": null,
   "metadata": {},
   "outputs": [],
   "source": [
    "eventsMap['PA']"
   ]
  },
  {
   "cell_type": "code",
   "execution_count": null,
   "metadata": {},
   "outputs": [],
   "source": [
    "for j,channel in enumerate(detchan):\n",
    "        plt.subplot(2,3,j+1)\n",
    "        plt.plot(eventsMap[channel][1500]) # index 0 corresponds to first event\n",
    "        plt.title(channel)\n",
    "        plt.xlabel('Bin')\n",
    "        plt.ylabel('Trace amplitude')\n",
    "\n",
    "plt.suptitle('Event 1500 on All Channels')\n",
    "plt.legend()\n",
    "plt.show()"
   ]
  },
  {
   "cell_type": "code",
   "execution_count": null,
   "metadata": {},
   "outputs": [],
   "source": [
    "RQ[1].allkeys()"
   ]
  },
  {
   "cell_type": "code",
   "execution_count": null,
   "metadata": {},
   "outputs": [],
   "source": [
    "PTOFamps=[]\n",
    "for i in range(1,10):\n",
    "    PTOFamps.extend(RQ[i]['rqDir/zip1']['PTOFamps'].array()[RQ[i]['rqDir/eventTree']['EventCategory'].array()==0])"
   ]
  },
  {
   "cell_type": "code",
   "execution_count": null,
   "metadata": {},
   "outputs": [],
   "source": [
    "for i in range(11,20):\n",
    "    PTOFamps.extend(RQ[i]['rqDir/zip1']['PTOFamps'].array()[RQ[i]['rqDir/eventTree']['EventCategory'].array()==0])"
   ]
  },
  {
   "cell_type": "code",
   "execution_count": null,
   "metadata": {},
   "outputs": [],
   "source": [
    "for i in range(21,29):\n",
    "    PTOFamps.extend(RQ[i]['rqDir/zip1']['PTOFamps'].array()[RQ[i]['rqDir/eventTree']['EventCategory'].array()==0])"
   ]
  },
  {
   "cell_type": "code",
   "execution_count": null,
   "metadata": {},
   "outputs": [],
   "source": [
    "plt.hist(PTOFamps,bins=100,range=[1e-8,1e-6])\n",
    "plt.yscale('log')\n",
    "\n",
    "plt.ticklabel_format(axis=\"x\", style=\"sci\", scilimits=(0,0))"
   ]
  },
  {
   "cell_type": "code",
   "execution_count": null,
   "metadata": {},
   "outputs": [],
   "source": [
    "PFS1OFamps=[]\n",
    "for i in range(1,10):\n",
    "    PFS1OFamps.extend(RQ[i]['rqDir/zip1']['PFS1OFamps'].array()[RQ[i]['rqDir/eventTree']['EventCategory'].array()==0])"
   ]
  },
  {
   "cell_type": "code",
   "execution_count": null,
   "metadata": {},
   "outputs": [],
   "source": [
    "for i in range(11,20):\n",
    "    PFS1OFamps.extend(RQ[i]['rqDir/zip1']['PFS1OFamps'].array()[RQ[i]['rqDir/eventTree']['EventCategory'].array()==0])"
   ]
  },
  {
   "cell_type": "code",
   "execution_count": null,
   "metadata": {},
   "outputs": [],
   "source": [
    "for i in range(21,29):\n",
    "    PFS1OFamps.extend(RQ[i]['rqDir/zip1']['PFS1OFamps'].array()[RQ[i]['rqDir/eventTree']['EventCategory'].array()==0])"
   ]
  },
  {
   "cell_type": "code",
   "execution_count": null,
   "metadata": {},
   "outputs": [],
   "source": [
    "plt.hist(PFS1OFamps,bins=100,range=[0,1e-6])\n",
    "plt.yscale('log')\n",
    "\n",
    "plt.ticklabel_format(axis=\"x\", style=\"sci\", scilimits=(0,0))"
   ]
  },
  {
   "cell_type": "code",
   "execution_count": null,
   "metadata": {},
   "outputs": [],
   "source": [
    "PFS2OFamps=[]\n",
    "for i in range(1,10):\n",
    "    PFS2OFamps.extend(RQ[i]['rqDir/zip1']['PFS2OFamps'].array()[RQ[i]['rqDir/eventTree']['EventCategory'].array()==0])"
   ]
  },
  {
   "cell_type": "code",
   "execution_count": null,
   "metadata": {},
   "outputs": [],
   "source": [
    "for i in range(11,20):\n",
    "    PFS2OFamps.extend(RQ[i]['rqDir/zip1']['PFS2OFamps'].array()[RQ[i]['rqDir/eventTree']['EventCategory'].array()==0])"
   ]
  },
  {
   "cell_type": "code",
   "execution_count": null,
   "metadata": {},
   "outputs": [],
   "source": [
    "for i in range(21,29):\n",
    "    PFS2OFamps.extend(RQ[i]['rqDir/zip1']['PFS2OFamps'].array()[RQ[i]['rqDir/eventTree']['EventCategory'].array()==0])"
   ]
  },
  {
   "cell_type": "code",
   "execution_count": null,
   "metadata": {},
   "outputs": [],
   "source": [
    "plt.hist(PFS2OFamps,bins=100,range=[0,1e-6])\n",
    "plt.yscale('log')\n",
    "\n",
    "plt.ticklabel_format(axis=\"x\", style=\"sci\", scilimits=(0,0))"
   ]
  },
  {
   "cell_type": "code",
   "execution_count": null,
   "metadata": {},
   "outputs": [],
   "source": []
  }
 ],
 "metadata": {
  "kernelspec": {
   "display_name": "Python 3 (ipykernel)",
   "language": "python",
   "name": "python3"
  },
  "language_info": {
   "codemirror_mode": {
    "name": "ipython",
    "version": 3
   },
   "file_extension": ".py",
   "mimetype": "text/x-python",
   "name": "python",
   "nbconvert_exporter": "python",
   "pygments_lexer": "ipython3",
   "version": "3.8.10"
  }
 },
 "nbformat": 4,
 "nbformat_minor": 4
}
