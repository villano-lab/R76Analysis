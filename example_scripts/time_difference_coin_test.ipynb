{
 "cells": [
  {
   "cell_type": "code",
   "execution_count": 1,
   "id": "13407f3c-a8f1-4bc2-b6f9-af6a62859052",
   "metadata": {},
   "outputs": [
    {
     "name": "stdout",
     "output_type": "stream",
     "text": [
      "82 0:43:46 0:20:25\n",
      "71 0:49:39 0:40:42\n",
      "17 0:35:33 0:02:40\n",
      "6 0:01:35 0:30:55\n",
      "3 0:41:10 0:13:10\n"
     ]
    }
   ],
   "source": [
    "import random\n",
    "from datetime import datetime, timedelta\n",
    "\n",
    "# Define the start time\n",
    "start_time = datetime(2022, 1, 1, 0, 0, 0)\n",
    "\n",
    "# Generate a list of 100 sequential timestamps with random separation\n",
    "timestamps = []\n",
    "current_time = start_time\n",
    "\n",
    "for _ in range(100):\n",
    "    random_duration = timedelta(seconds=random.randint(1, 3600))  # Random duration between 1 and 3600 seconds (1 hour)\n",
    "    current_time += random_duration\n",
    "    timestamps.append(current_time)\n",
    "\n",
    "time_differences = [timestamps[i] - timestamps[i - 1] for i in range(1, len(timestamps))]\n",
    "#representing time elapsed since the last trig\n",
    "    \n",
    "DCRC = time_differences[:]\n",
    "CAEN = time_differences[:]\n",
    "    \n",
    "#print(\"beep boop\")\n",
    "#for i in DCRC:\n",
    "#    print(i)\n",
    "    \n",
    "random_entriesDCRC = []\n",
    "random_entriesCAEN = []\n",
    "\n",
    "# Function to generate a random non-zero index for DCRC\n",
    "def generate_random_DCRC():\n",
    "    index = random.randint(0, len(DCRC) - 1)\n",
    "    while index in random_entriesDCRC or DCRC[index] == 0:\n",
    "        index = random.randint(0, len(DCRC) - 1)\n",
    "    return index\n",
    "\n",
    "# Function to generate a random non-zero index for CAEN\n",
    "def generate_random_CAEN():\n",
    "    index = random.randint(0, len(CAEN) - 1)\n",
    "    while index in random_entriesCAEN or CAEN[index] == 0:\n",
    "        index = random.randint(0, len(CAEN) - 1)\n",
    "    return index\n",
    "\n",
    "# Generate random triggers without repeats and zeros\n",
    "for _ in range(5):\n",
    "    random_entriesDCRC.append(generate_random_DCRC())\n",
    "    random_entriesCAEN.append(generate_random_CAEN())\n",
    "\n",
    "#print(random_entriesDCRC)\n",
    "#print(DCRC[random_entriesDCRC[0]], DCRC[random_entriesDCRC[0]+1])\n",
    "\n",
    "#delete those indexes\n",
    "for i,s in sorted(enumerate(random_entriesDCRC), reverse=True):\n",
    "    DCRC[s+1]+=DCRC[s]\n",
    "\n",
    "#print(DCRC[random_entriesDCRC[0]])\n",
    "\n",
    "for i,s in sorted(enumerate(random_entriesCAEN), reverse=True):\n",
    "    print(s, CAEN[s], CAEN[s+1])\n",
    "    CAEN[s+1] += CAEN[s]\n",
    "    \n",
    "for i,s in enumerate(sorted(random_entriesDCRC)):\n",
    "    adjusted_s = s - i\n",
    "    del DCRC[s]\n",
    "    \n",
    "for i,s in enumerate(sorted(random_entriesCAEN)):\n",
    "    adjusted_s = s - i\n",
    "    del CAEN[s]\n",
    "\n",
    "\n",
    "#These for loops take the time diff of the index they're deleting, \n",
    "#add it to the timediff of the next index, and then delete the first one\n"
   ]
  },
  {
   "cell_type": "code",
   "execution_count": 2,
   "id": "858d58a7-50a1-4d7a-9de3-da8b191fe386",
   "metadata": {},
   "outputs": [
    {
     "name": "stdout",
     "output_type": "stream",
     "text": [
      "DCRC Indices: [55, 79, 11, 40, 91]\n",
      "CAEN Indices: [3, 6, 17, 71, 82]\n",
      "CAEN dropped trig 3\n",
      "error\n",
      "CAEN[3]: 0:54:20\n",
      "CAEN[4]: 0:23:27\n",
      "CAEN[5]: 0:01:35\n",
      "DCRC[3]: 0:54:20\n",
      "DCRC[4]: 0:13:10\n",
      "DCRC[5]: 0:23:27\n"
     ]
    },
    {
     "ename": "SystemExit",
     "evalue": "1",
     "output_type": "error",
     "traceback": [
      "An exception has occurred, use %tb to see the full traceback.\n",
      "\u001b[1;31mSystemExit\u001b[0m\u001b[1;31m:\u001b[0m 1\n"
     ]
    },
    {
     "name": "stderr",
     "output_type": "stream",
     "text": [
      "C:\\Users\\cecih\\.conda\\envs\\neutroncapture\\lib\\site-packages\\IPython\\core\\interactiveshell.py:3405: UserWarning: To exit: use 'exit', 'quit', or Ctrl-D.\n",
      "  warn(\"To exit: use 'exit', 'quit', or Ctrl-D.\", stacklevel=1)\n"
     ]
    }
   ],
   "source": [
    "import pandas as pd\n",
    "import sys\n",
    "\n",
    "df=pd.DataFrame(columns=['CAEN','DCRC','Blah'])\n",
    "\n",
    "print(\"DCRC Indices:\",random_entriesDCRC)\n",
    "print(\"CAEN Indices:\", random_entriesCAEN)\n",
    "\n",
    "trashDCRC=[]\n",
    "trashCAEN=[]\n",
    "\n",
    "for i,c in enumerate(CAEN):\n",
    "    for j,d in enumerate(DCRC):\n",
    "        if j==i:\n",
    "           # print(\"hi\")\n",
    "            if CAEN[i]==DCRC[j]:\n",
    "             #   print(\"hi1\")\n",
    "                break\n",
    "            elif i + 1 < len(CAEN) and j + 1 < len(DCRC) and DCRC[j]==CAEN[i]+CAEN[i+1]:\n",
    "              #  print(\"hi2\")\n",
    "                print(\"DCRC dropped trig\", i)\n",
    "                CAEN[i]+=CAEN[i+1]\n",
    "                trashCAEN.append(i) #future bugs if you use pop instead we can store the data of the dropped trigs easier\n",
    "             #   print(\"hi3\")\n",
    "                break\n",
    "            elif i + 1 < len(CAEN) and j + 1 < len(DCRC) and CAEN[i]==DCRC[j]+DCRC[j+1]:\n",
    "             #   print(\"hi4\")\n",
    "                print(\"CAEN dropped trig\", i)\n",
    "                DCRC[j]+=DCRC[j+1]\n",
    "                trashDCRC.append(i)\n",
    "               # print(\"hi5\")\n",
    "                break\n",
    "            else:\n",
    "                print(\"error\")\n",
    "                print(f\"CAEN[{i-1}]: {CAEN[i-1]}\")\n",
    "                print(f\"CAEN[{i}]: {CAEN[i]}\")\n",
    "                print(f\"CAEN[{i+1}]: {CAEN[i+1]}\")\n",
    "                print(f\"DCRC[{j-1}]: {DCRC[j-1]}\")\n",
    "                print(f\"DCRC[{j}]: {DCRC[j]}\")\n",
    "                print(f\"DCRC[{j+1}]: {DCRC[j+1]}\")\n",
    "                sys.exit(1)\n",
    "\n",
    "for i in sorted(trashCAEN, reverse=True):\n",
    "    del CAEN[i]\n",
    "for i in sorted(trashDCRC, reverse=True):\n",
    "    del DCRC[i]"
   ]
  },
  {
   "cell_type": "code",
   "execution_count": null,
   "id": "7033d296-ab4a-4d8c-858c-27f969b79426",
   "metadata": {},
   "outputs": [],
   "source": []
  }
 ],
 "metadata": {
  "kernelspec": {
   "display_name": "Python 3 (ipykernel)",
   "language": "python",
   "name": "python3"
  },
  "language_info": {
   "codemirror_mode": {
    "name": "ipython",
    "version": 3
   },
   "file_extension": ".py",
   "mimetype": "text/x-python",
   "name": "python",
   "nbconvert_exporter": "python",
   "pygments_lexer": "ipython3",
   "version": "3.9.12"
  }
 },
 "nbformat": 4,
 "nbformat_minor": 5
}
