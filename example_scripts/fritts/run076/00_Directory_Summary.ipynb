{
 "cells": [
  {
   "cell_type": "markdown",
   "id": "b93fbe58-c29c-4eee-99f0-fcc749037190",
   "metadata": {},
   "source": [
    "# Directory Summary\n",
    "This directory was found in Matt's chocula directory after he retired. \n",
    "The purpose of this notebook is to determine what each plot means."
   ]
  },
  {
   "cell_type": "markdown",
   "id": "583783a4-e1be-4da4-bcf3-d2e8b45700c4",
   "metadata": {
    "jp-MarkdownHeadingCollapsed": true
   },
   "source": [
    "## Images"
   ]
  },
  {
   "cell_type": "markdown",
   "id": "bab92790-3a85-4730-aced-c212fa4127b6",
   "metadata": {},
   "source": [
    "### `dumpsizes_07220831_2022.png`\n",
    "\n",
    "![](dumpsizes_07220831_2022.png)\n",
    "\n",
    "**Wiki page:** Unknown"
   ]
  },
  {
   "cell_type": "markdown",
   "id": "3011606b-b631-4241-b96b-0819a17cc5a3",
   "metadata": {},
   "source": [
    "### muon_flux_equation.png\n",
    "\n",
    "![](muon_flux_equation.png)\n",
    "\n",
    "**Wiki page:** N/A"
   ]
  },
  {
   "cell_type": "markdown",
   "id": "e908b1bf-4791-46c1-af29-71ce8f083848",
   "metadata": {},
   "source": [
    "### NaI_Na22_spec_from_rate_scan.png\n",
    "\n",
    "![](NaI_Na22_spec_from_rate_scan.png)\n",
    "\n",
    "**Wiki page:** Unknown"
   ]
  },
  {
   "cell_type": "markdown",
   "id": "741d7a71-1c40-499e-a426-7bf0174bee4a",
   "metadata": {},
   "source": [
    "### `PuBe_cal_fit.png`\n",
    "\n",
    "![](PuBe_cal_fit.png)\n",
    "\n",
    "**Wiki page:** Unknown"
   ]
  },
  {
   "cell_type": "markdown",
   "id": "5671850e-34aa-4e6d-9094-f0e20f0b4d4a",
   "metadata": {},
   "source": [
    "### `PuBe_cal_line_IDs.png`\n",
    "\n",
    "![](PuBe_cal_line_IDs.png)\n",
    "\n",
    "**Wiki page:** Unknown"
   ]
  },
  {
   "cell_type": "markdown",
   "id": "0fb15bb1-33e6-4009-9d73-50558689f30f",
   "metadata": {},
   "source": [
    "### `r76_*_delay_*.png`\n",
    "\n",
    "**Wiki page:** [`cdms:k100:run_summary:run_76#source_mover_tests`](https://zzz.physics.umn.edu/!cdms/cdms/k100/run_summary/run_76#source_mover_tests)  \n",
    "**Source code:** [`./r76_analysis_2sided.c`](r76_analysis_2sided.c)  \n",
    "**Python version:** [`../../../c-to-py-translations/Two-Sided.ipynb`](../../../c-to-py-translations/Two-Sided.ipynb)"
   ]
  },
  {
   "cell_type": "markdown",
   "id": "c032b931-106c-46ed-9ab0-7bbf1473209c",
   "metadata": {},
   "source": [
    "### `r76_*_partition_*.png`\n",
    "\n",
    "**Wiki page:** [`cdms:k100:run_summary:run_76#source_mover_tests`](https://zzz.physics.umn.edu/!cdms/cdms/k100/run_summary/run_76#source_mover_tests)  \n",
    "**Source code:** [`./r76_analysis_2sided.c`](r76_analysis_2sided.c)?"
   ]
  },
  {
   "cell_type": "markdown",
   "id": "508e55f9-50c6-41be-ac22-b2d4bd3d0a26",
   "metadata": {},
   "source": [
    "### `r76_?V_afvsphi_*.png`\n",
    "\n",
    "|                             |                          |                           |\n",
    "|-----------------------------|--------------------------|---------------------------|\n",
    "|![](r76_0V_afvsphi_12-30.png)|![](r76_0V_afvsphi_60.png)|![](r76_HV_afvsphi_0-2.png)|\n",
    "\n",
    "**Wiki page:** [`cdms:k100:run_summary:run76#low_energy_spectrum`](https://zzz.physics.umn.edu/!cdms/cdms/k100/run_summary/run_76#low_energy_spectrum)  \n",
    "**Source code:** Unknown"
   ]
  },
  {
   "cell_type": "markdown",
   "id": "4dec9db1-eed1-472b-addb-8c541ba96bf6",
   "metadata": {},
   "source": [
    "### `r76_*0V_*.png`\n",
    "\n",
    "**Wiki page:** Unknown\n",
    "\n",
    "*We are not particularly interested in 0V data, so I'm skipping over these for now.*"
   ]
  },
  {
   "cell_type": "markdown",
   "id": "b9138f4b-109f-4547-a22f-a10ad6871f68",
   "metadata": {},
   "source": [
    "### `r76_evst_07220509_1432.png`\n",
    "\n",
    "![](r76_evst_07220509_1432.png)\n",
    "\n",
    "**Wiki page:** Unknown"
   ]
  },
  {
   "cell_type": "markdown",
   "id": "5ab228d8-8944-4475-aae4-3ba78027841a",
   "metadata": {},
   "source": [
    "### `r76_HV_*_0-2keV.png`\n",
    "\n",
    "|                              |                                  |                            |\n",
    "|------------------------------|----------------------------------|----------------------------|\n",
    "|![](r76_HV_rphidel_0-2keV.png)|![](r76_HV_spec_0-2keV_Amvsbg.png)|![](r76_HV_xydel_0-2keV.png)|\n",
    "\n",
    "**Wiki page:** [`cdms:k100:run_summary:run76#low_energy_spectrum`](https://zzz.physics.umn.edu/!cdms/cdms/k100/run_summary/run_76#low_energy_spectrum)  \n",
    "**Source code:** Unknown"
   ]
  },
  {
   "cell_type": "markdown",
   "id": "352e6b6c-c1fd-4374-9572-53244a97dcb8",
   "metadata": {},
   "source": [
    "### `r76_m100v_dfrac_vs_width.png`\n",
    "\n",
    "![](r76_m100v_dfrac_vs_width.png)\n",
    "\n",
    "**Wiki page:** Unknown"
   ]
  },
  {
   "cell_type": "markdown",
   "id": "8f2b5f89-2425-49ea-834e-06919f6df7e5",
   "metadata": {},
   "source": [
    "### `r76_m196V_intvsof*.png`\n",
    "\n",
    "|                          |                            |\n",
    "|--------------------------|----------------------------|\n",
    "|![](r76_m196V_intvsof.png)|![](r76_m196V_intvsof_z.png)|\n",
    "\n",
    "**Wiki page:** [`cdms:k100:run_summary:run_76#example`](https://zzz.physics.umn.edu/!cdms/cdms/k100/run_summary/run_76#example)  \n",
    "**Source code:** Unknown"
   ]
  },
  {
   "cell_type": "markdown",
   "id": "f35cbb9e-9eb4-4c1c-bbd7-374a76a8cc60",
   "metadata": {},
   "source": [
    "### `r76_m196V_noisewidth.png`\n",
    "\n",
    "![](r76_m196V_noisewidth.png)\n",
    "\n",
    "**Wiki page:** [`cdms:k100:run_summary:run_76#example`](https://zzz.physics.umn.edu/!cdms/cdms/k100/run_summary/run_76#example)  \n",
    "**Source code:** Unknown"
   ]
  },
  {
   "cell_type": "markdown",
   "id": "f489acde-f212-4f21-b1de-d68304c9393a",
   "metadata": {},
   "source": [
    "### r76_m196V_spec_invsof*.png\n",
    "\n",
    "|                               |                                 |\n",
    "|-------------------------------|---------------------------------|\n",
    "|![](r76_m196V_spec_intvsof.png)|![](r76_m196V_spec_intvsof_z.png)|"
   ]
  },
  {
   "cell_type": "markdown",
   "id": "34dde241-7cab-4b06-b094-80071ab3aff4",
   "metadata": {},
   "source": [
    "### `r76_m196V_spec.png`\n",
    "\n",
    "![](r76_m196V_spec.png)\n",
    "\n",
    "**Wiki page:** [`cdms:k100:run_summary:run_76#low_energy_spectrum`](https://zzz.physics.umn.edu/!cdms/cdms/k100/run_summary/run_76#low_energy_spectrum)  \n",
    "**Source code:** Unknown"
   ]
  },
  {
   "cell_type": "markdown",
   "id": "89946c65-5547-451b-bda0-eefe8d7f54e8",
   "metadata": {},
   "source": [
    "### `r76_m196V_widvsamp.png`\n",
    "\n",
    "![](r76_m196V_widvsamp.png)\n",
    "\n",
    "**Wiki page:** [`cdms:k100:run_summary:run_76#example`](https://zzz.physics.umn.edu/!cdms/cdms/k100/run_summary/run_76#example)  \n",
    "**Source code:** Unknown"
   ]
  },
  {
   "cell_type": "markdown",
   "id": "2c77b591-1a8d-4ac0-9444-6ba268222a79",
   "metadata": {},
   "source": [
    "### `r76_muon_1det_datavscalc_*.png`\n",
    "\n",
    "|                                       |                                     |\n",
    "|---------------------------------------|-------------------------------------|\n",
    "|![](r76_muon_1det_datavscalc_recal.png)|![](r76_muon_1det_datavscalc_sat.png)|\n",
    "\n",
    "**Wiki page:** [`cdms:k100:run_summary:run_76#comparing_muon_calculation_to_data`](https://zzz.physics.umn.edu/!cdms/cdms/k100/run_summary/run_76#comparing_muon_calculation_to_data)  \n",
    "**Source code:** Unknown"
   ]
  },
  {
   "cell_type": "markdown",
   "id": "b464f7c7-df56-4019-9152-cdab262790dd",
   "metadata": {},
   "source": [
    "### `r76_muon_muons_NaItrigtime.png`\n",
    "\n",
    "|                                   |                                     |                               |\n",
    "|-----------------------------------|-------------------------------------|-------------------------------|\n",
    "|![](r76_muon_muons_NaItrigtime.png)|![](r76_muoncoin_trigtimevenergy.png)|![](r76_muon_muons_spectra.png)|\n",
    "\n",
    "**Wiki page:** [`cdms:k100:run_summary:run_76#muon_coincidence`](https://zzz.physics.umn.edu/!cdms/cdms/k100/run_summary/run_76#muon_coincidence)  \n",
    "**Source code:** Unknown"
   ]
  },
  {
   "cell_type": "markdown",
   "id": "2164b8bb-8a6a-471f-babe-dc2736c08f88",
   "metadata": {},
   "source": [
    "### `r76_muons_horiz_multiplicity.png`\n",
    "\n",
    "![](r76_muons_horiz_multiplicity.png)\n",
    "\n",
    "**Wiki page:** [`cdms:k100:run_summary:run_76#muon_calculation_2horizontal_array_only`](https://zzz.physics.umn.edu/!cdms/cdms/k100/run_summary/run_76#muon_calculation_2horizontal_array_only)  \n",
    "**Source code:** Unknown"
   ]
  },
  {
   "cell_type": "markdown",
   "id": "2c9c90a7-482e-42d7-a5d4-086224dfaebd",
   "metadata": {},
   "source": [
    "### `r76_muons_muons_*timediff_*.png`\n",
    "\n",
    "|![](r76_muons_muons_oftimediff_high.png)|![](r76_muons_muons_oftimediff_low.png)|\n",
    "|----------------------------------------|---------------------------------------|\n",
    "|![](r76_muons_muons_wktimediff_high.png)|![](r76_muons_muons_wktimediff_low.png)|\n",
    "\n",
    "**Wiki page:** [`cdms:k100:run_summary:run_76#updatemuon_simulation`](https://zzz.physics.umn.edu/!cdms/cdms/k100/run_summary/run_76#updatemuon_simulation)  \n",
    "**Source code:** Unknown"
   ]
  },
  {
   "cell_type": "markdown",
   "id": "110e3090-88a9-4df9-ab6d-517ca511481c",
   "metadata": {},
   "source": [
    "### `r76_muons_vertstack_*.png`\n",
    "\n",
    "|                                         |                                         |\n",
    "|-----------------------------------------|-----------------------------------------|\n",
    "|![](r76_muons_vertstack_multiplicity.png)|![](r76_muons_vertstack_botdetenergy.png)|\n",
    "\n",
    "**Wiki page:** [`cdms:k100:run_summary:run_76#muon_calculation_1vertical_array_only_no_gaps_included`](https://zzz.physics.umn.edu/!cdms/cdms/k100/run_summary/run_76#muon_calculation_1vertical_array_only_no_gaps_included)  \n",
    "**Source code:**"
   ]
  },
  {
   "cell_type": "markdown",
   "id": "ec56fa78-e653-49f5-8a3c-172a483dc041",
   "metadata": {},
   "source": [
    "### `r76_Na22_22Na_4?cm_*timediff.png`\n",
    "\n",
    "*Example:*  \n",
    "![](r76_Na22_22Na_40cm_wktimediff.png)\n",
    "\n",
    "**Wiki page:** Unknown"
   ]
  },
  {
   "cell_type": "markdown",
   "id": "20850692-e8ad-4b19-b41f-bf66b973f529",
   "metadata": {},
   "source": [
    "### `r76_Na22_*_*_*.png`\n",
    "\n",
    "|                                           |                                       |                                       |\n",
    "|-------------------------------------------|---------------------------------------|---------------------------------------|\n",
    "|![](r76_Na22_no_source_NaItrigtime.png)|![](r76_Na22_22Na_67cm_NaItrigtime.png)|![](r76_Na22_22Na_75cm_NaItrigtime.png)|\n",
    "\n",
    "|![](r76_Na22_no_source_oftimediff.png)|![](r76_Na22_22Na_75cm_oftimediff.png)|![](r76_Na22_22Na_67cm_oftimediff.png)|\n",
    "|--------------------------------------|--------------------------------------|--------------------------------------|\n",
    "|![](r76_Na22_no_source_wktimediff.png)|![](r76_Na22_22Na_75cm_wktimediff.png)|![](r76_Na22_22Na_75cm_wktimediff.png)|\n",
    "\n",
    "**Wiki page:** [`cdms:k100:run_summary:run_76#coincidence_test`](https://zzz.physics.umn.edu/!cdms/cdms/k100/run_summary/run_76#coincidence_test)  \n",
    "**Source code:** Unknown"
   ]
  },
  {
   "cell_type": "markdown",
   "id": "d804a3ab-2114-4813-8a82-6c7d8269a66a",
   "metadata": {},
   "source": [
    "### `r76_Na22_muons_wktimediff.png`\n",
    "\n",
    "![](r76_Na22_muons_wktimediff.png)\n",
    "\n",
    "**Wiki page:** Unknown"
   ]
  },
  {
   "cell_type": "markdown",
   "id": "22455ab3-82c2-4055-a6ce-7dc8f8f7e2c6",
   "metadata": {},
   "source": [
    "### `r76_Na22_no_source_*v*.png`\n",
    "\n",
    "|                                       |                                     |\n",
    "|---------------------------------------|-------------------------------------|\n",
    "|![](r76_Na22_no_source_phivsenergy.png)|![](r76_Na22_no_source_spec_ncvc.png)|\n",
    "\n",
    "**Wiki page:** [`cdms:k100:run_summary:run_76#coincidence_test`](https://zzz.physics.umn.edu/!cdms/cdms/k100/run_summary/run_76#coincidence_test)  \n",
    "**Source code:** Unknown"
   ]
  },
  {
   "cell_type": "markdown",
   "id": "7b0de897-fe5b-4b13-a260-541b67c0c842",
   "metadata": {},
   "source": [
    "### `r76_Na22_speccompare.png`\n",
    "\n",
    "![](r76_Na22_speccompare.png)\n",
    "\n",
    "**Wiki page:** Unknown"
   ]
  },
  {
   "cell_type": "markdown",
   "id": "ed07cbac-1f54-42d6-ae24-829d2384073a",
   "metadata": {},
   "source": [
    "### `r76_NaIArrayDrawing_withmuon.png`\n",
    "\n",
    "![](r76_NaIArrayDrawing_withmuon.png)\n",
    "\n",
    "**Wiki page:** [`cdms:k100:run_summary:run_76#muons_in_nai_array`](https://zzz.physics.umn.edu/!cdms/cdms/k100/run_summary/run_76#muons_in_nai_array)  \n",
    "**Source code:** N/A"
   ]
  },
  {
   "cell_type": "markdown",
   "id": "e8ef6bcd-aed7-43bd-a623-ba265db6bf70",
   "metadata": {},
   "source": [
    "### `r76_ptpulse_n180V_30eV.png`\n",
    "\n",
    "![](r76_ptpulse_n180V_30eV.png)\n",
    "\n",
    "**Wiki page:** Unknown"
   ]
  },
  {
   "cell_type": "markdown",
   "id": "8dc0e62b-4cc8-40d7-9264-c8f7c1b9b351",
   "metadata": {},
   "source": [
    "### `r76_PuBe_*.png`\n",
    "\n",
    "*Example:*  \n",
    "![](r76_PuBe_OFdel_v_OFamps.png)\n",
    "\n",
    "**Wiki page:** Unknown"
   ]
  },
  {
   "cell_type": "markdown",
   "id": "50d0ca69-5bca-424e-bc65-ec41be373f13",
   "metadata": {},
   "source": [
    "### `r76_pulse*.png`\n",
    "\n",
    "|                          |                               |\n",
    "|--------------------------|-------------------------------|\n",
    "|![](r76_pulses_14keVt.png)|![](r76_pulses_14keVt_norm.png)|\n",
    "\n",
    "|![](r76_pulses_60keVt.png)|![](r76_pulses_60keVt_norm.png)|\n",
    "|--------------------------|-------------------------------|\n",
    "|![](r76_pulsefit_HV_60keVt_nar.png)|![](r76_pulsefit_HV_60keVt_wid.png)|\n",
    "\n",
    "**Wiki page:** [`cdms:k100:run_summary:run_76#more_on_the_pulse_width_correction`](https://zzz.physics.umn.edu/!cdms/cdms/k100/run_summary/run_76#more_on_the_pulse_width_correction)  \n",
    "**Source code:** Unknown"
   ]
  },
  {
   "cell_type": "markdown",
   "id": "719170d6-57d7-4e14-9eda-04efa836d0aa",
   "metadata": {},
   "source": [
    "### `r76_rrecon_*.png`\n",
    "\n",
    "![](r76_rrecon_spec_low.png)\n",
    "\n",
    "|                           |                             |\n",
    "|---------------------------|-----------------------------|\n",
    "|![](r76_rrecon_phidist.png)|![](r76_rrecon_phiselect.png)|\n",
    "\n",
    "|                           |                             |\n",
    "|---------------------------|-----------------------------|\n",
    "|![](r76_rrecon_pf-pa_vs_phi_del.png)|![](r76_rrecon_pf-pa-distrib.png)|\n",
    "\n",
    "|                           |                             |\n",
    "|---------------------------|-----------------------------|\n",
    "|![](r76_rrecon_position_wide.png)|![](r76_rrecon_position_zoom.png)|\n",
    "\n",
    "**Wiki page:** [`cdms:k100:run_summary:run_76#identifying_r_of_source_statistically`](https://zzz.physics.umn.edu/!cdms/cdms/k100/run_summary/run_76#more_on_the_pulse_width_correction)  \n",
    "**Source code:** Unknown"
   ]
  },
  {
   "cell_type": "markdown",
   "id": "b3337626-d2c7-413f-bba8-5e5efbca9fc8",
   "metadata": {},
   "source": [
    "### `r76_[s|side]2*.png`\n",
    "\n",
    "**Wiki page:** Unknown"
   ]
  },
  {
   "cell_type": "markdown",
   "id": "e14c4fb7-4c53-4442-a09f-35e33fba8641",
   "metadata": {},
   "source": [
    "### `r76_sim_Na22_spec*.png`\n",
    "\n",
    "![](r76_sim_Na22_spec.png)\n",
    "\n",
    "![](r76_sim_Na22_spec_coin.png)\n",
    "\n",
    "**Wiki page:** [`cdms:k100:run_summary:run_76#coincidence_test`](https://zzz.physics.umn.edu/!cdms/cdms/k100/run_summary/run_76#coincidence_test)  \n",
    "**Source code:** Unknown"
   ]
  },
  {
   "cell_type": "markdown",
   "id": "98d5d4ed-afbf-44f1-b07c-009a8e4ccbd1",
   "metadata": {},
   "source": [
    "### `r76_sim_yx_*.png`\n",
    "\n",
    "|                         |                         |                             |\n",
    "|-------------------------|-------------------------|-----------------------------|\n",
    "|![](r76_sim_yx_14keV.png)|![](r76_sim_yx_60keV.png)|![](r76_sim_yx_60keVComp.png)|\n",
    "\n",
    "**Wiki page:** [`cdms:k100:run_summary:run_76#low_energy_spectrum`](https://zzz.physics.umn.edu/!cdms/cdms/k100/run_summary/run_76#low_energy_spectrum)  \n",
    "**Source code:** identifying_r_of_source_statisticallyidentifying_r_of_source_statistically"
   ]
  },
  {
   "cell_type": "markdown",
   "id": "81272d49-7970-4784-8cf7-e73578c88bc1",
   "metadata": {
    "jp-MarkdownHeadingCollapsed": true
   },
   "source": [
    "### `*trace*.png`\n",
    "\n",
    "**Wiki page:** Unknown"
   ]
  },
  {
   "cell_type": "markdown",
   "id": "f5c1794e-85dd-44f3-8e80-05eba19b8aad",
   "metadata": {},
   "source": [
    "## Spreadsheets"
   ]
  },
  {
   "cell_type": "code",
   "execution_count": null,
   "id": "e3c3ef1d-19e7-4507-9773-42af7904a3fd",
   "metadata": {},
   "outputs": [],
   "source": []
  },
  {
   "cell_type": "markdown",
   "id": "0e3ae962-d32d-4860-b38c-987562013a31",
   "metadata": {},
   "source": [
    "## Code"
   ]
  },
  {
   "cell_type": "markdown",
   "id": "06c97fe8-2d90-44f5-83d5-8e0bba92d7ac",
   "metadata": {},
   "source": [
    "### `NaI_muon_sim.c`\n",
    "\n",
    "**Associated files:** (None in repository)  \n",
    "**Outputs:** Two ROOT files, `muontree.root` and `muontree_bot.root`  \n",
    "**Python version:** None so far"
   ]
  },
  {
   "cell_type": "markdown",
   "id": "8c2e3d21-5509-4604-b598-4ee40f1ec178",
   "metadata": {},
   "source": [
    "### `r76_analysis_2sided.c`"
   ]
  },
  {
   "cell_type": "markdown",
   "id": "68b5c51f-b0c5-4df9-8fde-fc206cc383bc",
   "metadata": {},
   "source": [
    "### `r76_analysis_hvcal.c`\n",
    "\n",
    "**Associated files:** \n",
    "- `r76_0V_intspec.png`\n",
    "- `r76_0V_xydel_12-20keV`\n",
    "- `r76_0V_widvsphi_12-20keV.png`\n",
    "- `r76_0V_widvsphi_50-70keV.png`\n",
    "- `r76_HV_xydel_0-2keV.png`\n",
    "- `r76_HV_rphidel_0-2keV.png`\n",
    "- `r76_HV_spec_0-2keV_Amvsbg.png`\n",
    "- `r76_rates_0V_HV_sim.png`\n",
    "- `r76_sim_yx_60keV.png`\n",
    "- `r76_sim_yx_60keVComp.png`\n",
    "- `r76_sim_yx_14keV.png`\n",
    "- `r76_0V_afvsphi_12-30.png`\n",
    "- `r76_0V_afvsphi_60.png`\n",
    "- `r76_HV_afvsphi_0-2.png`\n",
    "- `r76_pulses_14keVt.png`\n",
    "- `r76_pulses_14keVt_norm.png`\n",
    "- `r76_pulses_14keVt_Am.png`\n",
    "- `r76_pulses_60keVt.png`\n",
    "- `r76_pulses_60keVt_norm.png`\n",
    "- `r76_pulsefit_0V_14keVt_bg.png`\n",
    "- `r76_pulsefit_0V_14keVt_HV.png`\n",
    "- `r76_pulsefit_0V_60keVt_nar.png`\n",
    "- `r76_pulsefit_0V_60keVt_wid.png`\n",
    "- `r76_pulsefit_HV_60keVt_nar.png`\n",
    "- `r76_pulsefit_HV_60keVt_wid.png`\n",
    "\n",
    "**Outputs:** Very many plots, including (but not limited to) those above and those found in the python notebook below.  \n",
    "**Python version:** [`../../../c-to-py-translations/Tutorial_Replication.ipynb`](../../../c-to-py-translations/Tutorial_Replication.ipynb)"
   ]
  },
  {
   "cell_type": "markdown",
   "id": "22530d6e-ae3a-4e35-a695-b14f1667ba71",
   "metadata": {},
   "source": [
    "### `r76_analysis_Na22test_altseries.c`\n",
    "\n",
    "**Associated files:**\n",
    "- `r76_muon_*s_NaItrigtime.png`\n",
    "- `r76_Na22_*s_phivsenergy.png`\n",
    "- `r76_Na22_*s_spec_ncvc.png`\n",
    "- `r76_muon_*s_spectra.png`\n",
    "- `r76_Na22_*s_*timediff*.png`\n",
    "- `r76_sim_Na22_spec*.png`\n",
    "- `r76_Na22_speccompare.png`"
   ]
  },
  {
   "cell_type": "code",
   "execution_count": null,
   "id": "62510459-34ca-44ec-9743-0bb2b892d9e3",
   "metadata": {},
   "outputs": [],
   "source": []
  }
 ],
 "metadata": {
  "kernelspec": {
   "display_name": "R76",
   "language": "python",
   "name": "r76"
  },
  "language_info": {
   "codemirror_mode": {
    "name": "ipython",
    "version": 3
   },
   "file_extension": ".py",
   "mimetype": "text/x-python",
   "name": "python",
   "nbconvert_exporter": "python",
   "pygments_lexer": "ipython3",
   "version": "3.10.6"
  }
 },
 "nbformat": 4,
 "nbformat_minor": 5
}
