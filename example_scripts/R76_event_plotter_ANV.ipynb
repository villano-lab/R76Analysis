{
 "cells": [
  {
   "cell_type": "code",
   "execution_count": 26,
   "metadata": {},
   "outputs": [
    {
     "name": "stdout",
     "output_type": "stream",
     "text": [
      "Name: rawio\n",
      "Version: 1.4.1\n",
      "Summary: Read and write cdms raw binary format\n",
      "Home-page: https://gitlab.com/supercdms/DataHandling/pyRawIO.git\n",
      "Author: \n",
      "Author-email: \n",
      "License: \n",
      "Location: /usr/local/lib/python3.8/dist-packages\n",
      "Requires: numpy, pandas\n",
      "Required-by: \n",
      "Note: you may need to restart the kernel to use updated packages.\n"
     ]
    }
   ],
   "source": [
    "%pip show rawio"
   ]
  },
  {
   "cell_type": "code",
   "execution_count": 24,
   "metadata": {},
   "outputs": [],
   "source": [
    "import numpy as np\n",
    "import matplotlib.pyplot as plt\n",
    "import glob\n",
    "import pickle\n",
    "from tqdm import tqdm_notebook\n",
    "import joblib\n",
    "import os\n",
    "import uproot"
   ]
  },
  {
   "cell_type": "code",
   "execution_count": 2,
   "metadata": {},
   "outputs": [],
   "source": [
    "import rawio.IO as io\n",
    "from scdmsPyTools.Traces.Filtering import *\n",
    "from scdmsPyTools.Traces.Noise import *\n",
    "from scdmsPyTools.TES.Templates import *\n",
    "from scdmsPyTools.Traces.Stats import *\n",
    "#from scdmsPyTools.BatTools.IO import *\n",
    "from rawio import IO"
   ]
  },
  {
   "cell_type": "code",
   "execution_count": 3,
   "metadata": {},
   "outputs": [],
   "source": [
    "#procdir = \"/gpfs/slac/staas/fs1/g/supercdms/tf/nexus/midasdata/NEXUS/R7/processed/auto_proc/OFResults_\"\n",
    "#procdir = \"/gpfs/slac/staas/fs1/g/supercdms/tf/nexus/midasdata/NEXUS/R7/processed/master_releases/v2.0.0/OFResults_\"\n",
    "rawdir = \"/data/chocula/k100/midasraw/byseries/\"\n",
    "procdir = \"/gpfs/slac/staas/fs1/g/supercdms/tf/umn/rq/\"\n",
    "series='07160213_0915/'\n",
    "series2='07220531_0810/'\n",
    "procseries='07191122_0915/'"
   ]
  },
  {
   "cell_type": "code",
   "execution_count": 4,
   "metadata": {
    "scrolled": true
   },
   "outputs": [
    {
     "name": "stdout",
     "output_type": "stream",
     "text": [
      "The file is: /data/chocula/k100/midasraw/byseries//07160213_0915/07160213_0915_F0001.mid.gz\n",
      "\n",
      "Opened raw midas file: /data/chocula/k100/midasraw/byseries//07160213_0915/07160213_0915_F0001.mid.gz\n",
      "The file is: /data/chocula/k100/midasraw/byseries//07160213_0915/07160213_0915_F0002.mid.gz\n",
      "\n",
      "Opened raw midas file: /data/chocula/k100/midasraw/byseries//07160213_0915/07160213_0915_F0002.mid.gz\n",
      "The file is: /data/chocula/k100/midasraw/byseries//07160213_0915/07160213_0915_F0003.mid.gz\n",
      "\n",
      "Opened raw midas file: /data/chocula/k100/midasraw/byseries//07160213_0915/07160213_0915_F0003.mid.gz\n",
      "The file is: /data/chocula/k100/midasraw/byseries//07160213_0915/07160213_0915_F0004.mid.gz\n",
      "\n",
      "Opened raw midas file: /data/chocula/k100/midasraw/byseries//07160213_0915/07160213_0915_F0004.mid.gz\n",
      "The file is: /data/chocula/k100/midasraw/byseries//07160213_0915/07160213_0915_F0005.mid.gz\n",
      "\n",
      "Opened raw midas file: /data/chocula/k100/midasraw/byseries//07160213_0915/07160213_0915_F0005.mid.gz\n",
      "The file is: /data/chocula/k100/midasraw/byseries//07160213_0915/07160213_0915_F0006.mid.gz\n",
      "\n",
      "Opened raw midas file: /data/chocula/k100/midasraw/byseries//07160213_0915/07160213_0915_F0006.mid.gz\n",
      "The file is: /data/chocula/k100/midasraw/byseries//07160213_0915/07160213_0915_F0007.mid.gz\n",
      "\n",
      "Opened raw midas file: /data/chocula/k100/midasraw/byseries//07160213_0915/07160213_0915_F0007.mid.gz\n",
      "The file is: /data/chocula/k100/midasraw/byseries//07160213_0915/07160213_0915_F0008.mid.gz\n",
      "\n",
      "Opened raw midas file: /data/chocula/k100/midasraw/byseries//07160213_0915/07160213_0915_F0008.mid.gz\n",
      "The file is: /data/chocula/k100/midasraw/byseries//07160213_0915/07160213_0915_F0009.mid.gz\n",
      "\n",
      "Opened raw midas file: /data/chocula/k100/midasraw/byseries//07160213_0915/07160213_0915_F0009.mid.gz\n",
      "The file is: /data/chocula/k100/midasraw/byseries//07160213_0915/07160213_0915_F0010.mid.gz\n",
      "\n",
      "Opened raw midas file: /data/chocula/k100/midasraw/byseries//07160213_0915/07160213_0915_F0010.mid.gz\n",
      "The file is: /data/chocula/k100/midasraw/byseries//07160213_0915/07160213_0915_F0011.mid.gz\n",
      "\n",
      "Opened raw midas file: /data/chocula/k100/midasraw/byseries//07160213_0915/07160213_0915_F0011.mid.gz\n",
      "The file is: /data/chocula/k100/midasraw/byseries//07160213_0915/07160213_0915_F0012.mid.gz\n",
      "\n",
      "Opened raw midas file: /data/chocula/k100/midasraw/byseries//07160213_0915/07160213_0915_F0012.mid.gz\n",
      "The file is: /data/chocula/k100/midasraw/byseries//07160213_0915/07160213_0915_F0013.mid.gz\n",
      "\n",
      "Opened raw midas file: /data/chocula/k100/midasraw/byseries//07160213_0915/07160213_0915_F0013.mid.gz\n",
      "The file is: /data/chocula/k100/midasraw/byseries//07160213_0915/07160213_0915_F0014.mid.gz\n",
      "\n",
      "Opened raw midas file: /data/chocula/k100/midasraw/byseries//07160213_0915/07160213_0915_F0014.mid.gz\n",
      "The file is: /data/chocula/k100/midasraw/byseries//07160213_0915/07160213_0915_F0015.mid.gz\n",
      "\n",
      "Opened raw midas file: /data/chocula/k100/midasraw/byseries//07160213_0915/07160213_0915_F0015.mid.gz\n",
      "The file is: /data/chocula/k100/midasraw/byseries//07160213_0915/07160213_0915_F0016.mid.gz\n",
      "\n",
      "Opened raw midas file: /data/chocula/k100/midasraw/byseries//07160213_0915/07160213_0915_F0016.mid.gz\n",
      "The file is: /data/chocula/k100/midasraw/byseries//07160213_0915/07160213_0915_F0017.mid.gz\n",
      "\n",
      "Opened raw midas file: /data/chocula/k100/midasraw/byseries//07160213_0915/07160213_0915_F0017.mid.gz\n",
      "The file is: /data/chocula/k100/midasraw/byseries//07160213_0915/07160213_0915_F0018.mid.gz\n",
      "\n",
      "Opened raw midas file: /data/chocula/k100/midasraw/byseries//07160213_0915/07160213_0915_F0018.mid.gz\n",
      "The file is: /data/chocula/k100/midasraw/byseries//07160213_0915/07160213_0915_F0019.mid.gz\n",
      "\n",
      "Opened raw midas file: /data/chocula/k100/midasraw/byseries//07160213_0915/07160213_0915_F0019.mid.gz\n",
      "The file is: /data/chocula/k100/midasraw/byseries//07160213_0915/07160213_0915_F0020.mid.gz\n",
      "\n",
      "Opened raw midas file: /data/chocula/k100/midasraw/byseries//07160213_0915/07160213_0915_F0020.mid.gz\n",
      "The file is: /data/chocula/k100/midasraw/byseries//07160213_0915/07160213_0915_F0021.mid.gz\n",
      "\n",
      "Opened raw midas file: /data/chocula/k100/midasraw/byseries//07160213_0915/07160213_0915_F0021.mid.gz\n",
      "The file is: /data/chocula/k100/midasraw/byseries//07160213_0915/07160213_0915_F0022.mid.gz\n",
      "\n",
      "Opened raw midas file: /data/chocula/k100/midasraw/byseries//07160213_0915/07160213_0915_F0022.mid.gz\n",
      "The file is: /data/chocula/k100/midasraw/byseries//07160213_0915/07160213_0915_F0023.mid.gz\n",
      "\n",
      "Opened raw midas file: /data/chocula/k100/midasraw/byseries//07160213_0915/07160213_0915_F0023.mid.gz\n",
      "The file is: /data/chocula/k100/midasraw/byseries//07160213_0915/07160213_0915_F0024.mid.gz\n",
      "\n",
      "Opened raw midas file: /data/chocula/k100/midasraw/byseries//07160213_0915/07160213_0915_F0024.mid.gz\n",
      "The file is: /data/chocula/k100/midasraw/byseries//07160213_0915/07160213_0915_F0025.mid.gz\n",
      "\n",
      "Opened raw midas file: /data/chocula/k100/midasraw/byseries//07160213_0915/07160213_0915_F0025.mid.gz\n",
      "The file is: /data/chocula/k100/midasraw/byseries//07160213_0915/07160213_0915_F0026.mid.gz\n",
      "\n",
      "Opened raw midas file: /data/chocula/k100/midasraw/byseries//07160213_0915/07160213_0915_F0026.mid.gz\n",
      "The file is: /data/chocula/k100/midasraw/byseries//07160213_0915/07160213_0915_F0027.mid.gz\n",
      "\n",
      "Opened raw midas file: /data/chocula/k100/midasraw/byseries//07160213_0915/07160213_0915_F0027.mid.gz\n",
      "The file is: /data/chocula/k100/midasraw/byseries//07160213_0915/07160213_0915_F0028.mid.gz\n",
      "\n",
      "Opened raw midas file: /data/chocula/k100/midasraw/byseries//07160213_0915/07160213_0915_F0028.mid.gz\n",
      "The file is: /data/chocula/k100/midasraw/byseries//07160213_0915/07160213_0915_F0029.mid.gz\n",
      "\n",
      "Opened raw midas file: /data/chocula/k100/midasraw/byseries//07160213_0915/07160213_0915_F0029.mid.gz\n",
      "The file is: /data/chocula/k100/midasraw/byseries//07160213_0915/07160213_0915_F0030.mid.gz\n",
      "\n",
      "Opened raw midas file: /data/chocula/k100/midasraw/byseries//07160213_0915/07160213_0915_F0030.mid.gz\n",
      "The file is: /data/chocula/k100/midasraw/byseries//07160213_0915/07160213_0915_F0031.mid.gz\n",
      "\n",
      "Opened raw midas file: /data/chocula/k100/midasraw/byseries//07160213_0915/07160213_0915_F0031.mid.gz\n"
     ]
    }
   ],
   "source": [
    "events=io.getRawEvents(rawdir,series)\n",
    "#events2=io.getRawEvents(rawdir,series2)"
   ]
  },
  {
   "cell_type": "code",
   "execution_count": 5,
   "metadata": {},
   "outputs": [
    {
     "data": {
      "text/plain": [
       "pandas.core.frame.DataFrame"
      ]
     },
     "execution_count": 5,
     "metadata": {},
     "output_type": "execute_result"
    }
   ],
   "source": [
    "type(events)"
   ]
  },
  {
   "cell_type": "code",
   "execution_count": 6,
   "metadata": {},
   "outputs": [
    {
     "data": {
      "text/plain": [
       "MultiIndex([('Z1', 'QI'),\n",
       "            ('Z1', 'QO'),\n",
       "            ('Z1', 'PA'),\n",
       "            ('Z1', 'PB'),\n",
       "            ('Z1', 'PC'),\n",
       "            ('Z1', 'PD'),\n",
       "            ('Z2', 'QI'),\n",
       "            ('Z2', 'QO'),\n",
       "            ('Z2', 'PA'),\n",
       "            ('Z2', 'PB'),\n",
       "            ('Z2', 'PC'),\n",
       "            ('Z2', 'PD'),\n",
       "            ('Z3', 'QI'),\n",
       "            ('Z3', 'QO'),\n",
       "            ('Z3', 'PA'),\n",
       "            ('Z3', 'PB'),\n",
       "            ('Z3', 'PC'),\n",
       "            ('Z3', 'PD')],\n",
       "           )"
      ]
     },
     "execution_count": 6,
     "metadata": {},
     "output_type": "execute_result"
    }
   ],
   "source": [
    "events.keys()"
   ]
  },
  {
   "cell_type": "code",
   "execution_count": 8,
   "metadata": {
    "scrolled": true
   },
   "outputs": [],
   "source": [
    "num = events['Z3']['PA'].keys()[0][0]\n",
    "#num2 = events2['Z4']['PA'].keys()[0][0]"
   ]
  },
  {
   "cell_type": "code",
   "execution_count": 12,
   "metadata": {
    "scrolled": true
   },
   "outputs": [
    {
     "data": {
      "text/html": [
       "<div>\n",
       "<style scoped>\n",
       "    .dataframe tbody tr th:only-of-type {\n",
       "        vertical-align: middle;\n",
       "    }\n",
       "\n",
       "    .dataframe tbody tr th {\n",
       "        vertical-align: top;\n",
       "    }\n",
       "\n",
       "    .dataframe thead th {\n",
       "        text-align: right;\n",
       "    }\n",
       "</style>\n",
       "<table border=\"1\" class=\"dataframe\">\n",
       "  <thead>\n",
       "    <tr style=\"text-align: right;\">\n",
       "      <th></th>\n",
       "      <th></th>\n",
       "      <th>QI</th>\n",
       "      <th>QO</th>\n",
       "      <th>PA</th>\n",
       "      <th>PB</th>\n",
       "      <th>PC</th>\n",
       "      <th>PD</th>\n",
       "    </tr>\n",
       "  </thead>\n",
       "  <tbody>\n",
       "    <tr>\n",
       "      <th rowspan=\"11\" valign=\"top\">71602130915</th>\n",
       "      <th>10000</th>\n",
       "      <td>[32627, 32601, 32592, 32613, 32623, 32630, 326...</td>\n",
       "      <td>[32813, 32796, 32796, 32818, 32811, 32819, 328...</td>\n",
       "      <td>[4120, 4147, 4168, 4199, 3996, 3991, 4000, 401...</td>\n",
       "      <td>[4685, 4690, 4700, 4683, 4648, 4638, 4640, 462...</td>\n",
       "      <td>[5542, 5536, 5537, 5524, 5495, 5492, 5493, 551...</td>\n",
       "      <td>[3909, 3911, 3918, 3909, 3900, 3899, 3907, 390...</td>\n",
       "    </tr>\n",
       "    <tr>\n",
       "      <th>10001</th>\n",
       "      <td>[32614, 32610, 32612, 32607, 32615, 32614, 326...</td>\n",
       "      <td>[32823, 32825, 32810, 32810, 32816, 32819, 328...</td>\n",
       "      <td>[3685, 3687, 3694, 3684, 3734, 3721, 3713, 370...</td>\n",
       "      <td>[4261, 4266, 4265, 4271, 4286, 4281, 4278, 428...</td>\n",
       "      <td>[5329, 5330, 5339, 5347, 5368, 5362, 5346, 536...</td>\n",
       "      <td>[3709, 3707, 3709, 3709, 3746, 3738, 3752, 373...</td>\n",
       "    </tr>\n",
       "    <tr>\n",
       "      <th>10002</th>\n",
       "      <td>[32631, 32643, 32588, 32589, 32605, 32629, 326...</td>\n",
       "      <td>[32817, 32801, 32798, 32796, 32797, 32817, 328...</td>\n",
       "      <td>[4295, 4263, 4266, 4275, 4287, 4272, 4285, 428...</td>\n",
       "      <td>[4233, 4221, 4222, 4228, 4230, 4225, 4224, 422...</td>\n",
       "      <td>[13531, 5629, 5612, 5612, 5607, 5605, 5614, 56...</td>\n",
       "      <td>[15611, 4050, 4054, 4035, 4045, 4047, 4058, 40...</td>\n",
       "    </tr>\n",
       "    <tr>\n",
       "      <th>10003</th>\n",
       "      <td>[32625, 32626, 32642, 32638, 32638, 32615, 326...</td>\n",
       "      <td>[32802, 32807, 32824, 32814, 32823, 32808, 328...</td>\n",
       "      <td>[3759, 3759, 3785, 3775, 3801, 3708, 3715, 371...</td>\n",
       "      <td>[4264, 4266, 4261, 4259, 4252, 4248, 4245, 426...</td>\n",
       "      <td>[12364, 12366, 12366, 12366, 12350, 5343, 5336...</td>\n",
       "      <td>[3733, 3747, 3738, 3727, 3725, 3729, 3721, 372...</td>\n",
       "    </tr>\n",
       "    <tr>\n",
       "      <th>10004</th>\n",
       "      <td>[32635, 32620, 32628, 32646, 32641, 32650, 326...</td>\n",
       "      <td>[32806, 32807, 32815, 32822, 32803, 32803, 328...</td>\n",
       "      <td>[3709, 3720, 3734, 3728, 3766, 3765, 3768, 377...</td>\n",
       "      <td>[4344, 4336, 4326, 4336, 4332, 4336, 4349, 435...</td>\n",
       "      <td>[5398, 5385, 5376, 5372, 5380, 5398, 5392, 538...</td>\n",
       "      <td>[3729, 3737, 3746, 3744, 3751, 3757, 3754, 375...</td>\n",
       "    </tr>\n",
       "    <tr>\n",
       "      <th>...</th>\n",
       "      <td>...</td>\n",
       "      <td>...</td>\n",
       "      <td>...</td>\n",
       "      <td>...</td>\n",
       "      <td>...</td>\n",
       "      <td>...</td>\n",
       "    </tr>\n",
       "    <tr>\n",
       "      <th>310635</th>\n",
       "      <td>[32649, 32632, 32626, 32616, 32599, 32612, 326...</td>\n",
       "      <td>[32811, 32799, 32811, 32815, 32801, 32807, 327...</td>\n",
       "      <td>[2687, 2701, 2711, 2711, 2734, 2738, 2740, 274...</td>\n",
       "      <td>[4586, 4590, 4599, 4621, 4631, 4641, 3426, 343...</td>\n",
       "      <td>[5603, 5625, 5628, 5632, 5632, 5629, 4964, 495...</td>\n",
       "      <td>[3250, 3240, 3225, 3227, 3234, 3238, 3229, 322...</td>\n",
       "    </tr>\n",
       "    <tr>\n",
       "      <th>310636</th>\n",
       "      <td>[32598, 32603, 32614, 32617, 32628, 32618, 325...</td>\n",
       "      <td>[32811, 32813, 32808, 32819, 32800, 32798, 328...</td>\n",
       "      <td>[2774, 2771, 2773, 2767, 2929, 2918, 2935, 294...</td>\n",
       "      <td>[3456, 3454, 3464, 3475, 3531, 3527, 3510, 351...</td>\n",
       "      <td>[4986, 4994, 4997, 4982, 4986, 5000, 5010, 502...</td>\n",
       "      <td>[3337, 3333, 3335, 3335, 3356, 3349, 3348, 334...</td>\n",
       "    </tr>\n",
       "    <tr>\n",
       "      <th>310637</th>\n",
       "      <td>[32615, 32611, 32594, 32593, 32630, 32638, 326...</td>\n",
       "      <td>[32806, 32812, 32822, 32805, 32810, 32816, 328...</td>\n",
       "      <td>[2738, 2711, 2720, 2718, 2724, 2721, 2718, 272...</td>\n",
       "      <td>[3436, 3446, 3442, 3448, 3449, 3442, 3429, 342...</td>\n",
       "      <td>[4986, 4966, 4958, 4952, 4960, 4963, 4966, 493...</td>\n",
       "      <td>[3249, 3248, 3234, 3237, 3226, 3247, 3265, 327...</td>\n",
       "    </tr>\n",
       "    <tr>\n",
       "      <th>310638</th>\n",
       "      <td>[32617, 32608, 32605, 32600, 32613, 32620, 326...</td>\n",
       "      <td>[32813, 32813, 32814, 32817, 32802, 32798, 328...</td>\n",
       "      <td>[3679, 3684, 3699, 3697, 3704, 3706, 3033, 303...</td>\n",
       "      <td>[3582, 3594, 3576, 3580, 3588, 3596, 3594, 359...</td>\n",
       "      <td>[5076, 5078, 5080, 5065, 5071, 5089, 5096, 509...</td>\n",
       "      <td>[3400, 3391, 3386, 3388, 3382, 3378, 3384, 338...</td>\n",
       "    </tr>\n",
       "    <tr>\n",
       "      <th>310639</th>\n",
       "      <td>[32634, 32607, 32603, 32629, 32640, 32643, 326...</td>\n",
       "      <td>[32816, 32818, 32804, 32816, 32811, 32803, 327...</td>\n",
       "      <td>[2794, 2806, 2809, 2819, 2826, 2820, 2812, 280...</td>\n",
       "      <td>[3479, 3471, 3459, 3473, 3478, 3472, 3475, 347...</td>\n",
       "      <td>[4971, 4976, 4984, 4989, 4981, 4968, 4968, 496...</td>\n",
       "      <td>[3256, 3246, 3248, 3245, 3246, 3281, 3285, 328...</td>\n",
       "    </tr>\n",
       "  </tbody>\n",
       "</table>\n",
       "<p>41454 rows × 6 columns</p>\n",
       "</div>"
      ],
      "text/plain": [
       "                                                                   QI  \\\n",
       "71602130915 10000   [32627, 32601, 32592, 32613, 32623, 32630, 326...   \n",
       "            10001   [32614, 32610, 32612, 32607, 32615, 32614, 326...   \n",
       "            10002   [32631, 32643, 32588, 32589, 32605, 32629, 326...   \n",
       "            10003   [32625, 32626, 32642, 32638, 32638, 32615, 326...   \n",
       "            10004   [32635, 32620, 32628, 32646, 32641, 32650, 326...   \n",
       "...                                                               ...   \n",
       "            310635  [32649, 32632, 32626, 32616, 32599, 32612, 326...   \n",
       "            310636  [32598, 32603, 32614, 32617, 32628, 32618, 325...   \n",
       "            310637  [32615, 32611, 32594, 32593, 32630, 32638, 326...   \n",
       "            310638  [32617, 32608, 32605, 32600, 32613, 32620, 326...   \n",
       "            310639  [32634, 32607, 32603, 32629, 32640, 32643, 326...   \n",
       "\n",
       "                                                                   QO  \\\n",
       "71602130915 10000   [32813, 32796, 32796, 32818, 32811, 32819, 328...   \n",
       "            10001   [32823, 32825, 32810, 32810, 32816, 32819, 328...   \n",
       "            10002   [32817, 32801, 32798, 32796, 32797, 32817, 328...   \n",
       "            10003   [32802, 32807, 32824, 32814, 32823, 32808, 328...   \n",
       "            10004   [32806, 32807, 32815, 32822, 32803, 32803, 328...   \n",
       "...                                                               ...   \n",
       "            310635  [32811, 32799, 32811, 32815, 32801, 32807, 327...   \n",
       "            310636  [32811, 32813, 32808, 32819, 32800, 32798, 328...   \n",
       "            310637  [32806, 32812, 32822, 32805, 32810, 32816, 328...   \n",
       "            310638  [32813, 32813, 32814, 32817, 32802, 32798, 328...   \n",
       "            310639  [32816, 32818, 32804, 32816, 32811, 32803, 327...   \n",
       "\n",
       "                                                                   PA  \\\n",
       "71602130915 10000   [4120, 4147, 4168, 4199, 3996, 3991, 4000, 401...   \n",
       "            10001   [3685, 3687, 3694, 3684, 3734, 3721, 3713, 370...   \n",
       "            10002   [4295, 4263, 4266, 4275, 4287, 4272, 4285, 428...   \n",
       "            10003   [3759, 3759, 3785, 3775, 3801, 3708, 3715, 371...   \n",
       "            10004   [3709, 3720, 3734, 3728, 3766, 3765, 3768, 377...   \n",
       "...                                                               ...   \n",
       "            310635  [2687, 2701, 2711, 2711, 2734, 2738, 2740, 274...   \n",
       "            310636  [2774, 2771, 2773, 2767, 2929, 2918, 2935, 294...   \n",
       "            310637  [2738, 2711, 2720, 2718, 2724, 2721, 2718, 272...   \n",
       "            310638  [3679, 3684, 3699, 3697, 3704, 3706, 3033, 303...   \n",
       "            310639  [2794, 2806, 2809, 2819, 2826, 2820, 2812, 280...   \n",
       "\n",
       "                                                                   PB  \\\n",
       "71602130915 10000   [4685, 4690, 4700, 4683, 4648, 4638, 4640, 462...   \n",
       "            10001   [4261, 4266, 4265, 4271, 4286, 4281, 4278, 428...   \n",
       "            10002   [4233, 4221, 4222, 4228, 4230, 4225, 4224, 422...   \n",
       "            10003   [4264, 4266, 4261, 4259, 4252, 4248, 4245, 426...   \n",
       "            10004   [4344, 4336, 4326, 4336, 4332, 4336, 4349, 435...   \n",
       "...                                                               ...   \n",
       "            310635  [4586, 4590, 4599, 4621, 4631, 4641, 3426, 343...   \n",
       "            310636  [3456, 3454, 3464, 3475, 3531, 3527, 3510, 351...   \n",
       "            310637  [3436, 3446, 3442, 3448, 3449, 3442, 3429, 342...   \n",
       "            310638  [3582, 3594, 3576, 3580, 3588, 3596, 3594, 359...   \n",
       "            310639  [3479, 3471, 3459, 3473, 3478, 3472, 3475, 347...   \n",
       "\n",
       "                                                                   PC  \\\n",
       "71602130915 10000   [5542, 5536, 5537, 5524, 5495, 5492, 5493, 551...   \n",
       "            10001   [5329, 5330, 5339, 5347, 5368, 5362, 5346, 536...   \n",
       "            10002   [13531, 5629, 5612, 5612, 5607, 5605, 5614, 56...   \n",
       "            10003   [12364, 12366, 12366, 12366, 12350, 5343, 5336...   \n",
       "            10004   [5398, 5385, 5376, 5372, 5380, 5398, 5392, 538...   \n",
       "...                                                               ...   \n",
       "            310635  [5603, 5625, 5628, 5632, 5632, 5629, 4964, 495...   \n",
       "            310636  [4986, 4994, 4997, 4982, 4986, 5000, 5010, 502...   \n",
       "            310637  [4986, 4966, 4958, 4952, 4960, 4963, 4966, 493...   \n",
       "            310638  [5076, 5078, 5080, 5065, 5071, 5089, 5096, 509...   \n",
       "            310639  [4971, 4976, 4984, 4989, 4981, 4968, 4968, 496...   \n",
       "\n",
       "                                                                   PD  \n",
       "71602130915 10000   [3909, 3911, 3918, 3909, 3900, 3899, 3907, 390...  \n",
       "            10001   [3709, 3707, 3709, 3709, 3746, 3738, 3752, 373...  \n",
       "            10002   [15611, 4050, 4054, 4035, 4045, 4047, 4058, 40...  \n",
       "            10003   [3733, 3747, 3738, 3727, 3725, 3729, 3721, 372...  \n",
       "            10004   [3729, 3737, 3746, 3744, 3751, 3757, 3754, 375...  \n",
       "...                                                               ...  \n",
       "            310635  [3250, 3240, 3225, 3227, 3234, 3238, 3229, 322...  \n",
       "            310636  [3337, 3333, 3335, 3335, 3356, 3349, 3348, 334...  \n",
       "            310637  [3249, 3248, 3234, 3237, 3226, 3247, 3265, 327...  \n",
       "            310638  [3400, 3391, 3386, 3388, 3382, 3378, 3384, 338...  \n",
       "            310639  [3256, 3246, 3248, 3245, 3246, 3281, 3285, 328...  \n",
       "\n",
       "[41454 rows x 6 columns]"
      ]
     },
     "execution_count": 12,
     "metadata": {},
     "output_type": "execute_result"
    }
   ],
   "source": [
    "events['Z3']"
   ]
  },
  {
   "cell_type": "markdown",
   "metadata": {},
   "source": [
    "for x in events['Z4']['PA'][num].keys():\n",
    "    if set(events['Z4']['PA'][num][x]) != {0}: print(x)"
   ]
  },
  {
   "cell_type": "code",
   "execution_count": 17,
   "metadata": {
    "scrolled": true
   },
   "outputs": [
    {
     "data": {
      "image/png": "[encoded data removed]",
      "text/plain": [
       "<Figure size 640x480 with 6 Axes>"
      ]
     },
     "metadata": {},
     "output_type": "display_data"
    }
   ],
   "source": [
    "channels=['PA','PB','PC','PD','QI','QO']\n",
    "\n",
    "fig = plt.figure()\n",
    "fig.subplots_adjust(hspace=0.7, wspace=0.5)\n",
    "\n",
    "zip = 'Z3'\n",
    "\n",
    "for j,channel in enumerate(channels):\n",
    "    plt.subplot(2,3,j+1)\n",
    "    plt.plot(events[zip][channel][num][10010]) # index 0 corresponds to first event\n",
    "    plt.title(channel)\n",
    "    plt.xlabel('Bin')\n",
    "    plt.ylabel('Trace amplitude')\n",
    "\n",
    "plt.suptitle('Event 1500 on All '+zip+' Channels')\n",
    "plt.show()"
   ]
  },
  {
   "cell_type": "code",
   "execution_count": null,
   "metadata": {
    "scrolled": true
   },
   "outputs": [],
   "source": [
    "zip = 'Z4'\n",
    "\n",
    "#for j,channel in enumerate(channels):\n",
    "plt.plot(events2[zip]['PB'][num2][20015]) # index 0 corresponds to first event\n",
    "#plt.xlim(3000)\n",
    "plt.xlabel('Time')\n",
    "plt.ylabel('Trace amplitude')\n",
    "\n",
    "#plt.suptitle('Event 1500 on All '+zip+' Channels')\n",
    "plt.show()"
   ]
  },
  {
   "cell_type": "code",
   "execution_count": null,
   "metadata": {},
   "outputs": [],
   "source": [
    "for x in events['Z4']['PA'][num]:\n",
    "    plt.plot(x)#,alpha-0.6)\n",
    "plt.ylim(0,13000)\n",
    "plt.show()"
   ]
  },
  {
   "cell_type": "code",
   "execution_count": null,
   "metadata": {},
   "outputs": [],
   "source": [
    "from collections import Counter\n",
    "list = []\n",
    "for x in events['Z4']['PA'][num].keys():\n",
    "    xheight = events['Z4']['PA'][num][x]\n",
    "    if type(xheight) != np.ndarray:\n",
    "        xheight = xheight.values[0]\n",
    "    try:\n",
    "        list.append(np.where(xheight<=8000)[0][0])#==32764)[0][0])\n",
    "        #print(x,np.where(xheight<=8000)[0][0])\n",
    "    except IndexError: #it was a flatline\n",
    "        list.append(np.nan)\n",
    "#print(list)\n",
    "\n",
    "#dot plot generation - https://stackoverflow.com/questions/57830130/how-do-i-convert-this-histogram-into-a-dot-plot-dot-chart-using-matplotlib-and-n\n",
    "z = Counter(list)\n",
    "ar = 0.2\n",
    "fig, ax = plt.subplots(figsize=(plt.figaspect(ar)))\n",
    "for key, value in z.items():\n",
    "    if key == 0:\n",
    "        continue\n",
    "    X = [key] * value\n",
    "    Y = [item + 1 for item in range(value)]\n",
    "    plt.scatter(X, Y, color='b')\n",
    "\n",
    "#plt.ylim(0,25)\n",
    "plt.title(\"Logic Pulse Timing\")\n",
    "plt.xlabel(\"Time of Logic Pulse (clock ticks within pulse data)\")\n",
    "plt.ylabel(\"Frequency\")\n",
    "plt.show()\n",
    "print(\"nans:\",z[np.nan])\n",
    "print(\"zeroes:\",z[0])"
   ]
  },
  {
   "cell_type": "code",
   "execution_count": null,
   "metadata": {},
   "outputs": [],
   "source": [
    "print(z[np.nan]/len(list))"
   ]
  },
  {
   "cell_type": "code",
   "execution_count": null,
   "metadata": {},
   "outputs": [],
   "source": []
  },
  {
   "cell_type": "code",
   "execution_count": null,
   "metadata": {},
   "outputs": [],
   "source": [
    "channels2=['PB','PC','PD']\n",
    "\n",
    "fig = plt.figure()\n",
    "fig.subplots_adjust(hspace=0.7, wspace=0.5)\n",
    "\n",
    "for j,channel in enumerate(channels2):\n",
    "    plt.subplot(2,3,j+1)\n",
    "    plt.plot(events.Z3[channel][1500]) # index 0 corresponds to first event\n",
    "    plt.title(channel)\n",
    "    plt.xlabel('Bin')\n",
    "    plt.ylabel('Trace amplitude')\n",
    "\n",
    "plt.suptitle('Event 1500 on All Z3 Channels')\n",
    "plt.show()"
   ]
  },
  {
   "cell_type": "code",
   "execution_count": null,
   "metadata": {},
   "outputs": [],
   "source": [
    "channels2=['PA','PB']\n",
    "\n",
    "fig = plt.figure()\n",
    "fig.subplots_adjust(hspace=0.7, wspace=0.5)\n",
    "\n",
    "for j,channel in enumerate(channels2):\n",
    "    plt.subplot(2,3,j+1)\n",
    "    plt.plot(events.Z4[channel][1500]) # index 0 corresponds to first event\n",
    "    plt.title(channel)\n",
    "    plt.xlabel('Bin')\n",
    "    plt.ylabel('Trace amplitude')\n",
    "\n",
    "plt.suptitle('Event 1500 on All Z4 Channels')\n",
    "plt.show()"
   ]
  },
  {
   "cell_type": "code",
   "execution_count": null,
   "metadata": {},
   "outputs": [],
   "source": [
    "plt.figure()\n",
    "\n",
    "for j in range(1499,1505):\n",
    "    plt.plot(events.Z1.PA[j]) # iterate over the first 20 events\n",
    "\n",
    "plt.title('6 Sample Events on Z1PA')\n",
    "plt.show()"
   ]
  },
  {
   "cell_type": "code",
   "execution_count": null,
   "metadata": {},
   "outputs": [],
   "source": [
    "events['Z1']['PA'][0]"
   ]
  },
  {
   "cell_type": "code",
   "execution_count": null,
   "metadata": {},
   "outputs": [],
   "source": [
    "zips=['Z1','Z3']\n",
    "channels=['PA','PB','PC','PD']\n",
    "\n",
    "fig = plt.figure()\n",
    "fig.subplots_adjust(hspace=0.7, wspace=0.5)\n",
    "for i,zips in enumerate(zips):\n",
    "    plt.subplot(2,3,i+1) \n",
    "    for j,channel in enumerate(channels):\n",
    "        plt.subplot(2,3,j+1)\n",
    "        plt.plot(events[zips][channel][1500],label=zips) # index 0 corresponds to first event\n",
    "        plt.title(channel)\n",
    "        plt.xlabel('Bin')\n",
    "        plt.ylabel('Trace amplitude')\n",
    "\n",
    "plt.suptitle('event 1500 on All Channels')\n",
    "plt.legend()\n",
    "plt.show()"
   ]
  },
  {
   "cell_type": "code",
   "execution_count": null,
   "metadata": {},
   "outputs": [],
   "source": [
    "#Re-map events to actual channels\n",
    "zips=['Z1','Z3']\n",
    "channels=['PA','PB','PC','PD']\n",
    "\n",
    "for zips in (zips):\n",
    "    for channels in (channels):\n",
    "        for i in (events[zips][channels]):\n",
    "            if zips=='Z1':\n",
    "                if channels=='PA':\n",
    "                    eventsMap['PE'][i]=dict()\n",
    "                    eventsMap['PE'][i].append(events[zips][channels][i])\n",
    "                elif channels=='PB':\n",
    "                    eventsMap['PB'][i]=dict()\n",
    "                    eventsMap['PB'][i].append(events[zips][channels][i])\n",
    "                elif channels=='PC':\n",
    "                    eventsMap['PD'][i]=dict()\n",
    "                    eventsMap['PD'][i].append(events[zips][channels][i])\n",
    "            elif zips=='Z3':\n",
    "                if channels=='PB':\n",
    "                    eventsMap['PA'][i]=dict()\n",
    "                    eventsMap['PA'][i].append(events[zips][channels][i])\n",
    "                elif channels=='PC':\n",
    "                    eventsMap['PC'][i]=dict()\n",
    "                    eventsMap['PC'][i].append(events[zips][channels][i])\n",
    "                elif channels=='PD':\n",
    "                    eventsMap['PF'][i]=dict()\n",
    "                    eventsMap['PF'][i].append(events[zips][channels][i])"
   ]
  },
  {
   "cell_type": "code",
   "execution_count": null,
   "metadata": {},
   "outputs": [],
   "source": [
    "eventsMap['PA']"
   ]
  },
  {
   "cell_type": "code",
   "execution_count": null,
   "metadata": {},
   "outputs": [],
   "source": [
    "for j,channel in enumerate(detchan):\n",
    "        plt.subplot(2,3,j+1)\n",
    "        plt.plot(eventsMap[channel][1500]) # index 0 corresponds to first event\n",
    "        plt.title(channel)\n",
    "        plt.xlabel('Bin')\n",
    "        plt.ylabel('Trace amplitude')\n",
    "\n",
    "plt.suptitle('Event 1500 on All Channels')\n",
    "plt.legend()\n",
    "plt.show()"
   ]
  },
  {
   "cell_type": "code",
   "execution_count": null,
   "metadata": {},
   "outputs": [],
   "source": [
    "RQ[1].allkeys()"
   ]
  },
  {
   "cell_type": "code",
   "execution_count": null,
   "metadata": {},
   "outputs": [],
   "source": [
    "PTOFamps=[]\n",
    "for i in range(1,10):\n",
    "    PTOFamps.extend(RQ[i]['rqDir/zip1']['PTOFamps'].array()[RQ[i]['rqDir/eventTree']['EventCategory'].array()==0])"
   ]
  },
  {
   "cell_type": "code",
   "execution_count": null,
   "metadata": {},
   "outputs": [],
   "source": [
    "for i in range(11,20):\n",
    "    PTOFamps.extend(RQ[i]['rqDir/zip1']['PTOFamps'].array()[RQ[i]['rqDir/eventTree']['EventCategory'].array()==0])"
   ]
  },
  {
   "cell_type": "code",
   "execution_count": null,
   "metadata": {},
   "outputs": [],
   "source": [
    "for i in range(21,29):\n",
    "    PTOFamps.extend(RQ[i]['rqDir/zip1']['PTOFamps'].array()[RQ[i]['rqDir/eventTree']['EventCategory'].array()==0])"
   ]
  },
  {
   "cell_type": "code",
   "execution_count": null,
   "metadata": {},
   "outputs": [],
   "source": [
    "plt.hist(PTOFamps,bins=100,range=[1e-8,1e-6])\n",
    "plt.yscale('log')\n",
    "\n",
    "plt.ticklabel_format(axis=\"x\", style=\"sci\", scilimits=(0,0))"
   ]
  },
  {
   "cell_type": "code",
   "execution_count": null,
   "metadata": {},
   "outputs": [],
   "source": [
    "PFS1OFamps=[]\n",
    "for i in range(1,10):\n",
    "    PFS1OFamps.extend(RQ[i]['rqDir/zip1']['PFS1OFamps'].array()[RQ[i]['rqDir/eventTree']['EventCategory'].array()==0])"
   ]
  },
  {
   "cell_type": "code",
   "execution_count": null,
   "metadata": {},
   "outputs": [],
   "source": [
    "for i in range(11,20):\n",
    "    PFS1OFamps.extend(RQ[i]['rqDir/zip1']['PFS1OFamps'].array()[RQ[i]['rqDir/eventTree']['EventCategory'].array()==0])"
   ]
  },
  {
   "cell_type": "code",
   "execution_count": null,
   "metadata": {},
   "outputs": [],
   "source": [
    "for i in range(21,29):\n",
    "    PFS1OFamps.extend(RQ[i]['rqDir/zip1']['PFS1OFamps'].array()[RQ[i]['rqDir/eventTree']['EventCategory'].array()==0])"
   ]
  },
  {
   "cell_type": "code",
   "execution_count": null,
   "metadata": {},
   "outputs": [],
   "source": [
    "plt.hist(PFS1OFamps,bins=100,range=[0,1e-6])\n",
    "plt.yscale('log')\n",
    "\n",
    "plt.ticklabel_format(axis=\"x\", style=\"sci\", scilimits=(0,0))"
   ]
  },
  {
   "cell_type": "code",
   "execution_count": null,
   "metadata": {},
   "outputs": [],
   "source": [
    "PFS2OFamps=[]\n",
    "for i in range(1,10):\n",
    "    PFS2OFamps.extend(RQ[i]['rqDir/zip1']['PFS2OFamps'].array()[RQ[i]['rqDir/eventTree']['EventCategory'].array()==0])"
   ]
  },
  {
   "cell_type": "code",
   "execution_count": null,
   "metadata": {},
   "outputs": [],
   "source": [
    "for i in range(11,20):\n",
    "    PFS2OFamps.extend(RQ[i]['rqDir/zip1']['PFS2OFamps'].array()[RQ[i]['rqDir/eventTree']['EventCategory'].array()==0])"
   ]
  },
  {
   "cell_type": "code",
   "execution_count": null,
   "metadata": {},
   "outputs": [],
   "source": [
    "for i in range(21,29):\n",
    "    PFS2OFamps.extend(RQ[i]['rqDir/zip1']['PFS2OFamps'].array()[RQ[i]['rqDir/eventTree']['EventCategory'].array()==0])"
   ]
  },
  {
   "cell_type": "code",
   "execution_count": null,
   "metadata": {},
   "outputs": [],
   "source": [
    "plt.hist(PFS2OFamps,bins=100,range=[0,1e-6])\n",
    "plt.yscale('log')\n",
    "\n",
    "plt.ticklabel_format(axis=\"x\", style=\"sci\", scilimits=(0,0))"
   ]
  },
  {
   "cell_type": "code",
   "execution_count": null,
   "metadata": {},
   "outputs": [],
   "source": []
  }
 ],
 "metadata": {
  "kernelspec": {
   "display_name": "Python 3 (ipykernel)",
   "language": "python",
   "name": "python3"
  },
  "language_info": {
   "codemirror_mode": {
    "name": "ipython",
    "version": 3
   },
   "file_extension": ".py",
   "mimetype": "text/x-python",
   "name": "python",
   "nbconvert_exporter": "python",
   "pygments_lexer": "ipython3",
   "version": "3.8.10"
  }
 },
 "nbformat": 4,
 "nbformat_minor": 4
}
