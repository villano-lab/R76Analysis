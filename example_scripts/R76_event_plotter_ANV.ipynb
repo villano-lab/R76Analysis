{
 "cells": [
  {
   "cell_type": "code",
   "execution_count": 32,
   "metadata": {},
   "outputs": [],
   "source": [
    "import numpy as np\n",
    "import matplotlib.pyplot as plt\n",
    "import glob\n",
    "import pickle\n",
    "from tqdm import tqdm_notebook\n",
    "import joblib\n",
    "import os\n",
    "import uproot"
   ]
  },
  {
   "cell_type": "code",
   "execution_count": 33,
   "metadata": {},
   "outputs": [],
   "source": [
    "import rawio.IO as io\n",
    "from scdmsPyTools.Traces.Filtering import *\n",
    "from scdmsPyTools.Traces.Noise import *\n",
    "from scdmsPyTools.TES.Templates import *\n",
    "from scdmsPyTools.Traces.Stats import *\n",
    "#from scdmsPyTools.BatTools.IO import *\n",
    "from rawio import IO"
   ]
  },
  {
   "cell_type": "code",
   "execution_count": 34,
   "metadata": {},
   "outputs": [],
   "source": [
    "#procdir = \"/gpfs/slac/staas/fs1/g/supercdms/tf/nexus/midasdata/NEXUS/R7/processed/auto_proc/OFResults_\"\n",
    "#procdir = \"/gpfs/slac/staas/fs1/g/supercdms/tf/nexus/midasdata/NEXUS/R7/processed/master_releases/v2.0.0/OFResults_\"\n",
    "rawdir = \"/data/chocula/k100/midasraw/byseries/\"\n",
    "procdir = \"/gpfs/slac/staas/fs1/g/supercdms/tf/umn/rq/\"\n",
    "series='07240822_1514/'\n",
    "series2='07240822_1303/'\n",
    "procseries='07191122_0915/'"
   ]
  },
  {
   "cell_type": "code",
   "execution_count": 35,
   "metadata": {
    "scrolled": true
   },
   "outputs": [
    {
     "name": "stdout",
     "output_type": "stream",
     "text": [
      "The file is: /data/chocula/k100/midasraw/byseries//07240822_1514/07240822_1514_F0001.mid.gz\n",
      "\n",
      "Opened raw midas file: /data/chocula/k100/midasraw/byseries//07240822_1514/07240822_1514_F0001.mid.gz\n",
      "The file is: /data/chocula/k100/midasraw/byseries//07240822_1514/07240822_1514_F0002.mid.gz\n",
      "\n",
      "Opened raw midas file: /data/chocula/k100/midasraw/byseries//07240822_1514/07240822_1514_F0002.mid.gz\n",
      "The file is: /data/chocula/k100/midasraw/byseries//07240822_1514/07240822_1514_F0003.mid.gz\n",
      "\n",
      "Opened raw midas file: /data/chocula/k100/midasraw/byseries//07240822_1514/07240822_1514_F0003.mid.gz\n",
      "The file is: /data/chocula/k100/midasraw/byseries//07240822_1514/07240822_1514_F0004.mid.gz\n",
      "\n",
      "Opened raw midas file: /data/chocula/k100/midasraw/byseries//07240822_1514/07240822_1514_F0004.mid.gz\n",
      "The file is: /data/chocula/k100/midasraw/byseries//07240822_1514/07240822_1514_F0005.mid.gz\n",
      "\n",
      "Opened raw midas file: /data/chocula/k100/midasraw/byseries//07240822_1514/07240822_1514_F0005.mid.gz\n",
      "The file is: /data/chocula/k100/midasraw/byseries//07240822_1514/07240822_1514_F0006.mid.gz\n",
      "\n",
      "Opened raw midas file: /data/chocula/k100/midasraw/byseries//07240822_1514/07240822_1514_F0006.mid.gz\n",
      "The file is: /data/chocula/k100/midasraw/byseries//07240822_1514/07240822_1514_F0007.mid.gz\n",
      "\n",
      "Opened raw midas file: /data/chocula/k100/midasraw/byseries//07240822_1514/07240822_1514_F0007.mid.gz\n",
      "The file is: /data/chocula/k100/midasraw/byseries//07240822_1514/07240822_1514_F0008.mid.gz\n",
      "\n",
      "Opened raw midas file: /data/chocula/k100/midasraw/byseries//07240822_1514/07240822_1514_F0008.mid.gz\n",
      "The file is: /data/chocula/k100/midasraw/byseries//07240822_1514/07240822_1514_F0009.mid.gz\n",
      "\n",
      "Opened raw midas file: /data/chocula/k100/midasraw/byseries//07240822_1514/07240822_1514_F0009.mid.gz\n",
      "The file is: /data/chocula/k100/midasraw/byseries//07240822_1303/07240822_1303_F0001.mid.gz\n",
      "\n",
      "Opened raw midas file: /data/chocula/k100/midasraw/byseries//07240822_1303/07240822_1303_F0001.mid.gz\n",
      "The file is: /data/chocula/k100/midasraw/byseries//07240822_1303/07240822_1303_F0002.mid.gz\n",
      "\n",
      "Opened raw midas file: /data/chocula/k100/midasraw/byseries//07240822_1303/07240822_1303_F0002.mid.gz\n",
      "The file is: /data/chocula/k100/midasraw/byseries//07240822_1303/07240822_1303_F0003.mid.gz\n",
      "\n",
      "Opened raw midas file: /data/chocula/k100/midasraw/byseries//07240822_1303/07240822_1303_F0003.mid.gz\n"
     ]
    }
   ],
   "source": [
    "events=io.getRawEvents(rawdir,series)\n",
    "events2=io.getRawEvents(rawdir,series2)"
   ]
  },
  {
   "cell_type": "code",
   "execution_count": 36,
   "metadata": {},
   "outputs": [
    {
     "data": {
      "text/plain": [
       "pandas.core.frame.DataFrame"
      ]
     },
     "execution_count": 36,
     "metadata": {},
     "output_type": "execute_result"
    }
   ],
   "source": [
    "type(events)"
   ]
  },
  {
   "cell_type": "code",
   "execution_count": 37,
   "metadata": {},
   "outputs": [
    {
     "data": {
      "text/plain": [
       "MultiIndex([('Z1', 'QI'),\n",
       "            ('Z1', 'QO'),\n",
       "            ('Z1', 'PA'),\n",
       "            ('Z1', 'PB'),\n",
       "            ('Z1', 'PC'),\n",
       "            ('Z1', 'PD'),\n",
       "            ('Z3', 'QI'),\n",
       "            ('Z3', 'QO'),\n",
       "            ('Z3', 'PA'),\n",
       "            ('Z3', 'PB'),\n",
       "            ('Z3', 'PC'),\n",
       "            ('Z3', 'PD'),\n",
       "            ('Z4', 'QI'),\n",
       "            ('Z4', 'QO'),\n",
       "            ('Z4', 'PA'),\n",
       "            ('Z4', 'PB'),\n",
       "            ('Z4', 'PC'),\n",
       "            ('Z4', 'PD')],\n",
       "           )"
      ]
     },
     "execution_count": 37,
     "metadata": {},
     "output_type": "execute_result"
    }
   ],
   "source": [
    "events.keys()"
   ]
  },
  {
   "cell_type": "code",
   "execution_count": 38,
   "metadata": {
    "scrolled": true
   },
   "outputs": [],
   "source": [
    "num = events['Z3']['PA'].keys()[0][0]\n",
    "num2 = events2['Z4']['PA'].keys()[0][0]"
   ]
  },
  {
   "cell_type": "code",
   "execution_count": 39,
   "metadata": {},
   "outputs": [
    {
     "data": {
      "text/plain": [
       "10000    [0, 0, 0, 0, 0, 0, 0, 0, 0, 0, 0, 0, 0, 0, 0, ...\n",
       "10001    [0, 0, 0, 0, 0, 0, 0, 0, 0, 0, 0, 0, 0, 0, 0, ...\n",
       "10002    [0, 0, 0, 0, 0, 0, 0, 0, 0, 0, 0, 0, 0, 0, 0, ...\n",
       "10003    [0, 0, 0, 0, 0, 0, 0, 0, 0, 0, 0, 0, 0, 0, 0, ...\n",
       "10004    [0, 0, 0, 0, 0, 0, 0, 0, 0, 0, 0, 0, 0, 0, 0, ...\n",
       "                               ...                        \n",
       "99219    [0, 0, 0, 0, 0, 0, 0, 0, 0, 0, 0, 0, 0, 0, 0, ...\n",
       "99220    [0, 0, 0, 0, 0, 0, 0, 0, 0, 0, 0, 0, 0, 0, 0, ...\n",
       "99221    [0, 0, 0, 0, 0, 0, 0, 0, 0, 0, 0, 0, 0, 0, 0, ...\n",
       "99222    [0, 0, 0, 0, 0, 0, 0, 0, 0, 0, 0, 0, 0, 0, 0, ...\n",
       "99223    [0, 0, 0, 0, 0, 0, 0, 0, 0, 0, 0, 0, 0, 0, 0, ...\n",
       "Name: PA, Length: 3008, dtype: object"
      ]
     },
     "execution_count": 39,
     "metadata": {},
     "output_type": "execute_result"
    }
   ],
   "source": [
    "events['Z3']['PA'][num]"
   ]
  },
  {
   "cell_type": "markdown",
   "metadata": {},
   "source": [
    "for x in events['Z4']['PA'][num].keys():\n",
    "    if set(events['Z4']['PA'][num][x]) != {0}: print(x)"
   ]
  },
  {
   "cell_type": "code",
   "execution_count": 40,
   "metadata": {},
   "outputs": [
    {
     "data": {
      "image/png": "[encoded data removed]",
      "text/plain": [
       "<Figure size 640x480 with 6 Axes>"
      ]
     },
     "metadata": {},
     "output_type": "display_data"
    }
   ],
   "source": [
    "channels=['PA','PB','PC','PD','QI','QO']\n",
    "\n",
    "fig = plt.figure()\n",
    "fig.subplots_adjust(hspace=0.7, wspace=0.5)\n",
    "\n",
    "zip = 'Z4'\n",
    "\n",
    "for j,channel in enumerate(channels):\n",
    "    plt.subplot(2,3,j+1)\n",
    "    plt.plot(events[zip][channel][num][82596]) # index 0 corresponds to first event\n",
    "    plt.title(channel)\n",
    "    plt.xlabel('Bin')\n",
    "    plt.ylabel('Trace amplitude')\n",
    "\n",
    "plt.suptitle('Event 1500 on All '+zip+' Channels')\n",
    "plt.show()"
   ]
  },
  {
   "cell_type": "code",
   "execution_count": 41,
   "metadata": {},
   "outputs": [
    {
     "name": "stdout",
     "output_type": "stream",
     "text": [
      "82580 0\n",
      "82581 0\n",
      "82582 0\n",
      "82583 0\n",
      "82584 0\n",
      "82585 0\n",
      "82586 0\n",
      "82587 0\n",
      "82588 0\n",
      "82589 0\n",
      "82590 0\n",
      "82591 0\n",
      "82592 0\n",
      "82593 0\n",
      "82594 0\n",
      "82595 0\n",
      "82596 0\n",
      "82838 530\n",
      "82839 530\n",
      "82840 530\n",
      "82841 530\n",
      "82842 530\n",
      "82843 530\n",
      "82844 530\n",
      "82845 530\n",
      "82846 530\n",
      "82847 530\n",
      "82848 530\n",
      "82849 530\n",
      "82850 530\n",
      "82851 530\n",
      "82852 530\n",
      "82853 530\n",
      "82854 530\n",
      "83094 1170\n",
      "83095 1170\n",
      "83096 1170\n",
      "83097 1170\n",
      "83098 1170\n",
      "83099 1170\n",
      "83100 1170\n",
      "83101 1170\n",
      "83102 1170\n",
      "83103 1170\n",
      "83104 1170\n",
      "83105 1170\n",
      "83106 1170\n",
      "83107 1170\n",
      "83108 1170\n",
      "83350 1810\n",
      "83351 1810\n",
      "83352 1810\n",
      "83353 1810\n",
      "83354 1810\n",
      "83355 1810\n",
      "83356 1810\n",
      "83357 1810\n",
      "83358 1810\n",
      "83359 1810\n",
      "83360 1810\n",
      "83468 1810\n",
      "85911 0\n",
      "85912 0\n",
      "85913 0\n",
      "85914 0\n",
      "85915 0\n",
      "85916 0\n",
      "85917 0\n",
      "85918 0\n",
      "85919 0\n",
      "86166 0\n",
      "86167 530\n",
      "86168 530\n",
      "86169 530\n",
      "86396 530\n",
      "86422 519\n",
      "86423 1170\n",
      "86424 1170\n",
      "86425 1170\n",
      "86426 1170\n",
      "86427 1170\n",
      "86428 1170\n",
      "86429 1170\n",
      "86430 1170\n",
      "86431 1170\n",
      "86432 1170\n",
      "86562 1170\n",
      "86678 1159\n",
      "86679 1810\n",
      "86680 1810\n",
      "86681 1810\n",
      "86682 1810\n",
      "86683 1810\n",
      "86684 1810\n",
      "86685 1810\n",
      "86686 1810\n",
      "86687 1810\n",
      "86688 1810\n",
      "86689 1810\n",
      "86690 1810\n",
      "86691 1810\n",
      "86692 1810\n",
      "86693 1810\n",
      "86694 1810\n",
      "86695 1810\n",
      "86696 1810\n",
      "86697 1810\n",
      "86698 1810\n",
      "86934 1799\n",
      "90258 0\n",
      "90259 0\n",
      "90260 0\n",
      "90261 0\n",
      "90262 0\n",
      "90263 0\n",
      "90264 0\n",
      "90265 0\n",
      "90266 0\n",
      "90267 0\n",
      "90268 0\n",
      "90269 0\n",
      "90270 0\n",
      "90271 0\n",
      "90272 0\n",
      "90273 0\n",
      "90274 0\n",
      "90275 0\n",
      "90276 0\n",
      "90407 0\n",
      "90512 0\n",
      "90513 0\n",
      "90514 530\n",
      "90515 530\n",
      "90516 530\n",
      "90517 530\n",
      "90518 530\n",
      "90519 530\n",
      "90520 530\n",
      "90521 530\n",
      "90522 530\n",
      "90523 530\n",
      "90524 530\n",
      "90768 519\n",
      "90769 519\n",
      "90770 1170\n",
      "90771 1170\n",
      "90772 1170\n",
      "90773 1170\n",
      "90774 1170\n",
      "90775 1170\n",
      "90776 1170\n",
      "90777 1170\n",
      "90778 1170\n",
      "90779 1170\n",
      "90780 1170\n",
      "90953 1170\n",
      "91024 1159\n",
      "91025 1159\n",
      "91026 1810\n",
      "91027 1810\n",
      "91028 1810\n",
      "91029 1810\n",
      "91030 1810\n",
      "91111 1810\n",
      "91280 1799\n",
      "91510 1799\n",
      "93587 0\n",
      "93588 0\n",
      "93589 0\n",
      "93590 0\n",
      "93591 0\n",
      "93592 0\n",
      "93593 0\n",
      "93594 0\n",
      "93595 0\n",
      "93596 0\n",
      "93597 0\n",
      "93840 0\n",
      "93841 0\n",
      "93842 0\n",
      "93843 530\n",
      "94352 508\n",
      "94353 508\n",
      "94354 508\n",
      "94355 1445\n",
      "94596 1445\n",
      "94608 1434\n",
      "94609 1434\n",
      "94610 1434\n",
      "97172 115\n",
      "97173 115\n",
      "97174 115\n",
      "97175 115\n",
      "97176 115\n",
      "97177 115\n",
      "97178 115\n",
      "97179 115\n",
      "97180 115\n",
      "97181 115\n",
      "97182 115\n",
      "97183 115\n",
      "97184 115\n",
      "97424 104\n",
      "97425 104\n",
      "97426 104\n",
      "97427 104\n",
      "97428 755\n",
      "97429 755\n",
      "97430 755\n",
      "97431 755\n",
      "97432 755\n",
      "97433 755\n",
      "97434 755\n",
      "97435 755\n",
      "97436 755\n",
      "97437 755\n",
      "97438 755\n",
      "97439 755\n",
      "97440 755\n",
      "97441 755\n",
      "97442 755\n",
      "97443 755\n",
      "97444 755\n",
      "97445 755\n",
      "97680 744\n",
      "97681 744\n",
      "97682 744\n",
      "97683 744\n",
      "97684 1395\n",
      "97685 1395\n",
      "97686 1395\n",
      "97687 1395\n",
      "97688 1395\n",
      "97689 1395\n",
      "97690 1395\n",
      "97691 1395\n",
      "97692 1395\n",
      "97693 1395\n",
      "97694 1395\n",
      "97695 1395\n",
      "97696 1395\n",
      "97936 1384\n",
      "97937 1384\n",
      "97938 1384\n",
      "97939 1384\n",
      "97940 2035\n",
      "97941 2035\n",
      "97942 2035\n",
      "97943 2035\n",
      "97944 2035\n",
      "97945 2035\n",
      "97946 2035\n",
      "97947 2035\n",
      "97948 2035\n",
      "97949 2035\n",
      "97950 2035\n",
      "97951 2035\n",
      "97952 2035\n",
      "98192 2024\n",
      "98193 2024\n",
      "98194 2024\n",
      "98195 2024\n"
     ]
    },
    {
     "data": {
      "image/png": "[encoded data removed]",
      "text/plain": [
       "<Figure size 1600x320 with 1 Axes>"
      ]
     },
     "metadata": {},
     "output_type": "display_data"
    },
    {
     "name": "stdout",
     "output_type": "stream",
     "text": [
      "nans: 2746\n",
      "zeroes: 63\n"
     ]
    }
   ],
   "source": [
    "from collections import Counter\n",
    "list = []\n",
    "for x in events['Z4']['PA'][num].keys():\n",
    "    xheight = events['Z4']['PA'][num][x]\n",
    "    if type(xheight) != np.ndarray:\n",
    "        xheight = xheight.values[0]\n",
    "    try:\n",
    "        list.append(np.where(xheight==32764)[0][0])\n",
    "        print(x,np.where(xheight==32764)[0][0])\n",
    "    except IndexError: #it was a flatline\n",
    "        list.append(np.nan)\n",
    "#print(list)\n",
    "\n",
    "#dot plot generation - https://stackoverflow.com/questions/57830130/how-do-i-convert-this-histogram-into-a-dot-plot-dot-chart-using-matplotlib-and-n\n",
    "z = Counter(list)\n",
    "ar = 0.2\n",
    "fig, ax = plt.subplots(figsize=(plt.figaspect(ar)))\n",
    "for key, value in z.items():\n",
    "    if key == 0:\n",
    "        continue\n",
    "    X = [key] * value\n",
    "    Y = [item + 1 for item in range(value)]\n",
    "    plt.scatter(X, Y, color='b')\n",
    "\n",
    "#plt.ylim(0,25)\n",
    "plt.show()\n",
    "print(\"nans:\",z[np.nan])\n",
    "print(\"zeroes:\",z[0])"
   ]
  },
  {
   "cell_type": "code",
   "execution_count": 42,
   "metadata": {},
   "outputs": [
    {
     "ename": "KeyError",
     "evalue": "1500",
     "output_type": "error",
     "traceback": [
      "\u001b[0;31m---------------------------------------------------------------------------\u001b[0m",
      "\u001b[0;31mKeyError\u001b[0m                                  Traceback (most recent call last)",
      "File \u001b[0;32m/usr/local/lib/python3.8/dist-packages/pandas/core/indexes/base.py:3652\u001b[0m, in \u001b[0;36mIndex.get_loc\u001b[0;34m(self, key)\u001b[0m\n\u001b[1;32m   3651\u001b[0m \u001b[38;5;28;01mtry\u001b[39;00m:\n\u001b[0;32m-> 3652\u001b[0m     \u001b[38;5;28;01mreturn\u001b[39;00m \u001b[38;5;28;43mself\u001b[39;49m\u001b[38;5;241;43m.\u001b[39;49m\u001b[43m_engine\u001b[49m\u001b[38;5;241;43m.\u001b[39;49m\u001b[43mget_loc\u001b[49m\u001b[43m(\u001b[49m\u001b[43mcasted_key\u001b[49m\u001b[43m)\u001b[49m\n\u001b[1;32m   3653\u001b[0m \u001b[38;5;28;01mexcept\u001b[39;00m \u001b[38;5;167;01mKeyError\u001b[39;00m \u001b[38;5;28;01mas\u001b[39;00m err:\n",
      "File \u001b[0;32m/usr/local/lib/python3.8/dist-packages/pandas/_libs/index.pyx:147\u001b[0m, in \u001b[0;36mpandas._libs.index.IndexEngine.get_loc\u001b[0;34m()\u001b[0m\n",
      "File \u001b[0;32m/usr/local/lib/python3.8/dist-packages/pandas/_libs/index.pyx:176\u001b[0m, in \u001b[0;36mpandas._libs.index.IndexEngine.get_loc\u001b[0;34m()\u001b[0m\n",
      "File \u001b[0;32mpandas/_libs/hashtable_class_helper.pxi:2606\u001b[0m, in \u001b[0;36mpandas._libs.hashtable.Int64HashTable.get_item\u001b[0;34m()\u001b[0m\n",
      "File \u001b[0;32mpandas/_libs/hashtable_class_helper.pxi:2630\u001b[0m, in \u001b[0;36mpandas._libs.hashtable.Int64HashTable.get_item\u001b[0;34m()\u001b[0m\n",
      "\u001b[0;31mKeyError\u001b[0m: 1500",
      "\nThe above exception was the direct cause of the following exception:\n",
      "\u001b[0;31mKeyError\u001b[0m                                  Traceback (most recent call last)",
      "Cell \u001b[0;32mIn[42], line 8\u001b[0m\n\u001b[1;32m      6\u001b[0m \u001b[38;5;28;01mfor\u001b[39;00m j,channel \u001b[38;5;129;01min\u001b[39;00m \u001b[38;5;28menumerate\u001b[39m(channels2):\n\u001b[1;32m      7\u001b[0m     plt\u001b[38;5;241m.\u001b[39msubplot(\u001b[38;5;241m2\u001b[39m,\u001b[38;5;241m3\u001b[39m,j\u001b[38;5;241m+\u001b[39m\u001b[38;5;241m1\u001b[39m)\n\u001b[0;32m----> 8\u001b[0m     plt\u001b[38;5;241m.\u001b[39mplot(\u001b[43mevents\u001b[49m\u001b[38;5;241;43m.\u001b[39;49m\u001b[43mZ3\u001b[49m\u001b[43m[\u001b[49m\u001b[43mchannel\u001b[49m\u001b[43m]\u001b[49m\u001b[43m[\u001b[49m\u001b[38;5;241;43m1500\u001b[39;49m\u001b[43m]\u001b[49m) \u001b[38;5;66;03m# index 0 corresponds to first event\u001b[39;00m\n\u001b[1;32m      9\u001b[0m     plt\u001b[38;5;241m.\u001b[39mtitle(channel)\n\u001b[1;32m     10\u001b[0m     plt\u001b[38;5;241m.\u001b[39mxlabel(\u001b[38;5;124m'\u001b[39m\u001b[38;5;124mBin\u001b[39m\u001b[38;5;124m'\u001b[39m)\n",
      "File \u001b[0;32m/usr/local/lib/python3.8/dist-packages/pandas/core/series.py:1007\u001b[0m, in \u001b[0;36mSeries.__getitem__\u001b[0;34m(self, key)\u001b[0m\n\u001b[1;32m   1004\u001b[0m     \u001b[38;5;28;01mreturn\u001b[39;00m \u001b[38;5;28mself\u001b[39m\u001b[38;5;241m.\u001b[39m_values[key]\n\u001b[1;32m   1006\u001b[0m \u001b[38;5;28;01melif\u001b[39;00m key_is_scalar:\n\u001b[0;32m-> 1007\u001b[0m     \u001b[38;5;28;01mreturn\u001b[39;00m \u001b[38;5;28;43mself\u001b[39;49m\u001b[38;5;241;43m.\u001b[39;49m\u001b[43m_get_value\u001b[49m\u001b[43m(\u001b[49m\u001b[43mkey\u001b[49m\u001b[43m)\u001b[49m\n\u001b[1;32m   1009\u001b[0m \u001b[38;5;28;01mif\u001b[39;00m is_hashable(key):\n\u001b[1;32m   1010\u001b[0m     \u001b[38;5;66;03m# Otherwise index.get_value will raise InvalidIndexError\u001b[39;00m\n\u001b[1;32m   1011\u001b[0m     \u001b[38;5;28;01mtry\u001b[39;00m:\n\u001b[1;32m   1012\u001b[0m         \u001b[38;5;66;03m# For labels that don't resolve as scalars like tuples and frozensets\u001b[39;00m\n",
      "File \u001b[0;32m/usr/local/lib/python3.8/dist-packages/pandas/core/series.py:1116\u001b[0m, in \u001b[0;36mSeries._get_value\u001b[0;34m(self, label, takeable)\u001b[0m\n\u001b[1;32m   1113\u001b[0m     \u001b[38;5;28;01mreturn\u001b[39;00m \u001b[38;5;28mself\u001b[39m\u001b[38;5;241m.\u001b[39m_values[label]\n\u001b[1;32m   1115\u001b[0m \u001b[38;5;66;03m# Similar to Index.get_value, but we do not fall back to positional\u001b[39;00m\n\u001b[0;32m-> 1116\u001b[0m loc \u001b[38;5;241m=\u001b[39m \u001b[38;5;28;43mself\u001b[39;49m\u001b[38;5;241;43m.\u001b[39;49m\u001b[43mindex\u001b[49m\u001b[38;5;241;43m.\u001b[39;49m\u001b[43mget_loc\u001b[49m\u001b[43m(\u001b[49m\u001b[43mlabel\u001b[49m\u001b[43m)\u001b[49m\n\u001b[1;32m   1118\u001b[0m \u001b[38;5;28;01mif\u001b[39;00m is_integer(loc):\n\u001b[1;32m   1119\u001b[0m     \u001b[38;5;28;01mreturn\u001b[39;00m \u001b[38;5;28mself\u001b[39m\u001b[38;5;241m.\u001b[39m_values[loc]\n",
      "File \u001b[0;32m/usr/local/lib/python3.8/dist-packages/pandas/core/indexes/multi.py:2812\u001b[0m, in \u001b[0;36mMultiIndex.get_loc\u001b[0;34m(self, key)\u001b[0m\n\u001b[1;32m   2809\u001b[0m     \u001b[38;5;28;01mreturn\u001b[39;00m mask\n\u001b[1;32m   2811\u001b[0m \u001b[38;5;28;01mif\u001b[39;00m \u001b[38;5;129;01mnot\u001b[39;00m \u001b[38;5;28misinstance\u001b[39m(key, \u001b[38;5;28mtuple\u001b[39m):\n\u001b[0;32m-> 2812\u001b[0m     loc \u001b[38;5;241m=\u001b[39m \u001b[38;5;28;43mself\u001b[39;49m\u001b[38;5;241;43m.\u001b[39;49m\u001b[43m_get_level_indexer\u001b[49m\u001b[43m(\u001b[49m\u001b[43mkey\u001b[49m\u001b[43m,\u001b[49m\u001b[43m \u001b[49m\u001b[43mlevel\u001b[49m\u001b[38;5;241;43m=\u001b[39;49m\u001b[38;5;241;43m0\u001b[39;49m\u001b[43m)\u001b[49m\n\u001b[1;32m   2813\u001b[0m     \u001b[38;5;28;01mreturn\u001b[39;00m _maybe_to_slice(loc)\n\u001b[1;32m   2815\u001b[0m keylen \u001b[38;5;241m=\u001b[39m \u001b[38;5;28mlen\u001b[39m(key)\n",
      "File \u001b[0;32m/usr/local/lib/python3.8/dist-packages/pandas/core/indexes/multi.py:3160\u001b[0m, in \u001b[0;36mMultiIndex._get_level_indexer\u001b[0;34m(self, key, level, indexer)\u001b[0m\n\u001b[1;32m   3157\u001b[0m         \u001b[38;5;28;01mreturn\u001b[39;00m \u001b[38;5;28mslice\u001b[39m(i, j, step)\n\u001b[1;32m   3159\u001b[0m \u001b[38;5;28;01melse\u001b[39;00m:\n\u001b[0;32m-> 3160\u001b[0m     idx \u001b[38;5;241m=\u001b[39m \u001b[38;5;28;43mself\u001b[39;49m\u001b[38;5;241;43m.\u001b[39;49m\u001b[43m_get_loc_single_level_index\u001b[49m\u001b[43m(\u001b[49m\u001b[43mlevel_index\u001b[49m\u001b[43m,\u001b[49m\u001b[43m \u001b[49m\u001b[43mkey\u001b[49m\u001b[43m)\u001b[49m\n\u001b[1;32m   3162\u001b[0m     \u001b[38;5;28;01mif\u001b[39;00m level \u001b[38;5;241m>\u001b[39m \u001b[38;5;241m0\u001b[39m \u001b[38;5;129;01mor\u001b[39;00m \u001b[38;5;28mself\u001b[39m\u001b[38;5;241m.\u001b[39m_lexsort_depth \u001b[38;5;241m==\u001b[39m \u001b[38;5;241m0\u001b[39m:\n\u001b[1;32m   3163\u001b[0m         \u001b[38;5;66;03m# Desired level is not sorted\u001b[39;00m\n\u001b[1;32m   3164\u001b[0m         \u001b[38;5;28;01mif\u001b[39;00m \u001b[38;5;28misinstance\u001b[39m(idx, \u001b[38;5;28mslice\u001b[39m):\n\u001b[1;32m   3165\u001b[0m             \u001b[38;5;66;03m# test_get_loc_partial_timestamp_multiindex\u001b[39;00m\n",
      "File \u001b[0;32m/usr/local/lib/python3.8/dist-packages/pandas/core/indexes/multi.py:2752\u001b[0m, in \u001b[0;36mMultiIndex._get_loc_single_level_index\u001b[0;34m(self, level_index, key)\u001b[0m\n\u001b[1;32m   2750\u001b[0m     \u001b[38;5;28;01mreturn\u001b[39;00m \u001b[38;5;241m-\u001b[39m\u001b[38;5;241m1\u001b[39m\n\u001b[1;32m   2751\u001b[0m \u001b[38;5;28;01melse\u001b[39;00m:\n\u001b[0;32m-> 2752\u001b[0m     \u001b[38;5;28;01mreturn\u001b[39;00m \u001b[43mlevel_index\u001b[49m\u001b[38;5;241;43m.\u001b[39;49m\u001b[43mget_loc\u001b[49m\u001b[43m(\u001b[49m\u001b[43mkey\u001b[49m\u001b[43m)\u001b[49m\n",
      "File \u001b[0;32m/usr/local/lib/python3.8/dist-packages/pandas/core/indexes/base.py:3654\u001b[0m, in \u001b[0;36mIndex.get_loc\u001b[0;34m(self, key)\u001b[0m\n\u001b[1;32m   3652\u001b[0m     \u001b[38;5;28;01mreturn\u001b[39;00m \u001b[38;5;28mself\u001b[39m\u001b[38;5;241m.\u001b[39m_engine\u001b[38;5;241m.\u001b[39mget_loc(casted_key)\n\u001b[1;32m   3653\u001b[0m \u001b[38;5;28;01mexcept\u001b[39;00m \u001b[38;5;167;01mKeyError\u001b[39;00m \u001b[38;5;28;01mas\u001b[39;00m err:\n\u001b[0;32m-> 3654\u001b[0m     \u001b[38;5;28;01mraise\u001b[39;00m \u001b[38;5;167;01mKeyError\u001b[39;00m(key) \u001b[38;5;28;01mfrom\u001b[39;00m \u001b[38;5;21;01merr\u001b[39;00m\n\u001b[1;32m   3655\u001b[0m \u001b[38;5;28;01mexcept\u001b[39;00m \u001b[38;5;167;01mTypeError\u001b[39;00m:\n\u001b[1;32m   3656\u001b[0m     \u001b[38;5;66;03m# If we have a listlike key, _check_indexing_error will raise\u001b[39;00m\n\u001b[1;32m   3657\u001b[0m     \u001b[38;5;66;03m#  InvalidIndexError. Otherwise we fall through and re-raise\u001b[39;00m\n\u001b[1;32m   3658\u001b[0m     \u001b[38;5;66;03m#  the TypeError.\u001b[39;00m\n\u001b[1;32m   3659\u001b[0m     \u001b[38;5;28mself\u001b[39m\u001b[38;5;241m.\u001b[39m_check_indexing_error(key)\n",
      "\u001b[0;31mKeyError\u001b[0m: 1500"
     ]
    },
    {
     "data": {
      "image/png": "[encoded data removed]",
      "text/plain": [
       "<Figure size 640x480 with 1 Axes>"
      ]
     },
     "metadata": {},
     "output_type": "display_data"
    }
   ],
   "source": [
    "channels2=['PB','PC','PD']\n",
    "\n",
    "fig = plt.figure()\n",
    "fig.subplots_adjust(hspace=0.7, wspace=0.5)\n",
    "\n",
    "for j,channel in enumerate(channels2):\n",
    "    plt.subplot(2,3,j+1)\n",
    "    plt.plot(events.Z3[channel][1500]) # index 0 corresponds to first event\n",
    "    plt.title(channel)\n",
    "    plt.xlabel('Bin')\n",
    "    plt.ylabel('Trace amplitude')\n",
    "\n",
    "plt.suptitle('Event 1500 on All Z3 Channels')\n",
    "plt.show()"
   ]
  },
  {
   "cell_type": "code",
   "execution_count": null,
   "metadata": {},
   "outputs": [],
   "source": [
    "channels2=['PA','PB']\n",
    "\n",
    "fig = plt.figure()\n",
    "fig.subplots_adjust(hspace=0.7, wspace=0.5)\n",
    "\n",
    "for j,channel in enumerate(channels2):\n",
    "    plt.subplot(2,3,j+1)\n",
    "    plt.plot(events.Z4[channel][1500]) # index 0 corresponds to first event\n",
    "    plt.title(channel)\n",
    "    plt.xlabel('Bin')\n",
    "    plt.ylabel('Trace amplitude')\n",
    "\n",
    "plt.suptitle('Event 1500 on All Z4 Channels')\n",
    "plt.show()"
   ]
  },
  {
   "cell_type": "code",
   "execution_count": null,
   "metadata": {},
   "outputs": [],
   "source": [
    "plt.figure()\n",
    "\n",
    "for j in range(1499,1505):\n",
    "    plt.plot(events.Z1.PA[j]) # iterate over the first 20 events\n",
    "\n",
    "plt.title('6 Sample Events on Z1PA')\n",
    "plt.show()"
   ]
  },
  {
   "cell_type": "code",
   "execution_count": null,
   "metadata": {},
   "outputs": [],
   "source": [
    "events['Z1']['PA'][0]"
   ]
  },
  {
   "cell_type": "code",
   "execution_count": null,
   "metadata": {},
   "outputs": [],
   "source": [
    "zips=['Z1','Z3']\n",
    "channels=['PA','PB','PC','PD']\n",
    "\n",
    "fig = plt.figure()\n",
    "fig.subplots_adjust(hspace=0.7, wspace=0.5)\n",
    "for i,zips in enumerate(zips):\n",
    "    plt.subplot(2,3,i+1) \n",
    "    for j,channel in enumerate(channels):\n",
    "        plt.subplot(2,3,j+1)\n",
    "        plt.plot(events[zips][channel][1500],label=zips) # index 0 corresponds to first event\n",
    "        plt.title(channel)\n",
    "        plt.xlabel('Bin')\n",
    "        plt.ylabel('Trace amplitude')\n",
    "\n",
    "plt.suptitle('event 1500 on All Channels')\n",
    "plt.legend()\n",
    "plt.show()"
   ]
  },
  {
   "cell_type": "code",
   "execution_count": null,
   "metadata": {},
   "outputs": [],
   "source": [
    "#Re-map events to actual channels\n",
    "zips=['Z1','Z3']\n",
    "channels=['PA','PB','PC','PD']\n",
    "\n",
    "for zips in (zips):\n",
    "    for channels in (channels):\n",
    "        for i in (events[zips][channels]):\n",
    "            if zips=='Z1':\n",
    "                if channels=='PA':\n",
    "                    eventsMap['PE'][i]=dict()\n",
    "                    eventsMap['PE'][i].append(events[zips][channels][i])\n",
    "                elif channels=='PB':\n",
    "                    eventsMap['PB'][i]=dict()\n",
    "                    eventsMap['PB'][i].append(events[zips][channels][i])\n",
    "                elif channels=='PC':\n",
    "                    eventsMap['PD'][i]=dict()\n",
    "                    eventsMap['PD'][i].append(events[zips][channels][i])\n",
    "            elif zips=='Z3':\n",
    "                if channels=='PB':\n",
    "                    eventsMap['PA'][i]=dict()\n",
    "                    eventsMap['PA'][i].append(events[zips][channels][i])\n",
    "                elif channels=='PC':\n",
    "                    eventsMap['PC'][i]=dict()\n",
    "                    eventsMap['PC'][i].append(events[zips][channels][i])\n",
    "                elif channels=='PD':\n",
    "                    eventsMap['PF'][i]=dict()\n",
    "                    eventsMap['PF'][i].append(events[zips][channels][i])"
   ]
  },
  {
   "cell_type": "code",
   "execution_count": null,
   "metadata": {},
   "outputs": [],
   "source": [
    "eventsMap['PA']"
   ]
  },
  {
   "cell_type": "code",
   "execution_count": null,
   "metadata": {},
   "outputs": [],
   "source": [
    "for j,channel in enumerate(detchan):\n",
    "        plt.subplot(2,3,j+1)\n",
    "        plt.plot(eventsMap[channel][1500]) # index 0 corresponds to first event\n",
    "        plt.title(channel)\n",
    "        plt.xlabel('Bin')\n",
    "        plt.ylabel('Trace amplitude')\n",
    "\n",
    "plt.suptitle('Event 1500 on All Channels')\n",
    "plt.legend()\n",
    "plt.show()"
   ]
  },
  {
   "cell_type": "code",
   "execution_count": null,
   "metadata": {},
   "outputs": [],
   "source": [
    "RQ[1].allkeys()"
   ]
  },
  {
   "cell_type": "code",
   "execution_count": null,
   "metadata": {},
   "outputs": [],
   "source": [
    "PTOFamps=[]\n",
    "for i in range(1,10):\n",
    "    PTOFamps.extend(RQ[i]['rqDir/zip1']['PTOFamps'].array()[RQ[i]['rqDir/eventTree']['EventCategory'].array()==0])"
   ]
  },
  {
   "cell_type": "code",
   "execution_count": null,
   "metadata": {},
   "outputs": [],
   "source": [
    "for i in range(11,20):\n",
    "    PTOFamps.extend(RQ[i]['rqDir/zip1']['PTOFamps'].array()[RQ[i]['rqDir/eventTree']['EventCategory'].array()==0])"
   ]
  },
  {
   "cell_type": "code",
   "execution_count": null,
   "metadata": {},
   "outputs": [],
   "source": [
    "for i in range(21,29):\n",
    "    PTOFamps.extend(RQ[i]['rqDir/zip1']['PTOFamps'].array()[RQ[i]['rqDir/eventTree']['EventCategory'].array()==0])"
   ]
  },
  {
   "cell_type": "code",
   "execution_count": null,
   "metadata": {},
   "outputs": [],
   "source": [
    "plt.hist(PTOFamps,bins=100,range=[1e-8,1e-6])\n",
    "plt.yscale('log')\n",
    "\n",
    "plt.ticklabel_format(axis=\"x\", style=\"sci\", scilimits=(0,0))"
   ]
  },
  {
   "cell_type": "code",
   "execution_count": null,
   "metadata": {},
   "outputs": [],
   "source": [
    "PFS1OFamps=[]\n",
    "for i in range(1,10):\n",
    "    PFS1OFamps.extend(RQ[i]['rqDir/zip1']['PFS1OFamps'].array()[RQ[i]['rqDir/eventTree']['EventCategory'].array()==0])"
   ]
  },
  {
   "cell_type": "code",
   "execution_count": null,
   "metadata": {},
   "outputs": [],
   "source": [
    "for i in range(11,20):\n",
    "    PFS1OFamps.extend(RQ[i]['rqDir/zip1']['PFS1OFamps'].array()[RQ[i]['rqDir/eventTree']['EventCategory'].array()==0])"
   ]
  },
  {
   "cell_type": "code",
   "execution_count": null,
   "metadata": {},
   "outputs": [],
   "source": [
    "for i in range(21,29):\n",
    "    PFS1OFamps.extend(RQ[i]['rqDir/zip1']['PFS1OFamps'].array()[RQ[i]['rqDir/eventTree']['EventCategory'].array()==0])"
   ]
  },
  {
   "cell_type": "code",
   "execution_count": null,
   "metadata": {},
   "outputs": [],
   "source": [
    "plt.hist(PFS1OFamps,bins=100,range=[0,1e-6])\n",
    "plt.yscale('log')\n",
    "\n",
    "plt.ticklabel_format(axis=\"x\", style=\"sci\", scilimits=(0,0))"
   ]
  },
  {
   "cell_type": "code",
   "execution_count": null,
   "metadata": {},
   "outputs": [],
   "source": [
    "PFS2OFamps=[]\n",
    "for i in range(1,10):\n",
    "    PFS2OFamps.extend(RQ[i]['rqDir/zip1']['PFS2OFamps'].array()[RQ[i]['rqDir/eventTree']['EventCategory'].array()==0])"
   ]
  },
  {
   "cell_type": "code",
   "execution_count": null,
   "metadata": {},
   "outputs": [],
   "source": [
    "for i in range(11,20):\n",
    "    PFS2OFamps.extend(RQ[i]['rqDir/zip1']['PFS2OFamps'].array()[RQ[i]['rqDir/eventTree']['EventCategory'].array()==0])"
   ]
  },
  {
   "cell_type": "code",
   "execution_count": null,
   "metadata": {},
   "outputs": [],
   "source": [
    "for i in range(21,29):\n",
    "    PFS2OFamps.extend(RQ[i]['rqDir/zip1']['PFS2OFamps'].array()[RQ[i]['rqDir/eventTree']['EventCategory'].array()==0])"
   ]
  },
  {
   "cell_type": "code",
   "execution_count": null,
   "metadata": {},
   "outputs": [],
   "source": [
    "plt.hist(PFS2OFamps,bins=100,range=[0,1e-6])\n",
    "plt.yscale('log')\n",
    "\n",
    "plt.ticklabel_format(axis=\"x\", style=\"sci\", scilimits=(0,0))"
   ]
  },
  {
   "cell_type": "code",
   "execution_count": null,
   "metadata": {},
   "outputs": [],
   "source": []
  }
 ],
 "metadata": {
  "kernelspec": {
   "display_name": "Python 3 (ipykernel)",
   "language": "python",
   "name": "python3"
  },
  "language_info": {
   "codemirror_mode": {
    "name": "ipython",
    "version": 3
   },
   "file_extension": ".py",
   "mimetype": "text/x-python",
   "name": "python",
   "nbconvert_exporter": "python",
   "pygments_lexer": "ipython3",
   "version": "3.8.10"
  }
 },
 "nbformat": 4,
 "nbformat_minor": 4
}
