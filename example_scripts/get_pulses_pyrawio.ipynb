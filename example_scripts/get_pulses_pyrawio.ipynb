{
 "cells": [
  {
   "cell_type": "markdown",
   "id": "5c6fb936-c62f-45c4-a680-994c1ecd4470",
   "metadata": {},
   "source": [
    "Getting Pulses Using `pyRawIO` \n",
    "==============================\n",
    "\n",
    "The SuperCDMS library `pyRawIO` allows us to read raw MIDAS DAQ files directly to get the raw pulses that our analysis RQs are based on. The library is hosted on the GitLab page for SuperCDMS [[GitLab:pyRawIO][GitLab:pyRawIO]]. The library `pyRawIO` depends on other libraries like `CDMSbats` and `ROOT`-- those are sometimes difficult to install so these instructions focus on using a `singularity` container [[Singularity][Singularity]] where all of that stuff is already pre-installed and all you need to run this is to install `singularity` and have the image files (which are maintained by SuperCDMS [[Singularity-Images][Singularity-Images]]). \n",
    "\n",
    "[GitLab:pyRawIO]: https://gitlab.com/supercdms/DataHandling/pyRawIO \"GitLab:pyRawIO\"\n",
    "[Singularity]: https://docs.sylabs.io/guides/latest/user-guide/introduction.html \"Singularity\" \n",
    "[Singularity-Images]: https://confluence.slac.stanford.edu/display/CDMS/Using+Containerized+CDMS+Offline+Releases#UsingContainerizedCDMSOfflineReleases-WheretogettheSingularityimagesfrom? \"SCDMS Singularity Image Registry\""
   ]
  },
  {
   "cell_type": "code",
   "execution_count": null,
   "id": "602b0093-2094-47a1-bb56-cb6042c75b76",
   "metadata": {},
   "outputs": [],
   "source": []
  }
 ],
 "metadata": {
  "kernelspec": {
   "display_name": "Python (fano_pub_new)",
   "language": "python",
   "name": "fano_pub_new"
  },
  "language_info": {
   "codemirror_mode": {
    "name": "ipython",
    "version": 3
   },
   "file_extension": ".py",
   "mimetype": "text/x-python",
   "name": "python",
   "nbconvert_exporter": "python",
   "pygments_lexer": "ipython3",
   "version": "3.9.12"
  }
 },
 "nbformat": 4,
 "nbformat_minor": 5
}
