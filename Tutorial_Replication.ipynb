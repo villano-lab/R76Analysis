{
 "cells": [
  {
   "cell_type": "markdown",
   "id": "eea26035-746c-450f-9ae2-46473c984f2f",
   "metadata": {},
   "source": [
    "# Tutorial Replication\n",
    "\n",
    "The purpose of this notebook is simply to replicate Matt's tutorial, which can be found [on Panopto](https://ucdenver.hosted.panopto.com/Panopto/Pages/Sessions/List.aspx#folderID=%2265406b5e-52ef-428d-94d9-af6601597a08%22) in [two](https://ucdenver.hosted.panopto.com/Panopto/Pages/Viewer.aspx?id=c057cf3a-b1bd-4f85-a0e2-af66015ed850) [parts](https://ucdenver.hosted.panopto.com/Panopto/Pages/Viewer.aspx?id=b2e63522-720c-48e4-956a-af6901740c79). This will help us get an idea of how the syntax differs between pure ROOT and the Jupyter kernel implementation."
   ]
  },
  {
   "cell_type": "code",
   "execution_count": 1,
   "id": "175d7ea9-a703-4b8d-acab-4e4c7a0c81a4",
   "metadata": {},
   "outputs": [],
   "source": [
    "import uproot\n",
    "import glob\n",
    "import numpy as np"
   ]
  },
  {
   "cell_type": "code",
   "execution_count": 2,
   "id": "f5e6f485-e261-4e21-b274-e51a022c43e8",
   "metadata": {},
   "outputs": [],
   "source": [
    "#These are for plotting, so we can ignore them for now\n",
    "#gStyle->SetOptStat(0)\n",
    "#gStyle->SetOptFit(1)\n",
    "datapath =\"/data/R76Data/\"\n",
    "ser = [\"07220822_1828\",\"07220826_1219\",\"07220826_1536\",\"07220826_2007\",\"07220827_1153\",\"07220830_1724\"]\n",
    "lab = [\"0V\",\"-4V\",\"-21V\",\"-65V\",\"-84V\",\"-84V\"]\n",
    "#As a Chain is a collection of Trees, \n",
    "#I am approximating the chain as a list of Trees.\n",
    "nser = 6; e = []; z = [];\n",
    "for s in range(nser):\n",
    "    e_sublist = []; z_sublist = [];\n",
    "    for file in glob.glob(datapath+ser[s]+\"/umn*root\"):\n",
    "        e_sublist.append(uproot.open(file)[\"rqDir/eventTree\"])\n",
    "        z_sublist.append(uproot.open(file)[\"rqDir/zip1\"])\n",
    "        #Ensure that my assumptions about these two lists are correct.\n",
    "        #If they are, I can dump all the keys in a tree of e \n",
    "        #into the corresponding tree of z as an approximation of friendship.\n",
    "        \"\"\"\n",
    "        for x in e_sublist[-1].keys():\n",
    "            if x in z_sublist[-1].keys():\n",
    "                print(x)\n",
    "        #\"\"\"#they have no overlap; good. next check:\n",
    "        \"\"\"\n",
    "        for i in e_sublist[-1].keys():\n",
    "            for j in e_sublist[-1].keys():\n",
    "                if len(e_sublist[-1][i].array()) != len(e_sublist[-1][j].array()):\n",
    "                    print(i,j)\n",
    "        #\"\"\"#all entries in the same tree are of the same length; good.\n",
    "        #Now check if they are the same across e and z:\n",
    "        \"\"\"\n",
    "        for i in e_sublist[-1].keys():\n",
    "            for j in z_sublist[-1].keys():\n",
    "                if len(e_sublist[-1][i].array()) != len(z_sublist[-1][j].array()):\n",
    "                    print(i,j)\n",
    "        #\"\"\"#excellent, now to zip them together:\n",
    "        #...how do I do that??\n",
    "        \n",
    "            \n",
    "    e.append(e_sublist); z.append(z_sublist)\n",
    "    #friends are complicated. here's the docs page on tchain friends: \n",
    "    #https://root.cern/doc/master/classTChain.html#a967c9e4e14e314b46e4c11bc6a1c2353"
   ]
  },
  {
   "cell_type": "code",
   "execution_count": 4,
   "id": "95977845-75ba-4035-b770-74fa6f9e45fa",
   "metadata": {},
   "outputs": [
    {
     "name": "stdout",
     "output_type": "stream",
     "text": [
      "161790\n"
     ]
    }
   ],
   "source": [
    "#My version of GetEntries for chain\n",
    "def GetEntries(z):\n",
    "    numentries = 0;\n",
    "    for i in range(len(z[0])):\n",
    "        numentries += z[0][i].num_entries\n",
    "    return numentries\n",
    "print(GetEntries(z[0]))"
   ]
  },
  {
   "cell_type": "code",
   "execution_count": null,
   "id": "b4e22f45-010e-4d8c-9ba5-fded9b688196",
   "metadata": {},
   "outputs": [],
   "source": []
  }
 ],
 "metadata": {
  "kernelspec": {
   "display_name": "Python 3 (ipykernel)",
   "language": "python",
   "name": "python3"
  },
  "language_info": {
   "codemirror_mode": {
    "name": "ipython",
    "version": 3
   },
   "file_extension": ".py",
   "mimetype": "text/x-python",
   "name": "python",
   "nbconvert_exporter": "python",
   "pygments_lexer": "ipython3",
   "version": "3.10.6"
  }
 },
 "nbformat": 4,
 "nbformat_minor": 5
}
