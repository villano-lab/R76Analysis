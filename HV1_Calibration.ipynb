{
 "cells": [
  {
   "cell_type": "markdown",
   "id": "db605535-146b-4854-a72d-3b6f71d7b32a",
   "metadata": {},
   "source": [
    "# HV Calibration\n",
    "\n",
    "This notebook is a first attempt at performing calibration based on HV data. The calibration will be based on Matt's work [here (login required)](https://zzz.physics.umn.edu/!cdms/cdms/k100/run_summary/run_76#calibration_with_baseline_correction), rather than the previous, incorrect ladder calibration."
   ]
  },
  {
   "cell_type": "code",
   "execution_count": 1,
   "id": "516a6efc-3974-4989-ae19-8fe92a3de968",
   "metadata": {},
   "outputs": [],
   "source": [
    "#Imports\n",
    "import uproot\n",
    "import glob\n",
    "import math\n",
    "import numpy as np\n",
    "import pandas as pd\n",
    "import datetime as dt\n",
    "import lmfit as lf\n",
    "import matplotlib.pyplot as plt\n",
    "from matplotlib import cm\n",
    "#%matplotlib inline"
   ]
  },
  {
   "cell_type": "code",
   "execution_count": 5,
   "id": "a714e2f3-0fbd-4c58-b970-86cd81ed131e",
   "metadata": {},
   "outputs": [
    {
     "name": "stdout",
     "output_type": "stream",
     "text": [
      "[Empty DataFrame\n",
      "Columns: []\n",
      "Index: [], Empty DataFrame\n",
      "Columns: []\n",
      "Index: [], Empty DataFrame\n",
      "Columns: []\n",
      "Index: [], Empty DataFrame\n",
      "Columns: []\n",
      "Index: [], Empty DataFrame\n",
      "Columns: []\n",
      "Index: [], Empty DataFrame\n",
      "Columns: []\n",
      "Index: []]\n"
     ]
    }
   ],
   "source": [
    "datapath = \"RQData/\"\n",
    "ser = [\"07220822_1828\",\"07220826_1219\",\"07220826_1536\",\"07220826_2007\",\"07220827_1153\",\"07220830_1724\"]#[\"07220702_0911\"]\n",
    "lab = [\"0V\",\"-4V\",\"-21V\",\"-65V\",\"-84V\",\"-84V\"] #[\"data\"]\n",
    "\n",
    "nser = len(ser); e=[]; z=[];\n",
    "for s in range(nser):\n",
    "    e_chain = pd.DataFrame(); z_chain = pd.DataFrame();\n",
    "    for file in glob.glob(datapath+ser[s]+\"/umn*root\"):\n",
    "        #print(file)\n",
    "        if e_chain.empty: #For first entry, generate columns\n",
    "            e_chain = pd.concat([e_chain,uproot.open(file)[\"rqDir/eventTree\"].pandas.df()],axis=1)\n",
    "            z_chain = pd.concat([z_chain,uproot.open(file)[\"rqDir/zip1\"].pandas.df()],axis=1)\n",
    "        else:\n",
    "            e_chain = pd.concat([e_chain,uproot.open(file)[\"rqDir/eventTree\"].pandas.df()],ignore_index=True)\n",
    "            z_chain = pd.concat([z_chain,uproot.open(file)[\"rqDir/zip1\"].pandas.df()],ignore_index=True)\n",
    "    e.append(e_chain); z.append(z_chain)\n",
    "    \n",
    "for i,x in enumerate(z):\n",
    "    z[i] = pd.concat([x,e[i]],axis=1)\n",
    "\n",
    "#print(list(z[0])) #really just verifying that I imported something\n",
    "\n",
    "#extra simplifying code if we have only one series\n",
    "#z = z[0]\n",
    "#e = e[0]\n",
    "\n",
    "#print(z)"
   ]
  },
  {
   "cell_type": "code",
   "execution_count": 3,
   "id": "30533af5-95b9-48e2-be9d-2732f6b36ad3",
   "metadata": {},
   "outputs": [
    {
     "ename": "KeyError",
     "evalue": "'EventCategory'",
     "output_type": "error",
     "traceback": [
      "\u001b[1;31m---------------------------------------------------------------------------\u001b[0m",
      "\u001b[1;31mKeyError\u001b[0m                                  Traceback (most recent call last)",
      "File \u001b[1;32m~\\anaconda3\\lib\\site-packages\\pandas\\core\\indexes\\base.py:3629\u001b[0m, in \u001b[0;36mIndex.get_loc\u001b[1;34m(self, key, method, tolerance)\u001b[0m\n\u001b[0;32m   3628\u001b[0m \u001b[38;5;28;01mtry\u001b[39;00m:\n\u001b[1;32m-> 3629\u001b[0m     \u001b[38;5;28;01mreturn\u001b[39;00m \u001b[38;5;28;43mself\u001b[39;49m\u001b[38;5;241;43m.\u001b[39;49m\u001b[43m_engine\u001b[49m\u001b[38;5;241;43m.\u001b[39;49m\u001b[43mget_loc\u001b[49m\u001b[43m(\u001b[49m\u001b[43mcasted_key\u001b[49m\u001b[43m)\u001b[49m\n\u001b[0;32m   3630\u001b[0m \u001b[38;5;28;01mexcept\u001b[39;00m \u001b[38;5;167;01mKeyError\u001b[39;00m \u001b[38;5;28;01mas\u001b[39;00m err:\n",
      "File \u001b[1;32m~\\anaconda3\\lib\\site-packages\\pandas\\_libs\\index.pyx:136\u001b[0m, in \u001b[0;36mpandas._libs.index.IndexEngine.get_loc\u001b[1;34m()\u001b[0m\n",
      "File \u001b[1;32m~\\anaconda3\\lib\\site-packages\\pandas\\_libs\\index.pyx:163\u001b[0m, in \u001b[0;36mpandas._libs.index.IndexEngine.get_loc\u001b[1;34m()\u001b[0m\n",
      "File \u001b[1;32mpandas\\_libs\\hashtable_class_helper.pxi:5198\u001b[0m, in \u001b[0;36mpandas._libs.hashtable.PyObjectHashTable.get_item\u001b[1;34m()\u001b[0m\n",
      "File \u001b[1;32mpandas\\_libs\\hashtable_class_helper.pxi:5206\u001b[0m, in \u001b[0;36mpandas._libs.hashtable.PyObjectHashTable.get_item\u001b[1;34m()\u001b[0m\n",
      "\u001b[1;31mKeyError\u001b[0m: 'EventCategory'",
      "\nThe above exception was the direct cause of the following exception:\n",
      "\u001b[1;31mKeyError\u001b[0m                                  Traceback (most recent call last)",
      "Cell \u001b[1;32mIn[3], line 2\u001b[0m\n\u001b[0;32m      1\u001b[0m \u001b[38;5;28;01mfor\u001b[39;00m x \u001b[38;5;129;01min\u001b[39;00m z:\n\u001b[1;32m----> 2\u001b[0m     x[\u001b[38;5;124m'\u001b[39m\u001b[38;5;124mcrand\u001b[39m\u001b[38;5;124m'\u001b[39m] \u001b[38;5;241m=\u001b[39m np\u001b[38;5;241m.\u001b[39marray([(y\u001b[38;5;241m==\u001b[39m\u001b[38;5;241m1\u001b[39m) \u001b[38;5;28;01mfor\u001b[39;00m y \u001b[38;5;129;01min\u001b[39;00m \u001b[43mx\u001b[49m\u001b[43m[\u001b[49m\u001b[38;5;124;43m'\u001b[39;49m\u001b[38;5;124;43mEventCategory\u001b[39;49m\u001b[38;5;124;43m'\u001b[39;49m\u001b[43m]\u001b[49m])\n\u001b[0;32m      3\u001b[0m     x[\u001b[38;5;124m'\u001b[39m\u001b[38;5;124mPTwid\u001b[39m\u001b[38;5;124m'\u001b[39m] \u001b[38;5;241m=\u001b[39m (x[\u001b[38;5;124m'\u001b[39m\u001b[38;5;124mPTWKf40\u001b[39m\u001b[38;5;124m'\u001b[39m] \u001b[38;5;241m-\u001b[39m x[\u001b[38;5;124m'\u001b[39m\u001b[38;5;124mPTWKr40\u001b[39m\u001b[38;5;124m'\u001b[39m])\u001b[38;5;241m*\u001b[39m\u001b[38;5;241m1e6\u001b[39m\n\u001b[0;32m      4\u001b[0m     x[\u001b[38;5;124m'\u001b[39m\u001b[38;5;124mPTdbs\u001b[39m\u001b[38;5;124m'\u001b[39m] \u001b[38;5;241m=\u001b[39m (x[\u001b[38;5;124m'\u001b[39m\u001b[38;5;124mPAbspost\u001b[39m\u001b[38;5;124m'\u001b[39m] \u001b[38;5;241m-\u001b[39m x[\u001b[38;5;124m'\u001b[39m\u001b[38;5;124mPAbs\u001b[39m\u001b[38;5;124m'\u001b[39m] \u001b[38;5;241m+\u001b[39m x[\u001b[38;5;124m'\u001b[39m\u001b[38;5;124mPBbspost\u001b[39m\u001b[38;5;124m'\u001b[39m] \u001b[38;5;241m-\u001b[39m x[\u001b[38;5;124m'\u001b[39m\u001b[38;5;124mPBbs\u001b[39m\u001b[38;5;124m'\u001b[39m] \n\u001b[0;32m      5\u001b[0m         \u001b[38;5;241m+\u001b[39m x[\u001b[38;5;124m'\u001b[39m\u001b[38;5;124mPCbspost\u001b[39m\u001b[38;5;124m'\u001b[39m] \u001b[38;5;241m-\u001b[39m x[\u001b[38;5;124m'\u001b[39m\u001b[38;5;124mPCbs\u001b[39m\u001b[38;5;124m'\u001b[39m] \u001b[38;5;241m+\u001b[39m x[\u001b[38;5;124m'\u001b[39m\u001b[38;5;124mPDbspost\u001b[39m\u001b[38;5;124m'\u001b[39m] \u001b[38;5;241m-\u001b[39m x[\u001b[38;5;124m'\u001b[39m\u001b[38;5;124mPDbs\u001b[39m\u001b[38;5;124m'\u001b[39m] \u001b[38;5;241m+\u001b[39m x[\u001b[38;5;124m'\u001b[39m\u001b[38;5;124mPEbspost\u001b[39m\u001b[38;5;124m'\u001b[39m] \u001b[38;5;241m-\u001b[39m x[\u001b[38;5;124m'\u001b[39m\u001b[38;5;124mPEbs\u001b[39m\u001b[38;5;124m'\u001b[39m]\n\u001b[0;32m      6\u001b[0m         \u001b[38;5;241m+\u001b[39m x[\u001b[38;5;124m'\u001b[39m\u001b[38;5;124mPFbspost\u001b[39m\u001b[38;5;124m'\u001b[39m] \u001b[38;5;241m-\u001b[39m x[\u001b[38;5;124m'\u001b[39m\u001b[38;5;124mPFbs\u001b[39m\u001b[38;5;124m'\u001b[39m])\n",
      "File \u001b[1;32m~\\anaconda3\\lib\\site-packages\\pandas\\core\\frame.py:3505\u001b[0m, in \u001b[0;36mDataFrame.__getitem__\u001b[1;34m(self, key)\u001b[0m\n\u001b[0;32m   3503\u001b[0m \u001b[38;5;28;01mif\u001b[39;00m \u001b[38;5;28mself\u001b[39m\u001b[38;5;241m.\u001b[39mcolumns\u001b[38;5;241m.\u001b[39mnlevels \u001b[38;5;241m>\u001b[39m \u001b[38;5;241m1\u001b[39m:\n\u001b[0;32m   3504\u001b[0m     \u001b[38;5;28;01mreturn\u001b[39;00m \u001b[38;5;28mself\u001b[39m\u001b[38;5;241m.\u001b[39m_getitem_multilevel(key)\n\u001b[1;32m-> 3505\u001b[0m indexer \u001b[38;5;241m=\u001b[39m \u001b[38;5;28;43mself\u001b[39;49m\u001b[38;5;241;43m.\u001b[39;49m\u001b[43mcolumns\u001b[49m\u001b[38;5;241;43m.\u001b[39;49m\u001b[43mget_loc\u001b[49m\u001b[43m(\u001b[49m\u001b[43mkey\u001b[49m\u001b[43m)\u001b[49m\n\u001b[0;32m   3506\u001b[0m \u001b[38;5;28;01mif\u001b[39;00m is_integer(indexer):\n\u001b[0;32m   3507\u001b[0m     indexer \u001b[38;5;241m=\u001b[39m [indexer]\n",
      "File \u001b[1;32m~\\anaconda3\\lib\\site-packages\\pandas\\core\\indexes\\base.py:3631\u001b[0m, in \u001b[0;36mIndex.get_loc\u001b[1;34m(self, key, method, tolerance)\u001b[0m\n\u001b[0;32m   3629\u001b[0m     \u001b[38;5;28;01mreturn\u001b[39;00m \u001b[38;5;28mself\u001b[39m\u001b[38;5;241m.\u001b[39m_engine\u001b[38;5;241m.\u001b[39mget_loc(casted_key)\n\u001b[0;32m   3630\u001b[0m \u001b[38;5;28;01mexcept\u001b[39;00m \u001b[38;5;167;01mKeyError\u001b[39;00m \u001b[38;5;28;01mas\u001b[39;00m err:\n\u001b[1;32m-> 3631\u001b[0m     \u001b[38;5;28;01mraise\u001b[39;00m \u001b[38;5;167;01mKeyError\u001b[39;00m(key) \u001b[38;5;28;01mfrom\u001b[39;00m \u001b[38;5;21;01merr\u001b[39;00m\n\u001b[0;32m   3632\u001b[0m \u001b[38;5;28;01mexcept\u001b[39;00m \u001b[38;5;167;01mTypeError\u001b[39;00m:\n\u001b[0;32m   3633\u001b[0m     \u001b[38;5;66;03m# If we have a listlike key, _check_indexing_error will raise\u001b[39;00m\n\u001b[0;32m   3634\u001b[0m     \u001b[38;5;66;03m#  InvalidIndexError. Otherwise we fall through and re-raise\u001b[39;00m\n\u001b[0;32m   3635\u001b[0m     \u001b[38;5;66;03m#  the TypeError.\u001b[39;00m\n\u001b[0;32m   3636\u001b[0m     \u001b[38;5;28mself\u001b[39m\u001b[38;5;241m.\u001b[39m_check_indexing_error(key)\n",
      "\u001b[1;31mKeyError\u001b[0m: 'EventCategory'"
     ]
    }
   ],
   "source": [
    "for x in z:\n",
    "    x['crand'] = np.array([(y==1) for y in x['EventCategory']])\n",
    "    x['PTwid'] = (x['PTWKf40'] - x['PTWKr40'])*1e6\n",
    "    x['PTdbs'] = (x['PAbspost'] - x['PAbs'] + x['PBbspost'] - x['PBbs'] \n",
    "        + x['PCbspost'] - x['PCbs'] + x['PDbspost'] - x['PDbs'] + x['PEbspost'] - x['PEbs']\n",
    "        + x['PFbspost'] - x['PFbs'])\n",
    "    x['PTINTall_PTbscorr'] = x['PTINTall'] - ((x['PTdbs']<0)*0.5*x['PTdbs']*4096/x['PFnorm'])\n",
    "    x['pt_keV'] = 7.738820e+07*x['PTOFamps']+1.653756e+13*x['PTOFamps']**2\n",
    "    x['pt_keV_bscorr'] = x['pt_keV']/(1.-0.232*(x['PFbs']-3000.)/150) #baseline correction\n",
    "    x['cam'] = x['PFOFamps']/x['PTOFamps']>0.21 #Americium cut\n",
    "    x['xdel'] = 1e6*(x['PEWKr20'] - 0.5*(x['PCWKr20']+x['PDWKr20']))-1\n",
    "    x['ydel'] = 1e6*(0.866*(x['PDWKr20'] - x['PCWKr20']))+9\n",
    "    x['phidel'] = [180/np.pi*math.atan2(x['ydel'].array[j],x['xdel'].array[j]) for j in range(len(x['ydel'].array))]\n",
    "    x['cphi1'] = x['phidel']>5 and x['phidel'] < 20"
   ]
  },
  {
   "cell_type": "markdown",
   "id": "26f4999a-d3c9-4b30-a54d-7dfa42e1c71d",
   "metadata": {},
   "source": [
    "To get the aliases right, trying to reproduce: https://zzz.physics.umn.edu/!cdms/cdms/k100/run_summary/run_76#calibration_with_baseline_correction"
   ]
  },
  {
   "cell_type": "code",
   "execution_count": null,
   "id": "cb6a5d12-b20a-4947-99c3-303bb780881d",
   "metadata": {},
   "outputs": [],
   "source": [
    "fig = plt.figure()\n",
    "h = plt.hist2d(z[4][\"PFbs\"][~z[4][\"crand\"]][z[4][\"cphi1\"]][z[4][\"cam\"]]-3000,z[4][\"pt_keV\"][~z[4][\"crand\"]][z[4][\"cphi1\"]][z[4][\"cam\"]]\n",
    "               ,bins=[np.linspace(-50,400,200),np.linspace(0,300,150)])\n",
    "plt.ylabel(\"Phonon energy [keV]\")\n",
    "plt.xlabel(\"Baseline elevation\") #Not true yet; just the goal. \n",
    "#Based on the calculation I think this might be what I have now? But,\n",
    "#Based on the plot it's very clearly not it.\n",
    "fig.colorbar(h[3])\n",
    "x = np.array([0,300])\n",
    "plt.plot(x,-0.232*x+150,color='r',linestyle='--')\n",
    "#plt.plot([0,300],[150,75])\n",
    "\n",
    "comment = \"\"\"\n",
    "pointsx = [0,0.22e-6,0.29e-6,0.38e-6] #Measured outputs, not yet known.\n",
    "\n",
    "plt.axhline(pointsx[1],color='red',linestyle='dotted')\n",
    "plt.axhline(pointsx[2],color='red',linestyle='dotted')\n",
    "plt.axhline(pointsx[3],color='red',linestyle='dotted')#\"\"\"\n",
    "\n",
    "plt.show()"
   ]
  },
  {
   "cell_type": "code",
   "execution_count": null,
   "id": "ab1c808f-9fb2-4cfd-ae82-30f326fc0c4b",
   "metadata": {},
   "outputs": [],
   "source": [
    "fig = plt.figure()\n",
    "h = plt.hist2d(z[4][\"PFbs\"][~crand[4]]-3000,z[4][\"pt_keV_bscorr\"][~crand[4]]\n",
    "               ,bins=[np.linspace(-50,400,200),np.linspace(0,300,150)])\n",
    "plt.ylabel(\"Baseline-corrected phonon energy [keV]\")\n",
    "plt.xlabel(\"Baseline elevation\") #Not true yet; just the goal. \n",
    "#Based on the calculation I think this might be what I have now? But,\n",
    "#Based on the plot it's very clearly not it.\n",
    "fig.colorbar(h[3])\n",
    "\n",
    "comment = \"\"\"\n",
    "pointsx = [0,0.22e-6,0.29e-6,0.38e-6] #Measured outputs, not yet known.\n",
    "\n",
    "plt.axhline(pointsx[1],color='red',linestyle='dotted')\n",
    "plt.axhline(pointsx[2],color='red',linestyle='dotted')\n",
    "plt.axhline(pointsx[3],color='red',linestyle='dotted')#\"\"\"\n",
    "\n",
    "plt.show()"
   ]
  },
  {
   "cell_type": "raw",
   "id": "3f6c8a7c-ffd7-4d0f-9861-4e25e7cb429d",
   "metadata": {},
   "source": [
    "pointsx = [0,0.22e-6,0.3e-6,0.38e-6] #Measured outputs, not yet known.\n",
    "pointsy = [0,13.95,17.74,59.54] #Americium lines expected points\n",
    "gcal = [pointsx,pointsy]; del pointsx,pointsy\n",
    "\n",
    "def cal(x,a=1,b=1):\n",
    "    return a*x+b*x**2\n",
    "\n",
    "calmod = lf.Model(cal)\n",
    "calparams = calmod.make_params()\n",
    "calparams.add('a',value=gcal[1][-1]/gcal[0][-1],min=0)\n",
    "calparams.add('b',value=gcal[1][-1]/gcal[0][-1],min=0)\n",
    "calfit = calmod.fit(gcal[1],calparams,x=gcal[0])\n",
    "\n",
    "plotx = np.linspace(0,4e-7,50)\n",
    "plt.plot(plotx,cal(plotx,calfit.best_values['a'],calfit.best_values['b']))\n",
    "plt.scatter(gcal[0],gcal[1])\n",
    "\n",
    "plt.show()\n",
    "\n",
    "calfit"
   ]
  }
 ],
 "metadata": {
  "kernelspec": {
   "display_name": "Python 3 (ipykernel)",
   "language": "python",
   "name": "python3"
  },
  "language_info": {
   "codemirror_mode": {
    "name": "ipython",
    "version": 3
   },
   "file_extension": ".py",
   "mimetype": "text/x-python",
   "name": "python",
   "nbconvert_exporter": "python",
   "pygments_lexer": "ipython3",
   "version": "3.9.16"
  }
 },
 "nbformat": 4,
 "nbformat_minor": 5
}
