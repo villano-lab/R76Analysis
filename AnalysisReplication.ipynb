{
 "cells": [
  {
   "cell_type": "code",
   "execution_count": 1,
   "id": "47d5cb70-75d4-4016-846a-7d27640dae6a",
   "metadata": {},
   "outputs": [],
   "source": [
    "#Imports\n",
    "import uproot\n",
    "import numpy as np\n",
    "import matplotlib.pyplot as plt\n",
    "import matplotlib.dates as md\n",
    "#from datetime import datetime\n",
    "from R76Tools import *\n",
    "\n",
    "#Global Variables etc.\n",
    "frittspath = \"/data/chocula/fritts/data/k100proc/midasrq/byseries/\"\n",
    "neogpath = \"/data/chocula/neog/rq/\"\n",
    "timefmt = md.DateFormatter('%d-%Hh')"
   ]
  },
  {
   "cell_type": "code",
   "execution_count": null,
   "id": "0ca3ec27-c25d-4b65-acc3-5ea43a2967e8",
   "metadata": {},
   "outputs": [],
   "source": [
    "#Per-notebook settings\n",
    "#ser = [\"07221019_1741\",\"07221019_2157\",\"07221020_0849\",\"07221020_1846\",\"07221021_1001\"]\n",
    "ser = [\"07221019_1741\",\"07221019_1832\",\"07221019_2157\",\"07221019_2240\",\"07221020_0849\",\"07221020_0954\",\"07221020_1846\",\"07221020_1948\",\"07221021_1001\",\"07221021_1126\"]\n",
    "path = neogpath\n",
    "\n",
    "#Load data\n",
    "e=[]; z=[];\n",
    "for series in ser:\n",
    "    loc = path + series + \"/umn_*.root\"\n",
    "    e_chain,z_chain = makechain(loc,filters=[fittingfilters,\"EventTime\"])\n",
    "    z_chain = pd.concat([e_chain,z_chain],axis=1)\n",
    "    z.append(z_chain)\n",
    "#Reformat\n",
    "for x in z:\n",
    "    x['crand'] = crand(x)\n",
    "    x['pt_keV'] = pt_keV(x)\n",
    "    x['cam'] =  cam(x)\n",
    "    x['cphi1'] = cphi1(x)\n",
    "    x['PSUMbs'] = x['PAbs']+x['PCbs']+x['PFbs']\n",
    "    x['MplEventTime'] = x['EventTime']/(24*3600)\n",
    "zall = []\n",
    "for zi in z:\n",
    "    if len(zall) == 0:\n",
    "        zall = zi\n",
    "    else:\n",
    "        zall = pd.concat([zall,zi])"
   ]
  },
  {
   "cell_type": "raw",
   "id": "ec640087-f5f0-49c0-a815-1ba838a0713c",
   "metadata": {},
   "source": [
    "#Plotting setup\n",
    "fig, ax = plt.subplots(1,5,sharey=True,gridspec_kw={'width_ratios':[max(x['EventTime'])-min(x['EventTime']) for x in z]}) #this is how we will do broken axis\n",
    "bins = [np.linspace(min(zall[\"MplEventTime\"])-1/24,max(zall[\"MplEventTime\"])+1/24,1000),np.linspace(8200,10000,500)]\n",
    "\n",
    "#Plot the data\n",
    "for i,axis in enumerate(ax):\n",
    "    h = axis.hist2d(z[i][\"MplEventTime\"],z[i][\"PSUMbs\"],bins=bins)\n",
    "    axis.set_xlim(min(z[i][\"MplEventTime\"])-1/200,max(z[i][\"MplEventTime\"])+1/200)\n",
    "    axis.xaxis.set_major_formatter(timefmt)\n",
    "    axis.spines['left'].set_visible(False); axis.spines['right'].set_visible(False)\n",
    "    axis.tick_params(axis='y',left=False,right=False)\n",
    "    axis.tick_params(axis='x',labelrotation=90)\n",
    "#Re-enable the edges\n",
    "ax[0].spines['left'].set_visible(True); ax[-1].spines['right'].set_visible(True)\n",
    "#Re-enable the axis ticks\n",
    "ax[0].yaxis.tick_left(); ax[-1].yaxis.tick_right()\n",
    "#remove gaps\n",
    "plt.subplots_adjust(wspace=0)\n",
    "\n",
    "#Labels\n",
    "fig.suptitle(\"October 2022\",y=0.95)\n",
    "fig.supxlabel(\"Time\",y=-0.095)\n",
    "fig.supylabel(\"P[A+C+F]bs\")\n",
    "fig.colorbar(h[3])\n",
    "#Display\n",
    "plt.show()"
   ]
  },
  {
   "cell_type": "code",
   "execution_count": null,
   "id": "2fd685a7-1121-4ecd-ad39-2ea464869e10",
   "metadata": {},
   "outputs": [],
   "source": [
    "#I misread the axis labels... no broken axis.\n",
    "fig,ax = plt.subplots()\n",
    "bins = [np.linspace(min(zall[\"MplEventTime\"])-1/24,max(zall[\"MplEventTime\"])+1/24,1000),np.linspace(8200,10000,500)]\n",
    "h = ax.hist2d(zall[\"MplEventTime\"],zall[\"PSUMbs\"],bins=bins)\n",
    "plt.title(\"October 2022\")\n",
    "plt.xlabel(\"Time\",y=-0.095)\n",
    "plt.ylabel(\"P[A+C+F]bs\")\n",
    "plt.colorbar(h[3])\n",
    "ax.xaxis.set_major_formatter(timefmt)\n",
    "plt.show()"
   ]
  },
  {
   "cell_type": "code",
   "execution_count": null,
   "id": "ef0192a8-36ac-4c6b-8e1d-1319be69b3e1",
   "metadata": {},
   "outputs": [],
   "source": []
  }
 ],
 "metadata": {
  "kernelspec": {
   "display_name": "Python 3 (ipykernel)",
   "language": "python",
   "name": "python3"
  },
  "language_info": {
   "codemirror_mode": {
    "name": "ipython",
    "version": 3
   },
   "file_extension": ".py",
   "mimetype": "text/x-python",
   "name": "python",
   "nbconvert_exporter": "python",
   "pygments_lexer": "ipython3",
   "version": "3.10.6"
  }
 },
 "nbformat": 4,
 "nbformat_minor": 5
}
