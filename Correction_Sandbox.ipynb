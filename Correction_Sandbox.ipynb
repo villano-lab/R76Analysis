{
 "cells": [
  {
   "cell_type": "markdown",
   "id": "a439aa75-9db5-4ba5-b286-2d992bf21f75",
   "metadata": {
    "tags": []
   },
   "source": [
    "# Setup\n",
    "\n",
    "Don't change this cell; setup should remain the same for all data series."
   ]
  },
  {
   "cell_type": "code",
   "execution_count": 1,
   "id": "c94d49b8-6681-440b-b86c-97f1ba8a6dfb",
   "metadata": {},
   "outputs": [],
   "source": [
    "#Imports\n",
    "import glob, math, time\n",
    "import numpy as np\n",
    "import pandas as pd\n",
    "import lmfit as lf\n",
    "import statistics as s\n",
    "import matplotlib.pyplot as plt\n",
    "from matplotlib.ticker import AutoMinorLocator\n",
    "from scipy import signal as sig\n",
    "\n",
    "#Import custom library included in this repository\n",
    "from R76Tools import *\n",
    "\n",
    "#Use local mplstyle\n",
    "plt.style.use('./default.mplstyle')\n",
    "\n",
    "# Set up possible data paths\n",
    "frittspath = \"/data/chocula/fritts/data/k100proc/midasrq/byseries/\"\n",
    "neogpath = \"/data/chocula/neog/rq/\""
   ]
  },
  {
   "cell_type": "markdown",
   "id": "355f4784-ab9c-4d04-abc4-2f4f1b913587",
   "metadata": {},
   "source": [
    "## Data Selection\n",
    "Change this cell in order to select and label data."
   ]
  },
  {
   "cell_type": "code",
   "execution_count": 125,
   "id": "037463ef-d034-4523-a14d-ecef99863eae",
   "metadata": {},
   "outputs": [],
   "source": [
    "ser = [\"07220919_1723\",\"07220919_2012\",\"07220920_1007\",\"07220920_2138\",\"07220921_1034\",\"07220921_1631\",\"07220921_2055\"]\n",
    "lab = [\"-82V\",\"-82V\",\"-82V\",\"-82V\"]\n",
    "datapath = frittspath #The data is in this folder. change as needed."
   ]
  },
  {
   "cell_type": "markdown",
   "id": "504475e0-5e54-4761-bc1a-67deea8a53ac",
   "metadata": {},
   "source": [
    "# Load and Plot\n",
    "Don't change these cells unless you are experiencing issues with the selected binning. (In that case, change the first line of the second cell.)"
   ]
  },
  {
   "cell_type": "code",
   "execution_count": null,
   "id": "f0028b42-d12e-4e73-9975-8829aede410c",
   "metadata": {},
   "outputs": [],
   "source": [
    "#Start by importing and organizing our data\n",
    "e=[]; z=[];\n",
    "for series in ser:\n",
    "    loc = frittspath + series + \"/umn_*.root\"\n",
    "    e_chain,z_chain = makechain(loc,filters=fittingfilters)\n",
    "    z_chain = pd.concat([e_chain,z_chain],axis=1)\n",
    "    z.append(z_chain)\n",
    "    \n",
    "for x in z:\n",
    "    x['crand'] = crand(x)\n",
    "    x['pt_keV'] = pt_keV(x)\n",
    "    x['cam'] =  cam(x)\n",
    "    x['cphi1'] = cphi1(x)\n",
    "    x['PSUMbs'] = PSUMbs(x)"
   ]
  },
  {
   "cell_type": "code",
   "execution_count": null,
   "id": "befa4c7d-1dc6-4808-be7d-5aa76a39c083",
   "metadata": {},
   "outputs": [],
   "source": [
    "bins = [np.linspace(-2300,-1500,200),np.linspace(350,450,150)]\n",
    "    \n",
    "#Plot\n",
    "n = len(ser); vert = math.ceil(np.sqrt(n)); hor = math.ceil(n/math.ceil(np.sqrt(n)))\n",
    "fig,ax = plt.subplots(vert,hor,figsize=(3*hor,3*vert),sharey=True)\n",
    "try:\n",
    "    for i,axarray in enumerate(ax):\n",
    "        try:\n",
    "            for j,axis in enumerate(axarray):\n",
    "                k = j + i*len(axarray)\n",
    "                if k < len(z): #do nothing if we have an empty corner.\n",
    "                    axis.hist2d(z[k]['PSUMbs'][~z[k]['crand']]-18000,z[k]['pt_keV'][~z[k]['crand']],bins=bins)\n",
    "        except TypeError: #Case for when there are multiple entries but only one column.\n",
    "            k = i\n",
    "            axarray.hist2d(z[k]['PSUMbs'][~z[k]['crand']]-18000,z[k]['pt_keV'][~z[k]['crand']],bins=bins)\n",
    "except TypeError: #Case for when there is only one entry.\n",
    "    if len(z) == 1:\n",
    "        k = 0 #We could squish z from an array to its entry but that gets complicated later on.\n",
    "        ax.hist2d(z[k]['PSUMbs'][~z[k]['crand']]-18000,z[k]['pt_keV'][~z[k]['crand']],bins=bins)\n",
    "    else:\n",
    "        raise ValueError(\"axes could not be enumerated twice, or once, but Z had more than one entry... what!!\")\n",
    "\n",
    "fig.supxlabel(\"Baseline Elevation\"); fig.supylabel(\"Phonon Energy [keV]\")\n",
    "plt.show()"
   ]
  },
  {
   "cell_type": "markdown",
   "id": "98905f57-c06c-4677-bc64-43e24b69d1d7",
   "metadata": {},
   "source": [
    "## Define points to fit to\n",
    "Change the first two lines of this cell until you get the lines looking right in the second."
   ]
  },
  {
   "cell_type": "code",
   "execution_count": null,
   "id": "20c5095f-2151-4bdf-9494-e0b549a73e07",
   "metadata": {},
   "outputs": [],
   "source": [
    "points = [[-2200,396],[-2100,385]] #Some points along one of the lines\n",
    "x = z[0] #Pick one of the entries in z to use\n",
    "bins2 = [np.linspace(0,3500,200),np.linspace(0,225,150)]\n",
    "\n",
    "fig = plt.figure()\n",
    "plt.hist2d(x[\"PSUMbs\"][~x[\"crand\"]]-18000, x[\"pt_keV\"][~x[\"crand\"]]#)\n",
    "           ,bins=bins)\n",
    "           #,bins = bins2)\n",
    "           #bins=[np.linspace(3000,5000,200),np.linspace(0,100,150)])\n",
    "m = (points[1][1]-points[0][1])/(points[1][0]-points[0][0]); b = points[0][1] - points[0][0]*m\n",
    "x = np.linspace(points[0][0],points[1][0],1000)\n",
    "plt.scatter([points[0][0],points[1][0]],[points[0][1],points[1][1]],color='white')\n",
    "plt.plot(x,m*x+b,color='lime')\n",
    "plt.xlabel(\"Baseline Elevation\")\n",
    "plt.ylabel(\"Phonon Energy [keV]\")\n",
    "plt.show()"
   ]
  },
  {
   "cell_type": "markdown",
   "id": "f25b4b3b-f35c-446a-9b3c-a0cd2ad951ca",
   "metadata": {},
   "source": [
    "## Check baseline correction\n",
    "\n",
    "Don't change these cells; they are here to show you the results of your correction only."
   ]
  },
  {
   "cell_type": "code",
   "execution_count": null,
   "id": "ce60003b-0364-444f-bcd2-fa3420fc765a",
   "metadata": {},
   "outputs": [],
   "source": [
    "for x in z:\n",
    "    x['bscorr_man'] = bscorr(x,m/b)"
   ]
  },
  {
   "cell_type": "code",
   "execution_count": null,
   "id": "d5bed890-b63b-4a30-a772-aded6054bd88",
   "metadata": {},
   "outputs": [],
   "source": [
    "fig = plt.figure()\n",
    "x = z[0]\n",
    "plt.hist2d(x[\"PSUMbs\"][~x[\"crand\"]]-18000, x[\"bscorr_man\"][~x[\"crand\"]]#)\n",
    "           #,bins=bins)\n",
    "           #bins=bins2)\n",
    "           ,bins = [np.linspace(-500,10000,300),np.linspace(-5000,15000,300)])\n",
    "plt.axhline(b,linestyle='--',color='lime')\n",
    "plt.xlabel(\"Baseline Elevation\")\n",
    "plt.ylabel(\"Phonon Energy [keV]\")\n",
    "plt.show()"
   ]
  },
  {
   "cell_type": "code",
   "execution_count": null,
   "id": "4290b246-1722-4b48-a33b-235d41574019",
   "metadata": {},
   "outputs": [],
   "source": [
    "#Plot\n",
    "n = len(ser); vert = math.ceil(np.sqrt(n)); hor = math.ceil(n/math.ceil(np.sqrt(n)))\n",
    "fig,ax = plt.subplots(vert,hor,figsize=(3*hor,3*vert),sharey=True)\n",
    "try:\n",
    "    for i,axarray in enumerate(ax):\n",
    "        try:\n",
    "            for j,axis in enumerate(axarray):\n",
    "                k = j + i*len(axarray)\n",
    "                if k < len(z): #do nothing if we have an empty corner.\n",
    "                    axis.hist2d(z[k]['PSUMbs'][~z[k]['crand']]-18000,z[k]['bscorr_man'][~z[k]['crand']],bins=bins)\n",
    "                    axis.axhline(points[0][1],linestyle='--',color='lime')\n",
    "                    axis.axhline(points[1][1],linestyle='--',color='lime')\n",
    "                    axis.axhline(b,linestyle='--',color='lime')\n",
    "        except TypeError:\n",
    "            k = i\n",
    "            axarray.hist2d(z[k]['PSUMbs'][~z[k]['crand']]-18000,z[k]['bscorr_man'][~z[k]['crand']],bins=bins)\n",
    "            axarray.axhline(points[0][1],linestyle='--',color='lime')\n",
    "            axarray.axhline(points[1][1],linestyle='--',color='lime')\n",
    "            axarray.axhline(b,linestyle='--',color='lime')\n",
    "except TypeError: #Case for when there is only one entry.\n",
    "    if len(z) == 1:\n",
    "        k = 0 #We could squish z from an array to its entry but that gets complicated later on.\n",
    "        ax.hist2d(z[k]['PSUMbs'][~z[k]['crand']]-18000,z[k]['bscorr_man'][~z[k]['crand']],bins=bins)\n",
    "        ax.axhline(points[0][1],linestyle='--',color='lime')\n",
    "        ax.axhline(points[1][1],linestyle='--',color='lime')\n",
    "        ax.axhline(b,linestyle='--',color='lime')\n",
    "    else:\n",
    "        raise ValueError(\"axes could not be enumerated twice or once but Z had more than one array... what!!\")\n",
    "fig.supxlabel(\"Baseline Elevation\"); fig.supylabel(\"Phonon Energy [keV]\")\n",
    "plt.show()"
   ]
  },
  {
   "cell_type": "markdown",
   "id": "f9de1069-a641-4a33-8f7a-2af90e132f23",
   "metadata": {},
   "source": [
    "This cell is for viewing any individual plot; change as desired."
   ]
  },
  {
   "cell_type": "code",
   "execution_count": null,
   "id": "6b8109b9-5eec-46ed-8d22-c5ed7f42084d",
   "metadata": {},
   "outputs": [],
   "source": [
    "k = 0\n",
    "fig = plt.figure()\n",
    "plt.hist2d(z[k]['PSUMbs'][~z[k]['crand']]-18000,z[k]['bscorr_man'][~z[k]['crand']]#)\n",
    "           ,bins=bins)\n",
    "           #bins=bins2)\n",
    "           #,bins = [np.linspace(-10000,-5000,300),np.linspace(-300,100,300)])\n",
    "plt.axhline(points[0][1],linestyle='--',color='lime')\n",
    "plt.axhline(points[1][1],linestyle='--',color='lime')\n",
    "plt.axhline(b,linestyle='--',color='lime')\n",
    "plt.axhline(320,linestyle='--',color='lime')\n",
    "plt.axhline(303,linestyle='--',color='lime')\n",
    "plt.axhline(295,linestyle='--',color='lime')\n",
    "plt.axhline(175,linestyle='--',color='lime')\n",
    "plt.axhline(190,linestyle='--',color='lime')\n",
    "plt.axhline(150,linestyle='--',color='lime')\n",
    "plt.axhline(0,linestyle='--',color='lime')\n",
    "plt.show()"
   ]
  },
  {
   "cell_type": "markdown",
   "id": "a76de008-874b-43b9-a6d9-cef1112dcc09",
   "metadata": {},
   "source": [
    "### Save or repeat\n",
    "Either go back up to the \"Define points to fit to\" section and adjust your points to fix the correction or save the correction information, as printed below, to `baselinecorrectionvalues.csv`."
   ]
  },
  {
   "cell_type": "code",
   "execution_count": null,
   "id": "b87e7cda-f19c-4acf-818a-ca534393be9e",
   "metadata": {},
   "outputs": [],
   "source": [
    "for series in ser:\n",
    "    print(series+\",\",str(m)+\",\",b)"
   ]
  },
  {
   "cell_type": "markdown",
   "id": "c6dbd024-db16-46ca-b162-62b307558228",
   "metadata": {},
   "source": [
    "# Experimental\n",
    "\n",
    "While I wait for things to run I am experimenting with an interactive interface for this."
   ]
  },
  {
   "cell_type": "code",
   "execution_count": null,
   "id": "2816ec86-b848-4ed9-8e7c-62091c1d2389",
   "metadata": {},
   "outputs": [],
   "source": [
    "#Imports\n",
    "from matplotlib.widgets import Button\n",
    "from ipywidgets.widgets import Dropdown, Checkbox\n",
    "from IPython.display import display, Javascript\n",
    "\n",
    "#Set up dropdown for series selection\n",
    "bor = 0\n",
    "dd = Dropdown(description = \"Choose series\",layout={'width': 'max-content'},\n",
    "              options = [(x,i) for i,x in enumerate(ser)],value=bor)\n",
    "def dropdown_handler(change):\n",
    "    global bor\n",
    "    #print(change.new)\n",
    "    bor = change.new  # This line isn't working\n",
    "dd.observe(dropdown_handler, names='value')\n",
    "display(dd)\n",
    "\n",
    "#Set up plot\n",
    "fig,ax = plt.subplots()\n",
    "\n",
    "#Define buttons\n",
    "b1 = Button(ax,\"Point 1\",color='orange'); b2 = Button(ax,\"Point 2\",color='grey')\n",
    "bdone = Button(ax,\"Done!\")\n",
    "def button1(self,event):\n",
    "    selectingpoint1 = True\n",
    "    b1.color = 'orange'; b2.color = 'grey'\n",
    "def button2(self,event):\n",
    "    selectingpoint1 = False\n",
    "    b1.color = 'grey'; b2.color = 'orange'\n",
    "m,b = 0,0; xvals=[0] #placeholder values\n",
    "def done(self,event):\n",
    "    global m,b,xvals,z\n",
    "    m = (points[1][1]-points[0][1])/(points[1][0]-points[0][0])\n",
    "    b = points[0][1] - points[0][0]*m\n",
    "    xvals = np.linspace(points[0][0],points[1][0],1000)\n",
    "    bdone.color = 'b'\n",
    "    for x in z:\n",
    "        x['bscorr_man'] = bscorr(x,m/b)\n",
    "    Javascript(\"Jupyter.notebook.execute_cells([12])\")\n",
    "b1.on_clicked(button1); b2.on_clicked(button2)\n",
    "    \n",
    "#Define click event\n",
    "point1, point2 = [0,0],[0,0]; autoflip,selectingpoint1 = True, True\n",
    "def on_pick(event):\n",
    "    global selectingpoint1, autoflip, point1, point2\n",
    "    xmouse, ymouse = event.mouseevent.xdata, event.mouseevent.ydata\n",
    "    if selectingpoint1:\n",
    "        point1 = [xmouse,ymouse]\n",
    "        if autoflip:\n",
    "            b1.color = 'grey'; b2.color = 'orange'\n",
    "    else:\n",
    "        point2 = [xmouse,ymouse]\n",
    "        if autoflip:\n",
    "            b1.color = 'orange'; b2.color = 'grey'\n",
    "    if autoflip:\n",
    "        if not selectingpoint1:\n",
    "            done()\n",
    "        selectingpoint1 = !selectingpoint1 #switch to the other point once we've clicked the one we were on\n",
    "fig.canvas.callbacks.connect('pick_event', on_pick)\n",
    "\n",
    "#Set up plot\n",
    "points = [point1,point2]\n",
    "x = z[bor]\n",
    "ax.hist2d(x[\"PSUMbs\"][~x[\"crand\"]]-18000, x[\"pt_keV\"][~x[\"crand\"]],\n",
    "           bins=bins)\n",
    "           #bins = bins2)\n",
    "           #bins=[np.linspace(3000,5000,200),np.linspace(0,100,150)])\n",
    "ax.scatter([points[0][0],points[1][0]],[points[0][1],points[1][1]],color='white')\n",
    "ax.plot(xvals,m*xvals+b,color='lime')\n",
    "ax.set_xlabel(\"Baseline Elevation\")\n",
    "ax.set_ylabel(\"Phonon Energy [keV]\")\n",
    "\n",
    "#Set up checkboxes\n",
    "box = Checkbox(True, description=\"Automatically go to next step.\")\n",
    "display(box)\n",
    "def change(b):\n",
    "    global autoflip\n",
    "    autoflip = !autoflip\n",
    "\n",
    "#Show plot\n",
    "fig.show()"
   ]
  },
  {
   "cell_type": "code",
   "execution_count": null,
   "id": "d7dc0611-4030-44ac-bcd1-2014af125838",
   "metadata": {},
   "outputs": [],
   "source": [
    "#Set up plot\n",
    "n = len(ser); vert = math.ceil(np.sqrt(n)); hor = math.ceil(n/math.ceil(np.sqrt(n)))\n",
    "fig,ax = plt.subplots(vert,hor,figsize=(3*hor,3*vert),sharey=True)\n",
    "try:\n",
    "    for i,axarray in enumerate(ax):\n",
    "        try:\n",
    "            for j,axis in enumerate(axarray):\n",
    "                k = j + i*len(axarray)\n",
    "                if k < len(z): #do nothing if we have an empty corner.\n",
    "                    axis.hist2d(z[k]['PSUMbs'][~z[k]['crand']]-18000,z[k]['bscorr_man'][~z[k]['crand']],bins=bins)\n",
    "                    axis.axhline(points[0][1],linestyle='--',color='lime')\n",
    "                    axis.axhline(points[1][1],linestyle='--',color='lime')\n",
    "                    axis.axhline(b,linestyle='--',color='lime')\n",
    "        except TypeError:\n",
    "            k = i\n",
    "            axarray.hist2d(z[k]['PSUMbs'][~z[k]['crand']]-18000,z[k]['bscorr_man'][~z[k]['crand']],bins=bins)\n",
    "            axarray.axhline(points[0][1],linestyle='--',color='lime')\n",
    "            axarray.axhline(points[1][1],linestyle='--',color='lime')\n",
    "            axarray.axhline(b,linestyle='--',color='lime')\n",
    "except TypeError: #Case for when there is only one entry.\n",
    "    if len(z) == 1:\n",
    "        k = 0 #We could squish z from an array to its entry but that gets complicated later on.\n",
    "        ax.hist2d(z[k]['PSUMbs'][~z[k]['crand']]-18000,z[k]['bscorr_man'][~z[k]['crand']],bins=bins)\n",
    "        ax.axhline(points[0][1],linestyle='--',color='lime')\n",
    "        ax.axhline(points[1][1],linestyle='--',color='lime')\n",
    "        ax.axhline(b,linestyle='--',color='lime')\n",
    "    else:\n",
    "        raise ValueError(\"axes could not be enumerated twice or once but Z had more than one array... what!!\")\n",
    "fig.supxlabel(\"Baseline Elevation\"); fig.supylabel(\"Phonon Energy [keV]\")\n",
    "\n",
    "#Show plot\n",
    "plt.show()\n",
    "\n",
    "#Print values\n",
    "for series in ser:\n",
    "    print(series+\",\",str(m)+\",\",b)"
   ]
  }
 ],
 "metadata": {
  "kernelspec": {
   "display_name": "Python 3 (ipykernel)",
   "language": "python",
   "name": "python3"
  },
  "language_info": {
   "codemirror_mode": {
    "name": "ipython",
    "version": 3
   },
   "file_extension": ".py",
   "mimetype": "text/x-python",
   "name": "python",
   "nbconvert_exporter": "python",
   "pygments_lexer": "ipython3",
   "version": "3.10.6"
  }
 },
 "nbformat": 4,
 "nbformat_minor": 5
}
