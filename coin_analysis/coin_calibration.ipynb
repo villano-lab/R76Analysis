{
 "cells": [
  {
   "cell_type": "code",
   "execution_count": 1,
   "id": "23d12012-a81d-4e9f-b397-1bee8128f413",
   "metadata": {},
   "outputs": [],
   "source": [
    "#we may need some code in the ../python directory and/or matplotlib styles\n",
    "import sys\n",
    "sys.path.append('../python/')\n",
    "\n",
    "#matplotlib for plotting\n",
    "import matplotlib as mpl\n",
    "from matplotlib import pyplot as plt\n",
    "plt.style.use('../mplstyles/stylelib/standard.mplstyle')\n",
    "\n",
    "#other computational libraries\n",
    "import numpy as np\n",
    "import pandas as pd\n",
    "import scipy\n",
    "import scipy.constants as co\n",
    "import scipy.stats as ss\n",
    "import itertools\n",
    "import pickle"
   ]
  },
  {
   "cell_type": "code",
   "execution_count": 3,
   "id": "3f7ec74e-9c9c-462c-b171-731cab5380eb",
   "metadata": {},
   "outputs": [
    {
     "name": "stdout",
     "output_type": "stream",
     "text": [
      "        eVt     eVee\n",
      "0    0.1857  -0.0349\n",
      "1  147.8310  13.9621\n",
      "2  165.0393  17.7626\n"
     ]
    }
   ],
   "source": [
    "caldata = pd.read_csv(\"data/PIC2_R76_calib.txt\", skiprows=1, engine='python', names=['eVt','eVee'], \\\n",
    "                         delim_whitespace=False)\n",
    "print (caldata.head(10))"
   ]
  },
  {
   "cell_type": "code",
   "execution_count": 12,
   "id": "d33bddfb-e7b0-4534-9392-b73ac54c8ddc",
   "metadata": {},
   "outputs": [
    {
     "data": {
      "image/png": "[encoded data removed]",
      "text/plain": [
       "<Figure size 432x288 with 1 Axes>"
      ]
     },
     "metadata": {
      "needs_background": "light"
     },
     "output_type": "display_data"
    },
    {
     "data": {
      "text/html": [
       "<h2> Model</h2> Model(cal) <h2>Fit Statistics</h2><table><tr><td>fitting method</td><td>leastsq</td><td></td></tr><tr><td># function evals</td><td>16</td><td></td></tr><tr><td># data points</td><td>3</td><td></td></tr><tr><td># variables</td><td>2</td><td></td></tr><tr><td>chi-square</td><td> 0.00188810</td><td></td></tr><tr><td>reduced chi-square</td><td> 0.00188810</td><td></td></tr><tr><td>Akaike info crit.</td><td>-18.1123915</td><td></td></tr><tr><td>Bayesian info crit.</td><td>-19.9151670</td><td></td></tr></table><h2>Variables</h2><table><tr><th> name </th><th> value </th><th> standard error </th><th> relative error </th><th> initial value </th><th> min </th><th> max </th><th> vary </th></tr><tr><td> a </td><td>  13.2702096 </td><td>  0.40964593 </td><td> (3.09%) </td><td> 1 </td><td>  0.00000000 </td><td>         inf </td><td> True </td></tr><tr><td> b </td><td>  288.337501 </td><td>  3.98516346 </td><td> (1.38%) </td><td> 300 </td><td>  200.000000 </td><td>         inf </td><td> True </td></tr></table><h2>Correlations (unreported correlations are < 0.100)</h2><table><tr><td>a</td><td>b</td><td>0.9981</td></tr></table>"
      ],
      "text/plain": [
       "<lmfit.model.ModelResult at 0x7facd962c1f0>"
      ]
     },
     "execution_count": 12,
     "metadata": {},
     "output_type": "execute_result"
    }
   ],
   "source": [
    "import lmfit as lf\n",
    "\n",
    "#Points found using gaussian fits to peaks, to be used for calibration.\n",
    "#x: PTOFamps values\n",
    "#y: known emission lines (keV)\n",
    "gcal = []\n",
    "gcal.append(np.asarray(caldata['eVt']))\n",
    "gcal.append(np.asarray(caldata['eVee']))\n",
    "#gcal = [[0,1.73263e-07,2.19449e-07,6.72661e-07],[0,13.95,17.74,59.54]]\n",
    "plt.scatter(gcal[0],gcal[1],marker=\"*\",color='k',label=\"Fitted peaks\")\n",
    "\n",
    "def cal(x,a=1,b=1):\n",
    "    return a*x/(b-x)\n",
    "\n",
    "calmod = lf.Model(cal)\n",
    "calparams = calmod.make_params()\n",
    "calparams.add('a',value=1,min=0)\n",
    "calparams.add('b',value=300,min=200) #Start large to give it a push in the right direction\n",
    "calfit = calmod.fit(gcal[1],calparams,x=gcal[0])\n",
    "\n",
    "en = np.linspace(0,175,200)\n",
    "plt.plot(en,cal(en,a=13.27,b=288.34),label=\"Nonlinear Fit\")\n",
    "#plt.plot(gcal[0],13.95*np.asarray(gcal[0])/1.73263e-07,linestyle='--',label=\"Linear Fit\")\n",
    "\n",
    "#plt.text(0,-10,\"*And a fixed point at (0,0).\")\n",
    "\n",
    "plt.title(\"Comparison of Calibration Fits\")\n",
    "plt.legend()\n",
    "plt.show()\n",
    "\n",
    "calfit"
   ]
  },
  {
   "cell_type": "code",
   "execution_count": null,
   "id": "c5e8cb1a-54ec-4c8d-813c-716d6b2cdb92",
   "metadata": {},
   "outputs": [],
   "source": []
  }
 ],
 "metadata": {
  "kernelspec": {
   "display_name": "Python (fano_pub_new)",
   "language": "python",
   "name": "fano_pub_new"
  },
  "language_info": {
   "codemirror_mode": {
    "name": "ipython",
    "version": 3
   },
   "file_extension": ".py",
   "mimetype": "text/x-python",
   "name": "python",
   "nbconvert_exporter": "python",
   "pygments_lexer": "ipython3",
   "version": "3.9.12"
  }
 },
 "nbformat": 4,
 "nbformat_minor": 5
}
