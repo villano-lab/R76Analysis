{
 "cells": [
  {
   "cell_type": "code",
   "execution_count": 1,
   "id": "541a7b08-cc23-4124-b721-41cebbeded89",
   "metadata": {},
   "outputs": [],
   "source": [
    "#we may need some code in the ../python directory and/or matplotlib styles\n",
    "import sys\n",
    "sys.path.append('../python/')\n",
    "\n",
    "#matplotlib for plotting\n",
    "import matplotlib as mpl\n",
    "from matplotlib import pyplot as plt\n",
    "plt.style.use('../mplstyles/stylelib/standard.mplstyle')\n",
    "\n",
    "#other computational libraries\n",
    "import numpy as np\n",
    "import pandas as pd\n",
    "import scipy\n",
    "import scipy.constants as co\n",
    "import scipy.stats as ss\n",
    "import itertools\n",
    "import pickle"
   ]
  },
  {
   "cell_type": "code",
   "execution_count": 3,
   "id": "47e2f75a-85d4-417e-a95f-ba167f25ded0",
   "metadata": {},
   "outputs": [
    {
     "name": "stdout",
     "output_type": "stream",
     "text": [
      "   garbage   Row  SeriesNumber  EventNumber  PTOFdelay    pt_keVee\n",
      "0      NaN  1561   72209162200        20309         56   48.724426\n",
      "1      NaN  2450   72209162200        30273         15  199.859146\n",
      "2      NaN  3438   72209162200        40339         50   10.346083\n",
      "3      NaN  4270   72209162200        50269         14   40.072876\n",
      "4      NaN  5046   72209162200        60108         67   21.741763\n",
      "5      NaN  5787   72209162200        60849         21   17.185294\n",
      "6      NaN  5848   72209162200        70006         25  166.384586\n",
      "7      NaN  6823   72209162200        80047          9  191.283417\n",
      "8      NaN  7083   72209162200        80307         46   11.980396\n",
      "9      NaN  8926   72209162200       100246         66   17.653014\n",
      "      garbage      Row  SeriesNumber  EventNumber  PTOFdelay    pt_keVee\n",
      "2313      NaN  1374581   72209172155      2020326         -6    5.112734\n",
      "2314      NaN  1374846   72209172155      2020591         41   29.666429\n",
      "2315      NaN  1375554   72209172155      2030412        -36   64.397538\n",
      "2316      NaN  1375571   72209172155      2030429          9    7.239179\n",
      "2317      NaN  1376180   72209172155      2040100         13  118.540334\n",
      "2318      NaN  1377593   72209172155      2050570         15   79.275200\n",
      "2319      NaN  1377994   72209172155      2060050        -11   24.104781\n",
      "2320      NaN  1378086   72209172155      2060142          6   81.157987\n",
      "2321      NaN  1378289   72209172155      2060345        -25  125.477858\n",
      "2322      NaN  1378623   72209172155      2060679        -21   35.026091\n"
     ]
    }
   ],
   "source": [
    "coindata = pd.read_csv(\"data/r76_events_coincidencepeak.txt\", skiprows=3, engine='python',skipfooter=1,sep=\"*\",skipinitialspace=True, \\\n",
    "            index_col=False, \\\n",
    "            names=['garbage','Row','SeriesNumber','EventNumber','PTOFdelay','pt_keVee'], \\\n",
    "            delim_whitespace=False)\n",
    "\n",
    "\n",
    "print (coindata.head(10))\n",
    "print (coindata.tail(10))\n"
   ]
  },
  {
   "cell_type": "code",
   "execution_count": 4,
   "id": "9e5c8f3b-c7cf-4671-b142-8436a733d17c",
   "metadata": {},
   "outputs": [],
   "source": [
    "series = np.asarray(coindata['SeriesNumber'])\n",
    "ev = np.asarray(coindata['EventNumber'])\n",
    "EkeV = np.asarray(coindata['pt_keVee'])\n",
    "PTOF = np.asarray(coindata['PTOFdelay'])"
   ]
  },
  {
   "cell_type": "code",
   "execution_count": null,
   "id": "1e30ebb7-04c3-40f4-aaa6-57e91b39146a",
   "metadata": {},
   "outputs": [],
   "source": []
  }
 ],
 "metadata": {
  "kernelspec": {
   "display_name": "Python (fano_pub_new)",
   "language": "python",
   "name": "fano_pub_new"
  },
  "language_info": {
   "codemirror_mode": {
    "name": "ipython",
    "version": 3
   },
   "file_extension": ".py",
   "mimetype": "text/x-python",
   "name": "python",
   "nbconvert_exporter": "python",
   "pygments_lexer": "ipython3",
   "version": "3.9.12"
  }
 },
 "nbformat": 4,
 "nbformat_minor": 5
}
