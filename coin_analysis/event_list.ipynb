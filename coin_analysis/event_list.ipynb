{
 "cells": [
  {
   "cell_type": "code",
   "execution_count": 1,
   "id": "13d9857c-c511-4dc1-8fd1-f13a917a421c",
   "metadata": {},
   "outputs": [],
   "source": [
    "#we may need some code in the ../python directory and/or matplotlib styles\n",
    "import sys\n",
    "sys.path.append('../python/')\n",
    "\n",
    "#matplotlib for plotting\n",
    "import matplotlib as mpl\n",
    "from matplotlib import pyplot as plt\n",
    "plt.style.use('../mplstyles/stylelib/standard.mplstyle')\n",
    "\n",
    "#other computational libraries\n",
    "import numpy as np\n",
    "import pandas as pd\n",
    "import scipy\n",
    "import scipy.constants as co\n",
    "import scipy.stats as ss\n",
    "import itertools\n",
    "import pickle"
   ]
  },
  {
   "cell_type": "code",
   "execution_count": 4,
   "id": "6cd0bf45-5304-4702-ad72-7ed8f48f4cf2",
   "metadata": {},
   "outputs": [
    {
     "name": "stdout",
     "output_type": "stream",
     "text": [
      "               garbage     Row  SeriesNumber  EventNumber  pt_keVee  \\\n",
      "NaN 6107   72209162200   70265      0.035493            0  0.000059   \n",
      "    40145  72209162200  430871      0.099517            1  0.000016   \n",
      "    40417  72209162200  440254      0.045830            0  0.000039   \n",
      "    44615  72209162200  480783      0.036227            0  0.000034   \n",
      "    45533  72209162200  490759      0.260436            0  0.000034   \n",
      "    48298  72209162200  520788      0.035016            0  0.000045   \n",
      "    54136  72209162200  590105      0.505874            0  0.000046   \n",
      "    55791  72209162200  600805      0.085282            0  0.000058   \n",
      "    60164  72209162200  650562      0.035801            0  0.000054   \n",
      "    64728  72209162200  700360      0.036148            0  0.000048   \n",
      "\n",
      "                coinwin  PTOFdelay  zip4.PAWKmax  cchisq  \n",
      "NaN 6107   8.242765e-07   0.000401             1     NaN  \n",
      "    40145  8.271136e-07   0.000406             1     NaN  \n",
      "    40417  8.102761e-07   0.000405             0     NaN  \n",
      "    44615  8.138079e-07   0.000405             1     NaN  \n",
      "    45533  8.250500e-07   0.000405             1     NaN  \n",
      "    48298  8.344485e-07   0.000405             1     NaN  \n",
      "    54136  8.166967e-07   0.000405             1     NaN  \n",
      "    55791  8.343388e-07   0.000406             1     NaN  \n",
      "    60164  8.323201e-07   0.000405             1     NaN  \n",
      "    64728  8.016317e-07   0.000406             1     NaN  \n"
     ]
    }
   ],
   "source": [
    "coindata1 = pd.read_csv(\"data/r76_roi_events_trig_set1.txt\", skiprows=3, engine='python',skipfooter=1,sep=\"*\", \\\n",
    "                         names=['garbage','Row','SeriesNumber','EventNumber','pt_keVee','coinwin','PTOFdelay','zip4.PAWKmax','cchisq'], \\\n",
    "                         delim_whitespace=False)\n",
    "print (coindata1.head(10))"
   ]
  },
  {
   "cell_type": "code",
   "execution_count": null,
   "id": "686f1f4e-80cd-4b59-ba44-8f1fe0220709",
   "metadata": {},
   "outputs": [],
   "source": []
  }
 ],
 "metadata": {
  "kernelspec": {
   "display_name": "Python (fano_pub_new)",
   "language": "python",
   "name": "fano_pub_new"
  },
  "language_info": {
   "codemirror_mode": {
    "name": "ipython",
    "version": 3
   },
   "file_extension": ".py",
   "mimetype": "text/x-python",
   "name": "python",
   "nbconvert_exporter": "python",
   "pygments_lexer": "ipython3",
   "version": "3.9.12"
  }
 },
 "nbformat": 4,
 "nbformat_minor": 5
}
