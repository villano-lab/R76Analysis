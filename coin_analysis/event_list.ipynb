{
 "cells": [
  {
   "cell_type": "code",
   "execution_count": 1,
   "id": "13d9857c-c511-4dc1-8fd1-f13a917a421c",
   "metadata": {},
   "outputs": [],
   "source": [
    "#we may need some code in the ../python directory and/or matplotlib styles\n",
    "import sys\n",
    "sys.path.append('../python/')\n",
    "\n",
    "#matplotlib for plotting\n",
    "import matplotlib as mpl\n",
    "from matplotlib import pyplot as plt\n",
    "plt.style.use('../mplstyles/stylelib/standard.mplstyle')\n",
    "\n",
    "#other computational libraries\n",
    "import numpy as np\n",
    "import pandas as pd\n",
    "import scipy\n",
    "import scipy.constants as co\n",
    "import scipy.stats as ss\n",
    "import itertools\n",
    "import pickle"
   ]
  },
  {
   "cell_type": "code",
   "execution_count": 2,
   "id": "6cd0bf45-5304-4702-ad72-7ed8f48f4cf2",
   "metadata": {},
   "outputs": [
    {
     "name": "stdout",
     "output_type": "stream",
     "text": [
      "   garbage    Row  SeriesNumber  EventNumber  pt_keVee  coinwin  PTOFdelay  \\\n",
      "0      NaN   6107   72209162200        70265  0.035493        0   0.000059   \n",
      "1      NaN  40145   72209162200       430871  0.099517        1   0.000016   \n",
      "2      NaN  40417   72209162200       440254  0.045830        0   0.000039   \n",
      "3      NaN  44615   72209162200       480783  0.036227        0   0.000034   \n",
      "4      NaN  45533   72209162200       490759  0.260436        0   0.000034   \n",
      "5      NaN  48298   72209162200       520788  0.035016        0   0.000045   \n",
      "6      NaN  54136   72209162200       590105  0.505874        0   0.000046   \n",
      "7      NaN  55791   72209162200       600805  0.085282        0   0.000058   \n",
      "8      NaN  60164   72209162200       650562  0.035801        0   0.000054   \n",
      "9      NaN  64728   72209162200       700360  0.036148        0   0.000048   \n",
      "\n",
      "   zip4.PAWKmax  zip4.PAWKr50  cchisq  \n",
      "0  8.242765e-07      0.000401       1  \n",
      "1  8.271136e-07      0.000406       1  \n",
      "2  8.102761e-07      0.000405       0  \n",
      "3  8.138079e-07      0.000405       1  \n",
      "4  8.250500e-07      0.000405       1  \n",
      "5  8.344485e-07      0.000405       1  \n",
      "6  8.166967e-07      0.000405       1  \n",
      "7  8.343388e-07      0.000406       1  \n",
      "8  8.323201e-07      0.000405       1  \n",
      "9  8.016317e-07      0.000406       1  \n",
      "     garbage      Row  SeriesNumber  EventNumber  pt_keVee  coinwin  \\\n",
      "299      NaN  3085724   72210270959      3291316  0.039813        0   \n",
      "300      NaN  3098423   72210270959      3390291  0.036942        0   \n",
      "301      NaN  3099630   72210270959      3400149  0.038959        1   \n",
      "302      NaN  3105904   72210270959      3440767  0.100146        0   \n",
      "303      NaN  3112029   72210270959      3481384  0.102217        0   \n",
      "304      NaN  3112170   72210270959      3490131  0.046913        0   \n",
      "305      NaN  3113159   72210270959      3491120  0.073575        0   \n",
      "306      NaN  3114722   72210270959      3501309  0.035355        0   \n",
      "307      NaN  3117569   72210270959      3521382  0.039426        0   \n",
      "308      NaN  3117763   72210270959      3530177  0.037976        0   \n",
      "\n",
      "     PTOFdelay  zip4.PAWKmax  zip4.PAWKr50  cchisq  \n",
      "299   0.000057  8.178247e-07      0.000399       0  \n",
      "300  -0.000009  8.919085e-07      0.000897       0  \n",
      "301   0.000014  8.768378e-07      0.000774       0  \n",
      "302  -0.000006  7.963957e-07      0.000404       1  \n",
      "303   0.000046  8.059994e-07      0.000404       0  \n",
      "304   0.000035  7.946961e-07      0.000404       0  \n",
      "305   0.000050  7.942786e-07      0.000404       0  \n",
      "306   0.000055  8.231847e-07      0.000405       1  \n",
      "307   0.000055  8.038034e-07      0.000404       0  \n",
      "308  -0.000011  8.168774e-07      0.000404       1  \n"
     ]
    }
   ],
   "source": [
    "coindata1 = pd.read_csv(\"data/r76_roi_events_trig_set1.txt\", skiprows=3, engine='python',skipfooter=1,sep=\"*\",skipinitialspace=True, \\\n",
    "            index_col=False, \\\n",
    "            names=['garbage','Row','SeriesNumber','EventNumber','pt_keVee','coinwin','PTOFdelay','zip4.PAWKmax','zip4.PAWKr50','cchisq'], \\\n",
    "            delim_whitespace=False)\n",
    "coindata2 = pd.read_csv(\"data/r76_roi_events_trig_set2.txt\", skiprows=3, engine='python',skipfooter=1,sep=\"*\",skipinitialspace=True, \\\n",
    "            index_col=False, \\\n",
    "            names=['garbage','Row','SeriesNumber','EventNumber','pt_keVee','coinwin','PTOFdelay','zip4.PAWKmax','zip4.PAWKr50','cchisq'], \\\n",
    "            delim_whitespace=False)\n",
    "coindata3 = pd.read_csv(\"data/r76_roi_events_trig_set3.txt\", skiprows=3, engine='python',skipfooter=1,sep=\"*\",skipinitialspace=True, \\\n",
    "            index_col=False, \\\n",
    "            names=['garbage','Row','SeriesNumber','EventNumber','pt_keVee','coinwin','PTOFdelay','zip4.PAWKmax','zip4.PAWKr50','cchisq'], \\\n",
    "            delim_whitespace=False)\n",
    "coindata4 = pd.read_csv(\"data/r76_roi_events_trig_set4.txt\", skiprows=3, engine='python',skipfooter=1,sep=\"*\",skipinitialspace=True, \\\n",
    "            index_col=False, \\\n",
    "            names=['garbage','Row','SeriesNumber','EventNumber','pt_keVee','coinwin','PTOFdelay','zip4.PAWKmax','zip4.PAWKr50','cchisq'], \\\n",
    "            delim_whitespace=False)\n",
    "frames = [coindata1, coindata2, coindata3, coindata4]\n",
    "\n",
    "coindata = pd.concat(frames)\n",
    "print (coindata.head(10))\n",
    "print (coindata.tail(10))"
   ]
  },
  {
   "cell_type": "code",
   "execution_count": 3,
   "id": "686f1f4e-80cd-4b59-ba44-8f1fe0220709",
   "metadata": {},
   "outputs": [
    {
     "name": "stdout",
     "output_type": "stream",
     "text": [
      "(2321, 10)\n"
     ]
    }
   ],
   "source": [
    "print(np.shape(coindata))"
   ]
  },
  {
   "cell_type": "code",
   "execution_count": 4,
   "id": "b8e569b9-f269-46b8-abc3-990a36cf2665",
   "metadata": {},
   "outputs": [],
   "source": [
    "series = np.asarray(coindata['SeriesNumber'])\n",
    "ev = np.asarray(coindata['EventNumber'])\n",
    "EkeV = np.asarray(coindata['pt_keVee'])\n",
    "ccoinwin = np.asarray(coindata['coinwin'],dtype=np.dtype(bool))\n",
    "cchisq = np.asarray(coindata['cchisq'],dtype=np.dtype(bool))"
   ]
  },
  {
   "cell_type": "code",
   "execution_count": 5,
   "id": "9b4bb691-5856-43d8-aa4e-ac632c4a888f",
   "metadata": {},
   "outputs": [
    {
     "name": "stdout",
     "output_type": "stream",
     "text": [
      "128\n",
      "141\n"
     ]
    }
   ],
   "source": [
    "print(np.sum((EkeV>0.1)&cchisq))\n",
    "print(np.sum((EkeV>0.1)&~cchisq))"
   ]
  },
  {
   "cell_type": "code",
   "execution_count": 6,
   "id": "52d66e8e-3f7e-4600-b5df-34d3f234ca92",
   "metadata": {},
   "outputs": [],
   "source": [
    "csiggood = (EkeV>0.1)&cchisq\n",
    "csigbad  = (EkeV>0.1)&~cchisq"
   ]
  },
  {
   "cell_type": "code",
   "execution_count": 7,
   "id": "ffefeb53-f994-42aa-9d12-d38a9dd24b59",
   "metadata": {},
   "outputs": [
    {
     "name": "stdout",
     "output_type": "stream",
     "text": [
      "[72209162200 72209162200 72209162200 72209162200 72209162200 72209162200\n",
      " 72209162200 72209162200 72209162200 72209162200 72209171225 72209171225\n",
      " 72209171225 72209171225 72209171225 72209171225 72209171225 72209171225\n",
      " 72209172155 72209172155 72208301829 72208301829 72208301829 72208302118\n",
      " 72208302118 72208302118 72208302118 72208302118 72208302118 72208302118\n",
      " 72208302118 72208302118 72208302118 72208302118 72208302118 72208302118\n",
      " 72208302118 72208302118 72208302118 72208302118 72208302118 72208311151\n",
      " 72208311151 72208311151 72208311151 72208311151 72208311151 72210191832\n",
      " 72210191832 72210191832 72210191832 72210191832 72210191832 72210191832\n",
      " 72210191832 72210191832 72210192240 72210192240 72210192240 72210192240\n",
      " 72210192240 72210192240 72210192240 72210192240 72210192240 72210192240\n",
      " 72210192240 72210192240 72210192240 72210192240 72210192240 72210192240\n",
      " 72210192240 72210192240 72210192240 72210192240 72210192240 72210192240\n",
      " 72210192240 72210192240 72210192240 72210192240 72210192240 72210192240\n",
      " 72210192240 72210192240 72210200954 72210200954 72210200954 72210200954\n",
      " 72210200954 72210200954 72210251956 72210251956 72210251956 72210251956\n",
      " 72210251956 72210251956 72210251956 72210251956 72210261049 72210261049\n",
      " 72210261049 72210261049 72210261049 72210261049 72210261049 72210261049\n",
      " 72210261049 72210262224 72210262224 72210262224 72210262224 72210262224\n",
      " 72210262224 72210262224 72210262224 72210262224 72210270959 72210270959\n",
      " 72210270959 72210270959 72210270959 72210270959 72210270959 72210270959\n",
      " 72210270959 72210270959]\n",
      "[ 490759  590105  970769  990193 1200805 1920692 2640676 3320285 3470461\n",
      " 5310198 1500320 1970453 2280315 2920809 3240861 4530720 4950597 5080366\n",
      " 1220647 1520104  550152  610538  620687   70193  340676  530225  580726\n",
      "  920658 1220460 2520826 2560339 2690376 3360712 3400635 3950868 4010638\n",
      " 4240150 5020188 6020421 6110497 6280605 1320198 1630263 1950136 2970369\n",
      " 3650606 3670094  500590  680460 1000312 1000698 1430424 1560356 1640702\n",
      " 1690511 1931161  300587 1451328 1580294 1840013 2331140 2840178 3130642\n",
      " 3190005 3201271 3351264 3580859 3620491 3681055 3881328 4000234 4281134\n",
      " 4500081 4530352 4600667 4641222 4700336 4730824 4780158 4800447 4950275\n",
      " 4960824 5020230 5030845 5211182 5231141  130138  151154  341350 1400017\n",
      " 2130450 2501291 1170399 1240596 1260361 1410567 1860893 2100878 2530769\n",
      " 2680223   30702  560192  670320  791299 1320559 2260384 2390761 2450591\n",
      " 2570021  600726  730103  760402 1270453 1500097 1970500 2040316 2940172\n",
      " 3060908  471424  860507  940954 1161240 2180390 2221381 2620954 2710001\n",
      " 3170542 3440767]\n"
     ]
    }
   ],
   "source": [
    "print(series[csiggood])\n",
    "print(ev[csiggood])"
   ]
  },
  {
   "cell_type": "code",
   "execution_count": 8,
   "id": "e5d6915a-89f9-435c-8538-8b0de46a3b35",
   "metadata": {},
   "outputs": [
    {
     "name": "stdout",
     "output_type": "stream",
     "text": [
      "[  70265  430871  440254 ... 3501309 3521382 3530177]\n"
     ]
    }
   ],
   "source": [
    "print(ev)"
   ]
  },
  {
   "cell_type": "code",
   "execution_count": null,
   "id": "dbc843df-5b3c-4d56-b254-9c2c1a3054fa",
   "metadata": {},
   "outputs": [],
   "source": []
  },
  {
   "cell_type": "code",
   "execution_count": null,
   "id": "bf6fa850-76ee-415f-9dae-3e22e5fc2b53",
   "metadata": {},
   "outputs": [],
   "source": []
  }
 ],
 "metadata": {
  "kernelspec": {
   "display_name": "Python (fano_pub_new)",
   "language": "python",
   "name": "fano_pub_new"
  },
  "language_info": {
   "codemirror_mode": {
    "name": "ipython",
    "version": 3
   },
   "file_extension": ".py",
   "mimetype": "text/x-python",
   "name": "python",
   "nbconvert_exporter": "python",
   "pygments_lexer": "ipython3",
   "version": "3.9.12"
  }
 },
 "nbformat": 4,
 "nbformat_minor": 5
}
