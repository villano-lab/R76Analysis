{
 "cells": [
  {
   "cell_type": "code",
   "execution_count": 1,
   "id": "13d9857c-c511-4dc1-8fd1-f13a917a421c",
   "metadata": {},
   "outputs": [],
   "source": [
    "#we may need some code in the ../python directory and/or matplotlib styles\n",
    "import sys\n",
    "sys.path.append('../python/')\n",
    "\n",
    "#matplotlib for plotting\n",
    "import matplotlib as mpl\n",
    "from matplotlib import pyplot as plt\n",
    "plt.style.use('../mplstyles/stylelib/standard.mplstyle')\n",
    "\n",
    "#other computational libraries\n",
    "import numpy as np\n",
    "import pandas as pd\n",
    "import scipy\n",
    "import scipy.constants as co\n",
    "import scipy.stats as ss\n",
    "import itertools\n",
    "import pickle"
   ]
  },
  {
   "cell_type": "code",
   "execution_count": 24,
   "id": "6cd0bf45-5304-4702-ad72-7ed8f48f4cf2",
   "metadata": {},
   "outputs": [
    {
     "name": "stdout",
     "output_type": "stream",
     "text": [
      "   garbage    Row  SeriesNumber  EventNumber  pt_keVee  coinwin  PTOFdelay  \\\n",
      "0      NaN   6107   72209162200        70265  0.035493        0   0.000059   \n",
      "1      NaN  40145   72209162200       430871  0.099517        1   0.000016   \n",
      "2      NaN  40417   72209162200       440254  0.045830        0   0.000039   \n",
      "3      NaN  44615   72209162200       480783  0.036227        0   0.000034   \n",
      "4      NaN  45533   72209162200       490759  0.260436        0   0.000034   \n",
      "5      NaN  48298   72209162200       520788  0.035016        0   0.000045   \n",
      "6      NaN  54136   72209162200       590105  0.505874        0   0.000046   \n",
      "7      NaN  55791   72209162200       600805  0.085282        0   0.000058   \n",
      "8      NaN  60164   72209162200       650562  0.035801        0   0.000054   \n",
      "9      NaN  64728   72209162200       700360  0.036148        0   0.000048   \n",
      "\n",
      "   zip4.PAWKmax  zip4.PAWKr50  cchisq  \n",
      "0  8.242765e-07      0.000401       1  \n",
      "1  8.271136e-07      0.000406       1  \n",
      "2  8.102761e-07      0.000405       0  \n",
      "3  8.138079e-07      0.000405       1  \n",
      "4  8.250500e-07      0.000405       1  \n",
      "5  8.344485e-07      0.000405       1  \n",
      "6  8.166967e-07      0.000405       1  \n",
      "7  8.343388e-07      0.000406       1  \n",
      "8  8.323201e-07      0.000405       1  \n",
      "9  8.016317e-07      0.000406       1  \n",
      "     garbage      Row  SeriesNumber  EventNumber  pt_keVee  coinwin  \\\n",
      "299      NaN  3085724   72210270959      3291316  0.039813        0   \n",
      "300      NaN  3098423   72210270959      3390291  0.036942        0   \n",
      "301      NaN  3099630   72210270959      3400149  0.038959        1   \n",
      "302      NaN  3105904   72210270959      3440767  0.100146        0   \n",
      "303      NaN  3112029   72210270959      3481384  0.102217        0   \n",
      "304      NaN  3112170   72210270959      3490131  0.046913        0   \n",
      "305      NaN  3113159   72210270959      3491120  0.073575        0   \n",
      "306      NaN  3114722   72210270959      3501309  0.035355        0   \n",
      "307      NaN  3117569   72210270959      3521382  0.039426        0   \n",
      "308      NaN  3117763   72210270959      3530177  0.037976        0   \n",
      "\n",
      "     PTOFdelay  zip4.PAWKmax  zip4.PAWKr50  cchisq  \n",
      "299   0.000057  8.178247e-07      0.000399       0  \n",
      "300  -0.000009  8.919085e-07      0.000897       0  \n",
      "301   0.000014  8.768378e-07      0.000774       0  \n",
      "302  -0.000006  7.963957e-07      0.000404       1  \n",
      "303   0.000046  8.059994e-07      0.000404       0  \n",
      "304   0.000035  7.946961e-07      0.000404       0  \n",
      "305   0.000050  7.942786e-07      0.000404       0  \n",
      "306   0.000055  8.231847e-07      0.000405       1  \n",
      "307   0.000055  8.038034e-07      0.000404       0  \n",
      "308  -0.000011  8.168774e-07      0.000404       1  \n"
     ]
    }
   ],
   "source": [
    "coindata1 = pd.read_csv(\"data/r76_roi_events_trig_set1.txt\", skiprows=3, engine='python',skipfooter=1,sep=\"*\",skipinitialspace=True, \\\n",
    "            index_col=False, \\\n",
    "            names=['garbage','Row','SeriesNumber','EventNumber','pt_keVee','coinwin','PTOFdelay','zip4.PAWKmax','zip4.PAWKr50','cchisq'], \\\n",
    "            delim_whitespace=False)\n",
    "coindata2 = pd.read_csv(\"data/r76_roi_events_trig_set2.txt\", skiprows=3, engine='python',skipfooter=1,sep=\"*\",skipinitialspace=True, \\\n",
    "            index_col=False, \\\n",
    "            names=['garbage','Row','SeriesNumber','EventNumber','pt_keVee','coinwin','PTOFdelay','zip4.PAWKmax','zip4.PAWKr50','cchisq'], \\\n",
    "            delim_whitespace=False)\n",
    "coindata3 = pd.read_csv(\"data/r76_roi_events_trig_set3.txt\", skiprows=3, engine='python',skipfooter=1,sep=\"*\",skipinitialspace=True, \\\n",
    "            index_col=False, \\\n",
    "            names=['garbage','Row','SeriesNumber','EventNumber','pt_keVee','coinwin','PTOFdelay','zip4.PAWKmax','zip4.PAWKr50','cchisq'], \\\n",
    "            delim_whitespace=False)\n",
    "coindata4 = pd.read_csv(\"data/r76_roi_events_trig_set4.txt\", skiprows=3, engine='python',skipfooter=1,sep=\"*\",skipinitialspace=True, \\\n",
    "            index_col=False, \\\n",
    "            names=['garbage','Row','SeriesNumber','EventNumber','pt_keVee','coinwin','PTOFdelay','zip4.PAWKmax','zip4.PAWKr50','cchisq'], \\\n",
    "            delim_whitespace=False)\n",
    "frames = [coindata1, coindata2, coindata3, coindata4]\n",
    "\n",
    "coindata = pd.concat(frames)\n",
    "print (coindata.head(10))\n",
    "print (coindata.tail(10))"
   ]
  },
  {
   "cell_type": "code",
   "execution_count": null,
   "id": "686f1f4e-80cd-4b59-ba44-8f1fe0220709",
   "metadata": {},
   "outputs": [],
   "source": []
  }
 ],
 "metadata": {
  "kernelspec": {
   "display_name": "Python (fano_pub_new)",
   "language": "python",
   "name": "fano_pub_new"
  },
  "language_info": {
   "codemirror_mode": {
    "name": "ipython",
    "version": 3
   },
   "file_extension": ".py",
   "mimetype": "text/x-python",
   "name": "python",
   "nbconvert_exporter": "python",
   "pygments_lexer": "ipython3",
   "version": "3.9.12"
  }
 },
 "nbformat": 4,
 "nbformat_minor": 5
}
