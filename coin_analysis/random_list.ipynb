{
 "cells": [
  {
   "cell_type": "code",
   "execution_count": 1,
   "id": "bc9d216e-9fe0-47a5-adc4-a90de5985c75",
   "metadata": {},
   "outputs": [],
   "source": [
    "#we may need some code in the ../python directory and/or matplotlib styles\n",
    "import sys\n",
    "sys.path.append('../python/')\n",
    "\n",
    "#matplotlib for plotting\n",
    "import matplotlib as mpl\n",
    "from matplotlib import pyplot as plt\n",
    "plt.style.use('../mplstyles/stylelib/standard.mplstyle')\n",
    "\n",
    "#other computational libraries\n",
    "import numpy as np\n",
    "import pandas as pd\n",
    "import scipy\n",
    "import scipy.constants as co\n",
    "import scipy.stats as ss\n",
    "import itertools\n",
    "import pickle"
   ]
  },
  {
   "cell_type": "code",
   "execution_count": 2,
   "id": "4d182c9f-9f9b-4b6f-b398-470cb284023c",
   "metadata": {},
   "outputs": [
    {
     "name": "stdout",
     "output_type": "stream",
     "text": [
      "   garbage     Row  SeriesNumber  EventNumber  pt_keVee  coinwin  PTOFdelay  \\\n",
      "0      NaN   34039   72209162200       370283  0.038369        1   0.000028   \n",
      "1      NaN   49842   72209162200       540501  0.041094        1   0.000028   \n",
      "2      NaN   50764   72209162200       550490  0.037813        1   0.000026   \n",
      "3      NaN   62628   72209162200       680187  0.049452        0   0.000046   \n",
      "4      NaN   63873   72209162200       690471  0.035250        0   0.000058   \n",
      "5      NaN   72109   72209162200       780322  0.038292        0   0.000036   \n",
      "6      NaN   82070   72209162200       890142  0.037109        0   0.000062   \n",
      "7      NaN  123254   72209162200      1330456  0.042635        0   0.000039   \n",
      "8      NaN  129655   72209162200      1400398  0.064482        1   0.000026   \n",
      "9      NaN  154754   72209162200      1670539  0.037998        0   0.000058   \n",
      "\n",
      "   zip4.PAWKmax  zip4.PAWKr50  cchisq  \n",
      "0  8.715355e-10      0.002657       1  \n",
      "1  4.354392e-10      0.000325       0  \n",
      "2 -1.183217e-09      0.000000       0  \n",
      "3  5.707755e-10      0.000707       1  \n",
      "4  7.591800e-10      0.002764       0  \n",
      "5  5.718003e-10      0.000199       1  \n",
      "6  1.406868e-09      0.002746       1  \n",
      "7  1.104355e-09      0.002688       1  \n",
      "8  9.253002e-10      0.001525       1  \n",
      "9  7.595680e-10      0.001861       0  \n",
      "    garbage      Row  SeriesNumber  EventNumber  pt_keVee  coinwin  PTOFdelay  \\\n",
      "79      NaN  2927605   72210270959      2130464  0.038186        0   0.000051   \n",
      "80      NaN  2943284   72210270959      2240716  0.163730        1   0.000012   \n",
      "81      NaN  2993376   72210270959      2610680  0.044797        0   0.000063   \n",
      "82      NaN  3024020   72210270959      2840273  0.073145        0   0.000049   \n",
      "83      NaN  3055640   72210270959      3080088  0.039741        0  -0.000012   \n",
      "84      NaN  3063099   72210270959      3130967  0.150963        0   0.000035   \n",
      "85      NaN  3073167   72210270959      3210004  0.035343        0   0.000057   \n",
      "86      NaN  3080551   72210270959      3260378  0.036318        0   0.000049   \n",
      "87      NaN  3092419   72210270959      3341224  0.035663        0   0.000043   \n",
      "88      NaN  3117820   72210270959      3530234  0.037698        0   0.000063   \n",
      "\n",
      "    zip4.PAWKmax  zip4.PAWKr50  cchisq  \n",
      "79  8.591800e-10      0.000646       0  \n",
      "80  1.061233e-09      0.001616       0  \n",
      "81  8.051234e-07      0.001630       1  \n",
      "82  1.356485e-09      0.003274       0  \n",
      "83  1.281515e-09      0.003194       1  \n",
      "84  7.662279e-10      0.001418       0  \n",
      "85  8.018850e-10      0.000562       0  \n",
      "86  1.254326e-09      0.003275       0  \n",
      "87  6.480526e-10      0.003273       1  \n",
      "88  8.168793e-07      0.000478       1  \n"
     ]
    }
   ],
   "source": [
    "coindata1 = pd.read_csv(\"data/r76_roi_events_rand_set1.txt\", skiprows=3, engine='python',skipfooter=1,sep=\"*\",skipinitialspace=True, \\\n",
    "            index_col=False, \\\n",
    "            names=['garbage','Row','SeriesNumber','EventNumber','pt_keVee','coinwin','PTOFdelay','zip4.PAWKmax','zip4.PAWKr50','cchisq'], \\\n",
    "            delim_whitespace=False)\n",
    "coindata2 = pd.read_csv(\"data/r76_roi_events_rand_set2.txt\", skiprows=3, engine='python',skipfooter=1,sep=\"*\",skipinitialspace=True, \\\n",
    "            index_col=False, \\\n",
    "            names=['garbage','Row','SeriesNumber','EventNumber','pt_keVee','coinwin','PTOFdelay','zip4.PAWKmax','zip4.PAWKr50','cchisq'], \\\n",
    "            delim_whitespace=False)\n",
    "coindata3 = pd.read_csv(\"data/r76_roi_events_rand_set3.txt\", skiprows=3, engine='python',skipfooter=1,sep=\"*\",skipinitialspace=True, \\\n",
    "            index_col=False, \\\n",
    "            names=['garbage','Row','SeriesNumber','EventNumber','pt_keVee','coinwin','PTOFdelay','zip4.PAWKmax','zip4.PAWKr50','cchisq'], \\\n",
    "            delim_whitespace=False)\n",
    "coindata4 = pd.read_csv(\"data/r76_roi_events_rand_set4.txt\", skiprows=3, engine='python',skipfooter=1,sep=\"*\",skipinitialspace=True, \\\n",
    "            index_col=False, \\\n",
    "            names=['garbage','Row','SeriesNumber','EventNumber','pt_keVee','coinwin','PTOFdelay','zip4.PAWKmax','zip4.PAWKr50','cchisq'], \\\n",
    "            delim_whitespace=False)\n",
    "frames = [coindata1, coindata2, coindata3, coindata4]\n",
    "\n",
    "coindata = pd.concat(frames)\n",
    "print (coindata.head(10))\n",
    "print (coindata.tail(10))"
   ]
  },
  {
   "cell_type": "code",
   "execution_count": 3,
   "id": "affb1bab-7b92-4d4f-ae86-8953dceb0cd4",
   "metadata": {},
   "outputs": [],
   "source": [
    "series = np.asarray(coindata['SeriesNumber'])\n",
    "ev = np.asarray(coindata['EventNumber'])\n",
    "EkeV = np.asarray(coindata['pt_keVee'])\n",
    "ccoinwin = np.asarray(coindata['coinwin'],dtype=np.dtype(bool))\n",
    "cchisq = np.asarray(coindata['cchisq'],dtype=np.dtype(bool))"
   ]
  },
  {
   "cell_type": "code",
   "execution_count": 4,
   "id": "c76837e2-a738-4667-844f-25628f6efeca",
   "metadata": {},
   "outputs": [
    {
     "name": "stdout",
     "output_type": "stream",
     "text": [
      "72\n",
      "30\n",
      "42\n"
     ]
    }
   ],
   "source": [
    "print(np.sum((EkeV>0.1)))\n",
    "print(np.sum((EkeV>0.1)&cchisq))\n",
    "print(np.sum((EkeV>0.1)&~cchisq))"
   ]
  },
  {
   "cell_type": "code",
   "execution_count": 5,
   "id": "cc2e814b-3bb0-4aeb-8398-7d8f1d4efb75",
   "metadata": {},
   "outputs": [],
   "source": [
    "csiggood = (EkeV>0.1)&cchisq\n",
    "csigbad  = (EkeV>0.1)&~cchisq"
   ]
  },
  {
   "cell_type": "code",
   "execution_count": 6,
   "id": "683951a0-6785-4bce-9bfd-b20b7af59880",
   "metadata": {},
   "outputs": [
    {
     "name": "stdout",
     "output_type": "stream",
     "text": [
      "[72209162200 72209162200 72209162200 72209162200 72209171225 72209171225\n",
      " 72209171225 72209171225 72209172155 72208301829 72208302118 72208302118\n",
      " 72208302118 72208302118 72208302118 72208302118 72208302118 72208311151\n",
      " 72208311151 72208311151 72208311151 72210192240 72210192240 72210192240\n",
      " 72210251956 72210261049 72210262224 72210262224 72210262224 72210262224]\n",
      "[3690436 4110008 5540101 5960833 2870212 2920568 4450228 4680336  630735\n",
      "  600808   60055  230034 2620386 2700821 4280153 5170116 5420856 3670143\n",
      " 3720348 3730631 3740829 1301001 2060066 3700639 4130203   10204 1021241\n",
      " 1060563 2210217 3100563]\n"
     ]
    }
   ],
   "source": [
    "print(series[csiggood])\n",
    "print(ev[csiggood])"
   ]
  },
  {
   "cell_type": "code",
   "execution_count": 7,
   "id": "f312825a-3283-4933-bf51-d291852b8bce",
   "metadata": {},
   "outputs": [],
   "source": [
    "with open('data/r76-80V-nairand-100eV-goodchi.txt', 'w') as f:\n",
    "    for i,s in enumerate(series):\n",
    "        if(csiggood[i]):\n",
    "          f.write('{} {}\\n'.format(s,ev[i]))"
   ]
  },
  {
   "cell_type": "code",
   "execution_count": 8,
   "id": "709eb6a5-d9bf-4915-9224-30cc7f49ae09",
   "metadata": {},
   "outputs": [],
   "source": [
    "with open('data/r76-80V-nairand-100eV-badchi.txt', 'w') as f:\n",
    "    for i,s in enumerate(series):\n",
    "        if(csigbad[i]):\n",
    "          f.write('{} {}\\n'.format(s,ev[i]))"
   ]
  },
  {
   "cell_type": "code",
   "execution_count": null,
   "id": "5b4ede2c-1f93-4c92-a720-265d684b8d57",
   "metadata": {},
   "outputs": [],
   "source": []
  }
 ],
 "metadata": {
  "kernelspec": {
   "display_name": "Python (fano_pub_new)",
   "language": "python",
   "name": "fano_pub_new"
  },
  "language_info": {
   "codemirror_mode": {
    "name": "ipython",
    "version": 3
   },
   "file_extension": ".py",
   "mimetype": "text/x-python",
   "name": "python",
   "nbconvert_exporter": "python",
   "pygments_lexer": "ipython3",
   "version": "3.9.12"
  }
 },
 "nbformat": 4,
 "nbformat_minor": 5
}
