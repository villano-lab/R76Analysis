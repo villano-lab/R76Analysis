{
 "cells": [
  {
   "cell_type": "markdown",
   "id": "9de81430-4f21-45c7-9607-f3717538e66a",
   "metadata": {},
   "source": [
    "/data/chocula/fritts/run076/r76_analysis_position_new.c"
   ]
  },
  {
   "cell_type": "code",
   "execution_count": 8,
   "id": "c55ba242-b807-45bc-9524-c8230406bf15",
   "metadata": {},
   "outputs": [],
   "source": [
    "#Imports\n",
    "import sys\n",
    "sys.path.append('../python')\n",
    "import R76Tools as R76\n",
    "\n",
    "#Variables\n",
    "s: int=3 #int\n",
    "datapath: str=\"/data/chocula/fritts/data/k100proc/midasrq/byseries/\"\n",
    "ser: list=[\"07220531_0810\", \"07220531_1214\", \"07220601_1310\", \"07220617_1209\", \"07220617_1305\"]\n",
    "serlabel: list=[\"no_source\",\"22Na_48cm\",\"22Na_40cm\",\"muons\",\"muons_NaI-triggered\"]"
   ]
  },
  {
   "cell_type": "code",
   "execution_count": 10,
   "id": "4352c388-d715-4751-a40e-7a505edcbaf5",
   "metadata": {},
   "outputs": [
    {
     "ename": "ValueError",
     "evalue": "not enough values to unpack (expected 3, got 2)",
     "output_type": "error",
     "traceback": [
      "\u001b[0;31m---------------------------------------------------------------------------\u001b[0m",
      "\u001b[0;31mValueError\u001b[0m                                Traceback (most recent call last)",
      "Input \u001b[0;32mIn [10]\u001b[0m, in \u001b[0;36m<cell line: 1>\u001b[0;34m()\u001b[0m\n\u001b[0;32m----> 1\u001b[0m e,z,z4 \u001b[38;5;241m=\u001b[39m R76\u001b[38;5;241m.\u001b[39mmakechain_list(ser,path\u001b[38;5;241m=\u001b[39mdatapath)\n",
      "\u001b[0;31mValueError\u001b[0m: not enough values to unpack (expected 3, got 2)"
     ]
    }
   ],
   "source": [
    "e,z,z4 = R76.makechain_list(ser,path=datapath)"
   ]
  },
  {
   "cell_type": "code",
   "execution_count": null,
   "id": "50e637af-9cb5-4a10-8847-26d3ef3ef2c4",
   "metadata": {},
   "outputs": [],
   "source": []
  }
 ],
 "metadata": {
  "kernelspec": {
   "display_name": "R76",
   "language": "python",
   "name": "r76"
  },
  "language_info": {
   "codemirror_mode": {
    "name": "ipython",
    "version": 3
   },
   "file_extension": ".py",
   "mimetype": "text/x-python",
   "name": "python",
   "nbconvert_exporter": "python",
   "pygments_lexer": "ipython3",
   "version": "3.10.6"
  }
 },
 "nbformat": 4,
 "nbformat_minor": 5
}
