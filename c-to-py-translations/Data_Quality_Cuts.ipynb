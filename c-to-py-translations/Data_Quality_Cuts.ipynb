{
 "cells": [
  {
   "cell_type": "markdown",
   "id": "aef3317c",
   "metadata": {},
   "source": [
    "#  Data Quality Cuts\n",
    "The purpose of this notebook is to follow Matt's work https://zzz.physics.umn.edu/!cdms/cdms/k100/run_summary/run_76/data_quality_cuts (login required)."
   ]
  },
  {
   "cell_type": "code",
   "execution_count": 30,
   "id": "7b9cc7de",
   "metadata": {},
   "outputs": [],
   "source": [
    "#Imports\n",
    "import math\n",
    "import sys\n",
    "import numpy as np              #Will be used for binning\n",
    "import pandas as pd             #Will be used for data structuring\n",
    "import matplotlib.pyplot as plt #Basic plotting library\n",
    "from matplotlib import cm\n",
    "from matplotlib import colors\n",
    "sys.path.append('../')\n",
    "from R76Tools import *\n",
    "\n",
    "#Constants\n",
    "frittspath = \"/data/chocula/fritts/data/k100proc/midasrq/byseries/\""
   ]
  },
  {
   "cell_type": "code",
   "execution_count": 5,
   "id": "22b6fe0f",
   "metadata": {},
   "outputs": [],
   "source": [
    "datapath=frittspath\n",
    "ser=[\"07220827_1153\",\"07220916_2059\",\"07220917_1039\",\"07220917_2125\"]\n",
    "lab=[\"0V\",\"-4V\",\"-21V\",\"-65V\",\"-84V\",\"-84V\"]\n",
    "_,z = makechain_list(ser,path=datapath,filters=[fittingfilters,\"PTOFamps0\"],aliases=calibrationaliases)"
   ]
  },
  {
   "cell_type": "markdown",
   "id": "0abab6f0",
   "metadata": {},
   "source": [
    "## Cuts and aliases"
   ]
  },
  {
   "cell_type": "code",
   "execution_count": 36,
   "id": "427006c8",
   "metadata": {},
   "outputs": [],
   "source": [
    "# A lot of this is similar to tutorial replication.\n",
    "crand=[]; cgoodwalk=[]; cbs=[]\n",
    "for x in z:\n",
    "    crand.append(x['EventCategory']==1)\n",
    "    cgoodwalk.append((x['PCWKr20'] > 0.25e-3)    #The result of ConstFreqRTFTWalk is probably good,\n",
    "                     & (x['PCWKr20']<0.5e-3)     #based on rise times.\n",
    "                     & (x['PDWKr20']>0.25e-3)    #This is a quality cut.\n",
    "                     & (x['PDWKr20']<0.5e-3)\n",
    "                     & (x['PEWKr20']>0.25e-3)\n",
    "                     & (x['PEWKr20']<0.5e-3))\n",
    "    x['PTwid']=(x['PTWKf40']-x['PTWKr40'])*1e6\n",
    "    x['xdel']=1e6*(x['PEWKr20']-0.5*(x['PCWKr20']+x['PDWKr20']))-1\n",
    "    x['ydel']=1e6*(0.866*(x['PDWKr20']-x['PCWKr20']))+9\n",
    "    x['phidel']=[180/np.pi*math.atan2(x['ydel'].array[j],x['xdel'].array[j]) for j in range(len(x['ydel'].array))]\n",
    "    x['afdel']=1e6*(x['PFWKr20']-x['PAWKr20'])\n",
    "    x['pt_keV']=7.738820e+07*x['PTOFamps']+1.653756e+13*x['PTOFamps']**2\n",
    "    x['pt0_keV']=7.738820e+07*x['PTOFamps0']+1.653756e+13*x['PTOFamps0']**2\n",
    "    x['PSUMbs']=x['PAbs']+x['PBbs']+x['PCbs']+x['PDbs']+x['PEbs']+x['PFbs']\n",
    "    x['BSel']=x['PSUMbs']-18400\n",
    "    x['pt_keV_bscorr']=x['pt_keV']/(1.-0.0461538*x['BSel']/165)\n",
    "    x['pt0_keV_bscorr']=x['pt0_keV']/(1.-0.0461538*x['BSel']/165)\n",
    "    cbs.append(x['BSel']<1100)\n",
    "    x['pt_keVee']=14.0821*x['pt_keV_bscorr']/(333.899-x['pt_keV_bscorr'])\n",
    "    x['pt0_keVee']=14.0821*x['pt0_keV_bscorr']/(333.899-x['pt0_keV_bscorr'])\n",
    "    x['PTdbs']=(x['PAbspost']-x['PAbs']) + (x['PBbspost']-x['PBbs']) + (x['PCbspost']-x['PCbs']) + (x['PDbspost']-x['PDbs'])\\\n",
    "    + (x['PEbspost']-x['PEbs']) + (x['PFbspost']-x['PFbs'])\n",
    "    x['PTINTall_PTdbscorr']=x['PTINTall']-(x['PTdbs']<0)*0.5*(x['PTdbs']*4096./x['PFnorm'])"
   ]
  },
  {
   "cell_type": "code",
   "execution_count": 52,
   "id": "83281da4",
   "metadata": {},
   "outputs": [
    {
     "data": {
      "image/png": "[encoded data removed]",
      "text/plain": [
       "<Figure size 432x288 with 1 Axes>"
      ]
     },
     "metadata": {
      "needs_background": "light"
     },
     "output_type": "display_data"
    }
   ],
   "source": [
    "binsx=np.linspace(0,5,300)\n",
    "binsy=np.linspace(-1000,2000,200)\n",
    "cmap = cm.viridis.copy()\n",
    "cmap.set_under('w')\n",
    "plt.hist2d(z[1]['pt_keVee'][~crand[1]&cbs[1]],z[1]['PTINTall_PTdbscorr'][~crand[1]&cbs[1]]/z[1]['PTOFamps'][~crand[1]&cbs[1]],\n",
    "           bins=[binsx,binsy],cmap=cmap,vmin=1e-10)\n",
    "plt.xlim(0,5)\n",
    "plt.ylim(-1000,2000)\n",
    "plt.suptitle('pt_keVee vs. PTINTall_PTdbscorr/PTOFamps')\n",
    "plt.title(\"Cuts: no randoms, cbs\")\n",
    "plt.show()"
   ]
  },
  {
   "cell_type": "code",
   "execution_count": null,
   "id": "ad0bf93d",
   "metadata": {},
   "outputs": [],
   "source": []
  }
 ],
 "metadata": {
  "kernelspec": {
   "display_name": "Python 3 (ipykernel)",
   "language": "python",
   "name": "python3"
  },
  "language_info": {
   "codemirror_mode": {
    "name": "ipython",
    "version": 3
   },
   "file_extension": ".py",
   "mimetype": "text/x-python",
   "name": "python",
   "nbconvert_exporter": "python",
   "pygments_lexer": "ipython3",
   "version": "3.7.13"
  }
 },
 "nbformat": 4,
 "nbformat_minor": 5
}
