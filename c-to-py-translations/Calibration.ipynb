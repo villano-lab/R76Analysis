{
 "cells": [
  {
   "cell_type": "markdown",
   "id": "44fd75d8-a1b1-4550-b6c0-8558a1064a99",
   "metadata": {},
   "source": [
    "# Calibration\n",
    "The purpose of this notebook is to calibrate our data based on peaks, following Matt's work [here (login required)](https://zzz.physics.umn.edu/!cdms/cdms/k100/run_summary/run_76/electron-equivalent_energy_calibration)."
   ]
  },
  {
   "cell_type": "code",
   "execution_count": 1,
   "id": "d79269d7-f753-4dba-a378-7d02a8ade1f5",
   "metadata": {},
   "outputs": [
    {
     "name": "stderr",
     "output_type": "stream",
     "text": [
      "/data/chocula/harrisk/R76Analysis/c-to-py-translations/../python/R76Tools.py:8: UserWarning: Module `pysftp` was missing. Online functions for use of data via SSH will be unavailable.\n",
      "  warnings.warn(\"Module `pysftp` was missing. Online functions for use of data via SSH will be unavailable.\")#,warnings.ImportWarning)\n"
     ]
    }
   ],
   "source": [
    "#Imports\n",
    "import sys\n",
    "import numpy as np              #Will be used for binning\n",
    "import pandas as pd             #Will be used for data structuring\n",
    "import lmfit as lf              #Fitting\n",
    "import matplotlib.pyplot as plt #Basic plotting library\n",
    "from scipy.stats import kstest as ks\n",
    "sys.path.append('../python')\n",
    "from R76Tools import *          #Tools written by me for, e.x., importing our files\n",
    "\n",
    "#Constants\n",
    "frittspath = \"/data/chocula/fritts/data/k100proc/midasrq/byseries/\"\n",
    "neogpath = \"/data/chocula/neog/rq/\"\n",
    "baselinecorrections = pd.read_csv(\"../baseline_correction/baselinecorrectionvalues.csv\")\n",
    "gaus_mod = lf.Model(gaus)\n",
    "gaus_params = gaus_mod.make_params()\n",
    "#gaus_params.add('A',min=0,value=300)\n",
    "gaus_params.add('sigma',min=0,value=3,max=200)\n",
    "gaus_params.add('mu',min=100,max=300,value=150)\n",
    "cal_mod = lf.Model(E_cal)\n",
    "cal_params = cal_mod.make_params(a=300,c=13)"
   ]
  },
  {
   "cell_type": "code",
   "execution_count": 2,
   "id": "0b886c41-a2d7-498b-ad33-235021ca57c9",
   "metadata": {},
   "outputs": [],
   "source": [
    "#User-set Variables\n",
    "#A little caching trick\n",
    "#PuBe, Full Shielding, -81V, NaI Trigger 7.6-11.2 MeV, skip crashed or otherwise bad entries. 57 hours of data.\n",
    "ser_new = [\"07220916_2059\",\"07220916_2200\",\"07220917_1039\",\"07220917_1225\",\"07220917_2125\",\"07220917_2155\",\"07220919_1723\",\n",
    "    \"07220919_2012\",\"07220920_0925\",\"07220920_1007\",\"07220920_2052\",\"07220920_2138\",\"07220921_0915\",\"07220921_1034\",\n",
    "    \"07220921_1541\",\"07220921_1631\",\"07220921_2055\"]\n",
    "datapath_new = frittspath\n",
    "%store -r ser datapath\n",
    "if not (ser_new == ser and datapath_new == datapath):\n",
    "    print(\"Loading new files; building z.\")\n",
    "    calibrationaliases.append(\"cofintl\"); print(calibrationaliases)\n",
    "    _,z = makechain_list(ser,path=datapath,filters=[fittingfilters,\"PTOFamps0\"],aliases=calibrationaliases)\n",
    "    %store ser datapath z\n",
    "else:\n",
    "    %store -r z\n",
    "#lab = [\"0V\",\"-4V\",\"-21V\",\"-65V\",\"-84V\",\"-84V\"]\n",
    "\n",
    "#Derived variables"
   ]
  },
  {
   "cell_type": "code",
   "execution_count": 3,
   "id": "646824ff",
   "metadata": {},
   "outputs": [],
   "source": [
    "# Fix up the names\n",
    "for i,x in enumerate(z):\n",
    "    for j in range(len(baselinecorrections)): # Pull m and b values from the csv\n",
    "        if baselinecorrections.series[j]==ser[i]:\n",
    "            m=baselinecorrections.m[j]\n",
    "            b=baselinecorrections.b[j]\n",
    "    x[\"cgoodwalk\"] = (x[\"PCWKr20\"]>0.25e-3)&(x[\"PCWKr20\"]<0.5e-3)&(x[\"PDWKr20\"]>0.25e-3)&(x[\"PDWKr20\"]<0.5e-3)&\\\n",
    "        (x[\"PEWKr20\"]>0.25e-3)&(x[\"PEWKr20\"]<0.5e-3)\n",
    "    x[\"pt_keV_bscorr\"] = x[\"pt_keV\"]/(1+m*x[\"BSel\"]/b)\n",
    "    x[\"pt0_keV_bscorr\"] = x[\"pt0_keV\"]/(1+m*x[\"BSel\"]/b)"
   ]
  },
  {
   "cell_type": "code",
   "execution_count": 4,
   "id": "1a4fdd42-9245-4229-9f5a-d7ea2902d77b",
   "metadata": {},
   "outputs": [
    {
     "name": "stdout",
     "output_type": "stream",
     "text": [
      "        EventCategory      PAOFamps   PAWKf20   PAWKf40   PAWKr20   PAWKr40  \\\n",
      "0                 0.0  6.312980e-07  0.000000  0.002072  0.000399  0.000404   \n",
      "1                 0.0  1.838609e-07  0.000643  0.000558  0.000382  0.000387   \n",
      "2                 0.0  6.345158e-07  0.001244  0.000970  0.000401  0.000406   \n",
      "3                 0.0  5.879847e-07  0.001054  0.000786  0.000404  0.000413   \n",
      "4                 0.0  6.714255e-07  0.000000  0.000000  0.000400  0.000404   \n",
      "...               ...           ...       ...       ...       ...       ...   \n",
      "446845            0.0  2.403316e-09  0.001813  0.001614  0.000297  0.000372   \n",
      "446846            0.0  4.574314e-07  0.002057  0.001337  0.000397  0.000402   \n",
      "446847            0.0  4.411289e-07  0.002297  0.001480  0.000396  0.000401   \n",
      "446848            0.0  1.477483e-07  0.002961  0.002572  0.001936  0.001940   \n",
      "446849            1.0  1.294976e-09  0.003134  0.002790  0.001187  0.001372   \n",
      "\n",
      "               PAbs  PAbspost      PBOFamps   PBWKf20  ...      phidel  \\\n",
      "0       3184.096939   3431.91  5.022545e-07  0.000000  ...    6.563043   \n",
      "1       3165.270408   3161.92  1.648624e-07  0.000649  ...  -58.464803   \n",
      "2       3140.216837   3185.18  4.909696e-07  0.001366  ... -134.365375   \n",
      "3       3145.622449   3164.10  4.556141e-07  0.001168  ...   91.509056   \n",
      "4       3147.153061   3785.31  5.420579e-07  0.000000  ...   13.609746   \n",
      "...             ...       ...           ...       ...  ...         ...   \n",
      "446845  3608.640306   3572.36  2.082138e-09  0.001967  ... -121.351579   \n",
      "446846  3500.489796   3575.19  3.300541e-07  0.002434  ...   27.530451   \n",
      "446847  3517.816327   3619.89  3.182802e-07  0.002831  ...    2.543005   \n",
      "446848  3511.117347   3612.21  1.247506e-07  0.003220  ...   10.579054   \n",
      "446849  3617.270408   3621.46  1.103176e-09  0.002678  ...   33.007020   \n",
      "\n",
      "            pt_keV     pt0_keV        PSUMbs         BSel    cbs  cofintl  \\\n",
      "0       283.331119  282.383493  18985.257653   585.257653   True    False   \n",
      "1        52.103786   47.154653  18870.640306   470.640306   True     True   \n",
      "2       264.605490  264.605490  18716.693878   316.693878   True    False   \n",
      "3       212.087043  195.377841  18750.890306   350.890306   True    False   \n",
      "4       328.296397  327.362052  18763.543367   363.543367   True    False   \n",
      "...            ...         ...           ...          ...    ...      ...   \n",
      "446845    0.667445    0.059993  21338.336735  2938.336735  False    False   \n",
      "446846  138.207487  124.712754  20833.563776  2433.563776  False    False   \n",
      "446847  131.387453  111.545535  20908.234694  2508.234694  False    False   \n",
      "446848   36.423147   33.307933  20862.915816  2462.915816  False    False   \n",
      "446849    0.249850   -0.234552  21467.147959  3067.147959  False    False   \n",
      "\n",
      "        cgoodwalk  pt_keV_bscorr  pt0_keV_bscorr  \n",
      "0            True     329.364031      328.262444  \n",
      "1            True      58.701329       53.125521  \n",
      "2            True     286.254453      286.254453  \n",
      "3            True     231.484191      213.246792  \n",
      "4            True     359.507519      358.484346  \n",
      "...           ...            ...             ...  \n",
      "446845       True       1.553388        0.139626  \n",
      "446846       True     261.931829      236.356513  \n",
      "446847       True     256.039428      217.372773  \n",
      "446848      False      69.782884       63.814465  \n",
      "446849      False       0.617418       -0.579616  \n",
      "\n",
      "[5063287 rows x 65 columns]\n"
     ]
    }
   ],
   "source": [
    "z_tot = pd.concat([x for x in z],axis=0)\n",
    "print(z_tot)"
   ]
  },
  {
   "cell_type": "code",
   "execution_count": null,
   "id": "1787ba6f-9115-4354-918d-a09ed8a77152",
   "metadata": {},
   "outputs": [],
   "source": [
    "i=2\n",
    "lolim=0\n",
    "hilim=10\n",
    "bins = np.linspace(lolim,hilim,200)\n",
    "h4ptdat = z_tot[\"pt_keV_bscorr\"][~z_tot[\"crand\"] & z_tot[\"cbs\"] & z_tot[\"cgoodwalk\"] & z[i][\"cofintl\"]]\n",
    "h4pt = plt.hist(h4ptdat,bins=bins,histtype=\"step\",label=\"goodwalk\")\n",
    "plt.hist(z_tot[\"pt_keV_bscorr\"][~z_tot[\"crand\"] & z_tot[\"cbs\"]],bins=bins,histtype=\"step\")\n",
    "plt.legend()\n",
    "plt.show()"
   ]
  },
  {
   "cell_type": "code",
   "execution_count": null,
   "id": "50649afe-fb6a-4382-8648-47710df84c52",
   "metadata": {},
   "outputs": [],
   "source": [
    "for idx,y in enumerate(z):\n",
    "    plt.hist(y['pt_keV_bscorr'][~y['crand'] & y['cbs']],bins=bins,histtype='step',label=idx)\n",
    "plt.hist(z_tot['pt_keV_bscorr'][~z_tot['crand'] & z_tot['cbs']],bins=bins,histtype='step',label='total')\n",
    "plt.legend()\n",
    "plt.xlim(lolim,hilim)\n",
    "plt.show()"
   ]
  },
  {
   "cell_type": "code",
   "execution_count": null,
   "id": "f9b00fde-1e30-4765-aa3c-d936c28d5294",
   "metadata": {},
   "outputs": [],
   "source": [
    "weights = 1/np.sqrt(h4pt[0]) #weights are 1/uncertainty which are Poisson so 1/sqrt(data)\n",
    "print(np.isnan(weights).any(),np.isnan(bins).any(),np.isnan(h4pt[0]).any())"
   ]
  },
  {
   "cell_type": "code",
   "execution_count": null,
   "id": "633482bd-919b-4760-9ca5-54a417b5dd4e",
   "metadata": {},
   "outputs": [],
   "source": [
    "#Initial plotting\n",
    "fit1lo,fit1hi=155,175\n",
    "fit2lo,fit2hi=175,190\n",
    "\n",
    "plt.hist(h4ptdat,bins=bins,histtype=\"step\")\n",
    "\n",
    "#Lmfit setup\n",
    "\n",
    "bins = (h4pt[1][:-1] + h4pt[1][1:])/2 #restructure to align for calculations\n",
    "#fit 1st region\n",
    "region1 = (bins >= fit1lo) & (bins <= fit1hi)\n",
    "highestregion1 = h4pt[0][region1]==max(h4pt[0][region1])\n",
    "gaus_params.add('mu',min=fit1lo,max=fit1hi,value=bins[region1][highestregion1][0])\n",
    "fit1 = gaus_mod.fit(h4pt[0][region1],gaus_params,x=bins[region1],weights=weights[region1])\n",
    "#fit 2nd region\n",
    "region2 = (bins >= fit2lo) & (bins <= fit2hi)\n",
    "highestregion2 = h4pt[0][region2]==max(h4pt[0][region2])\n",
    "gaus_params.add('mu',min=fit2lo,max=fit2hi,value=bins[region2][highestregion2][0])\n",
    "fit2 = gaus_mod.fit(h4pt[0][region2],gaus_params,x=bins[region2],weights=weights[region2])\n",
    "\n",
    "#Plot fits\n",
    "plt.plot(bins[region1],fit1.best_fit)\n",
    "plt.plot(bins[region2],fit2.best_fit)\n",
    "plt.xlim(lolim,hilim)\n",
    "plt.suptitle(\"pt_keV_bscorr, series \"+ser[i])\n",
    "plt.title(\"Cuts: no random events, Baseline\")\n",
    "plt.xlabel('keV'); plt.ylabel('Frequency')\n",
    "plt.show()\n",
    "x = [fit1.best_values['mu'],fit2.best_values['mu']]\n",
    "y = y_calib\n",
    "c = y[0]*y[1]*(x[1]-x[0])/(x[0]*y[1]-x[1]*y[0])\n",
    "a = x[0]*(c/y[0] + 1)\n",
    "print(ser[i],\"a:\",round(a),\"c:\",round(c))"
   ]
  },
  {
   "cell_type": "code",
   "execution_count": null,
   "id": "0b84452e-4764-43ef-b2ee-83e37bd7fa9a",
   "metadata": {
    "tags": []
   },
   "outputs": [],
   "source": [
    "fit1"
   ]
  },
  {
   "cell_type": "code",
   "execution_count": null,
   "id": "be701836-c61f-40aa-b58c-a98e54fca38e",
   "metadata": {},
   "outputs": [],
   "source": [
    "fit2"
   ]
  },
  {
   "cell_type": "code",
   "execution_count": null,
   "id": "ccd71a27-cd16-465d-a039-944ce3ae03d0",
   "metadata": {
    "scrolled": true
   },
   "outputs": [],
   "source": [
    "#Calculate our calibration\n",
    "x = [fit1.best_values['mu'],fit2.best_values['mu']]\n",
    "y = y_calib\n",
    "c = y[0]*y[1]*(x[1]-x[0])/(x[0]*y[1]-x[1]*y[0])\n",
    "a = x[0]*(c/y[0] + 1)\n",
    "#Apply the result\n",
    "z[4][\"pt_keVee\"] = c*z[4][\"pt_keV_bscorr\"]/(a-z[4][\"pt_keV_bscorr\"])\n",
    "z[4][\"pt0_keVee\"] = c*z[4][\"pt0_keV_bscorr\"]/(a-z[4][\"pt0_keV_bscorr\"])\n",
    "#And plot\n",
    "h4keVee = plt.hist(z[4][\"pt_keVee\"][~z[4][\"crand\"] & z[4][\"cbs\"]],bins=np.linspace(10,30,200))\n",
    "plt.xlim(10,30,200)\n",
    "plt.show()"
   ]
  },
  {
   "cell_type": "code",
   "execution_count": null,
   "id": "79dfa275-84b3-4235-9a10-d5493df093fe",
   "metadata": {},
   "outputs": [],
   "source": [
    "#Diagnostics\n",
    "g_NTL_empirical = a/c     #Calculated gain from calibration\n",
    "g_NTL_expected = 1+84/3.8 #1+HV/mean energy to produce one pair for Si\n",
    "print(\"Emperical:\",g_NTL_empirical)\n",
    "print(\"Expected:\",g_NTL_expected)\n",
    "\n",
    "h4n = plt.hist(z[4][\"pt0_keVee\"][~z[4][\"crand\"] & z[4][\"cbs\"]],bins=np.linspace(-0.1,0.1,200))\n",
    "gaus_params.add('mu',value=0)\n",
    "bins = (h4n[1][:-1]+h4n[1][1:])/2\n",
    "fit_NTL = gaus_mod.fit(h4n[0],gaus_params,x=bins)#,weights=1/np.sqrt(h4n[0]))\n",
    "plt.plot(bins,fit_NTL.best_fit)\n",
    "plt.show()\n",
    "fit_NTL"
   ]
  },
  {
   "cell_type": "code",
   "execution_count": null,
   "id": "8f404d67-40d6-4679-a370-a0672d0737bc",
   "metadata": {},
   "outputs": [],
   "source": [
    "print(a,c)"
   ]
  },
  {
   "cell_type": "markdown",
   "id": "048e2191-8201-477a-a88a-62caaed9e3a5",
   "metadata": {},
   "source": [
    "# 241 Am Calibration"
   ]
  },
  {
   "cell_type": "code",
   "execution_count": null,
   "id": "91953288-3e11-442b-bda6-97b39f4d20e2",
   "metadata": {},
   "outputs": [],
   "source": [
    "#User-set Variables\n",
    "#A little caching trick\n",
    "#PuBe, Full Shielding, -81V, NaI Trigger 7.6-11.2 MeV, skip crashed or otherwise bad entries. 57 hours of data.\n",
    "am_new = [\"07220822_1828\",\"07220826_1219\",\"07220826_1536\",\"07220826_2007\",\"07220827_1153\",\"07220830_1724\"]\n",
    "datapath_am_new = frittspath\n",
    "%store -r am datapath_am\n",
    "if not (am_new == am and datapath_am_new == datapath_am):\n",
    "    print(\"Loading new files; building z.\")\n",
    "    calibrationaliases.append(\"cofintl\"); print(calibrationaliases)\n",
    "    am = am_new; datapath_am = datapath_am_new\n",
    "    _,z_am = makechain_list(am,path=datapath_am,filters=[fittingfilters,\"PTOFamps0\"],aliases=calibrationaliases)\n",
    "    %store am datapath_am z_am\n",
    "else:\n",
    "    %store -r z_am\n",
    "#lab = [\"0V\",\"-4V\",\"-21V\",\"-65V\",\"-84V\",\"-84V\"]\n",
    "\n",
    "#Derived variables"
   ]
  },
  {
   "cell_type": "code",
   "execution_count": null,
   "id": "548ccd02-056b-4aa8-b815-b518b85f6462",
   "metadata": {},
   "outputs": [],
   "source": [
    "# Fix up the names\n",
    "for i,x in enumerate(z_am):\n",
    "    for j in range(len(baselinecorrections)): # Pull m and b values from the csv\n",
    "        if baselinecorrections.series[j]==ser[i]:\n",
    "            m=baselinecorrections.m[j]\n",
    "            b=baselinecorrections.b[j]\n",
    "    x[\"cgoodwalk\"] = (x[\"PCWKr20\"]>0.25e-3)&(x[\"PCWKr20\"]<0.5e-3)&(x[\"PDWKr20\"]>0.25e-3)&(x[\"PDWKr20\"]<0.5e-3)&\\\n",
    "        (x[\"PEWKr20\"]>0.25e-3)&(x[\"PEWKr20\"]<0.5e-3)\n",
    "    m=-0.0446154; b=154\n",
    "    #x[\"pt_keV\"]=7.738820e+07*x[\"PTOFamps\"]+1.653756e+13*x[\"PTOFamps\"]**2\n",
    "    x[\"pt_keV_bscorr\"] = x[\"pt_keV\"]/(1+m*x[\"BSel\"]/b)\n",
    "    x[\"pt0_keV_bscorr\"] = x[\"pt0_keV\"]/(1+m*x[\"BSel\"]/b)\n",
    "    x[\"cam\"] = x['PFOFamps']/x['PTOFamps']>0.21\n",
    "    x[\"cphi1\"] = (x['phidel']>5)&(x['phidel']<20)\n",
    "    x[\"cbs\"] = x[\"BSel\"]<1250\n",
    "\n",
    "#z_am_tot = pd.concat([x for x in z_am],axis=0)"
   ]
  },
  {
   "cell_type": "code",
   "execution_count": null,
   "id": "62b47659-ae28-4ebb-9432-3de823dc5020",
   "metadata": {},
   "outputs": [],
   "source": [
    "i=4\n",
    "lolim=100\n",
    "hilim=300\n",
    "bins = np.linspace(lolim,hilim,200)\n",
    "h4ptdat = z_am[i][\"pt_keV_bscorr\"][~z_am[i][\"crand\"] & z_am[i][\"cbs\"] #& z_am[i][\"cgoodwalk\"] \n",
    "    #& z_am[i][\"cofintl\"] \n",
    "    #& z_am[i][\"cam\"] \n",
    "    #& z_am[i][\"cphi1\"]\n",
    "]\n",
    "h4pt = plt.hist(h4ptdat,bins=bins,histtype=\"step\",label=\"am\")\n",
    "#plt.hist(z_am[i][\"pt_keV\"][~z_am[i][\"crand\"] & z_am[i][\"cbs\"]],histtype='step',bins=bins)\n",
    "#plt.hist(z_am[i][\"pt_keV_bscorr\"][~z_am[i][\"crand\"] & z_am[i][\"cbs\"]],bins=bins,histtype=\"step\")\n",
    "#plt.legend()\n",
    "plt.xlim(lolim,hilim);plt.ylim(0,1.1*max(h4pt[0]))\n",
    "plt.show()\n",
    "\n",
    "weights = 1/np.sqrt(h4pt[0]) #weights are 1/uncertainty which are Poisson so 1/sqrt(data)"
   ]
  },
  {
   "cell_type": "code",
   "execution_count": null,
   "id": "e957c2af-5c1a-4f16-995a-fef13e826e21",
   "metadata": {},
   "outputs": [],
   "source": [
    "#Initial plotting\n",
    "fit1lo,fit1hi=138,158\n",
    "fit2lo,fit2hi=158,172\n",
    "\n",
    "plt.hist(h4ptdat,bins=bins,histtype=\"step\")\n",
    "\n",
    "#Lmfit setup\n",
    "\n",
    "bins = (h4pt[1][:-1] + h4pt[1][1:])/2 #restructure to align for calculations\n",
    "#fit 1st region\n",
    "region1 = (bins >= fit1lo) & (bins <= fit1hi)\n",
    "highestregion1 = h4pt[0][region1]==max(h4pt[0][region1])\n",
    "gaus_params.add('mu',min=fit1lo,max=fit1hi,value=bins[region1][highestregion1][0])\n",
    "gaus_params.add('A',value=max(h4pt[0][region1]))\n",
    "gaus_params.add('sigma',value=5)\n",
    "fit1 = gaus_mod.fit(h4pt[0][region1],gaus_params,x=bins[region1],weights=weights[region1])\n",
    "#fit 2nd region\n",
    "region2 = (bins >= fit2lo) & (bins <= fit2hi)\n",
    "highestregion2 = h4pt[0][region2]==max(h4pt[0][region2])\n",
    "gaus_params.add('mu',min=fit2lo,max=fit2hi,value=bins[region2][highestregion2][0])\n",
    "gaus_params.add('A',value=max(h4pt[0][region2]))\n",
    "gaus_params.add('sigma',value=5)\n",
    "fit2 = gaus_mod.fit(h4pt[0][region2],gaus_params,x=bins[region2],weights=weights[region2])\n",
    "\n",
    "#Plot fits\n",
    "plt.plot(bins[region1],fit1.best_fit,color='red')\n",
    "plt.plot(bins[region2],fit2.best_fit,color='red')\n",
    "plt.xlim(lolim,200)\n",
    "#plt.suptitle(\"pt_keV_bscorr, series \"+ser[i])\n",
    "plt.title(\"Cuts: Non-Randoms, Baseline, Pileup, Phi\")\n",
    "plt.xlabel('keV'); plt.ylabel('Frequency')\n",
    "plt.show()\n",
    "x = [fit1.best_values['mu'],fit2.best_values['mu']]\n",
    "y = y_calib\n",
    "c = y[0]*y[1]*(x[1]-x[0])/(x[0]*y[1]-x[1]*y[0])\n",
    "a = x[0]*(c/y[0] + 1)\n",
    "print(ser[i],\"a:\",round(a),\"c:\",round(c))"
   ]
  },
  {
   "cell_type": "code",
   "execution_count": null,
   "id": "5582f9d7-4e42-4b99-a70b-f41c8b830363",
   "metadata": {},
   "outputs": [],
   "source": [
    "fit1"
   ]
  },
  {
   "cell_type": "code",
   "execution_count": null,
   "id": "e15b2c3a-2d2e-419c-bc09-ec0b733bca92",
   "metadata": {},
   "outputs": [],
   "source": [
    "fit2"
   ]
  },
  {
   "cell_type": "markdown",
   "id": "b17a7b79-0fbf-4d41-8b93-cec09dbd27b8",
   "metadata": {},
   "source": [
    "# Noise Width"
   ]
  },
  {
   "cell_type": "code",
   "execution_count": null,
   "id": "40b80a5f-b2a7-4696-97cb-00a6e86ce746",
   "metadata": {},
   "outputs": [],
   "source": [
    "#Debug\n",
    "plt.figure(figsize=(16,9))\n",
    "\n",
    "z_tot[\"pt_keVee_root\"] = 13.1849*z_tot[\"pt_keV_bscorr\"]/(297.667-z_tot[\"pt_keV_bscorr\"])\n",
    "z_tot[\"pt0_keVee_root\"] = 13.1849*z_tot[\"pt0_keV_bscorr\"]/(297.667-z_tot[\"pt0_keV_bscorr\"])\n",
    "\n",
    "h4n = plt.hist(z_tot[\"pt0_keVee_root\"][z_tot[\"crand\"] & z_tot[\"cbs\"]],bins=np.linspace(-0.1,0.1,200),alpha=0.6)\n",
    "gaus_params.add('mu',value=0,min=-0.1,max=0.1)\n",
    "gaus_params.add('sigma',value=0.025,min=0) #Guess visually\n",
    "gaus_params.add('A',value=max(h4n[0]),min=0.9*max(h4n[0]))\n",
    "bins = (h4n[1][:-1]+h4n[1][1:])/2\n",
    "fit_NTL = gaus_mod.fit(h4n[0],gaus_params,x=bins,weights=1/np.sqrt(h4n[0]))#,weights=1/np.sqrt(h4n[0]))\n",
    "\n",
    "def cauchy(x,A=1,gamma=1):\n",
    "    return A*(gamma/(x**2+gamma**2))\n",
    "cauchy_mod = lf.Model(cauchy)\n",
    "cauchy_params = cauchy_mod.make_params()\n",
    "cauchy_params.add('A',value=max(h4n[0]))\n",
    "fit_NTL_cauchy = cauchy_mod.fit(h4n[0],cauchy_params,x=bins,weights=1/np.sqrt(h4n[0]))\n",
    "\n",
    "def t(x,A=1,v=1):\n",
    "    v = int(v)\n",
    "    return A*(1+x**2/v)**(-(v+1)/2)\n",
    "t_mod = lf.Model(t)\n",
    "t_params = t_mod.make_params()\n",
    "t_params.add('A',value=max(h4n[0]))\n",
    "t_params.add('v',value=5,min=1)\n",
    "fit_NTL_t = t_mod.fit(h4n[0],t_params,x=bins,weights=1/np.sqrt(h4n[0]))\n",
    "\n",
    "plt.plot(bins,fit_NTL.best_fit,label='Gaussian')\n",
    "plt.plot(bins,fit_NTL_cauchy.best_fit,label='Cauchy')\n",
    "#plt.plot(bins,fit_NTL_t.best_fit,label='t')\n",
    "#plt.plot(bins,t(bins,max(h4n[0]),1e10))\n",
    "\n",
    "plt.text(-0.105,18000,\"$\\sigma$: 9.6 eV$_{ee}$\\n Red $\\chi^2$: 146\",bbox=dict(color='orange',alpha=0.6),fontsize=20)\n",
    "plt.text(-0.105,15000,\"$\\gamma$: 6.3 eV$_{ee}$\\n Red $\\chi^2$: 162\",bbox=dict(color='g',alpha=0.6),fontsize=20)\n",
    "\n",
    "plt.legend(fontsize=20)\n",
    "plt.xlabel('Noise Level (keV$_{ee}$)',fontsize=20)\n",
    "plt.ylabel('Frequency',fontsize=20)\n",
    "plt.tick_params(axis='both',which='major',labelsize=20)\n",
    "plt.show()\n",
    "fit_NTL"
   ]
  },
  {
   "cell_type": "code",
   "execution_count": null,
   "id": "c6cb104f-3ca3-455b-9b47-6c9ef487ca6c",
   "metadata": {},
   "outputs": [],
   "source": [
    "fit_NTL_cauchy"
   ]
  },
  {
   "cell_type": "code",
   "execution_count": null,
   "id": "af99f246-11c9-4aff-874b-2e37fb29cc7b",
   "metadata": {},
   "outputs": [],
   "source": [
    "fit_NTL_t"
   ]
  },
  {
   "cell_type": "code",
   "execution_count": null,
   "id": "bbd7f442-84d9-4b4e-95ed-8b2df46bdd14",
   "metadata": {},
   "outputs": [],
   "source": []
  }
 ],
 "metadata": {
  "kernelspec": {
   "display_name": "Python 3 (ipykernel)",
   "language": "python",
   "name": "python3"
  },
  "language_info": {
   "codemirror_mode": {
    "name": "ipython",
    "version": 3
   },
   "file_extension": ".py",
   "mimetype": "text/x-python",
   "name": "python",
   "nbconvert_exporter": "python",
   "pygments_lexer": "ipython3",
   "version": "3.8.10"
  }
 },
 "nbformat": 4,
 "nbformat_minor": 5
}
