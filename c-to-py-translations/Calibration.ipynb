{
 "cells": [
  {
   "cell_type": "markdown",
   "id": "44fd75d8-a1b1-4550-b6c0-8558a1064a99",
   "metadata": {},
   "source": [
    "# Calibration\n",
    "The purpose of this notebook is to calibrate our data based on peaks, following Matt's work [here (login required)](https://zzz.physics.umn.edu/!cdms/cdms/k100/run_summary/run_76/electron-equivalent_energy_calibration)."
   ]
  },
  {
   "cell_type": "code",
   "execution_count": 39,
   "id": "d79269d7-f753-4dba-a378-7d02a8ade1f5",
   "metadata": {},
   "outputs": [
    {
     "data": {
      "text/html": [
       "<div>\n",
       "<style scoped>\n",
       "    .dataframe tbody tr th:only-of-type {\n",
       "        vertical-align: middle;\n",
       "    }\n",
       "\n",
       "    .dataframe tbody tr th {\n",
       "        vertical-align: top;\n",
       "    }\n",
       "\n",
       "    .dataframe thead th {\n",
       "        text-align: right;\n",
       "    }\n",
       "</style>\n",
       "<table border=\"1\" class=\"dataframe\">\n",
       "  <thead>\n",
       "    <tr style=\"text-align: right;\">\n",
       "      <th></th>\n",
       "      <th>series</th>\n",
       "      <th>m</th>\n",
       "      <th>b</th>\n",
       "    </tr>\n",
       "  </thead>\n",
       "  <tbody>\n",
       "    <tr>\n",
       "      <th>0</th>\n",
       "      <td>07220420_0842</td>\n",
       "      <td>-0.093000</td>\n",
       "      <td>383.000000</td>\n",
       "    </tr>\n",
       "    <tr>\n",
       "      <th>1</th>\n",
       "      <td>07220421_1010</td>\n",
       "      <td>-0.087000</td>\n",
       "      <td>357.000000</td>\n",
       "    </tr>\n",
       "    <tr>\n",
       "      <th>2</th>\n",
       "      <td>07220422_1250</td>\n",
       "      <td>-0.089000</td>\n",
       "      <td>384.000000</td>\n",
       "    </tr>\n",
       "    <tr>\n",
       "      <th>3</th>\n",
       "      <td>07220425_0722</td>\n",
       "      <td>-0.100000</td>\n",
       "      <td>420.000000</td>\n",
       "    </tr>\n",
       "    <tr>\n",
       "      <th>4</th>\n",
       "      <td>07220425_1144</td>\n",
       "      <td>-0.110000</td>\n",
       "      <td>460.000000</td>\n",
       "    </tr>\n",
       "    <tr>\n",
       "      <th>...</th>\n",
       "      <td>...</td>\n",
       "      <td>...</td>\n",
       "      <td>...</td>\n",
       "    </tr>\n",
       "    <tr>\n",
       "      <th>90</th>\n",
       "      <td>07221124_1408</td>\n",
       "      <td>-0.030667</td>\n",
       "      <td>106.933333</td>\n",
       "    </tr>\n",
       "    <tr>\n",
       "      <th>91</th>\n",
       "      <td>07221124_1603</td>\n",
       "      <td>-0.030667</td>\n",
       "      <td>106.933333</td>\n",
       "    </tr>\n",
       "    <tr>\n",
       "      <th>92</th>\n",
       "      <td>07221124_1748</td>\n",
       "      <td>-0.030667</td>\n",
       "      <td>106.933333</td>\n",
       "    </tr>\n",
       "    <tr>\n",
       "      <th>93</th>\n",
       "      <td>07221124_2022</td>\n",
       "      <td>-0.030667</td>\n",
       "      <td>106.933333</td>\n",
       "    </tr>\n",
       "    <tr>\n",
       "      <th>94</th>\n",
       "      <td>07221124_2331</td>\n",
       "      <td>-0.030667</td>\n",
       "      <td>106.933333</td>\n",
       "    </tr>\n",
       "  </tbody>\n",
       "</table>\n",
       "<p>95 rows × 3 columns</p>\n",
       "</div>"
      ],
      "text/plain": [
       "           series         m           b\n",
       "0   07220420_0842 -0.093000  383.000000\n",
       "1   07220421_1010 -0.087000  357.000000\n",
       "2   07220422_1250 -0.089000  384.000000\n",
       "3   07220425_0722 -0.100000  420.000000\n",
       "4   07220425_1144 -0.110000  460.000000\n",
       "..            ...       ...         ...\n",
       "90  07221124_1408 -0.030667  106.933333\n",
       "91  07221124_1603 -0.030667  106.933333\n",
       "92  07221124_1748 -0.030667  106.933333\n",
       "93  07221124_2022 -0.030667  106.933333\n",
       "94  07221124_2331 -0.030667  106.933333\n",
       "\n",
       "[95 rows x 3 columns]"
      ]
     },
     "execution_count": 39,
     "metadata": {},
     "output_type": "execute_result"
    }
   ],
   "source": [
    "#Imports\n",
    "import sys\n",
    "import numpy as np              #Will be used for binning\n",
    "import pandas as pd             #Will be used for data structuring\n",
    "import lmfit as lf              #Fitting\n",
    "import matplotlib.pyplot as plt #Basic plotting library\n",
    "sys.path.append('../')\n",
    "from R76Tools import *          #Tools written by me for, e.x., importing our files\n",
    "\n",
    "#Constants\n",
    "frittspath = \"/data/chocula/fritts/data/k100proc/midasrq/byseries/\"\n",
    "neogpath = \"/data/chocula/neog/rq/\"\n",
    "baselinecorrections = pd.read_csv(\"../baselinecorrectionvalues.csv\")\n",
    "gaus_mod = lf.Model(gaus)\n",
    "gaus_params = gaus_mod.make_params()\n",
    "gaus_params.add('A',min=0,value=300)\n",
    "gaus_params.add('sigma',min=0,value=3,max=200)\n",
    "gaus_params.add('mu',min=100,max=300,value=150)\n",
    "cal_mod = lf.Model(E_cal)\n",
    "cal_params = cal_mod.make_params(a=300,c=13)"
   ]
  },
  {
   "cell_type": "code",
   "execution_count": 11,
   "id": "0b886c41-a2d7-498b-ad33-235021ca57c9",
   "metadata": {},
   "outputs": [],
   "source": [
    "#User-set Variables\n",
    "ser = [\"07220420_0842\",\"07220421_1010\",\"07220422_1250\",\"07220425_0722\",\"07220425_1144\",\"07220425_1621\"]\n",
    "paths=[frittspath,frittspath,frittspath,frittspath,frittspath,frittspath]\n",
    "#lab = [\"0V\",\"-4V\",\"-21V\",\"-65V\",\"-84V\",\"-84V\"]\n",
    "\n",
    "#Derived variables\n",
    "_,z = makechain_list(ser,path=datapath,filters=[fittingfilters,\"PTOFamps0\"],aliases=calibrationaliases)"
   ]
  },
  {
   "cell_type": "code",
   "execution_count": 55,
   "id": "646824ff",
   "metadata": {},
   "outputs": [],
   "source": [
    "# Fix up the names\n",
    "baselinecorrections = baselinecorrections.rename(columns={' m': 'm'})\n",
    "baselinecorrections = baselinecorrections.rename(columns={' b': 'b'})\n",
    "for i,x in enumerate(z):\n",
    "    for j in range(len(baselinecorrections)): # Pull m and b values from the csv\n",
    "        if baselinecorrections.series[j]==ser[i]:\n",
    "            m=baselinecorrections.m[j]\n",
    "            b=baselinecorrections.b[j]\n",
    "    x[\"pt_keV_bscorr\"] = x[\"pt_keV\"]/(1+m*x[\"BSel\"]/b)\n",
    "    x[\"pt0_keV_bscorr\"] = x[\"pt0_keV\"]/(1+m*x[\"BSel\"]/b)"
   ]
  },
  {
   "cell_type": "code",
   "execution_count": 82,
   "id": "633482bd-919b-4760-9ca5-54a417b5dd4e",
   "metadata": {},
   "outputs": [
    {
     "data": {
      "image/png": "[encoded data removed]",
      "text/plain": [
       "<Figure size 432x288 with 1 Axes>"
      ]
     },
     "metadata": {
      "needs_background": "light"
     },
     "output_type": "display_data"
    },
    {
     "name": "stdout",
     "output_type": "stream",
     "text": [
      "07220425_1144 a: 361 c: 9\n"
     ]
    }
   ],
   "source": [
    "#Initial plotting\n",
    "i=3\n",
    "lolim=100\n",
    "hilim=300\n",
    "fit1lo,fit1hi=210,220\n",
    "fit2lo,fit2hi=230,240\n",
    "bins = np.linspace(lolim,hilim,200)\n",
    "h4ptdat = z[i][\"pt_keV_bscorr\"][~z[i][\"crand\"] & z[i][\"cbs\"]]\n",
    "h4pt = plt.hist(h4ptdat,bins=bins,histtype=\"step\")\n",
    "\n",
    "#Lmfit setup\n",
    "weights = 1/np.sqrt(h4pt[0]) #weights are 1/uncertainty which are Poisson so 1/sqrt(data)\n",
    "bins = (h4pt[1][:-1] + h4pt[1][1:])/2 #restructure to align for calculations\n",
    "#fit 1st region\n",
    "region1 = (bins >= fit1lo) & (bins <= fit1hi)\n",
    "highestregion1 = h4pt[0][region1]==max(h4pt[0][region1])\n",
    "gaus_params.add('mu',min=fit1lo,max=fit1hi,value=bins[region1][highestregion1][0])\n",
    "fit1 = gaus_mod.fit(h4pt[0][region1],gaus_params,x=bins[region1],weights=weights[region1])\n",
    "#fit 2nd region\n",
    "region2 = (bins >= fit2lo) & (bins <= fit2hi)\n",
    "highestregion2 = h4pt[0][region2]==max(h4pt[0][region2])\n",
    "gaus_params.add('mu',min=fit2lo,max=fit2hi,value=bins[region2][highestregion2][0])\n",
    "fit2 = gaus_mod.fit(h4pt[0][region2],gaus_params,x=bins[region2],weights=weights[region2])\n",
    "\n",
    "#Plot fits\n",
    "plt.plot(bins[region1],fit1.best_fit)\n",
    "plt.plot(bins[region2],fit2.best_fit)\n",
    "plt.xlim(lolim,hilim)\n",
    "plt.suptitle(\"pt_keV_bscorr, series \"+ser[i])\n",
    "plt.title(\"Cuts: no random events, cbs\")\n",
    "plt.show()\n",
    "x = [fit1.best_values['mu'],fit2.best_values['mu']]\n",
    "y = y_calib\n",
    "c = y[0]*y[1]*(x[1]-x[0])/(x[0]*y[1]-x[1]*y[0])\n",
    "a = x[0]*(c/y[0] + 1)\n",
    "print(ser[i],\"a:\",round(a),\"c:\",round(c))"
   ]
  },
  {
   "cell_type": "code",
   "execution_count": 37,
   "id": "0b84452e-4764-43ef-b2ee-83e37bd7fa9a",
   "metadata": {
    "tags": []
   },
   "outputs": [
    {
     "data": {
      "text/html": [
       "<h2> Model</h2> Model(gaus) <h2>Fit Statistics</h2><table><tr><td>fitting method</td><td>leastsq</td><td></td></tr><tr><td># function evals</td><td>36</td><td></td></tr><tr><td># data points</td><td>8</td><td></td></tr><tr><td># variables</td><td>3</td><td></td></tr><tr><td>chi-square</td><td> 9.11160889</td><td></td></tr><tr><td>reduced chi-square</td><td> 1.82232178</td><td></td></tr><tr><td>Akaike info crit.</td><td> 7.04086209</td><td></td></tr><tr><td>Bayesian info crit.</td><td> 7.27918671</td><td></td></tr><tr><td>R-squared</td><td> 0.99955414</td><td></td></tr></table><h2>Variables</h2><table><tr><th> name </th><th> value </th><th> standard error </th><th> relative error </th><th> initial value </th><th> min </th><th> max </th><th> vary </th></tr><tr><td> mu </td><td>  308.070019 </td><td>  14.3462483 </td><td> (4.66%) </td><td> 300 </td><td>  300.000000 </td><td>  315.000000 </td><td> True </td></tr><tr><td> sigma </td><td>  22.2933721 </td><td>  8.29372281 </td><td> (37.20%) </td><td> 3 </td><td>  0.00000000 </td><td>  200.000000 </td><td> True </td></tr><tr><td> A </td><td>  1203.04869 </td><td>  24.5847614 </td><td> (2.04%) </td><td> 300 </td><td>  0.00000000 </td><td>         inf </td><td> True </td></tr></table><h2>Correlations (unreported correlations are < 0.100)</h2><table><tr><td>sigma</td><td>A</td><td>-0.6274</td></tr><tr><td>mu</td><td>sigma</td><td>-0.4339</td></tr></table>"
      ],
      "text/plain": [
       "<lmfit.model.ModelResult at 0x7fd097a8b3d0>"
      ]
     },
     "execution_count": 37,
     "metadata": {},
     "output_type": "execute_result"
    }
   ],
   "source": [
    "fit1"
   ]
  },
  {
   "cell_type": "code",
   "execution_count": 5,
   "id": "be701836-c61f-40aa-b58c-a98e54fca38e",
   "metadata": {},
   "outputs": [
    {
     "data": {
      "text/html": [
       "<h2> Model</h2> Model(gaus) <h2>Fit Statistics</h2><table><tr><td>fitting method</td><td>leastsq</td><td></td></tr><tr><td># function evals</td><td>33</td><td></td></tr><tr><td># data points</td><td>7</td><td></td></tr><tr><td># variables</td><td>3</td><td></td></tr><tr><td>chi-square</td><td> 11.9666022</td><td></td></tr><tr><td>reduced chi-square</td><td> 2.99165056</td><td></td></tr><tr><td>Akaike info crit.</td><td> 9.75346631</td><td></td></tr><tr><td>Bayesian info crit.</td><td> 9.59119675</td><td></td></tr><tr><td>R-squared</td><td> 0.99976843</td><td></td></tr></table><h2>Variables</h2><table><tr><th> name </th><th> value </th><th> standard error </th><th> relative error </th><th> initial value </th><th> min </th><th> max </th><th> vary </th></tr><tr><td> mu </td><td>  170.249859 </td><td>  0.97316672 </td><td> (0.57%) </td><td> 170.85427135678393 </td><td>  169.000000 </td><td>  176.000000 </td><td> True </td></tr><tr><td> sigma </td><td>  4.05991427 </td><td>  0.80103487 </td><td> (19.73%) </td><td> 3 </td><td>  0.00000000 </td><td>  200.000000 </td><td> True </td></tr><tr><td> A </td><td>  371.059098 </td><td>  22.8156422 </td><td> (6.15%) </td><td> 300 </td><td>  0.00000000 </td><td>         inf </td><td> True </td></tr></table><h2>Correlations (unreported correlations are < 0.100)</h2><table><tr><td>mu</td><td>sigma</td><td>-0.9354</td></tr><tr><td>mu</td><td>A</td><td>-0.5655</td></tr><tr><td>sigma</td><td>A</td><td>+0.3426</td></tr></table>"
      ],
      "text/plain": [
       "<lmfit.model.ModelResult at 0x7fd09758a8d0>"
      ]
     },
     "execution_count": 5,
     "metadata": {},
     "output_type": "execute_result"
    }
   ],
   "source": [
    "fit2"
   ]
  },
  {
   "cell_type": "code",
   "execution_count": 63,
   "id": "ccd71a27-cd16-465d-a039-944ce3ae03d0",
   "metadata": {
    "scrolled": true
   },
   "outputs": [
    {
     "data": {
      "image/png": "[encoded data removed]",
      "text/plain": [
       "<Figure size 432x288 with 1 Axes>"
      ]
     },
     "metadata": {
      "needs_background": "light"
     },
     "output_type": "display_data"
    }
   ],
   "source": [
    "#Calculate our calibration\n",
    "x = [fit1.best_values['mu'],fit2.best_values['mu']]\n",
    "y = y_calib\n",
    "c = y[0]*y[1]*(x[1]-x[0])/(x[0]*y[1]-x[1]*y[0])\n",
    "a = x[0]*(c/y[0] + 1)\n",
    "#Apply the result\n",
    "z[4][\"pt_keVee\"] = c*z[4][\"pt_keV_bscorr\"]/(a-z[4][\"pt_keV_bscorr\"])\n",
    "z[4][\"pt0_keVee\"] = c*z[4][\"pt0_keV_bscorr\"]/(a-z[4][\"pt0_keV_bscorr\"])\n",
    "#And plot\n",
    "h4keVee = plt.hist(z[4][\"pt_keVee\"][~z[4][\"crand\"] & z[4][\"cbs\"]],bins=np.linspace(10,30,200))\n",
    "plt.xlim(10,30,200)\n",
    "plt.show()"
   ]
  },
  {
   "cell_type": "code",
   "execution_count": 81,
   "id": "79dfa275-84b3-4235-9a10-d5493df093fe",
   "metadata": {},
   "outputs": [
    {
     "name": "stdout",
     "output_type": "stream",
     "text": [
      "Emperical: 36.98524687471198\n",
      "Expected: 23.105263157894736\n"
     ]
    },
    {
     "data": {
      "image/png": "[encoded data removed]",
      "text/plain": [
       "<Figure size 432x288 with 1 Axes>"
      ]
     },
     "metadata": {
      "needs_background": "light"
     },
     "output_type": "display_data"
    },
    {
     "data": {
      "text/html": [
       "<h2> Model</h2> Model(gaus) <h2>Fit Statistics</h2><table><tr><td>fitting method</td><td>leastsq</td><td></td></tr><tr><td># function evals</td><td>148</td><td></td></tr><tr><td># data points</td><td>199</td><td></td></tr><tr><td># variables</td><td>3</td><td></td></tr><tr><td>chi-square</td><td> 1503.95591</td><td></td></tr><tr><td>reduced chi-square</td><td> 7.67324445</td><td></td></tr><tr><td>Akaike info crit.</td><td> 408.487324</td><td></td></tr><tr><td>Bayesian info crit.</td><td> 418.367238</td><td></td></tr><tr><td>R-squared</td><td> 0.92759539</td><td></td></tr></table><h2>Variables</h2><table><tr><th> name </th><th> value </th><th> standard error </th><th> relative error </th><th> initial value </th><th> min </th><th> max </th><th> vary </th></tr><tr><td> mu </td><td>  0.06414203 </td><td>  0.00102374 </td><td> (1.60%) </td><td> 0 </td><td>        -inf </td><td>         inf </td><td> True </td></tr><tr><td> sigma </td><td>  0.03718965 </td><td>  0.00109258 </td><td> (2.94%) </td><td> 3 </td><td>  0.00000000 </td><td>  200.000000 </td><td> True </td></tr><tr><td> A </td><td>  25.6719923 </td><td>  0.43185828 </td><td> (1.68%) </td><td> 300 </td><td>  0.00000000 </td><td>         inf </td><td> True </td></tr></table><h2>Correlations (unreported correlations are < 0.100)</h2><table><tr><td>mu</td><td>sigma</td><td>+0.5501</td></tr><tr><td>sigma</td><td>A</td><td>-0.5345</td></tr><tr><td>mu</td><td>A</td><td>-0.1549</td></tr></table>"
      ],
      "text/plain": [
       "<lmfit.model.ModelResult at 0x7fd097d00510>"
      ]
     },
     "execution_count": 81,
     "metadata": {},
     "output_type": "execute_result"
    }
   ],
   "source": [
    "#Diagnostics\n",
    "g_NTL_empirical = a/c     #Calculated gain from calibration\n",
    "g_NTL_expected = 1+84/3.8 #1+HV/mean energy to produce one pair for Si\n",
    "print(\"Emperical:\",g_NTL_empirical)\n",
    "print(\"Expected:\",g_NTL_expected)\n",
    "\n",
    "h4n = plt.hist(z[4][\"pt0_keVee\"][~z[4][\"crand\"] & z[4][\"cbs\"]],bins=np.linspace(-0.1,0.1,200))\n",
    "gaus_params.add('mu',value=0)\n",
    "bins = (h4n[1][:-1]+h4n[1][1:])/2\n",
    "fit_NTL = gaus_mod.fit(h4n[0],gaus_params,x=bins)#,weights=1/np.sqrt(h4n[0]))\n",
    "plt.plot(bins,fit_NTL.best_fit)\n",
    "plt.show()\n",
    "fit_NTL"
   ]
  },
  {
   "cell_type": "code",
   "execution_count": 8,
   "id": "8f404d67-40d6-4679-a370-a0672d0737bc",
   "metadata": {},
   "outputs": [
    {
     "name": "stdout",
     "output_type": "stream",
     "text": [
      "290.18280058972545 12.496987662025882\n"
     ]
    }
   ],
   "source": [
    "print(a,c)"
   ]
  },
  {
   "cell_type": "code",
   "execution_count": 9,
   "id": "40b80a5f-b2a7-4696-97cb-00a6e86ce746",
   "metadata": {},
   "outputs": [
    {
     "data": {
      "image/png": "[encoded data removed]",
      "text/plain": [
       "<Figure size 432x288 with 1 Axes>"
      ]
     },
     "metadata": {
      "needs_background": "light"
     },
     "output_type": "display_data"
    },
    {
     "data": {
      "text/html": [
       "<h2> Model</h2> Model(gaus) <h2>Fit Statistics</h2><table><tr><td>fitting method</td><td>leastsq</td><td></td></tr><tr><td># function evals</td><td>106</td><td></td></tr><tr><td># data points</td><td>199</td><td></td></tr><tr><td># variables</td><td>3</td><td></td></tr><tr><td>chi-square</td><td> 4503.92825</td><td></td></tr><tr><td>reduced chi-square</td><td> 22.9792258</td><td></td></tr><tr><td>Akaike info crit.</td><td> 626.760683</td><td></td></tr><tr><td>Bayesian info crit.</td><td> 636.640597</td><td></td></tr><tr><td>R-squared</td><td> 0.97620196</td><td></td></tr></table><h2>Variables</h2><table><tr><th> name </th><th> value </th><th> standard error </th><th> relative error </th><th> initial value </th><th> min </th><th> max </th><th> vary </th></tr><tr><td> mu </td><td>  6.8786e-05 </td><td>  1.2495e-04 </td><td> (181.64%) </td><td> 0 </td><td> -0.10000000 </td><td>  0.10000000 </td><td> True </td></tr><tr><td> sigma </td><td>  0.00880017 </td><td>  1.8603e-04 </td><td> (2.11%) </td><td> 3 </td><td>  0.00000000 </td><td>  200.000000 </td><td> True </td></tr><tr><td> A </td><td>  122.083487 </td><td>  2.07321004 </td><td> (1.70%) </td><td> 300 </td><td>  0.00000000 </td><td>         inf </td><td> True </td></tr></table><h2>Correlations (unreported correlations are < 0.100)</h2><table><tr><td>sigma</td><td>A</td><td>-0.8087</td></tr></table>"
      ],
      "text/plain": [
       "<lmfit.model.ModelResult at 0x7fd0977fae90>"
      ]
     },
     "execution_count": 9,
     "metadata": {},
     "output_type": "execute_result"
    }
   ],
   "source": [
    "#Debug\n",
    "z[4][\"pt_keVee_root\"] = 13.1849*z[4][\"pt_keV_bscorr\"]/(297.667-z[4][\"pt_keV_bscorr\"])\n",
    "z[4][\"pt0_keVee_root\"] = 13.1849*z[4][\"pt0_keV_bscorr\"]/(297.667-z[4][\"pt0_keV_bscorr\"])\n",
    "\n",
    "h4n = plt.hist(z[4][\"pt0_keVee_root\"][z[4][\"crand\"] & z[4][\"cbs\"]],bins=np.linspace(-0.1,0.1,200))\n",
    "gaus_params.add('mu',value=0,min=-0.1,max=0.1)\n",
    "bins = (h4n[1][:-1]+h4n[1][1:])/2\n",
    "fit_NTL = gaus_mod.fit(h4n[0],gaus_params,x=bins)#,weights=1/np.sqrt(h4n[0]))\n",
    "plt.plot(bins,fit_NTL.best_fit)\n",
    "plt.show()\n",
    "fit_NTL"
   ]
  }
 ],
 "metadata": {
  "kernelspec": {
   "display_name": "Python 3 (ipykernel)",
   "language": "python",
   "name": "python3"
  },
  "language_info": {
   "codemirror_mode": {
    "name": "ipython",
    "version": 3
   },
   "file_extension": ".py",
   "mimetype": "text/x-python",
   "name": "python",
   "nbconvert_exporter": "python",
   "pygments_lexer": "ipython3",
   "version": "3.7.13"
  }
 },
 "nbformat": 4,
 "nbformat_minor": 5
}
