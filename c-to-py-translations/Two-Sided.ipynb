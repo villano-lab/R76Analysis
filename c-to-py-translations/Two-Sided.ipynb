{
 "cells": [
  {
   "cell_type": "markdown",
   "id": "fd2d89e1-b5a7-4fe4-89c8-a48872e2bc4d",
   "metadata": {},
   "source": [
    "`example_scripts/fritts/run076/r76_analysis_2sided.c`"
   ]
  },
  {
   "cell_type": "code",
   "execution_count": 1,
   "id": "5f2d8ef9-1474-4fd0-92eb-fb0d6b7ceb52",
   "metadata": {},
   "outputs": [],
   "source": [
    "#Imports\n",
    "import sys, sre_yield\n",
    "import numpy as np\n",
    "import matplotlib.pyplot as plt\n",
    "sys.path.append('../python')\n",
    "import R76Tools as R76\n",
    "\n",
    "#Variables\n",
    "s: int=2\n",
    "datapath: str=\"/data/chocula/fritts/data/k100proc/midasrq/byseries/\"\n",
    "sers: list=[\"07220330_1639\", \"07220405_1646\", \"07220406_1720\"]\n",
    "serlabel: list=[\"no_source\",\"22Na_48cm\",\"22Na_40cm\",\"muons\",\"muons_NaI-triggered\"]\n",
    "chans: list=[x for x in sre_yield.AllStrings(r'[A-F]')]\n",
    "ser = sers[s]"
   ]
  },
  {
   "cell_type": "code",
   "execution_count": 2,
   "id": "80a6b092-dd62-4b4e-afa3-2fe3d2251d20",
   "metadata": {},
   "outputs": [],
   "source": [
    "#Load Data\n",
    "e,z = R76.makechain_list(ser,path=datapath\n",
    "                         #,filters=['PTOFamps','PFS1OFamps','PES1OFamps','EventCategory']\n",
    "                        )\n",
    "z = z[0]"
   ]
  },
  {
   "cell_type": "code",
   "execution_count": 3,
   "id": "3552da53-c4f5-47e0-8b89-d16ebc06a598",
   "metadata": {},
   "outputs": [],
   "source": [
    "#Aliases\n",
    "z['c14_0'] = (z['PFS1OFamps']/z['PTOFamps'] > 0.25) & (z['PTOFamps'] > 0.48e-6) & (z['PTOFamps'] < 0.53e-6)\n",
    "z['c14_1'] = (z['PFS1OFamps']/z['PTOFamps'] > 0.15) & (z['PTOFamps'] > 0.37e-6) & (z['PTOFamps'] < 0.47e-6)\n",
    "z['c14_2'] = (z['PES1OFamps']/z['PTOFamps'] > 0.25) & (z['PTOFamps'] > 0.45e-6) & (z['PTOFamps'] < 0.52e-6)\n",
    "\n",
    "z['cbacks_0'] = (z['PTOFamps'] > 2.3e-6)  & (z['PTOFamps'] < 3e-6) #IF YOU DO NOT ADD () TO ALL\n",
    "z['cbacks_1'] = (z['PTOFamps'] > 1.91e-6) & (z['PTOFamps'] < 2.5e-6) #THEN IT CHANGES EVERYTHING\n",
    "z['cbacks_2'] = (z['PTOFamps'] > 2.21e-6) & (z['PTOFamps'] < 2.88e-6) #DON'T FORGET!\n",
    "\n",
    "#Aliases to correct for time shifts in some channels\n",
    "for c in chans: #Set a default for the ones we're not changing\n",
    "    for d in ['1','2']:\n",
    "        z['P'+c+'S'+d+'r20'] = z['P'+c+'S'+d+'WKr20']\n",
    "#THIS IS COMPLETE ONLY FOR s == 2\n",
    "if s == 0:\n",
    "    z['PBS1r20'] = z['PBS1WKr20'] - (z.index > 220e3)*5e-6\n",
    "    z['PCS1r20'] = z['PCS2WKr20'] - (z.index > 60e3)*5e-6\n",
    "    z['PFS2r20'] = z['PFS2WKr20'] - (z.index > 160e3)*5e-6\n",
    "if s == 1:\n",
    "    z['PCS1r20'] = z['PCS1WKr20'] - (z.index > 120e3)*5.5e-6\n",
    "    z['PFS2r20'] = z['PFS2WKr20'] - (z.index > 105e3)*5.5e-6\n",
    "    z['PCS2r20'] = z['PCS2WKr20'] - (z.index > 55e3)*5e-6\n",
    "if s == 2:\n",
    "    z['PCS2r20'] = z['PCS2WKr20'] - (z.index > 90e3)*5.5e-6\n",
    "\n",
    "#Good time info cut removes some of the events for which the walk algorithm fails\n",
    "z['ctgood'] = (\n",
    "    (  z['PFS1WKr20'] > 0.00036) & (z['PFS1WKr20'] < 0.00043) \n",
    "    & (z['PES1WKr20'] > 0.00036) & (z['PES1WKr20'] < 0.00043)\n",
    "    & (z['PDS1WKr20'] > 0.00036) & (z['PDS1WKr20'] < 0.00043) \n",
    "    & (z['PCS1WKr20'] > 0.00036) & (z['PCS1WKr20'] < 0.00043)\n",
    ")"
   ]
  },
  {
   "cell_type": "code",
   "execution_count": 8,
   "id": "da433918-1881-4cf6-9157-c2df1750c89d",
   "metadata": {},
   "outputs": [
    {
     "data": {
      "image/png": "[encoded data removed]",
      "text/plain": [
       "<Figure size 640x480 with 1 Axes>"
      ]
     },
     "metadata": {},
     "output_type": "display_data"
    }
   ],
   "source": [
    "zcut = z[(z['EventCategory'] != 1) & z['ctgood']]\n",
    "zback = zcut[zcut['cbacks_'+str(s)]]\n",
    "z14 = zcut[zcut['c14_'+str(s)]]\n",
    "\n",
    "c1 = 'C'; c2 = 'D'\n",
    "s1 = '2'; s2 = '2'\n",
    "a1 = 'P'+c1+'S'+s1+'r20'; a2 = 'P'+c2+'S'+s2+'r20'\n",
    "plt.hist((zback[a1] - zback[a2])*1e6,bins=np.linspace(-80,80,200),histtype='step',label='background')\n",
    "plt.hist((z14[a1] - z14[a2])*1e6,bins=np.linspace(-80,80,200),histtype='step',label='source')\n",
    "\n",
    "plt.legend()\n",
    "plt.show()"
   ]
  },
  {
   "cell_type": "code",
   "execution_count": 6,
   "id": "0375ca5b-ccbe-4f8a-80e2-c10aaa2ca8d7",
   "metadata": {},
   "outputs": [
    {
     "name": "stdout",
     "output_type": "stream",
     "text": [
      "z:\t 200385\n",
      "!crand:\t 199385\n",
      "F>:\t 197740\n",
      "F<:\t 185458\n",
      "F:\t 182813\n",
      "ctgood (man):\t 178207\n",
      "ctgood:\t 178207\n",
      "cut:\t 178206\n",
      "backs:\t 11928\n",
      "14s:\t 1569\n"
     ]
    }
   ],
   "source": [
    "#Checking the output of cuts\n",
    "\n",
    "print('z:\\t',len(z)) #Good\n",
    "print('!crand:\\t',len(z[(z['EventCategory'] != 1)])) #Good\n",
    "print('F>:\\t',len(z[z['PFS1WKr20']>0.00036])) #Good\n",
    "print('F<:\\t',len(z[z['PFS1WKr20']<0.00043])) #Good\n",
    "print('F:\\t',len(z[(z['PFS1WKr20']>0.00036) & (z['PFS1WKr20']<0.00043)])) #Good\n",
    "print('ctgood (man):\\t',len(z[(  z['PFS1WKr20'] > 0.00036) & (z['PFS1WKr20'] < 0.00043) \n",
    "    & (z['PES1WKr20'] > 0.00036) & (z['PES1WKr20'] < 0.00043) \n",
    "    & (z['PDS1WKr20'] > 0.00036) & (z['PDS1WKr20'] < 0.00043) \n",
    "    & (z['PCS1WKr20'] > 0.00036) & (z['PCS1WKr20'] < 0.00043)]))\n",
    "print('ctgood:\\t',len(z[z['ctgood']])) #Good\n",
    "print('cut:\\t',len(zcut)) #Good\n",
    "print('backs:\\t',len(zback)) #Good\n",
    "print('14s:\\t',len(z14)) #Good"
   ]
  },
  {
   "cell_type": "code",
   "execution_count": null,
   "id": "050ff81b-a28b-45a2-827d-5e5a539b9071",
   "metadata": {},
   "outputs": [],
   "source": []
  }
 ],
 "metadata": {
  "kernelspec": {
   "display_name": "R76",
   "language": "python",
   "name": "r76"
  },
  "language_info": {
   "codemirror_mode": {
    "name": "ipython",
    "version": 3
   },
   "file_extension": ".py",
   "mimetype": "text/x-python",
   "name": "python",
   "nbconvert_exporter": "python",
   "pygments_lexer": "ipython3",
   "version": "3.10.6"
  }
 },
 "nbformat": 4,
 "nbformat_minor": 5
}
