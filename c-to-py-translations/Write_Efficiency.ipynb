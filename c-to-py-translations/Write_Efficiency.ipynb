{
 "cells": [
  {
   "cell_type": "markdown",
   "id": "9f707e98-ec8e-4873-aba7-3ed7aecefe1f",
   "metadata": {},
   "source": [
    "# Write Efficiency\n",
    "The purpose of this notebook is to get write efficiency, following Matt's work [here (login required)](https://zzz.physics.umn.edu/!cdms/cdms/k100/run_summary/run_76/write_efficiency)."
   ]
  },
  {
   "cell_type": "code",
   "execution_count": 1,
   "id": "0b78ee9d-fc7b-44cb-8ee4-64bbd79e9816",
   "metadata": {},
   "outputs": [],
   "source": [
    "#Imports\n",
    "import sys\n",
    "import numpy as np              #Will be used for binning\n",
    "import pandas as pd             #Will be used for data structuring\n",
    "import matplotlib.pyplot as plt #Basic plotting library\n",
    "sys.path.append('../')\n",
    "from R76Tools import *          #Tools written by me for, e.x., importing our files\n",
    "\n",
    "#Constants\n",
    "frittspath = \"/data/chocula/fritts/data/k100proc/midasrq/byseries/\""
   ]
  },
  {
   "cell_type": "code",
   "execution_count": 3,
   "id": "088b4c40-c4f1-4803-be0b-0ce0e198d673",
   "metadata": {},
   "outputs": [
    {
     "ename": "ValueError",
     "evalue": "not enough values to unpack (expected 3, got 2)",
     "output_type": "error",
     "traceback": [
      "\u001b[0;31m---------------------------------------------------------------------------\u001b[0m",
      "\u001b[0;31mValueError\u001b[0m                                Traceback (most recent call last)",
      "Input \u001b[0;32mIn [3]\u001b[0m, in \u001b[0;36m<cell line: 9>\u001b[0;34m()\u001b[0m\n\u001b[1;32m      6\u001b[0m NaI_lab \u001b[38;5;241m=\u001b[39m lab[\u001b[38;5;241m1\u001b[39m::\u001b[38;5;241m2\u001b[39m] \n\u001b[1;32m      8\u001b[0m \u001b[38;5;66;03m#Derived variables\u001b[39;00m\n\u001b[0;32m----> 9\u001b[0m _,z,_ \u001b[38;5;241m=\u001b[39m makechain_list(NaI_ser,path\u001b[38;5;241m=\u001b[39mdatapath,filters\u001b[38;5;241m=\u001b[39m[fittingfilters,\u001b[38;5;124m\"\u001b[39m\u001b[38;5;124mPTOFamps0\u001b[39m\u001b[38;5;124m\"\u001b[39m],aliases\u001b[38;5;241m=\u001b[39mcalibrationaliases)\n\u001b[1;32m     10\u001b[0m z_all \u001b[38;5;241m=\u001b[39m pd\u001b[38;5;241m.\u001b[39mDataFrame();\n\u001b[1;32m     11\u001b[0m \u001b[38;5;28;01mfor\u001b[39;00m x \u001b[38;5;129;01min\u001b[39;00m z:\n",
      "\u001b[0;31mValueError\u001b[0m: not enough values to unpack (expected 3, got 2)"
     ]
    }
   ],
   "source": [
    "#User-set Variables\n",
    "datapath = frittspath\n",
    "ser = [\"07220916_2059\",\"07220916_2200\",\"07220917_1039\",\"07220917_1225\",\"07220917_2125\",\"07220917_2155\"]\n",
    "lab = [\"0V\",\"-4V\",\"-21V\",\"-65V\",\"-84V\",\"-84V\"]\n",
    "NaI_ser = ser[1::2]\n",
    "NaI_lab = lab[1::2] \n",
    "\n",
    "#Derived variables\n",
    "_,z,_ = makechain_list(NaI_ser,path=datapath,filters=[fittingfilters,\"PTOFamps0\"],aliases=calibrationaliases)\n",
    "z_all = pd.DataFrame();\n",
    "for x in z:\n",
    "    z_all = pd.concat(z_all,x)\n",
    "#Initial plotting\n",
    "plt.plot(z_all['PAWKr50'][~zall[\"crand\"]],z_all['PAWKmax'][~zall[\"crand\"]],color='red')\n",
    "plt.show()"
   ]
  },
  {
   "cell_type": "code",
   "execution_count": null,
   "id": "835568f6-8dc7-4c8e-9a0d-1b78a62e839a",
   "metadata": {},
   "outputs": [],
   "source": [
    "#Randoms\n",
    "nrand = len(z_all[z_all[\"crand\"]])\n",
    "nrandhit = len(z_all[z_all[\"crand\"] & (z_all[\"PAWKmax\"] > 0.6e-6) & (z_all[\"PAWKr50\"] > 0.00035) & (z_all[\"PAWKr50\"]<0.003)])\n",
    "twindow = 0.003 - 0.00035\n",
    "rate_rand = np.ln(nrand/(nrand-nrandhit))/twindow\n",
    "print(\"Randoms:\",rate_rand,\"Hz\")\n",
    "#Triggered\n",
    "timesec = 102291-89791+87895+49158-3690\n",
    "ntrig = len(z_all[~z_all[\"crand\"] & (z_all[\"PAWKmax\"]>0.6e-6)])\n",
    "rate_trig = ntrig/timesec\n",
    "print(\"Triggered:\",rate_trig,\"Hz\")\n",
    "#Efficiency\n",
    "effic_write = rate_trig/rate_rand\n",
    "print(\"Efficiency:\",effic_write)"
   ]
  }
 ],
 "metadata": {
  "kernelspec": {
   "display_name": "Python 3 (ipykernel)",
   "language": "python",
   "name": "python3"
  },
  "language_info": {
   "codemirror_mode": {
    "name": "ipython",
    "version": 3
   },
   "file_extension": ".py",
   "mimetype": "text/x-python",
   "name": "python",
   "nbconvert_exporter": "python",
   "pygments_lexer": "ipython3",
   "version": "3.10.6"
  }
 },
 "nbformat": 4,
 "nbformat_minor": 5
}
