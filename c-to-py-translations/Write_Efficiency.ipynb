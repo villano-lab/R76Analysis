{
 "cells": [
  {
   "cell_type": "markdown",
   "id": "9f707e98-ec8e-4873-aba7-3ed7aecefe1f",
   "metadata": {},
   "source": [
    "# Write Efficiency\n",
    "The purpose of this notebook is to get write efficiency, following Matt's work [here (login required)](https://zzz.physics.umn.edu/!cdms/cdms/k100/run_summary/run_76/write_efficiency)."
   ]
  },
  {
   "cell_type": "code",
   "execution_count": 1,
   "id": "0b78ee9d-fc7b-44cb-8ee4-64bbd79e9816",
   "metadata": {},
   "outputs": [],
   "source": [
    "#Imports\n",
    "import sys\n",
    "import numpy as np              #Will be used for binning\n",
    "import pandas as pd             #Will be used for data structuring\n",
    "import matplotlib.pyplot as plt #Basic plotting library\n",
    "sys.path.append('../')\n",
    "from R76Tools import *          #Tools written by me for, e.x., importing our files\n",
    "\n",
    "#Constants\n",
    "frittspath = \"/data/chocula/fritts/data/k100proc/midasrq/byseries/\""
   ]
  },
  {
   "cell_type": "code",
   "execution_count": null,
   "id": "b254b3a2-b3b8-4b32-91be-ff507a01a168",
   "metadata": {},
   "outputs": [],
   "source": [
    "#User-set Variables\n",
    "datapath = frittspath\n",
    "ser = [\"07220916_2059\",\"07220916_2200\",\"07220917_1039\",\"07220917_1225\",\"07220917_2125\",\"07220917_2155\"]\n",
    "lab = [\"0V\",\"-4V\",\"-21V\",\"-65V\",\"-84V\",\"-84V\"]\n",
    "NaI_ser = ser[1::2]\n",
    "NaI_lab = lab[1::2] \n",
    "\n",
    "#Derived variables\n",
    "_,z,z4 = makechain_list(NaI_ser,path=datapath,filters=[fittingfilters,\"PTOFamps0\",\"PAWKr50\",\"PAWKmax\"],aliases=calibrationaliases,trees=[\"e\",\"z\",\"z4\"])\n",
    "z_all = pd.DataFrame(); z4_all = pd.DataFrame()\n",
    "for i,x in enumerate(z):\n",
    "    z_all = pd.concat([z_all,x])\n",
    "    z4_all = pd.concat([z4_all,z4[i]])"
   ]
  },
  {
   "cell_type": "code",
   "execution_count": null,
   "id": "ca3ee3a8-950b-4433-ba90-74ca68e8c236",
   "metadata": {},
   "outputs": [],
   "source": [
    "#Initial plotting\n",
    "plt.scatter(z_all['PAWKr50'][z_all[\"crand\"]],z_all['PAWKmax'][z_all[\"crand\"]],color='red',s=0.01)\n",
    "plt.xlim(0,0.0036)\n",
    "plt.ylim(-0.3e-6,1.05e-6)\n",
    "plt.show()"
   ]
  },
  {
   "cell_type": "code",
   "execution_count": null,
   "id": "835568f6-8dc7-4c8e-9a0d-1b78a62e839a",
   "metadata": {},
   "outputs": [],
   "source": [
    "#Randoms\n",
    "nrand = len(z_all[z_all[\"crand\"]])\n",
    "nrandhit = len(z_all[z_all[\"crand\"] & (z_all[\"PAWKmax\"] > 0.6e-6) & (z_all[\"PAWKr50\"] > 0.00035) & (z_all[\"PAWKr50\"]<0.003)])\n",
    "twindow = 0.003 - 0.00035\n",
    "rate_rand = np.log(nrand/(nrand-nrandhit))/twindow\n",
    "print(\"Randoms:\",rate_rand,\"Hz\")\n",
    "#Triggered\n",
    "timesec = 102291-89791+87895+49158-3690\n",
    "ntrig = len(z_all[~z_all[\"crand\"] & (z_all[\"PAWKmax\"]>0.6e-6)])\n",
    "rate_trig = ntrig/timesec\n",
    "print(\"Triggered:\",rate_trig,\"Hz\")\n",
    "#Efficiency\n",
    "effic_write = rate_trig/rate_rand\n",
    "print(\"Efficiency:\",effic_write)"
   ]
  },
  {
   "cell_type": "code",
   "execution_count": null,
   "id": "458ed09d-e0e9-4d95-ac0a-ad570429ebd5",
   "metadata": {},
   "outputs": [],
   "source": []
  }
 ],
 "metadata": {
  "kernelspec": {
   "display_name": "Python 3 (ipykernel)",
   "language": "python",
   "name": "python3"
  },
  "language_info": {
   "codemirror_mode": {
    "name": "ipython",
    "version": 3
   },
   "file_extension": ".py",
   "mimetype": "text/x-python",
   "name": "python",
   "nbconvert_exporter": "python",
   "pygments_lexer": "ipython3",
   "version": "3.10.6"
  }
 },
 "nbformat": 4,
 "nbformat_minor": 5
}
