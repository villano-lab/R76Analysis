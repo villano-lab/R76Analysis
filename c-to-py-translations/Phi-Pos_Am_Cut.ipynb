{
 "cells": [
  {
   "cell_type": "markdown",
   "id": "230c1df7-9e5c-4b99-91f8-2ad0128de37d",
   "metadata": {},
   "source": [
    "# Americium Cut based on Phi Position\n",
    "The purpose of this notebook is to outline the Americium cut, following Matt's work [here (login required)](https://zzz.physics.umn.edu/!cdms/cdms/k100/run_summary/run_76/am_source_cut)."
   ]
  },
  {
   "cell_type": "markdown",
   "id": "3a9b5c44-3012-43dc-b4bf-7fafe2dde498",
   "metadata": {},
   "source": [
    "## Data Quality Cut\n",
    "We begin by following the referenced [data quality cut page](https://zzz.physics.umn.edu/!cdms/cdms/k100/run_summary/run_76/data_quality_cuts#example)."
   ]
  },
  {
   "cell_type": "code",
   "execution_count": 2,
   "id": "2813f9cd-a681-450a-9ecb-e4d628d81426",
   "metadata": {},
   "outputs": [],
   "source": [
    "#Imports\n",
    "import sys\n",
    "import numpy as np              #Will be used for binning\n",
    "import pandas as pd             #Will be used for data structuring\n",
    "import matplotlib.pyplot as plt #Basic plotting library\n",
    "sys.path.append('../')\n",
    "from R76Tools import *          #Tools written by me for, e.x., importing our files\n",
    "\n",
    "#Constants\n",
    "frittspath = \"/data/chocula/fritts/data/k100proc/midasrq/byseries/\""
   ]
  },
  {
   "cell_type": "code",
   "execution_count": 4,
   "id": "76201d08-776a-4908-8725-84da1cc31ebc",
   "metadata": {},
   "outputs": [
    {
     "ename": "TypeError",
     "evalue": "'NoneType' object is not iterable",
     "output_type": "error",
     "traceback": [
      "\u001b[0;31m---------------------------------------------------------------------------\u001b[0m",
      "\u001b[0;31mTypeError\u001b[0m                                 Traceback (most recent call last)",
      "Input \u001b[0;32mIn [4]\u001b[0m, in \u001b[0;36m<cell line: 8>\u001b[0;34m()\u001b[0m\n\u001b[1;32m      6\u001b[0m \u001b[38;5;66;03m#Derived variables\u001b[39;00m\n\u001b[1;32m      7\u001b[0m nser \u001b[38;5;241m=\u001b[39m \u001b[38;5;28mlen\u001b[39m(ser)\n\u001b[0;32m----> 8\u001b[0m _,z \u001b[38;5;241m=\u001b[39m \u001b[43mmakechain_list\u001b[49m\u001b[43m(\u001b[49m\u001b[43mser\u001b[49m\u001b[43m,\u001b[49m\u001b[43mpath\u001b[49m\u001b[38;5;241;43m=\u001b[39;49m\u001b[43mdatapath\u001b[49m\u001b[43m,\u001b[49m\u001b[43mfilters\u001b[49m\u001b[38;5;241;43m=\u001b[39;49m\u001b[43m[\u001b[49m\u001b[43mfittingfilters\u001b[49m\u001b[43m,\u001b[49m\u001b[38;5;124;43m\"\u001b[39;49m\u001b[38;5;124;43mPTOFamps0\u001b[39;49m\u001b[38;5;124;43m\"\u001b[39;49m\u001b[43m]\u001b[49m\u001b[43m,\u001b[49m\u001b[43maliases\u001b[49m\u001b[38;5;241;43m=\u001b[39;49m\u001b[43mcalibrationaliases\u001b[49m\u001b[38;5;241;43m.\u001b[39;49m\u001b[43mappend\u001b[49m\u001b[43m(\u001b[49m\u001b[38;5;124;43m\"\u001b[39;49m\u001b[38;5;124;43mcgoodwalk\u001b[39;49m\u001b[38;5;124;43m\"\u001b[39;49m\u001b[43m)\u001b[49m\u001b[43m)\u001b[49m\n",
      "File \u001b[0;32m~/R76Analysis/c-to-py-translations/../R76Tools.py:148\u001b[0m, in \u001b[0;36mmakechain_list\u001b[0;34m(serieslist, path, filters, friends, aliases, trees)\u001b[0m\n\u001b[1;32m    146\u001b[0m \u001b[38;5;28;01mif\u001b[39;00m \u001b[38;5;124m\"\u001b[39m\u001b[38;5;124me\u001b[39m\u001b[38;5;124m\"\u001b[39m \u001b[38;5;129;01min\u001b[39;00m trees:\n\u001b[1;32m    147\u001b[0m     \u001b[38;5;28;01mif\u001b[39;00m \u001b[38;5;124m\"\u001b[39m\u001b[38;5;124mz\u001b[39m\u001b[38;5;124m\"\u001b[39m \u001b[38;5;129;01min\u001b[39;00m trees:\n\u001b[0;32m--> 148\u001b[0m         \u001b[38;5;28;01mif\u001b[39;00m \u001b[38;5;124m\"\u001b[39m\u001b[38;5;124mz4\u001b[39m\u001b[38;5;124m\"\u001b[39m \u001b[38;5;129;01min\u001b[39;00m trees:\n\u001b[1;32m    149\u001b[0m             e[i],z[i],z4[i] \u001b[38;5;241m=\u001b[39m makechain(path\u001b[38;5;241m+\u001b[39ms\u001b[38;5;241m+\u001b[39m\u001b[38;5;124m\"\u001b[39m\u001b[38;5;124m/umn_*.root\u001b[39m\u001b[38;5;124m\"\u001b[39m,filters\u001b[38;5;241m=\u001b[39mfilters,friends\u001b[38;5;241m=\u001b[39mfriends,aliases\u001b[38;5;241m=\u001b[39maliases,trees\u001b[38;5;241m=\u001b[39mtrees)\n\u001b[1;32m    150\u001b[0m         \u001b[38;5;28;01melse\u001b[39;00m:\n",
      "File \u001b[0;32m~/R76Analysis/c-to-py-translations/../R76Tools.py:129\u001b[0m, in \u001b[0;36mmakechain\u001b[0;34m(filelist, filters, friends, aliases, trees)\u001b[0m\n\u001b[1;32m    127\u001b[0m \u001b[38;5;28;01mif\u001b[39;00m friends:\n\u001b[1;32m    128\u001b[0m     \u001b[38;5;28;01mif\u001b[39;00m \u001b[38;5;124m\"\u001b[39m\u001b[38;5;124me\u001b[39m\u001b[38;5;124m\"\u001b[39m \u001b[38;5;129;01min\u001b[39;00m trees:\n\u001b[0;32m--> 129\u001b[0m         z_chain \u001b[38;5;241m=\u001b[39m pd\u001b[38;5;241m.\u001b[39mconcat([e_chain,z_chain],axis\u001b[38;5;241m=\u001b[39m\u001b[38;5;241m1\u001b[39m)\n\u001b[1;32m    130\u001b[0m     \u001b[38;5;28;01mif\u001b[39;00m \u001b[38;5;124m\"\u001b[39m\u001b[38;5;124mz4\u001b[39m\u001b[38;5;124m\"\u001b[39m \u001b[38;5;129;01min\u001b[39;00m trees:\n\u001b[1;32m    131\u001b[0m         z4_chain \u001b[38;5;241m=\u001b[39m pd\u001b[38;5;241m.\u001b[39mconcat([z_chain,z4_chain],axis\u001b[38;5;241m=\u001b[39m\u001b[38;5;241m1\u001b[39m)\n",
      "\u001b[0;31mTypeError\u001b[0m: 'NoneType' object is not iterable"
     ]
    }
   ],
   "source": [
    "#User-set Variables\n",
    "datapath = frittspath\n",
    "ser = [\"07220827_1153\",\"07220916_2059\",\"07220917_1039\",\"07220917_2125\"]\n",
    "lab = [\"0V\",\"-4V\",\"-21V\",\"-65V\",\"-84V\",\"-84V\"]\n",
    "\n",
    "#Derived variables\n",
    "nser = len(ser)\n",
    "_,z = makechain_list(ser,path=datapath,filters=[fittingfilters,\"PTOFamps0\"],aliases=calibrationaliases.append(\"cgoodwalk\"))"
   ]
  },
  {
   "cell_type": "code",
   "execution_count": null,
   "id": "4a0a10a6-4a4e-429e-b59e-a8aacd426ff8",
   "metadata": {},
   "outputs": [],
   "source": []
  }
 ],
 "metadata": {
  "kernelspec": {
   "display_name": "Python 3 (ipykernel)",
   "language": "python",
   "name": "python3"
  },
  "language_info": {
   "codemirror_mode": {
    "name": "ipython",
    "version": 3
   },
   "file_extension": ".py",
   "mimetype": "text/x-python",
   "name": "python",
   "nbconvert_exporter": "python",
   "pygments_lexer": "ipython3",
   "version": "3.10.6"
  }
 },
 "nbformat": 4,
 "nbformat_minor": 5
}
