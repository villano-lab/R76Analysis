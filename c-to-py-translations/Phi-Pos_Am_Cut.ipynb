{
 "cells": [
  {
   "cell_type": "markdown",
   "id": "230c1df7-9e5c-4b99-91f8-2ad0128de37d",
   "metadata": {},
   "source": [
    "# Americium Cut based on Phi Position\n",
    "The purpose of this notebook is to outline the Americium cut, following Matt's work [here (login required)](https://zzz.physics.umn.edu/!cdms/cdms/k100/run_summary/run_76/am_source_cut)."
   ]
  },
  {
   "cell_type": "markdown",
   "id": "3a9b5c44-3012-43dc-b4bf-7fafe2dde498",
   "metadata": {},
   "source": [
    "## Data Quality Cut\n",
    "We begin by following the referenced [data quality cut page](https://zzz.physics.umn.edu/!cdms/cdms/k100/run_summary/run_76/data_quality_cuts#example)."
   ]
  },
  {
   "cell_type": "code",
   "execution_count": 1,
   "id": "2813f9cd-a681-450a-9ecb-e4d628d81426",
   "metadata": {},
   "outputs": [],
   "source": [
    "#Imports\n",
    "import sys\n",
    "import numpy as np              #Will be used for binning\n",
    "import pandas as pd             #Will be used for data structuring\n",
    "import matplotlib.pyplot as plt #Basic plotting library\n",
    "sys.path.append('../')\n",
    "from R76Tools import *          #Tools written by me for, e.x., importing our files\n",
    "\n",
    "#Constants\n",
    "frittspath = \"/data/chocula/fritts/data/k100proc/midasrq/byseries/\""
   ]
  },
  {
   "cell_type": "code",
   "execution_count": 3,
   "id": "76201d08-776a-4908-8725-84da1cc31ebc",
   "metadata": {},
   "outputs": [],
   "source": [
    "#User-set Variables\n",
    "datapath = frittspath\n",
    "ser = [\"07220827_1153\",\"07220916_2059\",\"07220917_1039\",\"07220917_2125\"]\n",
    "lab = [\"0V\",\"-4V\",\"-21V\",\"-65V\",\"-84V\",\"-84V\"]\n",
    "\n",
    "#Derived variables\n",
    "nser = len(ser)\n",
    "_,z = makechain_list(ser,path=datapath,filters=[fittingfilters,\"PTOFamps0\",\"pt0_keV\"],aliases=calibrationaliases+[\"cgoodwalk\"])\n",
    "for x in z:\n",
    "    x[\"pt_keV_bscorr\"] = x[\"pt_keV\"]/(1-0.0461538*x[\"BSel\"]/165)\n",
    "    x[\"pt0_keV_bscorr\"] = x[\"pt0_keV\"]/(1-0.0461538*x[\"BSel\"]/165)"
   ]
  },
  {
   "cell_type": "code",
   "execution_count": 5,
   "id": "4a0a10a6-4a4e-429e-b59e-a8aacd426ff8",
   "metadata": {},
   "outputs": [
    {
     "ename": "TypeError",
     "evalue": "hist2d() missing 2 required positional arguments: 'x' and 'y'",
     "output_type": "error",
     "traceback": [
      "\u001b[0;31m---------------------------------------------------------------------------\u001b[0m",
      "\u001b[0;31mTypeError\u001b[0m                                 Traceback (most recent call last)",
      "Input \u001b[0;32mIn [5]\u001b[0m, in \u001b[0;36m<cell line: 1>\u001b[0;34m()\u001b[0m\n\u001b[0;32m----> 1\u001b[0m \u001b[43mplt\u001b[49m\u001b[38;5;241;43m.\u001b[39;49m\u001b[43mhist2d\u001b[49m\u001b[43m(\u001b[49m\u001b[43m)\u001b[49m\n",
      "\u001b[0;31mTypeError\u001b[0m: hist2d() missing 2 required positional arguments: 'x' and 'y'"
     ]
    }
   ],
   "source": [
    "plt.hist2d()"
   ]
  },
  {
   "cell_type": "code",
   "execution_count": null,
   "id": "8d812d55-f79d-487a-b678-d6c27db5e655",
   "metadata": {},
   "outputs": [],
   "source": []
  }
 ],
 "metadata": {
  "kernelspec": {
   "display_name": "Python 3 (ipykernel)",
   "language": "python",
   "name": "python3"
  },
  "language_info": {
   "codemirror_mode": {
    "name": "ipython",
    "version": 3
   },
   "file_extension": ".py",
   "mimetype": "text/x-python",
   "name": "python",
   "nbconvert_exporter": "python",
   "pygments_lexer": "ipython3",
   "version": "3.10.6"
  }
 },
 "nbformat": 4,
 "nbformat_minor": 5
}
